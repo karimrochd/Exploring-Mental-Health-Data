{
 "cells": [
  {
   "cell_type": "code",
   "execution_count": 1,
   "metadata": {},
   "outputs": [],
   "source": [
    "import numpy as np\n",
    "import matplotlib.pyplot as plt\n",
    "import pandas as pd\n",
    "import seaborn as sns\n",
    "import os\n",
    "import sys"
   ]
  },
  {
   "cell_type": "code",
   "execution_count": 88,
   "metadata": {},
   "outputs": [],
   "source": [
    "train = pd.read_csv('train.csv')\n",
    "test = pd.read_csv('test.csv')"
   ]
  },
  {
   "cell_type": "code",
   "execution_count": 89,
   "metadata": {},
   "outputs": [],
   "source": [
    "def preprocess_data(train):\n",
    "    train = train.drop(['id', 'Name'], axis=1)\n",
    "    train['Pressure'] = train[['Work Pressure', 'Academic Pressure']].max(axis=1)\n",
    "    train = train.drop(['Work Pressure', 'Academic Pressure'], axis=1)\n",
    "    # encode gender in 1 and 0 (1 for male and 0 for Female)\n",
    "    train['Gender'] = (train['Gender'] == 'Male').astype(int)\n",
    "    # For Working Status (Student = 0, Working Professional = 1)\n",
    "    # train['Working Professional or Student'] = (train['Working Professional or Student'] == 'Working Professional').astype(int)\n",
    "    train.loc[train['Working Professional or Student'] == 'Student', 'Profession'] = 'Student'\n",
    "    train['Satisfaction'] = train[['Study Satisfaction', 'Job Satisfaction']].max(axis=1)\n",
    "    train = train.drop(['Study Satisfaction', 'Job Satisfaction'], axis=1)\n",
    "    train['Family History of Mental Illness'] = (train['Family History of Mental Illness'] == 'Yes').astype(int)\n",
    "    train['Have you ever had suicidal thoughts ?'] = (train['Have you ever had suicidal thoughts ?'] == 'Yes').astype(int)\n",
    "    # we can either drop City or encode it in one hot encoding\n",
    "    # one hot encoding\n",
    "    #train = pd.get_dummies(train, columns=['City']).astype(int)\n",
    "    # drop city\n",
    "    train = train.drop(['City'], axis=1)\n",
    "    diet_mapping = {'Moderate': 1.0, 'Unhealthy': 0.0, 'Healthy': 2.0}\n",
    "    train = train[train['Dietary Habits'].isin(diet_mapping.keys())]\n",
    "    train['Dietary Habits'] = train['Dietary Habits'].map(diet_mapping)\n",
    "    v = train[\"Profession\"].value_counts() \n",
    "    # keep only the profession with more than 10 samples\n",
    "    train = train[train['Profession'].isin(v.index[v.gt(10)])]\n",
    "    # one hot encoding\n",
    "    train = pd.get_dummies(train, columns=['Profession'])\n",
    "    profession_cols = [col for col in train.columns if col.startswith('Profession_')]\n",
    "    train[profession_cols] = train[profession_cols].astype(int)\n",
    "    train = train.drop(['Working Professional or Student'], axis=1)\n",
    "    v = train[\"Degree\"].value_counts() \n",
    "    train = train[train['Degree'].isin(v.index[v.gt(10)])]\n",
    "    # one hot encoding\n",
    "    train = pd.get_dummies(train, columns=['Degree'])\n",
    "    degree_cols = [col for col in train.columns if col.startswith('Degree_')]\n",
    "    train[degree_cols] = train[degree_cols].astype(int)\n",
    "    dict_sleep = {'Less than 5 hours': 4.0, '5-6 hours': 5.5, '6-7 hours': 6.5, '7-8 hours': 7.5, 'More than 8 hours': 9.0, '2-3 hours': 2.5, '3-4 hours': 3.5, '4-5 hours': 4.5, '4-6 hours': 5.0}\n",
    "    train = train[train['Sleep Duration'].isin(dict_sleep.keys())]\n",
    "    train['Sleep Duration'] = train['Sleep Duration'].map(dict_sleep)\n",
    "    train['CGPA'] = train['CGPA'].fillna(train['CGPA'].mean())\n",
    "    train = train.dropna()\n",
    "    return train\n"
   ]
  },
  {
   "cell_type": "code",
   "execution_count": 86,
   "metadata": {},
   "outputs": [],
   "source": [
    "# train.to_csv('train_cleaned.csv', index=False)"
   ]
  },
  {
   "cell_type": "code",
   "execution_count": 79,
   "metadata": {},
   "outputs": [
    {
     "data": {
      "text/plain": [
       "Sleep Duration\n",
       "Less than 5 hours    35829\n",
       "7-8 hours            34867\n",
       "More than 8 hours    30791\n",
       "5-6 hours            30197\n",
       "3-4 hours               11\n",
       "6-7 hours                8\n",
       "4-5 hours                7\n",
       "4-6 hours                5\n",
       "2-3 hours                5\n",
       "No                       4\n",
       "1-6 hours                4\n",
       "6-8 hours                4\n",
       "Sleep_Duration           2\n",
       "Unhealthy                2\n",
       "45                       2\n",
       "8-9 hours                2\n",
       "9-11 hours               2\n",
       "10-11 hours              2\n",
       "10-6 hours               1\n",
       "Pune                     1\n",
       "9-5                      1\n",
       "45-48 hours              1\n",
       "3-6 hours                1\n",
       "Work_Study_Hours         1\n",
       "than 5 hours             1\n",
       "Moderate                 1\n",
       "55-66 hours              1\n",
       "8 hours                  1\n",
       "35-36 hours              1\n",
       "40-45 hours              1\n",
       "Indore                   1\n",
       "1-3 hours                1\n",
       "9-6 hours                1\n",
       "1-2 hours                1\n",
       "9-5 hours                1\n",
       "Name: count, dtype: int64"
      ]
     },
     "execution_count": 79,
     "metadata": {},
     "output_type": "execute_result"
    }
   ],
   "source": [
    "train = pd.read_csv('train_cleaned.csv')"
   ]
  },
  {
   "cell_type": "code",
   "execution_count": 90,
   "metadata": {},
   "outputs": [],
   "source": [
    "X_train = train.drop(['Depression'], axis=1)\n",
    "y_train = train['Depression']"
   ]
  },
  {
   "cell_type": "code",
   "execution_count": null,
   "metadata": {},
   "outputs": [],
   "source": []
  }
 ],
 "metadata": {
  "kernelspec": {
   "display_name": "T1",
   "language": "python",
   "name": "python3"
  },
  "language_info": {
   "codemirror_mode": {
    "name": "ipython",
    "version": 3
   },
   "file_extension": ".py",
   "mimetype": "text/x-python",
   "name": "python",
   "nbconvert_exporter": "python",
   "pygments_lexer": "ipython3",
   "version": "3.12.2"
  }
 },
 "nbformat": 4,
 "nbformat_minor": 2
}
