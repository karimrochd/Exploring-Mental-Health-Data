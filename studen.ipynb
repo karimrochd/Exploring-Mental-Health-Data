{
 "cells": [
  {
   "cell_type": "code",
   "execution_count": 2,
   "metadata": {},
   "outputs": [],
   "source": [
    "import pandas as pd\n",
    "import numpy as np\n",
    "from skimpy import skim\n",
    "from sklearn.model_selection import train_test_split\n",
    "from sklearn.compose import ColumnTransformer\n",
    "from sklearn.pipeline import Pipeline\n",
    "from sklearn.ensemble import IsolationForest\n",
    "from sklearn.preprocessing import OneHotEncoder\n",
    "import optuna\n",
    "import matplotlib.pyplot as plt\n",
    "from sklearn.ensemble import RandomForestClassifier\n",
    "from sklearn.linear_model import LogisticRegression\n",
    "from sklearn.svm import SVC\n",
    "from sklearn.model_selection import learning_curve\n",
    "from sklearn.pipeline import make_pipeline\n",
    "from sklearn.preprocessing import StandardScaler\n",
    "from sklearn.model_selection import cross_val_score\n",
    "from xgboost import XGBClassifier\n",
    "from lightgbm import LGBMClassifier\n",
    "import warnings\n",
    "from tqdm.auto import tqdm\n",
    "\n",
    "warnings.filterwarnings('ignore')\n",
    "tqdm.pandas()\n",
    "plt.style.use('ggplot')"
   ]
  },
  {
   "cell_type": "code",
   "execution_count": 3,
   "metadata": {},
   "outputs": [],
   "source": [
    "df = pd.read_csv('student_not_split.csv')"
   ]
  },
  {
   "cell_type": "code",
   "execution_count": 4,
   "metadata": {},
   "outputs": [
    {
     "data": {
      "text/html": [
       "<pre style=\"white-space:pre;overflow-x:auto;line-height:normal;font-family:Menlo,'DejaVu Sans Mono',consolas,'Courier New',monospace\">╭──────────────────────────────────────────────── skimpy summary ─────────────────────────────────────────────────╮\n",
       "│ <span style=\"font-style: italic\">         Data Summary         </span> <span style=\"font-style: italic\">      Data Types       </span>                                                          │\n",
       "│ ┏━━━━━━━━━━━━━━━━━━━┳━━━━━━━━┓ ┏━━━━━━━━━━━━━┳━━━━━━━┓                                                          │\n",
       "│ ┃<span style=\"color: #008080; text-decoration-color: #008080; font-weight: bold\"> dataframe         </span>┃<span style=\"color: #008080; text-decoration-color: #008080; font-weight: bold\"> Values </span>┃ ┃<span style=\"color: #008080; text-decoration-color: #008080; font-weight: bold\"> Column Type </span>┃<span style=\"color: #008080; text-decoration-color: #008080; font-weight: bold\"> Count </span>┃                                                          │\n",
       "│ ┡━━━━━━━━━━━━━━━━━━━╇━━━━━━━━┩ ┡━━━━━━━━━━━━━╇━━━━━━━┩                                                          │\n",
       "│ │ Number of rows    │ 27882  │ │ string      │ 7     │                                                          │\n",
       "│ │ Number of columns │ 14     │ │ float64     │ 6     │                                                          │\n",
       "│ └───────────────────┴────────┘ │ int64       │ 1     │                                                          │\n",
       "│                                └─────────────┴───────┘                                                          │\n",
       "│ <span style=\"font-style: italic\">                                                    number                                                    </span>  │\n",
       "│ ┏━━━━━━━━━━━━━━━━━━━━━━━━┳━━━━━┳━━━━━━━┳━━━━━━━━━━┳━━━━━━━━━━┳━━━━━━━┳━━━━━━━┳━━━━━━━┳━━━━━━━┳━━━━━━┳━━━━━━━━┓  │\n",
       "│ ┃<span style=\"font-weight: bold\"> column_name            </span>┃<span style=\"font-weight: bold\"> NA  </span>┃<span style=\"font-weight: bold\"> NA %  </span>┃<span style=\"font-weight: bold\"> mean     </span>┃<span style=\"font-weight: bold\"> sd       </span>┃<span style=\"font-weight: bold\"> p0    </span>┃<span style=\"font-weight: bold\"> p25   </span>┃<span style=\"font-weight: bold\"> p50   </span>┃<span style=\"font-weight: bold\"> p75   </span>┃<span style=\"font-weight: bold\"> p100 </span>┃<span style=\"font-weight: bold\"> hist   </span>┃  │\n",
       "│ ┡━━━━━━━━━━━━━━━━━━━━━━━━╇━━━━━╇━━━━━━━╇━━━━━━━━━━╇━━━━━━━━━━╇━━━━━━━╇━━━━━━━╇━━━━━━━╇━━━━━━━╇━━━━━━╇━━━━━━━━┩  │\n",
       "│ │ <span style=\"color: #af87ff; text-decoration-color: #af87ff\">Age                   </span> │ <span style=\"color: #008080; text-decoration-color: #008080\">  0</span> │ <span style=\"color: #008080; text-decoration-color: #008080\">    0</span> │ <span style=\"color: #008080; text-decoration-color: #008080\">   25.82</span> │ <span style=\"color: #008080; text-decoration-color: #008080\">   4.904</span> │ <span style=\"color: #008080; text-decoration-color: #008080\">   18</span> │ <span style=\"color: #008080; text-decoration-color: #008080\">   21</span> │ <span style=\"color: #008080; text-decoration-color: #008080\">   25</span> │ <span style=\"color: #008080; text-decoration-color: #008080\">   30</span> │ <span style=\"color: #008080; text-decoration-color: #008080\">  59</span> │ <span style=\"color: #008000; text-decoration-color: #008000\"> ▇▇▃  </span> │  │\n",
       "│ │ <span style=\"color: #af87ff; text-decoration-color: #af87ff\">Academic Pressure     </span> │ <span style=\"color: #008080; text-decoration-color: #008080\">  0</span> │ <span style=\"color: #008080; text-decoration-color: #008080\">    0</span> │ <span style=\"color: #008080; text-decoration-color: #008080\">   3.142</span> │ <span style=\"color: #008080; text-decoration-color: #008080\">    1.38</span> │ <span style=\"color: #008080; text-decoration-color: #008080\">    1</span> │ <span style=\"color: #008080; text-decoration-color: #008080\">    2</span> │ <span style=\"color: #008080; text-decoration-color: #008080\">    3</span> │ <span style=\"color: #008080; text-decoration-color: #008080\">    4</span> │ <span style=\"color: #008080; text-decoration-color: #008080\">   5</span> │ <span style=\"color: #008000; text-decoration-color: #008000\">▅▅ ▇▆▇</span> │  │\n",
       "│ │ <span style=\"color: #af87ff; text-decoration-color: #af87ff\">CGPA                  </span> │ <span style=\"color: #008080; text-decoration-color: #008080\">  0</span> │ <span style=\"color: #008080; text-decoration-color: #008080\">    0</span> │ <span style=\"color: #008080; text-decoration-color: #008080\">   7.659</span> │ <span style=\"color: #008080; text-decoration-color: #008080\">   1.464</span> │ <span style=\"color: #008080; text-decoration-color: #008080\"> 5.03</span> │ <span style=\"color: #008080; text-decoration-color: #008080\"> 6.29</span> │ <span style=\"color: #008080; text-decoration-color: #008080\"> 7.77</span> │ <span style=\"color: #008080; text-decoration-color: #008080\"> 8.92</span> │ <span style=\"color: #008080; text-decoration-color: #008080\">  10</span> │ <span style=\"color: #008000; text-decoration-color: #008000\">▇▅▇▇▇▇</span> │  │\n",
       "│ │ <span style=\"color: #af87ff; text-decoration-color: #af87ff\">Study Satisfaction    </span> │ <span style=\"color: #008080; text-decoration-color: #008080\">  0</span> │ <span style=\"color: #008080; text-decoration-color: #008080\">    0</span> │ <span style=\"color: #008080; text-decoration-color: #008080\">   2.945</span> │ <span style=\"color: #008080; text-decoration-color: #008080\">    1.36</span> │ <span style=\"color: #008080; text-decoration-color: #008080\">    1</span> │ <span style=\"color: #008080; text-decoration-color: #008080\">    2</span> │ <span style=\"color: #008080; text-decoration-color: #008080\">    3</span> │ <span style=\"color: #008080; text-decoration-color: #008080\">    4</span> │ <span style=\"color: #008080; text-decoration-color: #008080\">   5</span> │ <span style=\"color: #008000; text-decoration-color: #008000\">▇▇ ▇▇▆</span> │  │\n",
       "│ │ <span style=\"color: #af87ff; text-decoration-color: #af87ff\">Work/Study Hours      </span> │ <span style=\"color: #008080; text-decoration-color: #008080\">  0</span> │ <span style=\"color: #008080; text-decoration-color: #008080\">    0</span> │ <span style=\"color: #008080; text-decoration-color: #008080\">   7.157</span> │ <span style=\"color: #008080; text-decoration-color: #008080\">   3.707</span> │ <span style=\"color: #008080; text-decoration-color: #008080\">    0</span> │ <span style=\"color: #008080; text-decoration-color: #008080\">    4</span> │ <span style=\"color: #008080; text-decoration-color: #008080\">    8</span> │ <span style=\"color: #008080; text-decoration-color: #008080\">   10</span> │ <span style=\"color: #008080; text-decoration-color: #008080\">  12</span> │ <span style=\"color: #008000; text-decoration-color: #008000\">▂▂▂▃▃▇</span> │  │\n",
       "│ │ <span style=\"color: #af87ff; text-decoration-color: #af87ff\">Financial Stress      </span> │ <span style=\"color: #008080; text-decoration-color: #008080\">  0</span> │ <span style=\"color: #008080; text-decoration-color: #008080\">    0</span> │ <span style=\"color: #008080; text-decoration-color: #008080\">    3.14</span> │ <span style=\"color: #008080; text-decoration-color: #008080\">   1.437</span> │ <span style=\"color: #008080; text-decoration-color: #008080\">    1</span> │ <span style=\"color: #008080; text-decoration-color: #008080\">    2</span> │ <span style=\"color: #008080; text-decoration-color: #008080\">    3</span> │ <span style=\"color: #008080; text-decoration-color: #008080\">    4</span> │ <span style=\"color: #008080; text-decoration-color: #008080\">   5</span> │ <span style=\"color: #008000; text-decoration-color: #008000\">▆▆ ▆▇▇</span> │  │\n",
       "│ │ <span style=\"color: #af87ff; text-decoration-color: #af87ff\">Depression            </span> │ <span style=\"color: #008080; text-decoration-color: #008080\">  0</span> │ <span style=\"color: #008080; text-decoration-color: #008080\">    0</span> │ <span style=\"color: #008080; text-decoration-color: #008080\">  0.5855</span> │ <span style=\"color: #008080; text-decoration-color: #008080\">  0.4926</span> │ <span style=\"color: #008080; text-decoration-color: #008080\">    0</span> │ <span style=\"color: #008080; text-decoration-color: #008080\">    0</span> │ <span style=\"color: #008080; text-decoration-color: #008080\">    1</span> │ <span style=\"color: #008080; text-decoration-color: #008080\">    1</span> │ <span style=\"color: #008080; text-decoration-color: #008080\">   1</span> │ <span style=\"color: #008000; text-decoration-color: #008000\">▆    ▇</span> │  │\n",
       "│ └────────────────────────┴─────┴───────┴──────────┴──────────┴───────┴───────┴───────┴───────┴──────┴────────┘  │\n",
       "│ <span style=\"font-style: italic\">                                                    string                                                    </span>  │\n",
       "│ ┏━━━━━━━━━━━━━━━━━━━━━━━━━━━━━━━━━━━━━━━┳━━━━━━━┳━━━━━━━━━━━┳━━━━━━━━━━━━━━━━━━━━━━━━━━┳━━━━━━━━━━━━━━━━━━━━━┓  │\n",
       "│ ┃<span style=\"font-weight: bold\"> column_name                           </span>┃<span style=\"font-weight: bold\"> NA    </span>┃<span style=\"font-weight: bold\"> NA %      </span>┃<span style=\"font-weight: bold\"> words per row            </span>┃<span style=\"font-weight: bold\"> total words         </span>┃  │\n",
       "│ ┡━━━━━━━━━━━━━━━━━━━━━━━━━━━━━━━━━━━━━━━╇━━━━━━━╇━━━━━━━━━━━╇━━━━━━━━━━━━━━━━━━━━━━━━━━╇━━━━━━━━━━━━━━━━━━━━━┩  │\n",
       "│ │ <span style=\"color: #af87ff; text-decoration-color: #af87ff\">Gender                               </span> │ <span style=\"color: #008080; text-decoration-color: #008080\">    0</span> │ <span style=\"color: #008080; text-decoration-color: #008080\">        0</span> │ <span style=\"color: #008080; text-decoration-color: #008080\">                       1</span> │ <span style=\"color: #008080; text-decoration-color: #008080\">              27882</span> │  │\n",
       "│ │ <span style=\"color: #af87ff; text-decoration-color: #af87ff\">City                                 </span> │ <span style=\"color: #008080; text-decoration-color: #008080\">    0</span> │ <span style=\"color: #008080; text-decoration-color: #008080\">        0</span> │ <span style=\"color: #008080; text-decoration-color: #008080\">                       1</span> │ <span style=\"color: #008080; text-decoration-color: #008080\">              27886</span> │  │\n",
       "│ │ <span style=\"color: #af87ff; text-decoration-color: #af87ff\">Sleep Duration                       </span> │ <span style=\"color: #008080; text-decoration-color: #008080\">    0</span> │ <span style=\"color: #008080; text-decoration-color: #008080\">        0</span> │ <span style=\"color: #008080; text-decoration-color: #008080\">                       3</span> │ <span style=\"color: #008080; text-decoration-color: #008080\">              84447</span> │  │\n",
       "│ │ <span style=\"color: #af87ff; text-decoration-color: #af87ff\">Dietary Habits                       </span> │ <span style=\"color: #008080; text-decoration-color: #008080\">    0</span> │ <span style=\"color: #008080; text-decoration-color: #008080\">        0</span> │ <span style=\"color: #008080; text-decoration-color: #008080\">                       1</span> │ <span style=\"color: #008080; text-decoration-color: #008080\">              27886</span> │  │\n",
       "│ │ <span style=\"color: #af87ff; text-decoration-color: #af87ff\">Degree                               </span> │ <span style=\"color: #008080; text-decoration-color: #008080\">    0</span> │ <span style=\"color: #008080; text-decoration-color: #008080\">        0</span> │ <span style=\"color: #008080; text-decoration-color: #008080\">                     1.2</span> │ <span style=\"color: #008080; text-decoration-color: #008080\">              33954</span> │  │\n",
       "│ │ <span style=\"color: #af87ff; text-decoration-color: #af87ff\">Have you ever had suicidal thoughts ?</span> │ <span style=\"color: #008080; text-decoration-color: #008080\">    0</span> │ <span style=\"color: #008080; text-decoration-color: #008080\">        0</span> │ <span style=\"color: #008080; text-decoration-color: #008080\">                       1</span> │ <span style=\"color: #008080; text-decoration-color: #008080\">              27882</span> │  │\n",
       "│ │ <span style=\"color: #af87ff; text-decoration-color: #af87ff\">Family History of Mental Illness     </span> │ <span style=\"color: #008080; text-decoration-color: #008080\">    0</span> │ <span style=\"color: #008080; text-decoration-color: #008080\">        0</span> │ <span style=\"color: #008080; text-decoration-color: #008080\">                       1</span> │ <span style=\"color: #008080; text-decoration-color: #008080\">              27882</span> │  │\n",
       "│ └───────────────────────────────────────┴───────┴───────────┴──────────────────────────┴─────────────────────┘  │\n",
       "╰────────────────────────────────────────────────────── End ──────────────────────────────────────────────────────╯\n",
       "</pre>\n"
      ],
      "text/plain": [
       "╭──────────────────────────────────────────────── skimpy summary ─────────────────────────────────────────────────╮\n",
       "│ \u001b[3m         Data Summary         \u001b[0m \u001b[3m      Data Types       \u001b[0m                                                          │\n",
       "│ ┏━━━━━━━━━━━━━━━━━━━┳━━━━━━━━┓ ┏━━━━━━━━━━━━━┳━━━━━━━┓                                                          │\n",
       "│ ┃\u001b[1;36m \u001b[0m\u001b[1;36mdataframe        \u001b[0m\u001b[1;36m \u001b[0m┃\u001b[1;36m \u001b[0m\u001b[1;36mValues\u001b[0m\u001b[1;36m \u001b[0m┃ ┃\u001b[1;36m \u001b[0m\u001b[1;36mColumn Type\u001b[0m\u001b[1;36m \u001b[0m┃\u001b[1;36m \u001b[0m\u001b[1;36mCount\u001b[0m\u001b[1;36m \u001b[0m┃                                                          │\n",
       "│ ┡━━━━━━━━━━━━━━━━━━━╇━━━━━━━━┩ ┡━━━━━━━━━━━━━╇━━━━━━━┩                                                          │\n",
       "│ │ Number of rows    │ 27882  │ │ string      │ 7     │                                                          │\n",
       "│ │ Number of columns │ 14     │ │ float64     │ 6     │                                                          │\n",
       "│ └───────────────────┴────────┘ │ int64       │ 1     │                                                          │\n",
       "│                                └─────────────┴───────┘                                                          │\n",
       "│ \u001b[3m                                                    number                                                    \u001b[0m  │\n",
       "│ ┏━━━━━━━━━━━━━━━━━━━━━━━━┳━━━━━┳━━━━━━━┳━━━━━━━━━━┳━━━━━━━━━━┳━━━━━━━┳━━━━━━━┳━━━━━━━┳━━━━━━━┳━━━━━━┳━━━━━━━━┓  │\n",
       "│ ┃\u001b[1m \u001b[0m\u001b[1mcolumn_name           \u001b[0m\u001b[1m \u001b[0m┃\u001b[1m \u001b[0m\u001b[1mNA \u001b[0m\u001b[1m \u001b[0m┃\u001b[1m \u001b[0m\u001b[1mNA % \u001b[0m\u001b[1m \u001b[0m┃\u001b[1m \u001b[0m\u001b[1mmean    \u001b[0m\u001b[1m \u001b[0m┃\u001b[1m \u001b[0m\u001b[1msd      \u001b[0m\u001b[1m \u001b[0m┃\u001b[1m \u001b[0m\u001b[1mp0   \u001b[0m\u001b[1m \u001b[0m┃\u001b[1m \u001b[0m\u001b[1mp25  \u001b[0m\u001b[1m \u001b[0m┃\u001b[1m \u001b[0m\u001b[1mp50  \u001b[0m\u001b[1m \u001b[0m┃\u001b[1m \u001b[0m\u001b[1mp75  \u001b[0m\u001b[1m \u001b[0m┃\u001b[1m \u001b[0m\u001b[1mp100\u001b[0m\u001b[1m \u001b[0m┃\u001b[1m \u001b[0m\u001b[1mhist  \u001b[0m\u001b[1m \u001b[0m┃  │\n",
       "│ ┡━━━━━━━━━━━━━━━━━━━━━━━━╇━━━━━╇━━━━━━━╇━━━━━━━━━━╇━━━━━━━━━━╇━━━━━━━╇━━━━━━━╇━━━━━━━╇━━━━━━━╇━━━━━━╇━━━━━━━━┩  │\n",
       "│ │ \u001b[38;5;141mAge                   \u001b[0m │ \u001b[36m  0\u001b[0m │ \u001b[36m    0\u001b[0m │ \u001b[36m   25.82\u001b[0m │ \u001b[36m   4.904\u001b[0m │ \u001b[36m   18\u001b[0m │ \u001b[36m   21\u001b[0m │ \u001b[36m   25\u001b[0m │ \u001b[36m   30\u001b[0m │ \u001b[36m  59\u001b[0m │ \u001b[32m ▇▇▃  \u001b[0m │  │\n",
       "│ │ \u001b[38;5;141mAcademic Pressure     \u001b[0m │ \u001b[36m  0\u001b[0m │ \u001b[36m    0\u001b[0m │ \u001b[36m   3.142\u001b[0m │ \u001b[36m    1.38\u001b[0m │ \u001b[36m    1\u001b[0m │ \u001b[36m    2\u001b[0m │ \u001b[36m    3\u001b[0m │ \u001b[36m    4\u001b[0m │ \u001b[36m   5\u001b[0m │ \u001b[32m▅▅ ▇▆▇\u001b[0m │  │\n",
       "│ │ \u001b[38;5;141mCGPA                  \u001b[0m │ \u001b[36m  0\u001b[0m │ \u001b[36m    0\u001b[0m │ \u001b[36m   7.659\u001b[0m │ \u001b[36m   1.464\u001b[0m │ \u001b[36m 5.03\u001b[0m │ \u001b[36m 6.29\u001b[0m │ \u001b[36m 7.77\u001b[0m │ \u001b[36m 8.92\u001b[0m │ \u001b[36m  10\u001b[0m │ \u001b[32m▇▅▇▇▇▇\u001b[0m │  │\n",
       "│ │ \u001b[38;5;141mStudy Satisfaction    \u001b[0m │ \u001b[36m  0\u001b[0m │ \u001b[36m    0\u001b[0m │ \u001b[36m   2.945\u001b[0m │ \u001b[36m    1.36\u001b[0m │ \u001b[36m    1\u001b[0m │ \u001b[36m    2\u001b[0m │ \u001b[36m    3\u001b[0m │ \u001b[36m    4\u001b[0m │ \u001b[36m   5\u001b[0m │ \u001b[32m▇▇ ▇▇▆\u001b[0m │  │\n",
       "│ │ \u001b[38;5;141mWork/Study Hours      \u001b[0m │ \u001b[36m  0\u001b[0m │ \u001b[36m    0\u001b[0m │ \u001b[36m   7.157\u001b[0m │ \u001b[36m   3.707\u001b[0m │ \u001b[36m    0\u001b[0m │ \u001b[36m    4\u001b[0m │ \u001b[36m    8\u001b[0m │ \u001b[36m   10\u001b[0m │ \u001b[36m  12\u001b[0m │ \u001b[32m▂▂▂▃▃▇\u001b[0m │  │\n",
       "│ │ \u001b[38;5;141mFinancial Stress      \u001b[0m │ \u001b[36m  0\u001b[0m │ \u001b[36m    0\u001b[0m │ \u001b[36m    3.14\u001b[0m │ \u001b[36m   1.437\u001b[0m │ \u001b[36m    1\u001b[0m │ \u001b[36m    2\u001b[0m │ \u001b[36m    3\u001b[0m │ \u001b[36m    4\u001b[0m │ \u001b[36m   5\u001b[0m │ \u001b[32m▆▆ ▆▇▇\u001b[0m │  │\n",
       "│ │ \u001b[38;5;141mDepression            \u001b[0m │ \u001b[36m  0\u001b[0m │ \u001b[36m    0\u001b[0m │ \u001b[36m  0.5855\u001b[0m │ \u001b[36m  0.4926\u001b[0m │ \u001b[36m    0\u001b[0m │ \u001b[36m    0\u001b[0m │ \u001b[36m    1\u001b[0m │ \u001b[36m    1\u001b[0m │ \u001b[36m   1\u001b[0m │ \u001b[32m▆    ▇\u001b[0m │  │\n",
       "│ └────────────────────────┴─────┴───────┴──────────┴──────────┴───────┴───────┴───────┴───────┴──────┴────────┘  │\n",
       "│ \u001b[3m                                                    string                                                    \u001b[0m  │\n",
       "│ ┏━━━━━━━━━━━━━━━━━━━━━━━━━━━━━━━━━━━━━━━┳━━━━━━━┳━━━━━━━━━━━┳━━━━━━━━━━━━━━━━━━━━━━━━━━┳━━━━━━━━━━━━━━━━━━━━━┓  │\n",
       "│ ┃\u001b[1m \u001b[0m\u001b[1mcolumn_name                          \u001b[0m\u001b[1m \u001b[0m┃\u001b[1m \u001b[0m\u001b[1mNA   \u001b[0m\u001b[1m \u001b[0m┃\u001b[1m \u001b[0m\u001b[1mNA %     \u001b[0m\u001b[1m \u001b[0m┃\u001b[1m \u001b[0m\u001b[1mwords per row           \u001b[0m\u001b[1m \u001b[0m┃\u001b[1m \u001b[0m\u001b[1mtotal words        \u001b[0m\u001b[1m \u001b[0m┃  │\n",
       "│ ┡━━━━━━━━━━━━━━━━━━━━━━━━━━━━━━━━━━━━━━━╇━━━━━━━╇━━━━━━━━━━━╇━━━━━━━━━━━━━━━━━━━━━━━━━━╇━━━━━━━━━━━━━━━━━━━━━┩  │\n",
       "│ │ \u001b[38;5;141mGender                               \u001b[0m │ \u001b[36m    0\u001b[0m │ \u001b[36m        0\u001b[0m │ \u001b[36m                       1\u001b[0m │ \u001b[36m              27882\u001b[0m │  │\n",
       "│ │ \u001b[38;5;141mCity                                 \u001b[0m │ \u001b[36m    0\u001b[0m │ \u001b[36m        0\u001b[0m │ \u001b[36m                       1\u001b[0m │ \u001b[36m              27886\u001b[0m │  │\n",
       "│ │ \u001b[38;5;141mSleep Duration                       \u001b[0m │ \u001b[36m    0\u001b[0m │ \u001b[36m        0\u001b[0m │ \u001b[36m                       3\u001b[0m │ \u001b[36m              84447\u001b[0m │  │\n",
       "│ │ \u001b[38;5;141mDietary Habits                       \u001b[0m │ \u001b[36m    0\u001b[0m │ \u001b[36m        0\u001b[0m │ \u001b[36m                       1\u001b[0m │ \u001b[36m              27886\u001b[0m │  │\n",
       "│ │ \u001b[38;5;141mDegree                               \u001b[0m │ \u001b[36m    0\u001b[0m │ \u001b[36m        0\u001b[0m │ \u001b[36m                     1.2\u001b[0m │ \u001b[36m              33954\u001b[0m │  │\n",
       "│ │ \u001b[38;5;141mHave you ever had suicidal thoughts ?\u001b[0m │ \u001b[36m    0\u001b[0m │ \u001b[36m        0\u001b[0m │ \u001b[36m                       1\u001b[0m │ \u001b[36m              27882\u001b[0m │  │\n",
       "│ │ \u001b[38;5;141mFamily History of Mental Illness     \u001b[0m │ \u001b[36m    0\u001b[0m │ \u001b[36m        0\u001b[0m │ \u001b[36m                       1\u001b[0m │ \u001b[36m              27882\u001b[0m │  │\n",
       "│ └───────────────────────────────────────┴───────┴───────────┴──────────────────────────┴─────────────────────┘  │\n",
       "╰────────────────────────────────────────────────────── End ──────────────────────────────────────────────────────╯\n"
      ]
     },
     "metadata": {},
     "output_type": "display_data"
    }
   ],
   "source": [
    "skim(df)"
   ]
  },
  {
   "cell_type": "code",
   "execution_count": 5,
   "metadata": {},
   "outputs": [
    {
     "data": {
      "text/html": [
       "<div>\n",
       "<style scoped>\n",
       "    .dataframe tbody tr th:only-of-type {\n",
       "        vertical-align: middle;\n",
       "    }\n",
       "\n",
       "    .dataframe tbody tr th {\n",
       "        vertical-align: top;\n",
       "    }\n",
       "\n",
       "    .dataframe thead th {\n",
       "        text-align: right;\n",
       "    }\n",
       "</style>\n",
       "<table border=\"1\" class=\"dataframe\">\n",
       "  <thead>\n",
       "    <tr style=\"text-align: right;\">\n",
       "      <th></th>\n",
       "      <th>Gender</th>\n",
       "      <th>Age</th>\n",
       "      <th>City</th>\n",
       "      <th>Academic Pressure</th>\n",
       "      <th>CGPA</th>\n",
       "      <th>Study Satisfaction</th>\n",
       "      <th>Sleep Duration</th>\n",
       "      <th>Dietary Habits</th>\n",
       "      <th>Degree</th>\n",
       "      <th>Have you ever had suicidal thoughts ?</th>\n",
       "      <th>Work/Study Hours</th>\n",
       "      <th>Financial Stress</th>\n",
       "      <th>Family History of Mental Illness</th>\n",
       "      <th>Depression</th>\n",
       "    </tr>\n",
       "  </thead>\n",
       "  <tbody>\n",
       "    <tr>\n",
       "      <th>0</th>\n",
       "      <td>Male</td>\n",
       "      <td>33.0</td>\n",
       "      <td>Visakhapatnam</td>\n",
       "      <td>5.0</td>\n",
       "      <td>8.97</td>\n",
       "      <td>2.0</td>\n",
       "      <td>5-6 hours</td>\n",
       "      <td>Healthy</td>\n",
       "      <td>B.Pharm</td>\n",
       "      <td>Yes</td>\n",
       "      <td>3.0</td>\n",
       "      <td>1.0</td>\n",
       "      <td>No</td>\n",
       "      <td>1</td>\n",
       "    </tr>\n",
       "    <tr>\n",
       "      <th>1</th>\n",
       "      <td>Female</td>\n",
       "      <td>24.0</td>\n",
       "      <td>Bangalore</td>\n",
       "      <td>2.0</td>\n",
       "      <td>5.90</td>\n",
       "      <td>5.0</td>\n",
       "      <td>5-6 hours</td>\n",
       "      <td>Moderate</td>\n",
       "      <td>BSc</td>\n",
       "      <td>No</td>\n",
       "      <td>3.0</td>\n",
       "      <td>2.0</td>\n",
       "      <td>Yes</td>\n",
       "      <td>0</td>\n",
       "    </tr>\n",
       "    <tr>\n",
       "      <th>2</th>\n",
       "      <td>Male</td>\n",
       "      <td>31.0</td>\n",
       "      <td>Srinagar</td>\n",
       "      <td>3.0</td>\n",
       "      <td>7.03</td>\n",
       "      <td>5.0</td>\n",
       "      <td>Less than 5 hours</td>\n",
       "      <td>Healthy</td>\n",
       "      <td>BA</td>\n",
       "      <td>No</td>\n",
       "      <td>9.0</td>\n",
       "      <td>1.0</td>\n",
       "      <td>Yes</td>\n",
       "      <td>0</td>\n",
       "    </tr>\n",
       "    <tr>\n",
       "      <th>3</th>\n",
       "      <td>Female</td>\n",
       "      <td>28.0</td>\n",
       "      <td>Varanasi</td>\n",
       "      <td>3.0</td>\n",
       "      <td>5.59</td>\n",
       "      <td>2.0</td>\n",
       "      <td>7-8 hours</td>\n",
       "      <td>Moderate</td>\n",
       "      <td>BCA</td>\n",
       "      <td>Yes</td>\n",
       "      <td>4.0</td>\n",
       "      <td>5.0</td>\n",
       "      <td>Yes</td>\n",
       "      <td>1</td>\n",
       "    </tr>\n",
       "    <tr>\n",
       "      <th>4</th>\n",
       "      <td>Female</td>\n",
       "      <td>25.0</td>\n",
       "      <td>Jaipur</td>\n",
       "      <td>4.0</td>\n",
       "      <td>8.13</td>\n",
       "      <td>3.0</td>\n",
       "      <td>5-6 hours</td>\n",
       "      <td>Moderate</td>\n",
       "      <td>M.Tech</td>\n",
       "      <td>Yes</td>\n",
       "      <td>1.0</td>\n",
       "      <td>1.0</td>\n",
       "      <td>No</td>\n",
       "      <td>0</td>\n",
       "    </tr>\n",
       "  </tbody>\n",
       "</table>\n",
       "</div>"
      ],
      "text/plain": [
       "   Gender   Age           City  Academic Pressure  CGPA  Study Satisfaction  \\\n",
       "0    Male  33.0  Visakhapatnam                5.0  8.97                 2.0   \n",
       "1  Female  24.0      Bangalore                2.0  5.90                 5.0   \n",
       "2    Male  31.0       Srinagar                3.0  7.03                 5.0   \n",
       "3  Female  28.0       Varanasi                3.0  5.59                 2.0   \n",
       "4  Female  25.0         Jaipur                4.0  8.13                 3.0   \n",
       "\n",
       "      Sleep Duration Dietary Habits   Degree  \\\n",
       "0          5-6 hours        Healthy  B.Pharm   \n",
       "1          5-6 hours       Moderate      BSc   \n",
       "2  Less than 5 hours        Healthy       BA   \n",
       "3          7-8 hours       Moderate      BCA   \n",
       "4          5-6 hours       Moderate   M.Tech   \n",
       "\n",
       "  Have you ever had suicidal thoughts ?  Work/Study Hours  Financial Stress  \\\n",
       "0                                   Yes               3.0               1.0   \n",
       "1                                    No               3.0               2.0   \n",
       "2                                    No               9.0               1.0   \n",
       "3                                   Yes               4.0               5.0   \n",
       "4                                   Yes               1.0               1.0   \n",
       "\n",
       "  Family History of Mental Illness  Depression  \n",
       "0                               No           1  \n",
       "1                              Yes           0  \n",
       "2                              Yes           0  \n",
       "3                              Yes           1  \n",
       "4                               No           0  "
      ]
     },
     "execution_count": 5,
     "metadata": {},
     "output_type": "execute_result"
    }
   ],
   "source": [
    "df.head()"
   ]
  },
  {
   "cell_type": "code",
   "execution_count": null,
   "metadata": {},
   "outputs": [],
   "source": [
    "def preprocess_data(X: pd.DataFrame,\n",
    "                    seed: float = 42) -> pd.DataFrame:\n",
    "\n",
    "    np.random.seed(seed)\n",
    "    X = X.copy()\n",
    "\n",
    "    for col in X.columns:\n",
    "        if X[col].nunique(dropna=True) == 2:\n",
    "            unique_values = X[col].dropna().unique()\n",
    "            mapping = {value: idx for idx, value in enumerate(unique_values)}\n",
    "            X[col] = X[col].map(mapping)\n",
    "\n",
    "    X['Sleep Duration'] = X['Sleep Duration'].apply(\n",
    "        lambda value: (\n",
    "            0 if value in [\"Less than 5 hours\", \"2-3 hours\", \"3-4 hours\", \"4-5 hours\", \"No\"]\n",
    "            else 1 if value in [\"5-6 hours\", \"6-7 hours\", \"4-6 hours\"]\n",
    "            else 2 if value in [\"7-8 hours\"]\n",
    "            else 3 if value in [\"8-9 hours\", \"More than 8 hours\", \"9-11 hours\", \"10-11 hours\"]\n",
    "            else np.random.choice([0, 1, 2, 3])\n",
    "        )\n",
    "    )\n",
    "\n",
    "    X['Dietary Habits'] = X['Dietary Habits'].apply(\n",
    "        lambda value: (\n",
    "            0 if value in [\"Unhealthy\", \"No Healthy\", \"No\", \"1\", 1]\n",
    "            else 1 if value in [\"Moderate\", \"Less Healthy\", \"Less than Healthy\", \"2\", 2]\n",
    "            else 2 if value in [\"Healthy\", \"More Healthy\", \"Yes\", \"3\", 3]\n",
    "            else np.random.choice([0, 1, 2])\n",
    "        )\n",
    "    )\n",
    "\n",
    "    return X"
   ]
  },
  {
   "cell_type": "code",
   "execution_count": 6,
   "metadata": {},
   "outputs": [
    {
     "data": {
      "image/png": "[encoded data removed]",
      "text/plain": [
       "<Figure size 640x480 with 1 Axes>"
      ]
     },
     "metadata": {},
     "output_type": "display_data"
    }
   ],
   "source": [
    "df['Depression'].value_counts().plot.pie(autopct='%1.1f%%')\n",
    "plt.title('Depression Distribution')\n",
    "plt.show()"
   ]
  },
  {
   "cell_type": "code",
   "execution_count": 7,
   "metadata": {},
   "outputs": [],
   "source": [
    "X_train, X_test, y_train, y_test = train_test_split(df.iloc[:, :-1], df.iloc[:, -1], test_size=0.2, random_state=42)"
   ]
  },
  {
   "cell_type": "code",
   "execution_count": 8,
   "metadata": {},
   "outputs": [],
   "source": [
    "X_train = preprocess_data(X_train)\n",
    "X_test = preprocess_data(X_test)"
   ]
  },
  {
   "cell_type": "code",
   "execution_count": 9,
   "metadata": {},
   "outputs": [
    {
     "data": {
      "text/html": [
       "<pre style=\"white-space:pre;overflow-x:auto;line-height:normal;font-family:Menlo,'DejaVu Sans Mono',consolas,'Courier New',monospace\">╭──────────────────────────────────────────────── skimpy summary ─────────────────────────────────────────────────╮\n",
       "│ <span style=\"font-style: italic\">         Data Summary         </span> <span style=\"font-style: italic\">      Data Types       </span>                                                          │\n",
       "│ ┏━━━━━━━━━━━━━━━━━━━┳━━━━━━━━┓ ┏━━━━━━━━━━━━━┳━━━━━━━┓                                                          │\n",
       "│ ┃<span style=\"color: #008080; text-decoration-color: #008080; font-weight: bold\"> dataframe         </span>┃<span style=\"color: #008080; text-decoration-color: #008080; font-weight: bold\"> Values </span>┃ ┃<span style=\"color: #008080; text-decoration-color: #008080; font-weight: bold\"> Column Type </span>┃<span style=\"color: #008080; text-decoration-color: #008080; font-weight: bold\"> Count </span>┃                                                          │\n",
       "│ ┡━━━━━━━━━━━━━━━━━━━╇━━━━━━━━┩ ┡━━━━━━━━━━━━━╇━━━━━━━┩                                                          │\n",
       "│ │ Number of rows    │ 22305  │ │ float64     │ 6     │                                                          │\n",
       "│ │ Number of columns │ 13     │ │ int64       │ 5     │                                                          │\n",
       "│ └───────────────────┴────────┘ │ string      │ 2     │                                                          │\n",
       "│                                └─────────────┴───────┘                                                          │\n",
       "│ <span style=\"font-style: italic\">                                                    number                                                    </span>  │\n",
       "│ ┏━━━━━━━━━━━━━━━━━━━━━━━━━━┳━━━━━┳━━━━━━━┳━━━━━━━━━┳━━━━━━━━━┳━━━━━━━┳━━━━━━━┳━━━━━━━┳━━━━━━━┳━━━━━━┳━━━━━━━━┓  │\n",
       "│ ┃<span style=\"font-weight: bold\"> column_name              </span>┃<span style=\"font-weight: bold\"> NA  </span>┃<span style=\"font-weight: bold\"> NA %  </span>┃<span style=\"font-weight: bold\"> mean    </span>┃<span style=\"font-weight: bold\"> sd      </span>┃<span style=\"font-weight: bold\"> p0    </span>┃<span style=\"font-weight: bold\"> p25   </span>┃<span style=\"font-weight: bold\"> p50   </span>┃<span style=\"font-weight: bold\"> p75   </span>┃<span style=\"font-weight: bold\"> p100 </span>┃<span style=\"font-weight: bold\"> hist   </span>┃  │\n",
       "│ ┡━━━━━━━━━━━━━━━━━━━━━━━━━━╇━━━━━╇━━━━━━━╇━━━━━━━━━╇━━━━━━━━━╇━━━━━━━╇━━━━━━━╇━━━━━━━╇━━━━━━━╇━━━━━━╇━━━━━━━━┩  │\n",
       "│ │ <span style=\"color: #af87ff; text-decoration-color: #af87ff\">Gender                  </span> │ <span style=\"color: #008080; text-decoration-color: #008080\">  0</span> │ <span style=\"color: #008080; text-decoration-color: #008080\">    0</span> │ <span style=\"color: #008080; text-decoration-color: #008080\"> 0.4398</span> │ <span style=\"color: #008080; text-decoration-color: #008080\"> 0.4964</span> │ <span style=\"color: #008080; text-decoration-color: #008080\">    0</span> │ <span style=\"color: #008080; text-decoration-color: #008080\">    0</span> │ <span style=\"color: #008080; text-decoration-color: #008080\">    0</span> │ <span style=\"color: #008080; text-decoration-color: #008080\">    1</span> │ <span style=\"color: #008080; text-decoration-color: #008080\">   1</span> │ <span style=\"color: #008000; text-decoration-color: #008000\">▇    ▆</span> │  │\n",
       "│ │ <span style=\"color: #af87ff; text-decoration-color: #af87ff\">Age                     </span> │ <span style=\"color: #008080; text-decoration-color: #008080\">  0</span> │ <span style=\"color: #008080; text-decoration-color: #008080\">    0</span> │ <span style=\"color: #008080; text-decoration-color: #008080\">  25.83</span> │ <span style=\"color: #008080; text-decoration-color: #008080\">  4.901</span> │ <span style=\"color: #008080; text-decoration-color: #008080\">   18</span> │ <span style=\"color: #008080; text-decoration-color: #008080\">   21</span> │ <span style=\"color: #008080; text-decoration-color: #008080\">   25</span> │ <span style=\"color: #008080; text-decoration-color: #008080\">   30</span> │ <span style=\"color: #008080; text-decoration-color: #008080\">  59</span> │ <span style=\"color: #008000; text-decoration-color: #008000\"> ▇▇▃  </span> │  │\n",
       "│ │ <span style=\"color: #af87ff; text-decoration-color: #af87ff\">Academic Pressure       </span> │ <span style=\"color: #008080; text-decoration-color: #008080\">  0</span> │ <span style=\"color: #008080; text-decoration-color: #008080\">    0</span> │ <span style=\"color: #008080; text-decoration-color: #008080\">  3.145</span> │ <span style=\"color: #008080; text-decoration-color: #008080\">   1.38</span> │ <span style=\"color: #008080; text-decoration-color: #008080\">    1</span> │ <span style=\"color: #008080; text-decoration-color: #008080\">    2</span> │ <span style=\"color: #008080; text-decoration-color: #008080\">    3</span> │ <span style=\"color: #008080; text-decoration-color: #008080\">    4</span> │ <span style=\"color: #008080; text-decoration-color: #008080\">   5</span> │ <span style=\"color: #008000; text-decoration-color: #008000\">▅▅ ▇▅▇</span> │  │\n",
       "│ │ <span style=\"color: #af87ff; text-decoration-color: #af87ff\">CGPA                    </span> │ <span style=\"color: #008080; text-decoration-color: #008080\">  0</span> │ <span style=\"color: #008080; text-decoration-color: #008080\">    0</span> │ <span style=\"color: #008080; text-decoration-color: #008080\">   7.66</span> │ <span style=\"color: #008080; text-decoration-color: #008080\">  1.467</span> │ <span style=\"color: #008080; text-decoration-color: #008080\"> 5.03</span> │ <span style=\"color: #008080; text-decoration-color: #008080\"> 6.29</span> │ <span style=\"color: #008080; text-decoration-color: #008080\"> 7.77</span> │ <span style=\"color: #008080; text-decoration-color: #008080\"> 8.93</span> │ <span style=\"color: #008080; text-decoration-color: #008080\">  10</span> │ <span style=\"color: #008000; text-decoration-color: #008000\">▇▅▇▇▇▇</span> │  │\n",
       "│ │ <span style=\"color: #af87ff; text-decoration-color: #af87ff\">Study Satisfaction      </span> │ <span style=\"color: #008080; text-decoration-color: #008080\">  0</span> │ <span style=\"color: #008080; text-decoration-color: #008080\">    0</span> │ <span style=\"color: #008080; text-decoration-color: #008080\">  2.935</span> │ <span style=\"color: #008080; text-decoration-color: #008080\">   1.36</span> │ <span style=\"color: #008080; text-decoration-color: #008080\">    1</span> │ <span style=\"color: #008080; text-decoration-color: #008080\">    2</span> │ <span style=\"color: #008080; text-decoration-color: #008080\">    3</span> │ <span style=\"color: #008080; text-decoration-color: #008080\">    4</span> │ <span style=\"color: #008080; text-decoration-color: #008080\">   5</span> │ <span style=\"color: #008000; text-decoration-color: #008000\">▇▇ ▇▇▆</span> │  │\n",
       "│ │ <span style=\"color: #af87ff; text-decoration-color: #af87ff\">Sleep Duration          </span> │ <span style=\"color: #008080; text-decoration-color: #008080\">  0</span> │ <span style=\"color: #008080; text-decoration-color: #008080\">    0</span> │ <span style=\"color: #008080; text-decoration-color: #008080\">    1.4</span> │ <span style=\"color: #008080; text-decoration-color: #008080\">  1.126</span> │ <span style=\"color: #008080; text-decoration-color: #008080\">    0</span> │ <span style=\"color: #008080; text-decoration-color: #008080\">    0</span> │ <span style=\"color: #008080; text-decoration-color: #008080\">    1</span> │ <span style=\"color: #008080; text-decoration-color: #008080\">    2</span> │ <span style=\"color: #008080; text-decoration-color: #008080\">   3</span> │ <span style=\"color: #008000; text-decoration-color: #008000\">▇ ▆ ▇▆</span> │  │\n",
       "│ │ <span style=\"color: #af87ff; text-decoration-color: #af87ff\">Dietary Habits          </span> │ <span style=\"color: #008080; text-decoration-color: #008080\">  0</span> │ <span style=\"color: #008080; text-decoration-color: #008080\">    0</span> │ <span style=\"color: #008080; text-decoration-color: #008080\"> 0.9057</span> │ <span style=\"color: #008080; text-decoration-color: #008080\">  0.796</span> │ <span style=\"color: #008080; text-decoration-color: #008080\">    0</span> │ <span style=\"color: #008080; text-decoration-color: #008080\">    0</span> │ <span style=\"color: #008080; text-decoration-color: #008080\">    1</span> │ <span style=\"color: #008080; text-decoration-color: #008080\">    2</span> │ <span style=\"color: #008080; text-decoration-color: #008080\">   2</span> │ <span style=\"color: #008000; text-decoration-color: #008000\">▇  ▇ ▆</span> │  │\n",
       "│ │ <span style=\"color: #af87ff; text-decoration-color: #af87ff\">Have you ever had       </span> │ <span style=\"color: #008080; text-decoration-color: #008080\">  0</span> │ <span style=\"color: #008080; text-decoration-color: #008080\">    0</span> │ <span style=\"color: #008080; text-decoration-color: #008080\"> 0.6313</span> │ <span style=\"color: #008080; text-decoration-color: #008080\"> 0.4825</span> │ <span style=\"color: #008080; text-decoration-color: #008080\">    0</span> │ <span style=\"color: #008080; text-decoration-color: #008080\">    0</span> │ <span style=\"color: #008080; text-decoration-color: #008080\">    1</span> │ <span style=\"color: #008080; text-decoration-color: #008080\">    1</span> │ <span style=\"color: #008080; text-decoration-color: #008080\">   1</span> │ <span style=\"color: #008000; text-decoration-color: #008000\">▅    ▇</span> │  │\n",
       "│ │ <span style=\"color: #af87ff; text-decoration-color: #af87ff\">suicidal thoughts ?     </span> │     │       │         │         │       │       │       │       │      │        │  │\n",
       "│ │ <span style=\"color: #af87ff; text-decoration-color: #af87ff\">Work/Study Hours        </span> │ <span style=\"color: #008080; text-decoration-color: #008080\">  0</span> │ <span style=\"color: #008080; text-decoration-color: #008080\">    0</span> │ <span style=\"color: #008080; text-decoration-color: #008080\">  7.157</span> │ <span style=\"color: #008080; text-decoration-color: #008080\">  3.709</span> │ <span style=\"color: #008080; text-decoration-color: #008080\">    0</span> │ <span style=\"color: #008080; text-decoration-color: #008080\">    4</span> │ <span style=\"color: #008080; text-decoration-color: #008080\">    8</span> │ <span style=\"color: #008080; text-decoration-color: #008080\">   10</span> │ <span style=\"color: #008080; text-decoration-color: #008080\">  12</span> │ <span style=\"color: #008000; text-decoration-color: #008000\">▂▂▂▃▃▇</span> │  │\n",
       "│ │ <span style=\"color: #af87ff; text-decoration-color: #af87ff\">Financial Stress        </span> │ <span style=\"color: #008080; text-decoration-color: #008080\">  0</span> │ <span style=\"color: #008080; text-decoration-color: #008080\">    0</span> │ <span style=\"color: #008080; text-decoration-color: #008080\">  3.144</span> │ <span style=\"color: #008080; text-decoration-color: #008080\">  1.438</span> │ <span style=\"color: #008080; text-decoration-color: #008080\">    1</span> │ <span style=\"color: #008080; text-decoration-color: #008080\">    2</span> │ <span style=\"color: #008080; text-decoration-color: #008080\">    3</span> │ <span style=\"color: #008080; text-decoration-color: #008080\">    4</span> │ <span style=\"color: #008080; text-decoration-color: #008080\">   5</span> │ <span style=\"color: #008000; text-decoration-color: #008000\">▆▆ ▆▇▇</span> │  │\n",
       "│ │ <span style=\"color: #af87ff; text-decoration-color: #af87ff\">Family History of Mental</span> │ <span style=\"color: #008080; text-decoration-color: #008080\">  0</span> │ <span style=\"color: #008080; text-decoration-color: #008080\">    0</span> │ <span style=\"color: #008080; text-decoration-color: #008080\"> 0.4828</span> │ <span style=\"color: #008080; text-decoration-color: #008080\"> 0.4997</span> │ <span style=\"color: #008080; text-decoration-color: #008080\">    0</span> │ <span style=\"color: #008080; text-decoration-color: #008080\">    0</span> │ <span style=\"color: #008080; text-decoration-color: #008080\">    0</span> │ <span style=\"color: #008080; text-decoration-color: #008080\">    1</span> │ <span style=\"color: #008080; text-decoration-color: #008080\">   1</span> │ <span style=\"color: #008000; text-decoration-color: #008000\">▇    ▇</span> │  │\n",
       "│ │ <span style=\"color: #af87ff; text-decoration-color: #af87ff\">Illness                 </span> │     │       │         │         │       │       │       │       │      │        │  │\n",
       "│ └──────────────────────────┴─────┴───────┴─────────┴─────────┴───────┴───────┴───────┴───────┴──────┴────────┘  │\n",
       "│ <span style=\"font-style: italic\">                                                    string                                                    </span>  │\n",
       "│ ┏━━━━━━━━━━━━━━━━━━━━━━━━━━━┳━━━━━━━━━┳━━━━━━━━━━━━┳━━━━━━━━━━━━━━━━━━━━━━━━━━━━━━┳━━━━━━━━━━━━━━━━━━━━━━━━━━┓  │\n",
       "│ ┃<span style=\"font-weight: bold\"> column_name               </span>┃<span style=\"font-weight: bold\"> NA      </span>┃<span style=\"font-weight: bold\"> NA %       </span>┃<span style=\"font-weight: bold\"> words per row                </span>┃<span style=\"font-weight: bold\"> total words              </span>┃  │\n",
       "│ ┡━━━━━━━━━━━━━━━━━━━━━━━━━━━╇━━━━━━━━━╇━━━━━━━━━━━━╇━━━━━━━━━━━━━━━━━━━━━━━━━━━━━━╇━━━━━━━━━━━━━━━━━━━━━━━━━━┩  │\n",
       "│ │ <span style=\"color: #af87ff; text-decoration-color: #af87ff\">City                     </span> │ <span style=\"color: #008080; text-decoration-color: #008080\">      0</span> │ <span style=\"color: #008080; text-decoration-color: #008080\">         0</span> │ <span style=\"color: #008080; text-decoration-color: #008080\">                           1</span> │ <span style=\"color: #008080; text-decoration-color: #008080\">                   22309</span> │  │\n",
       "│ │ <span style=\"color: #af87ff; text-decoration-color: #af87ff\">Degree                   </span> │ <span style=\"color: #008080; text-decoration-color: #008080\">      0</span> │ <span style=\"color: #008080; text-decoration-color: #008080\">         0</span> │ <span style=\"color: #008080; text-decoration-color: #008080\">                         1.2</span> │ <span style=\"color: #008080; text-decoration-color: #008080\">                   27121</span> │  │\n",
       "│ └───────────────────────────┴─────────┴────────────┴──────────────────────────────┴──────────────────────────┘  │\n",
       "╰────────────────────────────────────────────────────── End ──────────────────────────────────────────────────────╯\n",
       "</pre>\n"
      ],
      "text/plain": [
       "╭──────────────────────────────────────────────── skimpy summary ─────────────────────────────────────────────────╮\n",
       "│ \u001b[3m         Data Summary         \u001b[0m \u001b[3m      Data Types       \u001b[0m                                                          │\n",
       "│ ┏━━━━━━━━━━━━━━━━━━━┳━━━━━━━━┓ ┏━━━━━━━━━━━━━┳━━━━━━━┓                                                          │\n",
       "│ ┃\u001b[1;36m \u001b[0m\u001b[1;36mdataframe        \u001b[0m\u001b[1;36m \u001b[0m┃\u001b[1;36m \u001b[0m\u001b[1;36mValues\u001b[0m\u001b[1;36m \u001b[0m┃ ┃\u001b[1;36m \u001b[0m\u001b[1;36mColumn Type\u001b[0m\u001b[1;36m \u001b[0m┃\u001b[1;36m \u001b[0m\u001b[1;36mCount\u001b[0m\u001b[1;36m \u001b[0m┃                                                          │\n",
       "│ ┡━━━━━━━━━━━━━━━━━━━╇━━━━━━━━┩ ┡━━━━━━━━━━━━━╇━━━━━━━┩                                                          │\n",
       "│ │ Number of rows    │ 22305  │ │ float64     │ 6     │                                                          │\n",
       "│ │ Number of columns │ 13     │ │ int64       │ 5     │                                                          │\n",
       "│ └───────────────────┴────────┘ │ string      │ 2     │                                                          │\n",
       "│                                └─────────────┴───────┘                                                          │\n",
       "│ \u001b[3m                                                    number                                                    \u001b[0m  │\n",
       "│ ┏━━━━━━━━━━━━━━━━━━━━━━━━━━┳━━━━━┳━━━━━━━┳━━━━━━━━━┳━━━━━━━━━┳━━━━━━━┳━━━━━━━┳━━━━━━━┳━━━━━━━┳━━━━━━┳━━━━━━━━┓  │\n",
       "│ ┃\u001b[1m \u001b[0m\u001b[1mcolumn_name             \u001b[0m\u001b[1m \u001b[0m┃\u001b[1m \u001b[0m\u001b[1mNA \u001b[0m\u001b[1m \u001b[0m┃\u001b[1m \u001b[0m\u001b[1mNA % \u001b[0m\u001b[1m \u001b[0m┃\u001b[1m \u001b[0m\u001b[1mmean   \u001b[0m\u001b[1m \u001b[0m┃\u001b[1m \u001b[0m\u001b[1msd     \u001b[0m\u001b[1m \u001b[0m┃\u001b[1m \u001b[0m\u001b[1mp0   \u001b[0m\u001b[1m \u001b[0m┃\u001b[1m \u001b[0m\u001b[1mp25  \u001b[0m\u001b[1m \u001b[0m┃\u001b[1m \u001b[0m\u001b[1mp50  \u001b[0m\u001b[1m \u001b[0m┃\u001b[1m \u001b[0m\u001b[1mp75  \u001b[0m\u001b[1m \u001b[0m┃\u001b[1m \u001b[0m\u001b[1mp100\u001b[0m\u001b[1m \u001b[0m┃\u001b[1m \u001b[0m\u001b[1mhist  \u001b[0m\u001b[1m \u001b[0m┃  │\n",
       "│ ┡━━━━━━━━━━━━━━━━━━━━━━━━━━╇━━━━━╇━━━━━━━╇━━━━━━━━━╇━━━━━━━━━╇━━━━━━━╇━━━━━━━╇━━━━━━━╇━━━━━━━╇━━━━━━╇━━━━━━━━┩  │\n",
       "│ │ \u001b[38;5;141mGender                  \u001b[0m │ \u001b[36m  0\u001b[0m │ \u001b[36m    0\u001b[0m │ \u001b[36m 0.4398\u001b[0m │ \u001b[36m 0.4964\u001b[0m │ \u001b[36m    0\u001b[0m │ \u001b[36m    0\u001b[0m │ \u001b[36m    0\u001b[0m │ \u001b[36m    1\u001b[0m │ \u001b[36m   1\u001b[0m │ \u001b[32m▇    ▆\u001b[0m │  │\n",
       "│ │ \u001b[38;5;141mAge                     \u001b[0m │ \u001b[36m  0\u001b[0m │ \u001b[36m    0\u001b[0m │ \u001b[36m  25.83\u001b[0m │ \u001b[36m  4.901\u001b[0m │ \u001b[36m   18\u001b[0m │ \u001b[36m   21\u001b[0m │ \u001b[36m   25\u001b[0m │ \u001b[36m   30\u001b[0m │ \u001b[36m  59\u001b[0m │ \u001b[32m ▇▇▃  \u001b[0m │  │\n",
       "│ │ \u001b[38;5;141mAcademic Pressure       \u001b[0m │ \u001b[36m  0\u001b[0m │ \u001b[36m    0\u001b[0m │ \u001b[36m  3.145\u001b[0m │ \u001b[36m   1.38\u001b[0m │ \u001b[36m    1\u001b[0m │ \u001b[36m    2\u001b[0m │ \u001b[36m    3\u001b[0m │ \u001b[36m    4\u001b[0m │ \u001b[36m   5\u001b[0m │ \u001b[32m▅▅ ▇▅▇\u001b[0m │  │\n",
       "│ │ \u001b[38;5;141mCGPA                    \u001b[0m │ \u001b[36m  0\u001b[0m │ \u001b[36m    0\u001b[0m │ \u001b[36m   7.66\u001b[0m │ \u001b[36m  1.467\u001b[0m │ \u001b[36m 5.03\u001b[0m │ \u001b[36m 6.29\u001b[0m │ \u001b[36m 7.77\u001b[0m │ \u001b[36m 8.93\u001b[0m │ \u001b[36m  10\u001b[0m │ \u001b[32m▇▅▇▇▇▇\u001b[0m │  │\n",
       "│ │ \u001b[38;5;141mStudy Satisfaction      \u001b[0m │ \u001b[36m  0\u001b[0m │ \u001b[36m    0\u001b[0m │ \u001b[36m  2.935\u001b[0m │ \u001b[36m   1.36\u001b[0m │ \u001b[36m    1\u001b[0m │ \u001b[36m    2\u001b[0m │ \u001b[36m    3\u001b[0m │ \u001b[36m    4\u001b[0m │ \u001b[36m   5\u001b[0m │ \u001b[32m▇▇ ▇▇▆\u001b[0m │  │\n",
       "│ │ \u001b[38;5;141mSleep Duration          \u001b[0m │ \u001b[36m  0\u001b[0m │ \u001b[36m    0\u001b[0m │ \u001b[36m    1.4\u001b[0m │ \u001b[36m  1.126\u001b[0m │ \u001b[36m    0\u001b[0m │ \u001b[36m    0\u001b[0m │ \u001b[36m    1\u001b[0m │ \u001b[36m    2\u001b[0m │ \u001b[36m   3\u001b[0m │ \u001b[32m▇ ▆ ▇▆\u001b[0m │  │\n",
       "│ │ \u001b[38;5;141mDietary Habits          \u001b[0m │ \u001b[36m  0\u001b[0m │ \u001b[36m    0\u001b[0m │ \u001b[36m 0.9057\u001b[0m │ \u001b[36m  0.796\u001b[0m │ \u001b[36m    0\u001b[0m │ \u001b[36m    0\u001b[0m │ \u001b[36m    1\u001b[0m │ \u001b[36m    2\u001b[0m │ \u001b[36m   2\u001b[0m │ \u001b[32m▇  ▇ ▆\u001b[0m │  │\n",
       "│ │ \u001b[38;5;141mHave you ever had       \u001b[0m │ \u001b[36m  0\u001b[0m │ \u001b[36m    0\u001b[0m │ \u001b[36m 0.6313\u001b[0m │ \u001b[36m 0.4825\u001b[0m │ \u001b[36m    0\u001b[0m │ \u001b[36m    0\u001b[0m │ \u001b[36m    1\u001b[0m │ \u001b[36m    1\u001b[0m │ \u001b[36m   1\u001b[0m │ \u001b[32m▅    ▇\u001b[0m │  │\n",
       "│ │ \u001b[38;5;141msuicidal thoughts ?     \u001b[0m │     │       │         │         │       │       │       │       │      │        │  │\n",
       "│ │ \u001b[38;5;141mWork/Study Hours        \u001b[0m │ \u001b[36m  0\u001b[0m │ \u001b[36m    0\u001b[0m │ \u001b[36m  7.157\u001b[0m │ \u001b[36m  3.709\u001b[0m │ \u001b[36m    0\u001b[0m │ \u001b[36m    4\u001b[0m │ \u001b[36m    8\u001b[0m │ \u001b[36m   10\u001b[0m │ \u001b[36m  12\u001b[0m │ \u001b[32m▂▂▂▃▃▇\u001b[0m │  │\n",
       "│ │ \u001b[38;5;141mFinancial Stress        \u001b[0m │ \u001b[36m  0\u001b[0m │ \u001b[36m    0\u001b[0m │ \u001b[36m  3.144\u001b[0m │ \u001b[36m  1.438\u001b[0m │ \u001b[36m    1\u001b[0m │ \u001b[36m    2\u001b[0m │ \u001b[36m    3\u001b[0m │ \u001b[36m    4\u001b[0m │ \u001b[36m   5\u001b[0m │ \u001b[32m▆▆ ▆▇▇\u001b[0m │  │\n",
       "│ │ \u001b[38;5;141mFamily History of Mental\u001b[0m │ \u001b[36m  0\u001b[0m │ \u001b[36m    0\u001b[0m │ \u001b[36m 0.4828\u001b[0m │ \u001b[36m 0.4997\u001b[0m │ \u001b[36m    0\u001b[0m │ \u001b[36m    0\u001b[0m │ \u001b[36m    0\u001b[0m │ \u001b[36m    1\u001b[0m │ \u001b[36m   1\u001b[0m │ \u001b[32m▇    ▇\u001b[0m │  │\n",
       "│ │ \u001b[38;5;141mIllness                 \u001b[0m │     │       │         │         │       │       │       │       │      │        │  │\n",
       "│ └──────────────────────────┴─────┴───────┴─────────┴─────────┴───────┴───────┴───────┴───────┴──────┴────────┘  │\n",
       "│ \u001b[3m                                                    string                                                    \u001b[0m  │\n",
       "│ ┏━━━━━━━━━━━━━━━━━━━━━━━━━━━┳━━━━━━━━━┳━━━━━━━━━━━━┳━━━━━━━━━━━━━━━━━━━━━━━━━━━━━━┳━━━━━━━━━━━━━━━━━━━━━━━━━━┓  │\n",
       "│ ┃\u001b[1m \u001b[0m\u001b[1mcolumn_name              \u001b[0m\u001b[1m \u001b[0m┃\u001b[1m \u001b[0m\u001b[1mNA     \u001b[0m\u001b[1m \u001b[0m┃\u001b[1m \u001b[0m\u001b[1mNA %      \u001b[0m\u001b[1m \u001b[0m┃\u001b[1m \u001b[0m\u001b[1mwords per row               \u001b[0m\u001b[1m \u001b[0m┃\u001b[1m \u001b[0m\u001b[1mtotal words             \u001b[0m\u001b[1m \u001b[0m┃  │\n",
       "│ ┡━━━━━━━━━━━━━━━━━━━━━━━━━━━╇━━━━━━━━━╇━━━━━━━━━━━━╇━━━━━━━━━━━━━━━━━━━━━━━━━━━━━━╇━━━━━━━━━━━━━━━━━━━━━━━━━━┩  │\n",
       "│ │ \u001b[38;5;141mCity                     \u001b[0m │ \u001b[36m      0\u001b[0m │ \u001b[36m         0\u001b[0m │ \u001b[36m                           1\u001b[0m │ \u001b[36m                   22309\u001b[0m │  │\n",
       "│ │ \u001b[38;5;141mDegree                   \u001b[0m │ \u001b[36m      0\u001b[0m │ \u001b[36m         0\u001b[0m │ \u001b[36m                         1.2\u001b[0m │ \u001b[36m                   27121\u001b[0m │  │\n",
       "│ └───────────────────────────┴─────────┴────────────┴──────────────────────────────┴──────────────────────────┘  │\n",
       "╰────────────────────────────────────────────────────── End ──────────────────────────────────────────────────────╯\n"
      ]
     },
     "metadata": {},
     "output_type": "display_data"
    }
   ],
   "source": [
    "skim(X_train)"
   ]
  },
  {
   "cell_type": "code",
   "execution_count": 10,
   "metadata": {},
   "outputs": [
    {
     "data": {
      "text/html": [
       "<pre style=\"white-space:pre;overflow-x:auto;line-height:normal;font-family:Menlo,'DejaVu Sans Mono',consolas,'Courier New',monospace\">╭──────────────────────────────────────────────── skimpy summary ─────────────────────────────────────────────────╮\n",
       "│ <span style=\"font-style: italic\">         Data Summary         </span> <span style=\"font-style: italic\">      Data Types       </span>                                                          │\n",
       "│ ┏━━━━━━━━━━━━━━━━━━━┳━━━━━━━━┓ ┏━━━━━━━━━━━━━┳━━━━━━━┓                                                          │\n",
       "│ ┃<span style=\"color: #008080; text-decoration-color: #008080; font-weight: bold\"> dataframe         </span>┃<span style=\"color: #008080; text-decoration-color: #008080; font-weight: bold\"> Values </span>┃ ┃<span style=\"color: #008080; text-decoration-color: #008080; font-weight: bold\"> Column Type </span>┃<span style=\"color: #008080; text-decoration-color: #008080; font-weight: bold\"> Count </span>┃                                                          │\n",
       "│ ┡━━━━━━━━━━━━━━━━━━━╇━━━━━━━━┩ ┡━━━━━━━━━━━━━╇━━━━━━━┩                                                          │\n",
       "│ │ Number of rows    │ 5577   │ │ float64     │ 6     │                                                          │\n",
       "│ │ Number of columns │ 13     │ │ int64       │ 5     │                                                          │\n",
       "│ └───────────────────┴────────┘ │ string      │ 2     │                                                          │\n",
       "│                                └─────────────┴───────┘                                                          │\n",
       "│ <span style=\"font-style: italic\">                                                    number                                                    </span>  │\n",
       "│ ┏━━━━━━━━━━━━━━━━━━━━━━━━━━┳━━━━━┳━━━━━━━┳━━━━━━━━━┳━━━━━━━━━┳━━━━━━━┳━━━━━━━┳━━━━━━━┳━━━━━━━┳━━━━━━┳━━━━━━━━┓  │\n",
       "│ ┃<span style=\"font-weight: bold\"> column_name              </span>┃<span style=\"font-weight: bold\"> NA  </span>┃<span style=\"font-weight: bold\"> NA %  </span>┃<span style=\"font-weight: bold\"> mean    </span>┃<span style=\"font-weight: bold\"> sd      </span>┃<span style=\"font-weight: bold\"> p0    </span>┃<span style=\"font-weight: bold\"> p25   </span>┃<span style=\"font-weight: bold\"> p50   </span>┃<span style=\"font-weight: bold\"> p75   </span>┃<span style=\"font-weight: bold\"> p100 </span>┃<span style=\"font-weight: bold\"> hist   </span>┃  │\n",
       "│ ┡━━━━━━━━━━━━━━━━━━━━━━━━━━╇━━━━━╇━━━━━━━╇━━━━━━━━━╇━━━━━━━━━╇━━━━━━━╇━━━━━━━╇━━━━━━━╇━━━━━━━╇━━━━━━╇━━━━━━━━┩  │\n",
       "│ │ <span style=\"color: #af87ff; text-decoration-color: #af87ff\">Gender                  </span> │ <span style=\"color: #008080; text-decoration-color: #008080\">  0</span> │ <span style=\"color: #008080; text-decoration-color: #008080\">    0</span> │ <span style=\"color: #008080; text-decoration-color: #008080\"> 0.4547</span> │ <span style=\"color: #008080; text-decoration-color: #008080\">  0.498</span> │ <span style=\"color: #008080; text-decoration-color: #008080\">    0</span> │ <span style=\"color: #008080; text-decoration-color: #008080\">    0</span> │ <span style=\"color: #008080; text-decoration-color: #008080\">    0</span> │ <span style=\"color: #008080; text-decoration-color: #008080\">    1</span> │ <span style=\"color: #008080; text-decoration-color: #008080\">   1</span> │ <span style=\"color: #008000; text-decoration-color: #008000\">▇    ▇</span> │  │\n",
       "│ │ <span style=\"color: #af87ff; text-decoration-color: #af87ff\">Age                     </span> │ <span style=\"color: #008080; text-decoration-color: #008080\">  0</span> │ <span style=\"color: #008080; text-decoration-color: #008080\">    0</span> │ <span style=\"color: #008080; text-decoration-color: #008080\">   25.8</span> │ <span style=\"color: #008080; text-decoration-color: #008080\">  4.918</span> │ <span style=\"color: #008080; text-decoration-color: #008080\">   18</span> │ <span style=\"color: #008080; text-decoration-color: #008080\">   21</span> │ <span style=\"color: #008080; text-decoration-color: #008080\">   26</span> │ <span style=\"color: #008080; text-decoration-color: #008080\">   30</span> │ <span style=\"color: #008080; text-decoration-color: #008080\">  58</span> │ <span style=\"color: #008000; text-decoration-color: #008000\"> ▇▇▃  </span> │  │\n",
       "│ │ <span style=\"color: #af87ff; text-decoration-color: #af87ff\">Academic Pressure       </span> │ <span style=\"color: #008080; text-decoration-color: #008080\">  0</span> │ <span style=\"color: #008080; text-decoration-color: #008080\">    0</span> │ <span style=\"color: #008080; text-decoration-color: #008080\">  3.133</span> │ <span style=\"color: #008080; text-decoration-color: #008080\">  1.383</span> │ <span style=\"color: #008080; text-decoration-color: #008080\">    1</span> │ <span style=\"color: #008080; text-decoration-color: #008080\">    2</span> │ <span style=\"color: #008080; text-decoration-color: #008080\">    3</span> │ <span style=\"color: #008080; text-decoration-color: #008080\">    4</span> │ <span style=\"color: #008080; text-decoration-color: #008080\">   5</span> │ <span style=\"color: #008000; text-decoration-color: #008000\">▅▅ ▇▆▇</span> │  │\n",
       "│ │ <span style=\"color: #af87ff; text-decoration-color: #af87ff\">CGPA                    </span> │ <span style=\"color: #008080; text-decoration-color: #008080\">  0</span> │ <span style=\"color: #008080; text-decoration-color: #008080\">    0</span> │ <span style=\"color: #008080; text-decoration-color: #008080\">  7.655</span> │ <span style=\"color: #008080; text-decoration-color: #008080\">  1.456</span> │ <span style=\"color: #008080; text-decoration-color: #008080\"> 5.03</span> │ <span style=\"color: #008080; text-decoration-color: #008080\"> 6.28</span> │ <span style=\"color: #008080; text-decoration-color: #008080\"> 7.79</span> │ <span style=\"color: #008080; text-decoration-color: #008080\"> 8.91</span> │ <span style=\"color: #008080; text-decoration-color: #008080\">  10</span> │ <span style=\"color: #008000; text-decoration-color: #008000\">▇▅▇▇▇▇</span> │  │\n",
       "│ │ <span style=\"color: #af87ff; text-decoration-color: #af87ff\">Study Satisfaction      </span> │ <span style=\"color: #008080; text-decoration-color: #008080\">  0</span> │ <span style=\"color: #008080; text-decoration-color: #008080\">    0</span> │ <span style=\"color: #008080; text-decoration-color: #008080\">  2.983</span> │ <span style=\"color: #008080; text-decoration-color: #008080\">   1.36</span> │ <span style=\"color: #008080; text-decoration-color: #008080\">    1</span> │ <span style=\"color: #008080; text-decoration-color: #008080\">    2</span> │ <span style=\"color: #008080; text-decoration-color: #008080\">    3</span> │ <span style=\"color: #008080; text-decoration-color: #008080\">    4</span> │ <span style=\"color: #008080; text-decoration-color: #008080\">   5</span> │ <span style=\"color: #008000; text-decoration-color: #008000\">▆▇ ▇▇▆</span> │  │\n",
       "│ │ <span style=\"color: #af87ff; text-decoration-color: #af87ff\">Sleep Duration          </span> │ <span style=\"color: #008080; text-decoration-color: #008080\">  0</span> │ <span style=\"color: #008080; text-decoration-color: #008080\">    0</span> │ <span style=\"color: #008080; text-decoration-color: #008080\">  1.394</span> │ <span style=\"color: #008080; text-decoration-color: #008080\">  1.129</span> │ <span style=\"color: #008080; text-decoration-color: #008080\">    0</span> │ <span style=\"color: #008080; text-decoration-color: #008080\">    0</span> │ <span style=\"color: #008080; text-decoration-color: #008080\">    1</span> │ <span style=\"color: #008080; text-decoration-color: #008080\">    2</span> │ <span style=\"color: #008080; text-decoration-color: #008080\">   3</span> │ <span style=\"color: #008000; text-decoration-color: #008000\">▇ ▆ ▇▆</span> │  │\n",
       "│ │ <span style=\"color: #af87ff; text-decoration-color: #af87ff\">Dietary Habits          </span> │ <span style=\"color: #008080; text-decoration-color: #008080\">  0</span> │ <span style=\"color: #008080; text-decoration-color: #008080\">    0</span> │ <span style=\"color: #008080; text-decoration-color: #008080\"> 0.8998</span> │ <span style=\"color: #008080; text-decoration-color: #008080\"> 0.8009</span> │ <span style=\"color: #008080; text-decoration-color: #008080\">    0</span> │ <span style=\"color: #008080; text-decoration-color: #008080\">    0</span> │ <span style=\"color: #008080; text-decoration-color: #008080\">    1</span> │ <span style=\"color: #008080; text-decoration-color: #008080\">    2</span> │ <span style=\"color: #008080; text-decoration-color: #008080\">   2</span> │ <span style=\"color: #008000; text-decoration-color: #008000\">▇  ▇ ▆</span> │  │\n",
       "│ │ <span style=\"color: #af87ff; text-decoration-color: #af87ff\">Have you ever had       </span> │ <span style=\"color: #008080; text-decoration-color: #008080\">  0</span> │ <span style=\"color: #008080; text-decoration-color: #008080\">    0</span> │ <span style=\"color: #008080; text-decoration-color: #008080\"> 0.6389</span> │ <span style=\"color: #008080; text-decoration-color: #008080\"> 0.4804</span> │ <span style=\"color: #008080; text-decoration-color: #008080\">    0</span> │ <span style=\"color: #008080; text-decoration-color: #008080\">    0</span> │ <span style=\"color: #008080; text-decoration-color: #008080\">    1</span> │ <span style=\"color: #008080; text-decoration-color: #008080\">    1</span> │ <span style=\"color: #008080; text-decoration-color: #008080\">   1</span> │ <span style=\"color: #008000; text-decoration-color: #008000\">▅    ▇</span> │  │\n",
       "│ │ <span style=\"color: #af87ff; text-decoration-color: #af87ff\">suicidal thoughts ?     </span> │     │       │         │         │       │       │       │       │      │        │  │\n",
       "│ │ <span style=\"color: #af87ff; text-decoration-color: #af87ff\">Work/Study Hours        </span> │ <span style=\"color: #008080; text-decoration-color: #008080\">  0</span> │ <span style=\"color: #008080; text-decoration-color: #008080\">    0</span> │ <span style=\"color: #008080; text-decoration-color: #008080\">   7.16</span> │ <span style=\"color: #008080; text-decoration-color: #008080\">  3.699</span> │ <span style=\"color: #008080; text-decoration-color: #008080\">    0</span> │ <span style=\"color: #008080; text-decoration-color: #008080\">    4</span> │ <span style=\"color: #008080; text-decoration-color: #008080\">    8</span> │ <span style=\"color: #008080; text-decoration-color: #008080\">   10</span> │ <span style=\"color: #008080; text-decoration-color: #008080\">  12</span> │ <span style=\"color: #008000; text-decoration-color: #008000\">▂▂▂▃▃▇</span> │  │\n",
       "│ │ <span style=\"color: #af87ff; text-decoration-color: #af87ff\">Financial Stress        </span> │ <span style=\"color: #008080; text-decoration-color: #008080\">  0</span> │ <span style=\"color: #008080; text-decoration-color: #008080\">    0</span> │ <span style=\"color: #008080; text-decoration-color: #008080\">  3.122</span> │ <span style=\"color: #008080; text-decoration-color: #008080\">  1.435</span> │ <span style=\"color: #008080; text-decoration-color: #008080\">    1</span> │ <span style=\"color: #008080; text-decoration-color: #008080\">    2</span> │ <span style=\"color: #008080; text-decoration-color: #008080\">    3</span> │ <span style=\"color: #008080; text-decoration-color: #008080\">    4</span> │ <span style=\"color: #008080; text-decoration-color: #008080\">   5</span> │ <span style=\"color: #008000; text-decoration-color: #008000\">▆▆ ▆▇▇</span> │  │\n",
       "│ │ <span style=\"color: #af87ff; text-decoration-color: #af87ff\">Family History of Mental</span> │ <span style=\"color: #008080; text-decoration-color: #008080\">  0</span> │ <span style=\"color: #008080; text-decoration-color: #008080\">    0</span> │ <span style=\"color: #008080; text-decoration-color: #008080\"> 0.4888</span> │ <span style=\"color: #008080; text-decoration-color: #008080\"> 0.4999</span> │ <span style=\"color: #008080; text-decoration-color: #008080\">    0</span> │ <span style=\"color: #008080; text-decoration-color: #008080\">    0</span> │ <span style=\"color: #008080; text-decoration-color: #008080\">    0</span> │ <span style=\"color: #008080; text-decoration-color: #008080\">    1</span> │ <span style=\"color: #008080; text-decoration-color: #008080\">   1</span> │ <span style=\"color: #008000; text-decoration-color: #008000\">▇    ▇</span> │  │\n",
       "│ │ <span style=\"color: #af87ff; text-decoration-color: #af87ff\">Illness                 </span> │     │       │         │         │       │       │       │       │      │        │  │\n",
       "│ └──────────────────────────┴─────┴───────┴─────────┴─────────┴───────┴───────┴───────┴───────┴──────┴────────┘  │\n",
       "│ <span style=\"font-style: italic\">                                                    string                                                    </span>  │\n",
       "│ ┏━━━━━━━━━━━━━━━━━━━━━━━━━━━┳━━━━━━━━━┳━━━━━━━━━━━━┳━━━━━━━━━━━━━━━━━━━━━━━━━━━━━━┳━━━━━━━━━━━━━━━━━━━━━━━━━━┓  │\n",
       "│ ┃<span style=\"font-weight: bold\"> column_name               </span>┃<span style=\"font-weight: bold\"> NA      </span>┃<span style=\"font-weight: bold\"> NA %       </span>┃<span style=\"font-weight: bold\"> words per row                </span>┃<span style=\"font-weight: bold\"> total words              </span>┃  │\n",
       "│ ┡━━━━━━━━━━━━━━━━━━━━━━━━━━━╇━━━━━━━━━╇━━━━━━━━━━━━╇━━━━━━━━━━━━━━━━━━━━━━━━━━━━━━╇━━━━━━━━━━━━━━━━━━━━━━━━━━┩  │\n",
       "│ │ <span style=\"color: #af87ff; text-decoration-color: #af87ff\">City                     </span> │ <span style=\"color: #008080; text-decoration-color: #008080\">      0</span> │ <span style=\"color: #008080; text-decoration-color: #008080\">         0</span> │ <span style=\"color: #008080; text-decoration-color: #008080\">                           1</span> │ <span style=\"color: #008080; text-decoration-color: #008080\">                    5577</span> │  │\n",
       "│ │ <span style=\"color: #af87ff; text-decoration-color: #af87ff\">Degree                   </span> │ <span style=\"color: #008080; text-decoration-color: #008080\">      0</span> │ <span style=\"color: #008080; text-decoration-color: #008080\">         0</span> │ <span style=\"color: #008080; text-decoration-color: #008080\">                         1.2</span> │ <span style=\"color: #008080; text-decoration-color: #008080\">                    6833</span> │  │\n",
       "│ └───────────────────────────┴─────────┴────────────┴──────────────────────────────┴──────────────────────────┘  │\n",
       "╰────────────────────────────────────────────────────── End ──────────────────────────────────────────────────────╯\n",
       "</pre>\n"
      ],
      "text/plain": [
       "╭──────────────────────────────────────────────── skimpy summary ─────────────────────────────────────────────────╮\n",
       "│ \u001b[3m         Data Summary         \u001b[0m \u001b[3m      Data Types       \u001b[0m                                                          │\n",
       "│ ┏━━━━━━━━━━━━━━━━━━━┳━━━━━━━━┓ ┏━━━━━━━━━━━━━┳━━━━━━━┓                                                          │\n",
       "│ ┃\u001b[1;36m \u001b[0m\u001b[1;36mdataframe        \u001b[0m\u001b[1;36m \u001b[0m┃\u001b[1;36m \u001b[0m\u001b[1;36mValues\u001b[0m\u001b[1;36m \u001b[0m┃ ┃\u001b[1;36m \u001b[0m\u001b[1;36mColumn Type\u001b[0m\u001b[1;36m \u001b[0m┃\u001b[1;36m \u001b[0m\u001b[1;36mCount\u001b[0m\u001b[1;36m \u001b[0m┃                                                          │\n",
       "│ ┡━━━━━━━━━━━━━━━━━━━╇━━━━━━━━┩ ┡━━━━━━━━━━━━━╇━━━━━━━┩                                                          │\n",
       "│ │ Number of rows    │ 5577   │ │ float64     │ 6     │                                                          │\n",
       "│ │ Number of columns │ 13     │ │ int64       │ 5     │                                                          │\n",
       "│ └───────────────────┴────────┘ │ string      │ 2     │                                                          │\n",
       "│                                └─────────────┴───────┘                                                          │\n",
       "│ \u001b[3m                                                    number                                                    \u001b[0m  │\n",
       "│ ┏━━━━━━━━━━━━━━━━━━━━━━━━━━┳━━━━━┳━━━━━━━┳━━━━━━━━━┳━━━━━━━━━┳━━━━━━━┳━━━━━━━┳━━━━━━━┳━━━━━━━┳━━━━━━┳━━━━━━━━┓  │\n",
       "│ ┃\u001b[1m \u001b[0m\u001b[1mcolumn_name             \u001b[0m\u001b[1m \u001b[0m┃\u001b[1m \u001b[0m\u001b[1mNA \u001b[0m\u001b[1m \u001b[0m┃\u001b[1m \u001b[0m\u001b[1mNA % \u001b[0m\u001b[1m \u001b[0m┃\u001b[1m \u001b[0m\u001b[1mmean   \u001b[0m\u001b[1m \u001b[0m┃\u001b[1m \u001b[0m\u001b[1msd     \u001b[0m\u001b[1m \u001b[0m┃\u001b[1m \u001b[0m\u001b[1mp0   \u001b[0m\u001b[1m \u001b[0m┃\u001b[1m \u001b[0m\u001b[1mp25  \u001b[0m\u001b[1m \u001b[0m┃\u001b[1m \u001b[0m\u001b[1mp50  \u001b[0m\u001b[1m \u001b[0m┃\u001b[1m \u001b[0m\u001b[1mp75  \u001b[0m\u001b[1m \u001b[0m┃\u001b[1m \u001b[0m\u001b[1mp100\u001b[0m\u001b[1m \u001b[0m┃\u001b[1m \u001b[0m\u001b[1mhist  \u001b[0m\u001b[1m \u001b[0m┃  │\n",
       "│ ┡━━━━━━━━━━━━━━━━━━━━━━━━━━╇━━━━━╇━━━━━━━╇━━━━━━━━━╇━━━━━━━━━╇━━━━━━━╇━━━━━━━╇━━━━━━━╇━━━━━━━╇━━━━━━╇━━━━━━━━┩  │\n",
       "│ │ \u001b[38;5;141mGender                  \u001b[0m │ \u001b[36m  0\u001b[0m │ \u001b[36m    0\u001b[0m │ \u001b[36m 0.4547\u001b[0m │ \u001b[36m  0.498\u001b[0m │ \u001b[36m    0\u001b[0m │ \u001b[36m    0\u001b[0m │ \u001b[36m    0\u001b[0m │ \u001b[36m    1\u001b[0m │ \u001b[36m   1\u001b[0m │ \u001b[32m▇    ▇\u001b[0m │  │\n",
       "│ │ \u001b[38;5;141mAge                     \u001b[0m │ \u001b[36m  0\u001b[0m │ \u001b[36m    0\u001b[0m │ \u001b[36m   25.8\u001b[0m │ \u001b[36m  4.918\u001b[0m │ \u001b[36m   18\u001b[0m │ \u001b[36m   21\u001b[0m │ \u001b[36m   26\u001b[0m │ \u001b[36m   30\u001b[0m │ \u001b[36m  58\u001b[0m │ \u001b[32m ▇▇▃  \u001b[0m │  │\n",
       "│ │ \u001b[38;5;141mAcademic Pressure       \u001b[0m │ \u001b[36m  0\u001b[0m │ \u001b[36m    0\u001b[0m │ \u001b[36m  3.133\u001b[0m │ \u001b[36m  1.383\u001b[0m │ \u001b[36m    1\u001b[0m │ \u001b[36m    2\u001b[0m │ \u001b[36m    3\u001b[0m │ \u001b[36m    4\u001b[0m │ \u001b[36m   5\u001b[0m │ \u001b[32m▅▅ ▇▆▇\u001b[0m │  │\n",
       "│ │ \u001b[38;5;141mCGPA                    \u001b[0m │ \u001b[36m  0\u001b[0m │ \u001b[36m    0\u001b[0m │ \u001b[36m  7.655\u001b[0m │ \u001b[36m  1.456\u001b[0m │ \u001b[36m 5.03\u001b[0m │ \u001b[36m 6.28\u001b[0m │ \u001b[36m 7.79\u001b[0m │ \u001b[36m 8.91\u001b[0m │ \u001b[36m  10\u001b[0m │ \u001b[32m▇▅▇▇▇▇\u001b[0m │  │\n",
       "│ │ \u001b[38;5;141mStudy Satisfaction      \u001b[0m │ \u001b[36m  0\u001b[0m │ \u001b[36m    0\u001b[0m │ \u001b[36m  2.983\u001b[0m │ \u001b[36m   1.36\u001b[0m │ \u001b[36m    1\u001b[0m │ \u001b[36m    2\u001b[0m │ \u001b[36m    3\u001b[0m │ \u001b[36m    4\u001b[0m │ \u001b[36m   5\u001b[0m │ \u001b[32m▆▇ ▇▇▆\u001b[0m │  │\n",
       "│ │ \u001b[38;5;141mSleep Duration          \u001b[0m │ \u001b[36m  0\u001b[0m │ \u001b[36m    0\u001b[0m │ \u001b[36m  1.394\u001b[0m │ \u001b[36m  1.129\u001b[0m │ \u001b[36m    0\u001b[0m │ \u001b[36m    0\u001b[0m │ \u001b[36m    1\u001b[0m │ \u001b[36m    2\u001b[0m │ \u001b[36m   3\u001b[0m │ \u001b[32m▇ ▆ ▇▆\u001b[0m │  │\n",
       "│ │ \u001b[38;5;141mDietary Habits          \u001b[0m │ \u001b[36m  0\u001b[0m │ \u001b[36m    0\u001b[0m │ \u001b[36m 0.8998\u001b[0m │ \u001b[36m 0.8009\u001b[0m │ \u001b[36m    0\u001b[0m │ \u001b[36m    0\u001b[0m │ \u001b[36m    1\u001b[0m │ \u001b[36m    2\u001b[0m │ \u001b[36m   2\u001b[0m │ \u001b[32m▇  ▇ ▆\u001b[0m │  │\n",
       "│ │ \u001b[38;5;141mHave you ever had       \u001b[0m │ \u001b[36m  0\u001b[0m │ \u001b[36m    0\u001b[0m │ \u001b[36m 0.6389\u001b[0m │ \u001b[36m 0.4804\u001b[0m │ \u001b[36m    0\u001b[0m │ \u001b[36m    0\u001b[0m │ \u001b[36m    1\u001b[0m │ \u001b[36m    1\u001b[0m │ \u001b[36m   1\u001b[0m │ \u001b[32m▅    ▇\u001b[0m │  │\n",
       "│ │ \u001b[38;5;141msuicidal thoughts ?     \u001b[0m │     │       │         │         │       │       │       │       │      │        │  │\n",
       "│ │ \u001b[38;5;141mWork/Study Hours        \u001b[0m │ \u001b[36m  0\u001b[0m │ \u001b[36m    0\u001b[0m │ \u001b[36m   7.16\u001b[0m │ \u001b[36m  3.699\u001b[0m │ \u001b[36m    0\u001b[0m │ \u001b[36m    4\u001b[0m │ \u001b[36m    8\u001b[0m │ \u001b[36m   10\u001b[0m │ \u001b[36m  12\u001b[0m │ \u001b[32m▂▂▂▃▃▇\u001b[0m │  │\n",
       "│ │ \u001b[38;5;141mFinancial Stress        \u001b[0m │ \u001b[36m  0\u001b[0m │ \u001b[36m    0\u001b[0m │ \u001b[36m  3.122\u001b[0m │ \u001b[36m  1.435\u001b[0m │ \u001b[36m    1\u001b[0m │ \u001b[36m    2\u001b[0m │ \u001b[36m    3\u001b[0m │ \u001b[36m    4\u001b[0m │ \u001b[36m   5\u001b[0m │ \u001b[32m▆▆ ▆▇▇\u001b[0m │  │\n",
       "│ │ \u001b[38;5;141mFamily History of Mental\u001b[0m │ \u001b[36m  0\u001b[0m │ \u001b[36m    0\u001b[0m │ \u001b[36m 0.4888\u001b[0m │ \u001b[36m 0.4999\u001b[0m │ \u001b[36m    0\u001b[0m │ \u001b[36m    0\u001b[0m │ \u001b[36m    0\u001b[0m │ \u001b[36m    1\u001b[0m │ \u001b[36m   1\u001b[0m │ \u001b[32m▇    ▇\u001b[0m │  │\n",
       "│ │ \u001b[38;5;141mIllness                 \u001b[0m │     │       │         │         │       │       │       │       │      │        │  │\n",
       "│ └──────────────────────────┴─────┴───────┴─────────┴─────────┴───────┴───────┴───────┴───────┴──────┴────────┘  │\n",
       "│ \u001b[3m                                                    string                                                    \u001b[0m  │\n",
       "│ ┏━━━━━━━━━━━━━━━━━━━━━━━━━━━┳━━━━━━━━━┳━━━━━━━━━━━━┳━━━━━━━━━━━━━━━━━━━━━━━━━━━━━━┳━━━━━━━━━━━━━━━━━━━━━━━━━━┓  │\n",
       "│ ┃\u001b[1m \u001b[0m\u001b[1mcolumn_name              \u001b[0m\u001b[1m \u001b[0m┃\u001b[1m \u001b[0m\u001b[1mNA     \u001b[0m\u001b[1m \u001b[0m┃\u001b[1m \u001b[0m\u001b[1mNA %      \u001b[0m\u001b[1m \u001b[0m┃\u001b[1m \u001b[0m\u001b[1mwords per row               \u001b[0m\u001b[1m \u001b[0m┃\u001b[1m \u001b[0m\u001b[1mtotal words             \u001b[0m\u001b[1m \u001b[0m┃  │\n",
       "│ ┡━━━━━━━━━━━━━━━━━━━━━━━━━━━╇━━━━━━━━━╇━━━━━━━━━━━━╇━━━━━━━━━━━━━━━━━━━━━━━━━━━━━━╇━━━━━━━━━━━━━━━━━━━━━━━━━━┩  │\n",
       "│ │ \u001b[38;5;141mCity                     \u001b[0m │ \u001b[36m      0\u001b[0m │ \u001b[36m         0\u001b[0m │ \u001b[36m                           1\u001b[0m │ \u001b[36m                    5577\u001b[0m │  │\n",
       "│ │ \u001b[38;5;141mDegree                   \u001b[0m │ \u001b[36m      0\u001b[0m │ \u001b[36m         0\u001b[0m │ \u001b[36m                         1.2\u001b[0m │ \u001b[36m                    6833\u001b[0m │  │\n",
       "│ └───────────────────────────┴─────────┴────────────┴──────────────────────────────┴──────────────────────────┘  │\n",
       "╰────────────────────────────────────────────────────── End ──────────────────────────────────────────────────────╯\n"
      ]
     },
     "metadata": {},
     "output_type": "display_data"
    }
   ],
   "source": [
    "skim(X_test)"
   ]
  },
  {
   "cell_type": "code",
   "execution_count": 11,
   "metadata": {},
   "outputs": [],
   "source": [
    "column_transformer = ColumnTransformer([\n",
    "    ('encoder', OneHotEncoder(), X_train.select_dtypes(include='object').columns)\n",
    "], remainder='passthrough', sparse_threshold=0)\n"
   ]
  },
  {
   "cell_type": "code",
   "execution_count": 12,
   "metadata": {},
   "outputs": [],
   "source": [
    "def get_feature_importance(X: pd.DataFrame,\n",
    "                           y: pd.Series,\n",
    "                           model: any,\n",
    "                           random_state: int = 42) -> dict:\n",
    "\n",
    "    np.random.seed(random_state)\n",
    "    X = X.copy()\n",
    "    random_feature = np.random.rand(X.shape[0])\n",
    "\n",
    "    X['random_feature'] = random_feature\n",
    "\n",
    "    model.fit(X, y)\n",
    "\n",
    "    feature_importance = model.feature_importances_\n",
    "\n",
    "    return {col: importance for col, importance in zip(X.columns, feature_importance)}"
   ]
  },
  {
   "cell_type": "code",
   "execution_count": 13,
   "metadata": {},
   "outputs": [],
   "source": [
    "def plot_feature_importance(X: pd.DataFrame,\n",
    "                            y: pd.Series,\n",
    "                            model: any,\n",
    "                            random_state: int = 42) -> None:\n",
    "\n",
    "    feature_importance = get_feature_importance(X, y, model, random_state)\n",
    "\n",
    "    feature_importance = dict(sorted(feature_importance.items(), key=lambda x: x[1], reverse=True))\n",
    "\n",
    "    feature_names = list(feature_importance.keys())\n",
    "    importances = list(feature_importance.values())\n",
    "\n",
    "    random_feature_index = feature_names.index('random_feature')\n",
    "\n",
    "    colors = ['blue' if i == random_feature_index else 'gray' for i in range(len(feature_names))]\n",
    "\n",
    "    plt.bar(feature_names, importances, color=colors)\n",
    "    plt.xlabel('Features')\n",
    "    plt.ylabel('Importance')\n",
    "    plt.title(f'{model.__class__.__name__} Feature Importance')\n",
    "    plt.xticks([])\n",
    "    plt.show()"
   ]
  },
  {
   "cell_type": "code",
   "execution_count": 14,
   "metadata": {},
   "outputs": [],
   "source": [
    "transformed_data = column_transformer.fit_transform(X_train)\n",
    "column_names = column_transformer.get_feature_names_out()\n",
    "df_transformed = pd.DataFrame(transformed_data, columns=column_names)"
   ]
  },
  {
   "cell_type": "code",
   "execution_count": 15,
   "metadata": {},
   "outputs": [
    {
     "data": {
      "image/png": "[encoded data removed]",
      "text/plain": [
       "<Figure size 640x480 with 1 Axes>"
      ]
     },
     "metadata": {},
     "output_type": "display_data"
    }
   ],
   "source": [
    "plot_feature_importance(df_transformed, y_train, RandomForestClassifier(random_state=42))"
   ]
  },
  {
   "cell_type": "code",
   "execution_count": 16,
   "metadata": {},
   "outputs": [
    {
     "data": {
      "image/png": "[encoded data removed]",
      "text/plain": [
       "<Figure size 640x480 with 1 Axes>"
      ]
     },
     "metadata": {},
     "output_type": "display_data"
    }
   ],
   "source": [
    "plot_feature_importance(df_transformed, y_train, XGBClassifier(random_state=42))"
   ]
  },
  {
   "cell_type": "code",
   "execution_count": 17,
   "metadata": {},
   "outputs": [
    {
     "name": "stdout",
     "output_type": "stream",
     "text": [
      "[LightGBM] [Warning] Found whitespace in feature_names, replace with underlines\n",
      "[LightGBM] [Info] Number of positive: 13042, number of negative: 9263\n",
      "[LightGBM] [Info] Auto-choosing col-wise multi-threading, the overhead of testing was 0.000711 seconds.\n",
      "You can set `force_col_wise=true` to remove the overhead.\n",
      "[LightGBM] [Info] Total Bins 678\n",
      "[LightGBM] [Info] Number of data points in the train set: 22305, number of used features: 69\n",
      "[LightGBM] [Info] [binary:BoostFromScore]: pavg=0.584712 -> initscore=0.342147\n",
      "[LightGBM] [Info] Start training from score 0.342147\n"
     ]
    },
    {
     "data": {
      "image/png": "[encoded data removed]",
      "text/plain": [
       "<Figure size 640x480 with 1 Axes>"
      ]
     },
     "metadata": {},
     "output_type": "display_data"
    }
   ],
   "source": [
    "plot_feature_importance(df_transformed, y_train, LGBMClassifier(random_state=42))"
   ]
  },
  {
   "cell_type": "code",
   "execution_count": 18,
   "metadata": {},
   "outputs": [],
   "source": [
    "def plot_learning_curves(X: pd.DataFrame,\n",
    "                         y: pd.Series) -> None:\n",
    "    models = {\n",
    "        'Random Forest': RandomForestClassifier(),\n",
    "        'XGBoost': XGBClassifier(),\n",
    "        'Logistic Regression': make_pipeline(StandardScaler(), LogisticRegression()),\n",
    "        'SVM (RBF Kernel)': make_pipeline(StandardScaler(), SVC(kernel='rbf'))\n",
    "    }\n",
    "\n",
    "    column_transformer = ColumnTransformer([\n",
    "        ('encoder', OneHotEncoder(drop='first', max_categories=10, handle_unknown=\"ignore\"), X.select_dtypes(include='object').columns)\n",
    "    ], remainder='passthrough', sparse_threshold=0)\n",
    "\n",
    "    pipelines = {\n",
    "        'Random Forest': make_pipeline(column_transformer, models['Random Forest']),\n",
    "        'XGBoost': make_pipeline(column_transformer, models['XGBoost']),\n",
    "        'Logistic Regression': make_pipeline(column_transformer, models['Logistic Regression']),\n",
    "        'SVM (RBF Kernel)': make_pipeline(column_transformer, models['SVM (RBF Kernel)'])\n",
    "    }\n",
    "\n",
    "    for model_name, model in tqdm(pipelines.items(), desc='Computing Learning Curves'):\n",
    "        train_sizes, train_scores, val_scores = learning_curve(model, X, y, cv=3, scoring='accuracy', train_sizes=np.linspace(0.1, 1.0, 10), n_jobs=-1)\n",
    "\n",
    "        train_scores_mean = np.mean(train_scores, axis=1)\n",
    "        train_scores_std = np.std(train_scores, axis=1)\n",
    "        val_scores_mean = np.mean(val_scores, axis=1)\n",
    "        val_scores_std = np.std(val_scores, axis=1)\n",
    "\n",
    "        plt.figure()\n",
    "        plt.title(f'Learning Curve - {model_name}')\n",
    "        plt.xlabel(\"Training size\")\n",
    "        plt.ylabel(\"Accuracy\")\n",
    "        plt.grid()\n",
    "\n",
    "        plt.fill_between(train_sizes, train_scores_mean - train_scores_std, train_scores_mean + train_scores_std, alpha=0.1, color=\"r\")\n",
    "        plt.fill_between(train_sizes, val_scores_mean - val_scores_std, val_scores_mean + val_scores_std, alpha=0.1, color=\"g\")\n",
    "        plt.plot(train_sizes, train_scores_mean, 'o-', color=\"r\", label=\"Training Accuracy\")\n",
    "        plt.plot(train_sizes, val_scores_mean, 'o-', color=\"g\", label=\"Validation Accuracy\")\n",
    "\n",
    "        plt.legend(loc=\"best\")\n",
    "\n",
    "    plt.show()\n"
   ]
  },
  {
   "cell_type": "code",
   "execution_count": 19,
   "metadata": {},
   "outputs": [
    {
     "data": {
      "application/vnd.jupyter.widget-view+json": {
       "model_id": "08f8d0b8212c421bb6f660a758ae9035",
       "version_major": 2,
       "version_minor": 0
      },
      "text/plain": [
       "Computing Learning Curves:   0%|          | 0/4 [00:00<?, ?it/s]"
      ]
     },
     "metadata": {},
     "output_type": "display_data"
    },
    {
     "name": "stderr",
     "output_type": "stream",
     "text": [
      "/opt/anaconda3/envs/backup/lib/python3.11/site-packages/sklearn/preprocessing/_encoders.py:242: UserWarning: Found unknown categories in columns [0, 1] during transform. These unknown categories will be encoded as all zeros\n",
      "  warnings.warn(\n",
      "/opt/anaconda3/envs/backup/lib/python3.11/site-packages/sklearn/preprocessing/_encoders.py:242: UserWarning: Found unknown categories in columns [0, 1] during transform. These unknown categories will be encoded as all zeros\n",
      "  warnings.warn(\n",
      "/opt/anaconda3/envs/backup/lib/python3.11/site-packages/sklearn/preprocessing/_encoders.py:242: UserWarning: Found unknown categories in columns [0, 1] during transform. These unknown categories will be encoded as all zeros\n",
      "  warnings.warn(\n",
      "/opt/anaconda3/envs/backup/lib/python3.11/site-packages/sklearn/preprocessing/_encoders.py:242: UserWarning: Found unknown categories in columns [0, 1] during transform. These unknown categories will be encoded as all zeros\n",
      "  warnings.warn(\n",
      "/opt/anaconda3/envs/backup/lib/python3.11/site-packages/sklearn/preprocessing/_encoders.py:242: UserWarning: Found unknown categories in columns [0, 1] during transform. These unknown categories will be encoded as all zeros\n",
      "  warnings.warn(\n",
      "/opt/anaconda3/envs/backup/lib/python3.11/site-packages/sklearn/preprocessing/_encoders.py:242: UserWarning: Found unknown categories in columns [0, 1] during transform. These unknown categories will be encoded as all zeros\n",
      "  warnings.warn(\n",
      "/opt/anaconda3/envs/backup/lib/python3.11/site-packages/sklearn/preprocessing/_encoders.py:242: UserWarning: Found unknown categories in columns [0, 1] during transform. These unknown categories will be encoded as all zeros\n",
      "  warnings.warn(\n",
      "/opt/anaconda3/envs/backup/lib/python3.11/site-packages/sklearn/preprocessing/_encoders.py:242: UserWarning: Found unknown categories in columns [0, 1] during transform. These unknown categories will be encoded as all zeros\n",
      "  warnings.warn(\n",
      "/opt/anaconda3/envs/backup/lib/python3.11/site-packages/sklearn/preprocessing/_encoders.py:242: UserWarning: Found unknown categories in columns [0, 1] during transform. These unknown categories will be encoded as all zeros\n",
      "  warnings.warn(\n",
      "/opt/anaconda3/envs/backup/lib/python3.11/site-packages/sklearn/preprocessing/_encoders.py:242: UserWarning: Found unknown categories in columns [0, 1] during transform. These unknown categories will be encoded as all zeros\n",
      "  warnings.warn(\n",
      "/opt/anaconda3/envs/backup/lib/python3.11/site-packages/sklearn/preprocessing/_encoders.py:242: UserWarning: Found unknown categories in columns [0, 1] during transform. These unknown categories will be encoded as all zeros\n",
      "  warnings.warn(\n",
      "/opt/anaconda3/envs/backup/lib/python3.11/site-packages/sklearn/preprocessing/_encoders.py:242: UserWarning: Found unknown categories in columns [0, 1] during transform. These unknown categories will be encoded as all zeros\n",
      "  warnings.warn(\n",
      "/opt/anaconda3/envs/backup/lib/python3.11/site-packages/sklearn/preprocessing/_encoders.py:242: UserWarning: Found unknown categories in columns [0, 1] during transform. These unknown categories will be encoded as all zeros\n",
      "  warnings.warn(\n",
      "/opt/anaconda3/envs/backup/lib/python3.11/site-packages/sklearn/preprocessing/_encoders.py:242: UserWarning: Found unknown categories in columns [0, 1] during transform. These unknown categories will be encoded as all zeros\n",
      "  warnings.warn(\n",
      "/opt/anaconda3/envs/backup/lib/python3.11/site-packages/sklearn/preprocessing/_encoders.py:242: UserWarning: Found unknown categories in columns [0, 1] during transform. These unknown categories will be encoded as all zeros\n",
      "  warnings.warn(\n",
      "/opt/anaconda3/envs/backup/lib/python3.11/site-packages/sklearn/preprocessing/_encoders.py:242: UserWarning: Found unknown categories in columns [0, 1] during transform. These unknown categories will be encoded as all zeros\n",
      "  warnings.warn(\n",
      "/opt/anaconda3/envs/backup/lib/python3.11/site-packages/sklearn/preprocessing/_encoders.py:242: UserWarning: Found unknown categories in columns [0, 1] during transform. These unknown categories will be encoded as all zeros\n",
      "  warnings.warn(\n",
      "/opt/anaconda3/envs/backup/lib/python3.11/site-packages/sklearn/preprocessing/_encoders.py:242: UserWarning: Found unknown categories in columns [0, 1] during transform. These unknown categories will be encoded as all zeros\n",
      "  warnings.warn(\n",
      "/opt/anaconda3/envs/backup/lib/python3.11/site-packages/sklearn/preprocessing/_encoders.py:242: UserWarning: Found unknown categories in columns [0, 1] during transform. These unknown categories will be encoded as all zeros\n",
      "  warnings.warn(\n",
      "/opt/anaconda3/envs/backup/lib/python3.11/site-packages/sklearn/preprocessing/_encoders.py:242: UserWarning: Found unknown categories in columns [0, 1] during transform. These unknown categories will be encoded as all zeros\n",
      "  warnings.warn(\n",
      "/opt/anaconda3/envs/backup/lib/python3.11/site-packages/sklearn/preprocessing/_encoders.py:242: UserWarning: Found unknown categories in columns [0, 1] during transform. These unknown categories will be encoded as all zeros\n",
      "  warnings.warn(\n",
      "/opt/anaconda3/envs/backup/lib/python3.11/site-packages/sklearn/preprocessing/_encoders.py:242: UserWarning: Found unknown categories in columns [0, 1] during transform. These unknown categories will be encoded as all zeros\n",
      "  warnings.warn(\n",
      "/opt/anaconda3/envs/backup/lib/python3.11/site-packages/sklearn/preprocessing/_encoders.py:242: UserWarning: Found unknown categories in columns [0, 1] during transform. These unknown categories will be encoded as all zeros\n",
      "  warnings.warn(\n",
      "/opt/anaconda3/envs/backup/lib/python3.11/site-packages/sklearn/preprocessing/_encoders.py:242: UserWarning: Found unknown categories in columns [0, 1] during transform. These unknown categories will be encoded as all zeros\n",
      "  warnings.warn(\n",
      "/opt/anaconda3/envs/backup/lib/python3.11/site-packages/sklearn/preprocessing/_encoders.py:242: UserWarning: Found unknown categories in columns [0, 1] during transform. These unknown categories will be encoded as all zeros\n",
      "  warnings.warn(\n",
      "/opt/anaconda3/envs/backup/lib/python3.11/site-packages/sklearn/preprocessing/_encoders.py:242: UserWarning: Found unknown categories in columns [0, 1] during transform. These unknown categories will be encoded as all zeros\n",
      "  warnings.warn(\n",
      "/opt/anaconda3/envs/backup/lib/python3.11/site-packages/sklearn/preprocessing/_encoders.py:242: UserWarning: Found unknown categories in columns [0, 1] during transform. These unknown categories will be encoded as all zeros\n",
      "  warnings.warn(\n",
      "/opt/anaconda3/envs/backup/lib/python3.11/site-packages/sklearn/preprocessing/_encoders.py:242: UserWarning: Found unknown categories in columns [0, 1] during transform. These unknown categories will be encoded as all zeros\n",
      "  warnings.warn(\n",
      "/opt/anaconda3/envs/backup/lib/python3.11/site-packages/sklearn/preprocessing/_encoders.py:242: UserWarning: Found unknown categories in columns [0, 1] during transform. These unknown categories will be encoded as all zeros\n",
      "  warnings.warn(\n",
      "/opt/anaconda3/envs/backup/lib/python3.11/site-packages/sklearn/preprocessing/_encoders.py:242: UserWarning: Found unknown categories in columns [0, 1] during transform. These unknown categories will be encoded as all zeros\n",
      "  warnings.warn(\n",
      "/opt/anaconda3/envs/backup/lib/python3.11/site-packages/sklearn/preprocessing/_encoders.py:242: UserWarning: Found unknown categories in columns [0, 1] during transform. These unknown categories will be encoded as all zeros\n",
      "  warnings.warn(\n",
      "/opt/anaconda3/envs/backup/lib/python3.11/site-packages/sklearn/preprocessing/_encoders.py:242: UserWarning: Found unknown categories in columns [0, 1] during transform. These unknown categories will be encoded as all zeros\n",
      "  warnings.warn(\n",
      "/opt/anaconda3/envs/backup/lib/python3.11/site-packages/sklearn/preprocessing/_encoders.py:242: UserWarning: Found unknown categories in columns [0, 1] during transform. These unknown categories will be encoded as all zeros\n",
      "  warnings.warn(\n",
      "/opt/anaconda3/envs/backup/lib/python3.11/site-packages/sklearn/preprocessing/_encoders.py:242: UserWarning: Found unknown categories in columns [0, 1] during transform. These unknown categories will be encoded as all zeros\n",
      "  warnings.warn(\n",
      "/opt/anaconda3/envs/backup/lib/python3.11/site-packages/sklearn/preprocessing/_encoders.py:242: UserWarning: Found unknown categories in columns [0, 1] during transform. These unknown categories will be encoded as all zeros\n",
      "  warnings.warn(\n",
      "/opt/anaconda3/envs/backup/lib/python3.11/site-packages/sklearn/preprocessing/_encoders.py:242: UserWarning: Found unknown categories in columns [0, 1] during transform. These unknown categories will be encoded as all zeros\n",
      "  warnings.warn(\n",
      "/opt/anaconda3/envs/backup/lib/python3.11/site-packages/sklearn/preprocessing/_encoders.py:242: UserWarning: Found unknown categories in columns [0, 1] during transform. These unknown categories will be encoded as all zeros\n",
      "  warnings.warn(\n",
      "/opt/anaconda3/envs/backup/lib/python3.11/site-packages/sklearn/preprocessing/_encoders.py:242: UserWarning: Found unknown categories in columns [0, 1] during transform. These unknown categories will be encoded as all zeros\n",
      "  warnings.warn(\n",
      "/opt/anaconda3/envs/backup/lib/python3.11/site-packages/sklearn/preprocessing/_encoders.py:242: UserWarning: Found unknown categories in columns [0, 1] during transform. These unknown categories will be encoded as all zeros\n",
      "  warnings.warn(\n",
      "/opt/anaconda3/envs/backup/lib/python3.11/site-packages/sklearn/preprocessing/_encoders.py:242: UserWarning: Found unknown categories in columns [0, 1] during transform. These unknown categories will be encoded as all zeros\n",
      "  warnings.warn(\n",
      "/opt/anaconda3/envs/backup/lib/python3.11/site-packages/sklearn/preprocessing/_encoders.py:242: UserWarning: Found unknown categories in columns [0, 1] during transform. These unknown categories will be encoded as all zeros\n",
      "  warnings.warn(\n",
      "/opt/anaconda3/envs/backup/lib/python3.11/site-packages/sklearn/preprocessing/_encoders.py:242: UserWarning: Found unknown categories in columns [0, 1] during transform. These unknown categories will be encoded as all zeros\n",
      "  warnings.warn(\n",
      "/opt/anaconda3/envs/backup/lib/python3.11/site-packages/sklearn/preprocessing/_encoders.py:242: UserWarning: Found unknown categories in columns [0, 1] during transform. These unknown categories will be encoded as all zeros\n",
      "  warnings.warn(\n",
      "/opt/anaconda3/envs/backup/lib/python3.11/site-packages/sklearn/preprocessing/_encoders.py:242: UserWarning: Found unknown categories in columns [0, 1] during transform. These unknown categories will be encoded as all zeros\n",
      "  warnings.warn(\n",
      "/opt/anaconda3/envs/backup/lib/python3.11/site-packages/sklearn/preprocessing/_encoders.py:242: UserWarning: Found unknown categories in columns [0, 1] during transform. These unknown categories will be encoded as all zeros\n",
      "  warnings.warn(\n",
      "/opt/anaconda3/envs/backup/lib/python3.11/site-packages/sklearn/preprocessing/_encoders.py:242: UserWarning: Found unknown categories in columns [0, 1] during transform. These unknown categories will be encoded as all zeros\n",
      "  warnings.warn(\n",
      "/opt/anaconda3/envs/backup/lib/python3.11/site-packages/sklearn/preprocessing/_encoders.py:242: UserWarning: Found unknown categories in columns [0, 1] during transform. These unknown categories will be encoded as all zeros\n",
      "  warnings.warn(\n",
      "/opt/anaconda3/envs/backup/lib/python3.11/site-packages/sklearn/preprocessing/_encoders.py:242: UserWarning: Found unknown categories in columns [0, 1] during transform. These unknown categories will be encoded as all zeros\n",
      "  warnings.warn(\n",
      "/opt/anaconda3/envs/backup/lib/python3.11/site-packages/sklearn/preprocessing/_encoders.py:242: UserWarning: Found unknown categories in columns [0, 1] during transform. These unknown categories will be encoded as all zeros\n",
      "  warnings.warn(\n",
      "/opt/anaconda3/envs/backup/lib/python3.11/site-packages/sklearn/preprocessing/_encoders.py:242: UserWarning: Found unknown categories in columns [0, 1] during transform. These unknown categories will be encoded as all zeros\n",
      "  warnings.warn(\n",
      "/opt/anaconda3/envs/backup/lib/python3.11/site-packages/sklearn/preprocessing/_encoders.py:242: UserWarning: Found unknown categories in columns [0, 1] during transform. These unknown categories will be encoded as all zeros\n",
      "  warnings.warn(\n",
      "/opt/anaconda3/envs/backup/lib/python3.11/site-packages/sklearn/preprocessing/_encoders.py:242: UserWarning: Found unknown categories in columns [0, 1] during transform. These unknown categories will be encoded as all zeros\n",
      "  warnings.warn(\n",
      "/opt/anaconda3/envs/backup/lib/python3.11/site-packages/sklearn/preprocessing/_encoders.py:242: UserWarning: Found unknown categories in columns [0, 1] during transform. These unknown categories will be encoded as all zeros\n",
      "  warnings.warn(\n",
      "/opt/anaconda3/envs/backup/lib/python3.11/site-packages/sklearn/preprocessing/_encoders.py:242: UserWarning: Found unknown categories in columns [0, 1] during transform. These unknown categories will be encoded as all zeros\n",
      "  warnings.warn(\n",
      "/opt/anaconda3/envs/backup/lib/python3.11/site-packages/sklearn/preprocessing/_encoders.py:242: UserWarning: Found unknown categories in columns [0, 1] during transform. These unknown categories will be encoded as all zeros\n",
      "  warnings.warn(\n",
      "/opt/anaconda3/envs/backup/lib/python3.11/site-packages/sklearn/preprocessing/_encoders.py:242: UserWarning: Found unknown categories in columns [0, 1] during transform. These unknown categories will be encoded as all zeros\n",
      "  warnings.warn(\n",
      "/opt/anaconda3/envs/backup/lib/python3.11/site-packages/sklearn/preprocessing/_encoders.py:242: UserWarning: Found unknown categories in columns [0, 1] during transform. These unknown categories will be encoded as all zeros\n",
      "  warnings.warn(\n",
      "/opt/anaconda3/envs/backup/lib/python3.11/site-packages/sklearn/preprocessing/_encoders.py:242: UserWarning: Found unknown categories in columns [0, 1] during transform. These unknown categories will be encoded as all zeros\n",
      "  warnings.warn(\n",
      "/opt/anaconda3/envs/backup/lib/python3.11/site-packages/sklearn/preprocessing/_encoders.py:242: UserWarning: Found unknown categories in columns [0, 1] during transform. These unknown categories will be encoded as all zeros\n",
      "  warnings.warn(\n",
      "/opt/anaconda3/envs/backup/lib/python3.11/site-packages/sklearn/preprocessing/_encoders.py:242: UserWarning: Found unknown categories in columns [0, 1] during transform. These unknown categories will be encoded as all zeros\n",
      "  warnings.warn(\n",
      "/opt/anaconda3/envs/backup/lib/python3.11/site-packages/sklearn/preprocessing/_encoders.py:242: UserWarning: Found unknown categories in columns [0, 1] during transform. These unknown categories will be encoded as all zeros\n",
      "  warnings.warn(\n",
      "/opt/anaconda3/envs/backup/lib/python3.11/site-packages/sklearn/preprocessing/_encoders.py:242: UserWarning: Found unknown categories in columns [0, 1] during transform. These unknown categories will be encoded as all zeros\n",
      "  warnings.warn(\n",
      "/opt/anaconda3/envs/backup/lib/python3.11/site-packages/sklearn/preprocessing/_encoders.py:242: UserWarning: Found unknown categories in columns [0, 1] during transform. These unknown categories will be encoded as all zeros\n",
      "  warnings.warn(\n",
      "/opt/anaconda3/envs/backup/lib/python3.11/site-packages/sklearn/preprocessing/_encoders.py:242: UserWarning: Found unknown categories in columns [0, 1] during transform. These unknown categories will be encoded as all zeros\n",
      "  warnings.warn(\n",
      "/opt/anaconda3/envs/backup/lib/python3.11/site-packages/sklearn/preprocessing/_encoders.py:242: UserWarning: Found unknown categories in columns [0, 1] during transform. These unknown categories will be encoded as all zeros\n",
      "  warnings.warn(\n",
      "/opt/anaconda3/envs/backup/lib/python3.11/site-packages/sklearn/preprocessing/_encoders.py:242: UserWarning: Found unknown categories in columns [0, 1] during transform. These unknown categories will be encoded as all zeros\n",
      "  warnings.warn(\n",
      "/opt/anaconda3/envs/backup/lib/python3.11/site-packages/sklearn/preprocessing/_encoders.py:242: UserWarning: Found unknown categories in columns [0, 1] during transform. These unknown categories will be encoded as all zeros\n",
      "  warnings.warn(\n",
      "/opt/anaconda3/envs/backup/lib/python3.11/site-packages/sklearn/preprocessing/_encoders.py:242: UserWarning: Found unknown categories in columns [0, 1] during transform. These unknown categories will be encoded as all zeros\n",
      "  warnings.warn(\n",
      "/opt/anaconda3/envs/backup/lib/python3.11/site-packages/sklearn/preprocessing/_encoders.py:242: UserWarning: Found unknown categories in columns [0, 1] during transform. These unknown categories will be encoded as all zeros\n",
      "  warnings.warn(\n",
      "/opt/anaconda3/envs/backup/lib/python3.11/site-packages/sklearn/preprocessing/_encoders.py:242: UserWarning: Found unknown categories in columns [0, 1] during transform. These unknown categories will be encoded as all zeros\n",
      "  warnings.warn(\n",
      "/opt/anaconda3/envs/backup/lib/python3.11/site-packages/sklearn/preprocessing/_encoders.py:242: UserWarning: Found unknown categories in columns [0, 1] during transform. These unknown categories will be encoded as all zeros\n",
      "  warnings.warn(\n",
      "/opt/anaconda3/envs/backup/lib/python3.11/site-packages/sklearn/preprocessing/_encoders.py:242: UserWarning: Found unknown categories in columns [0, 1] during transform. These unknown categories will be encoded as all zeros\n",
      "  warnings.warn(\n",
      "/opt/anaconda3/envs/backup/lib/python3.11/site-packages/sklearn/preprocessing/_encoders.py:242: UserWarning: Found unknown categories in columns [0, 1] during transform. These unknown categories will be encoded as all zeros\n",
      "  warnings.warn(\n",
      "/opt/anaconda3/envs/backup/lib/python3.11/site-packages/sklearn/preprocessing/_encoders.py:242: UserWarning: Found unknown categories in columns [0, 1] during transform. These unknown categories will be encoded as all zeros\n",
      "  warnings.warn(\n",
      "/opt/anaconda3/envs/backup/lib/python3.11/site-packages/sklearn/preprocessing/_encoders.py:242: UserWarning: Found unknown categories in columns [0, 1] during transform. These unknown categories will be encoded as all zeros\n",
      "  warnings.warn(\n",
      "/opt/anaconda3/envs/backup/lib/python3.11/site-packages/sklearn/preprocessing/_encoders.py:242: UserWarning: Found unknown categories in columns [0, 1] during transform. These unknown categories will be encoded as all zeros\n",
      "  warnings.warn(\n",
      "/opt/anaconda3/envs/backup/lib/python3.11/site-packages/sklearn/preprocessing/_encoders.py:242: UserWarning: Found unknown categories in columns [0, 1] during transform. These unknown categories will be encoded as all zeros\n",
      "  warnings.warn(\n",
      "/opt/anaconda3/envs/backup/lib/python3.11/site-packages/sklearn/preprocessing/_encoders.py:242: UserWarning: Found unknown categories in columns [0, 1] during transform. These unknown categories will be encoded as all zeros\n",
      "  warnings.warn(\n",
      "/opt/anaconda3/envs/backup/lib/python3.11/site-packages/sklearn/preprocessing/_encoders.py:242: UserWarning: Found unknown categories in columns [0, 1] during transform. These unknown categories will be encoded as all zeros\n",
      "  warnings.warn(\n",
      "/opt/anaconda3/envs/backup/lib/python3.11/site-packages/sklearn/preprocessing/_encoders.py:242: UserWarning: Found unknown categories in columns [0, 1] during transform. These unknown categories will be encoded as all zeros\n",
      "  warnings.warn(\n",
      "/opt/anaconda3/envs/backup/lib/python3.11/site-packages/sklearn/preprocessing/_encoders.py:242: UserWarning: Found unknown categories in columns [0, 1] during transform. These unknown categories will be encoded as all zeros\n",
      "  warnings.warn(\n",
      "/opt/anaconda3/envs/backup/lib/python3.11/site-packages/sklearn/preprocessing/_encoders.py:242: UserWarning: Found unknown categories in columns [0, 1] during transform. These unknown categories will be encoded as all zeros\n",
      "  warnings.warn(\n",
      "/opt/anaconda3/envs/backup/lib/python3.11/site-packages/sklearn/preprocessing/_encoders.py:242: UserWarning: Found unknown categories in columns [0, 1] during transform. These unknown categories will be encoded as all zeros\n",
      "  warnings.warn(\n",
      "/opt/anaconda3/envs/backup/lib/python3.11/site-packages/sklearn/preprocessing/_encoders.py:242: UserWarning: Found unknown categories in columns [0, 1] during transform. These unknown categories will be encoded as all zeros\n",
      "  warnings.warn(\n",
      "/opt/anaconda3/envs/backup/lib/python3.11/site-packages/sklearn/preprocessing/_encoders.py:242: UserWarning: Found unknown categories in columns [0, 1] during transform. These unknown categories will be encoded as all zeros\n",
      "  warnings.warn(\n",
      "/opt/anaconda3/envs/backup/lib/python3.11/site-packages/sklearn/preprocessing/_encoders.py:242: UserWarning: Found unknown categories in columns [0, 1] during transform. These unknown categories will be encoded as all zeros\n",
      "  warnings.warn(\n",
      "/opt/anaconda3/envs/backup/lib/python3.11/site-packages/sklearn/preprocessing/_encoders.py:242: UserWarning: Found unknown categories in columns [0, 1] during transform. These unknown categories will be encoded as all zeros\n",
      "  warnings.warn(\n",
      "/opt/anaconda3/envs/backup/lib/python3.11/site-packages/sklearn/preprocessing/_encoders.py:242: UserWarning: Found unknown categories in columns [0, 1] during transform. These unknown categories will be encoded as all zeros\n",
      "  warnings.warn(\n",
      "/opt/anaconda3/envs/backup/lib/python3.11/site-packages/sklearn/preprocessing/_encoders.py:242: UserWarning: Found unknown categories in columns [0, 1] during transform. These unknown categories will be encoded as all zeros\n",
      "  warnings.warn(\n",
      "/opt/anaconda3/envs/backup/lib/python3.11/site-packages/sklearn/preprocessing/_encoders.py:242: UserWarning: Found unknown categories in columns [0, 1] during transform. These unknown categories will be encoded as all zeros\n",
      "  warnings.warn(\n",
      "/opt/anaconda3/envs/backup/lib/python3.11/site-packages/sklearn/preprocessing/_encoders.py:242: UserWarning: Found unknown categories in columns [0, 1] during transform. These unknown categories will be encoded as all zeros\n",
      "  warnings.warn(\n",
      "/opt/anaconda3/envs/backup/lib/python3.11/site-packages/sklearn/preprocessing/_encoders.py:242: UserWarning: Found unknown categories in columns [0, 1] during transform. These unknown categories will be encoded as all zeros\n",
      "  warnings.warn(\n",
      "/opt/anaconda3/envs/backup/lib/python3.11/site-packages/sklearn/preprocessing/_encoders.py:242: UserWarning: Found unknown categories in columns [0, 1] during transform. These unknown categories will be encoded as all zeros\n",
      "  warnings.warn(\n",
      "/opt/anaconda3/envs/backup/lib/python3.11/site-packages/sklearn/preprocessing/_encoders.py:242: UserWarning: Found unknown categories in columns [0, 1] during transform. These unknown categories will be encoded as all zeros\n",
      "  warnings.warn(\n",
      "/opt/anaconda3/envs/backup/lib/python3.11/site-packages/sklearn/preprocessing/_encoders.py:242: UserWarning: Found unknown categories in columns [0, 1] during transform. These unknown categories will be encoded as all zeros\n",
      "  warnings.warn(\n",
      "/opt/anaconda3/envs/backup/lib/python3.11/site-packages/sklearn/preprocessing/_encoders.py:242: UserWarning: Found unknown categories in columns [0, 1] during transform. These unknown categories will be encoded as all zeros\n",
      "  warnings.warn(\n",
      "/opt/anaconda3/envs/backup/lib/python3.11/site-packages/sklearn/preprocessing/_encoders.py:242: UserWarning: Found unknown categories in columns [0, 1] during transform. These unknown categories will be encoded as all zeros\n",
      "  warnings.warn(\n",
      "/opt/anaconda3/envs/backup/lib/python3.11/site-packages/sklearn/preprocessing/_encoders.py:242: UserWarning: Found unknown categories in columns [0, 1] during transform. These unknown categories will be encoded as all zeros\n",
      "  warnings.warn(\n",
      "/opt/anaconda3/envs/backup/lib/python3.11/site-packages/sklearn/preprocessing/_encoders.py:242: UserWarning: Found unknown categories in columns [0, 1] during transform. These unknown categories will be encoded as all zeros\n",
      "  warnings.warn(\n",
      "/opt/anaconda3/envs/backup/lib/python3.11/site-packages/sklearn/preprocessing/_encoders.py:242: UserWarning: Found unknown categories in columns [0, 1] during transform. These unknown categories will be encoded as all zeros\n",
      "  warnings.warn(\n",
      "/opt/anaconda3/envs/backup/lib/python3.11/site-packages/sklearn/preprocessing/_encoders.py:242: UserWarning: Found unknown categories in columns [0, 1] during transform. These unknown categories will be encoded as all zeros\n",
      "  warnings.warn(\n",
      "/opt/anaconda3/envs/backup/lib/python3.11/site-packages/sklearn/preprocessing/_encoders.py:242: UserWarning: Found unknown categories in columns [0, 1] during transform. These unknown categories will be encoded as all zeros\n",
      "  warnings.warn(\n",
      "/opt/anaconda3/envs/backup/lib/python3.11/site-packages/sklearn/preprocessing/_encoders.py:242: UserWarning: Found unknown categories in columns [0, 1] during transform. These unknown categories will be encoded as all zeros\n",
      "  warnings.warn(\n",
      "/opt/anaconda3/envs/backup/lib/python3.11/site-packages/sklearn/preprocessing/_encoders.py:242: UserWarning: Found unknown categories in columns [0, 1] during transform. These unknown categories will be encoded as all zeros\n",
      "  warnings.warn(\n",
      "/opt/anaconda3/envs/backup/lib/python3.11/site-packages/sklearn/preprocessing/_encoders.py:242: UserWarning: Found unknown categories in columns [0, 1] during transform. These unknown categories will be encoded as all zeros\n",
      "  warnings.warn(\n",
      "/opt/anaconda3/envs/backup/lib/python3.11/site-packages/sklearn/preprocessing/_encoders.py:242: UserWarning: Found unknown categories in columns [0, 1] during transform. These unknown categories will be encoded as all zeros\n",
      "  warnings.warn(\n",
      "/opt/anaconda3/envs/backup/lib/python3.11/site-packages/sklearn/preprocessing/_encoders.py:242: UserWarning: Found unknown categories in columns [0, 1] during transform. These unknown categories will be encoded as all zeros\n",
      "  warnings.warn(\n",
      "/opt/anaconda3/envs/backup/lib/python3.11/site-packages/sklearn/preprocessing/_encoders.py:242: UserWarning: Found unknown categories in columns [0, 1] during transform. These unknown categories will be encoded as all zeros\n",
      "  warnings.warn(\n",
      "/opt/anaconda3/envs/backup/lib/python3.11/site-packages/sklearn/preprocessing/_encoders.py:242: UserWarning: Found unknown categories in columns [0, 1] during transform. These unknown categories will be encoded as all zeros\n",
      "  warnings.warn(\n",
      "/opt/anaconda3/envs/backup/lib/python3.11/site-packages/sklearn/preprocessing/_encoders.py:242: UserWarning: Found unknown categories in columns [0, 1] during transform. These unknown categories will be encoded as all zeros\n",
      "  warnings.warn(\n",
      "/opt/anaconda3/envs/backup/lib/python3.11/site-packages/sklearn/preprocessing/_encoders.py:242: UserWarning: Found unknown categories in columns [0, 1] during transform. These unknown categories will be encoded as all zeros\n",
      "  warnings.warn(\n",
      "/opt/anaconda3/envs/backup/lib/python3.11/site-packages/sklearn/preprocessing/_encoders.py:242: UserWarning: Found unknown categories in columns [0, 1] during transform. These unknown categories will be encoded as all zeros\n",
      "  warnings.warn(\n",
      "/opt/anaconda3/envs/backup/lib/python3.11/site-packages/sklearn/preprocessing/_encoders.py:242: UserWarning: Found unknown categories in columns [0, 1] during transform. These unknown categories will be encoded as all zeros\n",
      "  warnings.warn(\n",
      "/opt/anaconda3/envs/backup/lib/python3.11/site-packages/sklearn/preprocessing/_encoders.py:242: UserWarning: Found unknown categories in columns [0, 1] during transform. These unknown categories will be encoded as all zeros\n",
      "  warnings.warn(\n",
      "/opt/anaconda3/envs/backup/lib/python3.11/site-packages/sklearn/preprocessing/_encoders.py:242: UserWarning: Found unknown categories in columns [0, 1] during transform. These unknown categories will be encoded as all zeros\n",
      "  warnings.warn(\n",
      "/opt/anaconda3/envs/backup/lib/python3.11/site-packages/sklearn/preprocessing/_encoders.py:242: UserWarning: Found unknown categories in columns [0, 1] during transform. These unknown categories will be encoded as all zeros\n",
      "  warnings.warn(\n",
      "/opt/anaconda3/envs/backup/lib/python3.11/site-packages/sklearn/preprocessing/_encoders.py:242: UserWarning: Found unknown categories in columns [0, 1] during transform. These unknown categories will be encoded as all zeros\n",
      "  warnings.warn(\n",
      "/opt/anaconda3/envs/backup/lib/python3.11/site-packages/sklearn/preprocessing/_encoders.py:242: UserWarning: Found unknown categories in columns [0, 1] during transform. These unknown categories will be encoded as all zeros\n",
      "  warnings.warn(\n",
      "/opt/anaconda3/envs/backup/lib/python3.11/site-packages/sklearn/preprocessing/_encoders.py:242: UserWarning: Found unknown categories in columns [0, 1] during transform. These unknown categories will be encoded as all zeros\n",
      "  warnings.warn(\n",
      "/opt/anaconda3/envs/backup/lib/python3.11/site-packages/sklearn/preprocessing/_encoders.py:242: UserWarning: Found unknown categories in columns [0, 1] during transform. These unknown categories will be encoded as all zeros\n",
      "  warnings.warn(\n"
     ]
    },
    {
     "data": {
      "image/png": "[encoded data removed]",
      "text/plain": [
       "<Figure size 640x480 with 1 Axes>"
      ]
     },
     "metadata": {},
     "output_type": "display_data"
    },
    {
     "data": {
      "image/png": "[encoded data removed]",
      "text/plain": [
       "<Figure size 640x480 with 1 Axes>"
      ]
     },
     "metadata": {},
     "output_type": "display_data"
    },
    {
     "data": {
      "image/png": "[encoded data removed]",
      "text/plain": [
       "<Figure size 640x480 with 1 Axes>"
      ]
     },
     "metadata": {},
     "output_type": "display_data"
    },
    {
     "data": {
      "image/png": "[encoded data removed]",
      "text/plain": [
       "<Figure size 640x480 with 1 Axes>"
      ]
     },
     "metadata": {},
     "output_type": "display_data"
    }
   ],
   "source": [
    "plot_learning_curves(X_train, y_train)"
   ]
  },
  {
   "cell_type": "code",
   "execution_count": 11,
   "metadata": {},
   "outputs": [
    {
     "data": {
      "text/html": [
       "<div>\n",
       "<style scoped>\n",
       "    .dataframe tbody tr th:only-of-type {\n",
       "        vertical-align: middle;\n",
       "    }\n",
       "\n",
       "    .dataframe tbody tr th {\n",
       "        vertical-align: top;\n",
       "    }\n",
       "\n",
       "    .dataframe thead th {\n",
       "        text-align: right;\n",
       "    }\n",
       "</style>\n",
       "<table border=\"1\" class=\"dataframe\">\n",
       "  <thead>\n",
       "    <tr style=\"text-align: right;\">\n",
       "      <th></th>\n",
       "      <th>Gender</th>\n",
       "      <th>Age</th>\n",
       "      <th>City</th>\n",
       "      <th>Academic Pressure</th>\n",
       "      <th>CGPA</th>\n",
       "      <th>Study Satisfaction</th>\n",
       "      <th>Sleep Duration</th>\n",
       "      <th>Dietary Habits</th>\n",
       "      <th>Degree</th>\n",
       "      <th>Have you ever had suicidal thoughts ?</th>\n",
       "      <th>Work/Study Hours</th>\n",
       "      <th>Financial Stress</th>\n",
       "      <th>Family History of Mental Illness</th>\n",
       "    </tr>\n",
       "  </thead>\n",
       "  <tbody>\n",
       "    <tr>\n",
       "      <th>23745</th>\n",
       "      <td>0</td>\n",
       "      <td>18.0</td>\n",
       "      <td>Bhopal</td>\n",
       "      <td>3.0</td>\n",
       "      <td>6.17</td>\n",
       "      <td>5.0</td>\n",
       "      <td>0</td>\n",
       "      <td>0</td>\n",
       "      <td>Class 12</td>\n",
       "      <td>0</td>\n",
       "      <td>5.0</td>\n",
       "      <td>1.0</td>\n",
       "      <td>0</td>\n",
       "    </tr>\n",
       "    <tr>\n",
       "      <th>27418</th>\n",
       "      <td>1</td>\n",
       "      <td>19.0</td>\n",
       "      <td>Agra</td>\n",
       "      <td>4.0</td>\n",
       "      <td>5.82</td>\n",
       "      <td>4.0</td>\n",
       "      <td>0</td>\n",
       "      <td>0</td>\n",
       "      <td>Class 12</td>\n",
       "      <td>1</td>\n",
       "      <td>7.0</td>\n",
       "      <td>4.0</td>\n",
       "      <td>0</td>\n",
       "    </tr>\n",
       "    <tr>\n",
       "      <th>4099</th>\n",
       "      <td>0</td>\n",
       "      <td>22.0</td>\n",
       "      <td>Varanasi</td>\n",
       "      <td>5.0</td>\n",
       "      <td>9.21</td>\n",
       "      <td>2.0</td>\n",
       "      <td>0</td>\n",
       "      <td>1</td>\n",
       "      <td>MSc</td>\n",
       "      <td>1</td>\n",
       "      <td>10.0</td>\n",
       "      <td>2.0</td>\n",
       "      <td>0</td>\n",
       "    </tr>\n",
       "    <tr>\n",
       "      <th>8247</th>\n",
       "      <td>0</td>\n",
       "      <td>34.0</td>\n",
       "      <td>Surat</td>\n",
       "      <td>2.0</td>\n",
       "      <td>5.68</td>\n",
       "      <td>4.0</td>\n",
       "      <td>3</td>\n",
       "      <td>1</td>\n",
       "      <td>B.Ed</td>\n",
       "      <td>1</td>\n",
       "      <td>0.0</td>\n",
       "      <td>1.0</td>\n",
       "      <td>0</td>\n",
       "    </tr>\n",
       "    <tr>\n",
       "      <th>20043</th>\n",
       "      <td>1</td>\n",
       "      <td>33.0</td>\n",
       "      <td>Kolkata</td>\n",
       "      <td>2.0</td>\n",
       "      <td>8.09</td>\n",
       "      <td>1.0</td>\n",
       "      <td>0</td>\n",
       "      <td>2</td>\n",
       "      <td>M.Com</td>\n",
       "      <td>0</td>\n",
       "      <td>5.0</td>\n",
       "      <td>3.0</td>\n",
       "      <td>1</td>\n",
       "    </tr>\n",
       "    <tr>\n",
       "      <th>...</th>\n",
       "      <td>...</td>\n",
       "      <td>...</td>\n",
       "      <td>...</td>\n",
       "      <td>...</td>\n",
       "      <td>...</td>\n",
       "      <td>...</td>\n",
       "      <td>...</td>\n",
       "      <td>...</td>\n",
       "      <td>...</td>\n",
       "      <td>...</td>\n",
       "      <td>...</td>\n",
       "      <td>...</td>\n",
       "      <td>...</td>\n",
       "    </tr>\n",
       "    <tr>\n",
       "      <th>21575</th>\n",
       "      <td>0</td>\n",
       "      <td>25.0</td>\n",
       "      <td>Lucknow</td>\n",
       "      <td>3.0</td>\n",
       "      <td>6.75</td>\n",
       "      <td>5.0</td>\n",
       "      <td>0</td>\n",
       "      <td>0</td>\n",
       "      <td>BBA</td>\n",
       "      <td>0</td>\n",
       "      <td>5.0</td>\n",
       "      <td>2.0</td>\n",
       "      <td>1</td>\n",
       "    </tr>\n",
       "    <tr>\n",
       "      <th>5390</th>\n",
       "      <td>0</td>\n",
       "      <td>29.0</td>\n",
       "      <td>Kalyan</td>\n",
       "      <td>5.0</td>\n",
       "      <td>6.42</td>\n",
       "      <td>2.0</td>\n",
       "      <td>3</td>\n",
       "      <td>1</td>\n",
       "      <td>M.Com</td>\n",
       "      <td>1</td>\n",
       "      <td>4.0</td>\n",
       "      <td>4.0</td>\n",
       "      <td>1</td>\n",
       "    </tr>\n",
       "    <tr>\n",
       "      <th>860</th>\n",
       "      <td>0</td>\n",
       "      <td>18.0</td>\n",
       "      <td>Kolkata</td>\n",
       "      <td>5.0</td>\n",
       "      <td>6.37</td>\n",
       "      <td>3.0</td>\n",
       "      <td>0</td>\n",
       "      <td>1</td>\n",
       "      <td>Class 12</td>\n",
       "      <td>1</td>\n",
       "      <td>6.0</td>\n",
       "      <td>5.0</td>\n",
       "      <td>1</td>\n",
       "    </tr>\n",
       "    <tr>\n",
       "      <th>15795</th>\n",
       "      <td>1</td>\n",
       "      <td>34.0</td>\n",
       "      <td>Kanpur</td>\n",
       "      <td>3.0</td>\n",
       "      <td>9.11</td>\n",
       "      <td>4.0</td>\n",
       "      <td>0</td>\n",
       "      <td>1</td>\n",
       "      <td>M.Tech</td>\n",
       "      <td>0</td>\n",
       "      <td>8.0</td>\n",
       "      <td>4.0</td>\n",
       "      <td>1</td>\n",
       "    </tr>\n",
       "    <tr>\n",
       "      <th>23654</th>\n",
       "      <td>0</td>\n",
       "      <td>34.0</td>\n",
       "      <td>Ahmedabad</td>\n",
       "      <td>4.0</td>\n",
       "      <td>5.80</td>\n",
       "      <td>1.0</td>\n",
       "      <td>0</td>\n",
       "      <td>1</td>\n",
       "      <td>Class 12</td>\n",
       "      <td>1</td>\n",
       "      <td>2.0</td>\n",
       "      <td>2.0</td>\n",
       "      <td>0</td>\n",
       "    </tr>\n",
       "  </tbody>\n",
       "</table>\n",
       "<p>22305 rows × 13 columns</p>\n",
       "</div>"
      ],
      "text/plain": [
       "       Gender   Age       City  Academic Pressure  CGPA  Study Satisfaction  \\\n",
       "23745       0  18.0     Bhopal                3.0  6.17                 5.0   \n",
       "27418       1  19.0       Agra                4.0  5.82                 4.0   \n",
       "4099        0  22.0   Varanasi                5.0  9.21                 2.0   \n",
       "8247        0  34.0      Surat                2.0  5.68                 4.0   \n",
       "20043       1  33.0    Kolkata                2.0  8.09                 1.0   \n",
       "...       ...   ...        ...                ...   ...                 ...   \n",
       "21575       0  25.0    Lucknow                3.0  6.75                 5.0   \n",
       "5390        0  29.0     Kalyan                5.0  6.42                 2.0   \n",
       "860         0  18.0    Kolkata                5.0  6.37                 3.0   \n",
       "15795       1  34.0     Kanpur                3.0  9.11                 4.0   \n",
       "23654       0  34.0  Ahmedabad                4.0  5.80                 1.0   \n",
       "\n",
       "       Sleep Duration  Dietary Habits    Degree  \\\n",
       "23745               0               0  Class 12   \n",
       "27418               0               0  Class 12   \n",
       "4099                0               1       MSc   \n",
       "8247                3               1      B.Ed   \n",
       "20043               0               2     M.Com   \n",
       "...               ...             ...       ...   \n",
       "21575               0               0       BBA   \n",
       "5390                3               1     M.Com   \n",
       "860                 0               1  Class 12   \n",
       "15795               0               1    M.Tech   \n",
       "23654               0               1  Class 12   \n",
       "\n",
       "       Have you ever had suicidal thoughts ?  Work/Study Hours  \\\n",
       "23745                                      0               5.0   \n",
       "27418                                      1               7.0   \n",
       "4099                                       1              10.0   \n",
       "8247                                       1               0.0   \n",
       "20043                                      0               5.0   \n",
       "...                                      ...               ...   \n",
       "21575                                      0               5.0   \n",
       "5390                                       1               4.0   \n",
       "860                                        1               6.0   \n",
       "15795                                      0               8.0   \n",
       "23654                                      1               2.0   \n",
       "\n",
       "       Financial Stress  Family History of Mental Illness  \n",
       "23745               1.0                                 0  \n",
       "27418               4.0                                 0  \n",
       "4099                2.0                                 0  \n",
       "8247                1.0                                 0  \n",
       "20043               3.0                                 1  \n",
       "...                 ...                               ...  \n",
       "21575               2.0                                 1  \n",
       "5390                4.0                                 1  \n",
       "860                 5.0                                 1  \n",
       "15795               4.0                                 1  \n",
       "23654               2.0                                 0  \n",
       "\n",
       "[22305 rows x 13 columns]"
      ]
     },
     "execution_count": 11,
     "metadata": {},
     "output_type": "execute_result"
    }
   ],
   "source": [
    "X_train"
   ]
  },
  {
   "cell_type": "code",
   "execution_count": 26,
   "metadata": {},
   "outputs": [],
   "source": [
    "from sklearn.pipeline import Pipeline\n",
    "from sklearn.compose import ColumnTransformer\n",
    "from sklearn.preprocessing import OneHotEncoder\n",
    "from xgboost import XGBClassifier\n",
    "from sklearn.model_selection import cross_val_score\n",
    "\n",
    "def optimize_xgboost(trial: optuna.Trial, X: pd.DataFrame, y: pd.Series) -> float:\n",
    "    \"\"\"\n",
    "    Fonction pour optimiser un modèle XGBoost avec un pipeline scikit-learn\n",
    "    utilisant une sélection de caractéristiques et IsolationForest.\n",
    "    \"\"\"\n",
    "\n",
    "    X = X.copy()\n",
    "    X = X.drop('City', axis=1)\n",
    "\n",
    "    column_transformer = ColumnTransformer(\n",
    "        transformers=[\n",
    "            (\n",
    "                'encoder',\n",
    "                OneHotEncoder(drop='first', handle_unknown='ignore'),\n",
    "                X.select_dtypes(include='object').columns,\n",
    "            )\n",
    "        ],\n",
    "        remainder='passthrough',\n",
    "        sparse_threshold=0\n",
    "    )\n",
    "\n",
    "    param_grid = {\n",
    "        'model__n_estimators': trial.suggest_int('n_estimators', 100, 1000, step=50),\n",
    "        'model__max_depth': trial.suggest_int('max_depth', 3, 15),\n",
    "        'model__learning_rate': trial.suggest_loguniform('learning_rate', 1e-4, 0.3),\n",
    "        'model__subsample': trial.suggest_float('subsample', 0.5, 1.0, step=0.1),\n",
    "        'model__colsample_bytree': trial.suggest_float('colsample_bytree', 0.5, 1.0, step=0.1),\n",
    "        'model__gamma': trial.suggest_float('gamma', 0, 10),\n",
    "        'model__reg_alpha': trial.suggest_loguniform('reg_alpha', 1e-5, 1.0),\n",
    "        'model__reg_lambda': trial.suggest_loguniform('reg_lambda', 1e-5, 1.0),\n",
    "        'transformer__encoder__min_frequency': trial.suggest_float('min_frequency', 0.01, 0.4),\n",
    "    }\n",
    "\n",
    "    scale_pos_weight = y.value_counts()[0] / y.value_counts()[1]\n",
    "\n",
    "    pipeline = Pipeline(steps=[\n",
    "        ('transformer', column_transformer),\n",
    "        ('model', XGBClassifier(      \n",
    "            objective='binary:logistic',\n",
    "            eval_metric='logloss',\n",
    "            scale_pos_weight=scale_pos_weight,\n",
    "            random_state=42,\n",
    "        ))\n",
    "    ])\n",
    "\n",
    "    pipeline.set_params(**param_grid)\n",
    "\n",
    "    try:\n",
    "        scores = cross_val_score(\n",
    "            pipeline,\n",
    "            X,\n",
    "            y,\n",
    "            cv=5,\n",
    "            scoring='accuracy',\n",
    "            n_jobs=-1\n",
    "        )\n",
    "    except Exception as e:\n",
    "        print(f'Erreur pendant la validation croisée : {e}')\n",
    "        return 0.0\n",
    "\n",
    "    return scores.mean()\n",
    "\n"
   ]
  },
  {
   "cell_type": "code",
   "execution_count": 27,
   "metadata": {},
   "outputs": [
    {
     "name": "stderr",
     "output_type": "stream",
     "text": [
      "[I 2024-11-26 17:46:34,003] A new study created in memory with name: XGBoost Optimization\n",
      "/opt/anaconda3/envs/backup/lib/python3.11/site-packages/sklearn/preprocessing/_encoders.py:242: UserWarning: Found unknown categories in columns [0] during transform. These unknown categories will be encoded as all zeros\n",
      "  warnings.warn(\n",
      "/opt/anaconda3/envs/backup/lib/python3.11/site-packages/sklearn/preprocessing/_encoders.py:242: UserWarning: Found unknown categories in columns [0] during transform. These unknown categories will be encoded as all zeros\n",
      "  warnings.warn(\n",
      "/opt/anaconda3/envs/backup/lib/python3.11/site-packages/sklearn/preprocessing/_encoders.py:242: UserWarning: Found unknown categories in columns [0] during transform. These unknown categories will be encoded as all zeros\n",
      "  warnings.warn(\n",
      "/opt/anaconda3/envs/backup/lib/python3.11/site-packages/sklearn/preprocessing/_encoders.py:242: UserWarning: Found unknown categories in columns [0] during transform. These unknown categories will be encoded as all zeros\n",
      "  warnings.warn(\n",
      "/opt/anaconda3/envs/backup/lib/python3.11/site-packages/sklearn/preprocessing/_encoders.py:242: UserWarning: Found unknown categories in columns [0] during transform. These unknown categories will be encoded as all zeros\n",
      "  warnings.warn(\n",
      "[I 2024-11-26 17:46:34,963] Trial 0 finished with value: 0.8423671822461332 and parameters: {'n_estimators': 450, 'max_depth': 15, 'learning_rate': 0.035093904781414616, 'subsample': 0.8, 'colsample_bytree': 0.5, 'gamma': 1.5599452033620265, 'reg_alpha': 1.951722464144947e-05, 'reg_lambda': 0.21423021757741043, 'min_frequency': 0.24443485457985145}. Best is trial 0 with value: 0.8423671822461332.\n",
      "/opt/anaconda3/envs/backup/lib/python3.11/site-packages/sklearn/preprocessing/_encoders.py:242: UserWarning: Found unknown categories in columns [0] during transform. These unknown categories will be encoded as all zeros\n",
      "  warnings.warn(\n",
      "/opt/anaconda3/envs/backup/lib/python3.11/site-packages/sklearn/preprocessing/_encoders.py:242: UserWarning: Found unknown categories in columns [0] during transform. These unknown categories will be encoded as all zeros\n",
      "  warnings.warn(\n",
      "/opt/anaconda3/envs/backup/lib/python3.11/site-packages/sklearn/preprocessing/_encoders.py:242: UserWarning: Found unknown categories in columns [0] during transform. These unknown categories will be encoded as all zeros\n",
      "  warnings.warn(\n",
      "/opt/anaconda3/envs/backup/lib/python3.11/site-packages/sklearn/preprocessing/_encoders.py:242: UserWarning: Found unknown categories in columns [0] during transform. These unknown categories will be encoded as all zeros\n",
      "  warnings.warn(\n",
      "/opt/anaconda3/envs/backup/lib/python3.11/site-packages/sklearn/preprocessing/_encoders.py:242: UserWarning: Found unknown categories in columns [0] during transform. These unknown categories will be encoded as all zeros\n",
      "  warnings.warn(\n",
      "[I 2024-11-26 17:46:35,630] Trial 1 finished with value: 0.8433086751849361 and parameters: {'n_estimators': 750, 'max_depth': 3, 'learning_rate': 0.23577305025968318, 'subsample': 0.9, 'colsample_bytree': 0.6, 'gamma': 1.8182496720710062, 'reg_alpha': 8.260808399079601e-05, 'reg_lambda': 0.00033205591037519585, 'min_frequency': 0.21465500833657278}. Best is trial 1 with value: 0.8433086751849361.\n",
      "/opt/anaconda3/envs/backup/lib/python3.11/site-packages/sklearn/preprocessing/_encoders.py:242: UserWarning: Found unknown categories in columns [0] during transform. These unknown categories will be encoded as all zeros\n",
      "  warnings.warn(\n",
      "/opt/anaconda3/envs/backup/lib/python3.11/site-packages/sklearn/preprocessing/_encoders.py:242: UserWarning: Found unknown categories in columns [0] during transform. These unknown categories will be encoded as all zeros\n",
      "  warnings.warn(\n",
      "/opt/anaconda3/envs/backup/lib/python3.11/site-packages/sklearn/preprocessing/_encoders.py:242: UserWarning: Found unknown categories in columns [0] during transform. These unknown categories will be encoded as all zeros\n",
      "  warnings.warn(\n",
      "/opt/anaconda3/envs/backup/lib/python3.11/site-packages/sklearn/preprocessing/_encoders.py:242: UserWarning: Found unknown categories in columns [0] during transform. These unknown categories will be encoded as all zeros\n",
      "  warnings.warn(\n",
      "/opt/anaconda3/envs/backup/lib/python3.11/site-packages/sklearn/preprocessing/_encoders.py:242: UserWarning: Found unknown categories in columns [0] during transform. These unknown categories will be encoded as all zeros\n",
      "  warnings.warn(\n",
      "[I 2024-11-26 17:46:36,422] Trial 2 finished with value: 0.8433086751849361 and parameters: {'n_estimators': 500, 'max_depth': 6, 'learning_rate': 0.013411788774467914, 'subsample': 0.5, 'colsample_bytree': 0.6, 'gamma': 3.663618432936917, 'reg_alpha': 0.0019069966103000427, 'reg_lambda': 0.08431013932082466, 'min_frequency': 0.08787277504176029}. Best is trial 1 with value: 0.8433086751849361.\n",
      "/opt/anaconda3/envs/backup/lib/python3.11/site-packages/sklearn/preprocessing/_encoders.py:242: UserWarning: Found unknown categories in columns [0] during transform. These unknown categories will be encoded as all zeros\n",
      "  warnings.warn(\n",
      "/opt/anaconda3/envs/backup/lib/python3.11/site-packages/sklearn/preprocessing/_encoders.py:242: UserWarning: Found unknown categories in columns [0] during transform. These unknown categories will be encoded as all zeros\n",
      "  warnings.warn(\n",
      "/opt/anaconda3/envs/backup/lib/python3.11/site-packages/sklearn/preprocessing/_encoders.py:242: UserWarning: Found unknown categories in columns [0] during transform. These unknown categories will be encoded as all zeros\n",
      "  warnings.warn(\n",
      "/opt/anaconda3/envs/backup/lib/python3.11/site-packages/sklearn/preprocessing/_encoders.py:242: UserWarning: Found unknown categories in columns [0] during transform. These unknown categories will be encoded as all zeros\n",
      "  warnings.warn(\n",
      "/opt/anaconda3/envs/backup/lib/python3.11/site-packages/sklearn/preprocessing/_encoders.py:242: UserWarning: Found unknown categories in columns [0] during transform. These unknown categories will be encoded as all zeros\n",
      "  warnings.warn(\n",
      "[I 2024-11-26 17:46:37,657] Trial 3 finished with value: 0.8429948442053352 and parameters: {'n_estimators': 550, 'max_depth': 10, 'learning_rate': 0.0001450486587761426, 'subsample': 0.8, 'colsample_bytree': 0.6, 'gamma': 0.6505159298527952, 'reg_alpha': 0.5551721685244719, 'reg_lambda': 0.6732248920775336, 'min_frequency': 0.32527496576541987}. Best is trial 1 with value: 0.8433086751849361.\n",
      "/opt/anaconda3/envs/backup/lib/python3.11/site-packages/sklearn/preprocessing/_encoders.py:242: UserWarning: Found unknown categories in columns [0] during transform. These unknown categories will be encoded as all zeros\n",
      "  warnings.warn(\n",
      "/opt/anaconda3/envs/backup/lib/python3.11/site-packages/sklearn/preprocessing/_encoders.py:242: UserWarning: Found unknown categories in columns [0] during transform. These unknown categories will be encoded as all zeros\n",
      "  warnings.warn(\n",
      "/opt/anaconda3/envs/backup/lib/python3.11/site-packages/sklearn/preprocessing/_encoders.py:242: UserWarning: Found unknown categories in columns [0] during transform. These unknown categories will be encoded as all zeros\n",
      "  warnings.warn(\n",
      "/opt/anaconda3/envs/backup/lib/python3.11/site-packages/sklearn/preprocessing/_encoders.py:242: UserWarning: Found unknown categories in columns [0] during transform. These unknown categories will be encoded as all zeros\n",
      "  warnings.warn(\n",
      "/opt/anaconda3/envs/backup/lib/python3.11/site-packages/sklearn/preprocessing/_encoders.py:242: UserWarning: Found unknown categories in columns [0] during transform. These unknown categories will be encoded as all zeros\n",
      "  warnings.warn(\n",
      "[I 2024-11-26 17:46:38,301] Trial 4 finished with value: 0.8431741761936786 and parameters: {'n_estimators': 350, 'max_depth': 4, 'learning_rate': 0.023942042625390278, 'subsample': 0.7, 'colsample_bytree': 0.5, 'gamma': 4.951769101112702, 'reg_alpha': 1.485739280627924e-05, 'reg_lambda': 0.3520481045526039, 'min_frequency': 0.11092419282400659}. Best is trial 1 with value: 0.8433086751849361.\n",
      "/opt/anaconda3/envs/backup/lib/python3.11/site-packages/sklearn/preprocessing/_encoders.py:242: UserWarning: Found unknown categories in columns [0] during transform. These unknown categories will be encoded as all zeros\n",
      "  warnings.warn(\n",
      "/opt/anaconda3/envs/backup/lib/python3.11/site-packages/sklearn/preprocessing/_encoders.py:242: UserWarning: Found unknown categories in columns [0] during transform. These unknown categories will be encoded as all zeros\n",
      "  warnings.warn(\n",
      "/opt/anaconda3/envs/backup/lib/python3.11/site-packages/sklearn/preprocessing/_encoders.py:242: UserWarning: Found unknown categories in columns [0] during transform. These unknown categories will be encoded as all zeros\n",
      "  warnings.warn(\n",
      "/opt/anaconda3/envs/backup/lib/python3.11/site-packages/sklearn/preprocessing/_encoders.py:242: UserWarning: Found unknown categories in columns [0] during transform. These unknown categories will be encoded as all zeros\n",
      "  warnings.warn(\n",
      "/opt/anaconda3/envs/backup/lib/python3.11/site-packages/sklearn/preprocessing/_encoders.py:242: UserWarning: Found unknown categories in columns [0] during transform. These unknown categories will be encoded as all zeros\n",
      "  warnings.warn(\n",
      "[I 2024-11-26 17:46:39,184] Trial 5 finished with value: 0.8394530374355526 and parameters: {'n_estimators': 700, 'max_depth': 7, 'learning_rate': 0.006431904246624123, 'subsample': 0.8, 'colsample_bytree': 0.6, 'gamma': 9.695846277645586, 'reg_alpha': 0.07510418138777546, 'reg_lambda': 0.49830438374949104, 'min_frequency': 0.3589826666667831}. Best is trial 1 with value: 0.8433086751849361.\n",
      "/opt/anaconda3/envs/backup/lib/python3.11/site-packages/sklearn/preprocessing/_encoders.py:242: UserWarning: Found unknown categories in columns [0] during transform. These unknown categories will be encoded as all zeros\n",
      "  warnings.warn(\n",
      "/opt/anaconda3/envs/backup/lib/python3.11/site-packages/sklearn/preprocessing/_encoders.py:242: UserWarning: Found unknown categories in columns [0] during transform. These unknown categories will be encoded as all zeros\n",
      "  warnings.warn(\n",
      "/opt/anaconda3/envs/backup/lib/python3.11/site-packages/sklearn/preprocessing/_encoders.py:242: UserWarning: Found unknown categories in columns [0] during transform. These unknown categories will be encoded as all zeros\n",
      "  warnings.warn(\n",
      "/opt/anaconda3/envs/backup/lib/python3.11/site-packages/sklearn/preprocessing/_encoders.py:242: UserWarning: Found unknown categories in columns [0] during transform. These unknown categories will be encoded as all zeros\n",
      "  warnings.warn(\n",
      "/opt/anaconda3/envs/backup/lib/python3.11/site-packages/sklearn/preprocessing/_encoders.py:242: UserWarning: Found unknown categories in columns [0] during transform. These unknown categories will be encoded as all zeros\n",
      "  warnings.warn(\n",
      "[I 2024-11-26 17:46:39,918] Trial 6 finished with value: 0.8431741761936786 and parameters: {'n_estimators': 650, 'max_depth': 14, 'learning_rate': 0.00020309496639348267, 'subsample': 0.6, 'colsample_bytree': 0.5, 'gamma': 3.2533033076326436, 'reg_alpha': 0.000877781550471965, 'reg_lambda': 0.00022737628102536837, 'min_frequency': 0.33320762856925246}. Best is trial 1 with value: 0.8433086751849361.\n",
      "/opt/anaconda3/envs/backup/lib/python3.11/site-packages/sklearn/preprocessing/_encoders.py:242: UserWarning: Found unknown categories in columns [0] during transform. These unknown categories will be encoded as all zeros\n",
      "  warnings.warn(\n",
      "/opt/anaconda3/envs/backup/lib/python3.11/site-packages/sklearn/preprocessing/_encoders.py:242: UserWarning: Found unknown categories in columns [0] during transform. These unknown categories will be encoded as all zeros\n",
      "  warnings.warn(\n",
      "/opt/anaconda3/envs/backup/lib/python3.11/site-packages/sklearn/preprocessing/_encoders.py:242: UserWarning: Found unknown categories in columns [0] during transform. These unknown categories will be encoded as all zeros\n",
      "  warnings.warn(\n",
      "/opt/anaconda3/envs/backup/lib/python3.11/site-packages/sklearn/preprocessing/_encoders.py:242: UserWarning: Found unknown categories in columns [0] during transform. These unknown categories will be encoded as all zeros\n",
      "  warnings.warn(\n",
      "/opt/anaconda3/envs/backup/lib/python3.11/site-packages/sklearn/preprocessing/_encoders.py:242: UserWarning: Found unknown categories in columns [0] during transform. These unknown categories will be encoded as all zeros\n",
      "  warnings.warn(\n",
      "[I 2024-11-26 17:46:40,391] Trial 7 finished with value: 0.8407980273481283 and parameters: {'n_estimators': 400, 'max_depth': 6, 'learning_rate': 0.007709391232564028, 'subsample': 0.5, 'colsample_bytree': 0.9, 'gamma': 0.7455064367977082, 'reg_alpha': 0.8598737339212272, 'reg_lambda': 0.07264803074826731, 'min_frequency': 0.08749911579832724}. Best is trial 1 with value: 0.8433086751849361.\n",
      "/opt/anaconda3/envs/backup/lib/python3.11/site-packages/sklearn/preprocessing/_encoders.py:242: UserWarning: Found unknown categories in columns [0] during transform. These unknown categories will be encoded as all zeros\n",
      "  warnings.warn(\n",
      "/opt/anaconda3/envs/backup/lib/python3.11/site-packages/sklearn/preprocessing/_encoders.py:242: UserWarning: Found unknown categories in columns [0] during transform. These unknown categories will be encoded as all zeros\n",
      "  warnings.warn(\n",
      "/opt/anaconda3/envs/backup/lib/python3.11/site-packages/sklearn/preprocessing/_encoders.py:242: UserWarning: Found unknown categories in columns [0] during transform. These unknown categories will be encoded as all zeros\n",
      "  warnings.warn(\n",
      "/opt/anaconda3/envs/backup/lib/python3.11/site-packages/sklearn/preprocessing/_encoders.py:242: UserWarning: Found unknown categories in columns [0] during transform. These unknown categories will be encoded as all zeros\n",
      "  warnings.warn(\n",
      "/opt/anaconda3/envs/backup/lib/python3.11/site-packages/sklearn/preprocessing/_encoders.py:242: UserWarning: Found unknown categories in columns [0] during transform. These unknown categories will be encoded as all zeros\n",
      "  warnings.warn(\n",
      "[I 2024-11-26 17:46:40,820] Trial 8 finished with value: 0.8388702084734364 and parameters: {'n_estimators': 100, 'max_depth': 13, 'learning_rate': 0.02869648437859116, 'subsample': 0.9, 'colsample_bytree': 0.9, 'gamma': 0.7404465173409036, 'reg_alpha': 0.0006199100007802262, 'reg_lambda': 3.79616689580081e-05, 'min_frequency': 0.3466103360914815}. Best is trial 1 with value: 0.8433086751849361.\n",
      "/opt/anaconda3/envs/backup/lib/python3.11/site-packages/sklearn/preprocessing/_encoders.py:242: UserWarning: Found unknown categories in columns [0] during transform. These unknown categories will be encoded as all zeros\n",
      "  warnings.warn(\n",
      "/opt/anaconda3/envs/backup/lib/python3.11/site-packages/sklearn/preprocessing/_encoders.py:242: UserWarning: Found unknown categories in columns [0] during transform. These unknown categories will be encoded as all zeros\n",
      "  warnings.warn(\n",
      "/opt/anaconda3/envs/backup/lib/python3.11/site-packages/sklearn/preprocessing/_encoders.py:242: UserWarning: Found unknown categories in columns [0] during transform. These unknown categories will be encoded as all zeros\n",
      "  warnings.warn(\n",
      "/opt/anaconda3/envs/backup/lib/python3.11/site-packages/sklearn/preprocessing/_encoders.py:242: UserWarning: Found unknown categories in columns [0] during transform. These unknown categories will be encoded as all zeros\n",
      "  warnings.warn(\n",
      "/opt/anaconda3/envs/backup/lib/python3.11/site-packages/sklearn/preprocessing/_encoders.py:242: UserWarning: Found unknown categories in columns [0] during transform. These unknown categories will be encoded as all zeros\n",
      "  warnings.warn(\n",
      "[I 2024-11-26 17:46:41,475] Trial 9 finished with value: 0.839946200403497 and parameters: {'n_estimators': 650, 'max_depth': 7, 'learning_rate': 0.00016634129977434825, 'subsample': 0.6, 'colsample_bytree': 0.6, 'gamma': 7.29606178338064, 'reg_alpha': 0.01540945776288155, 'reg_lambda': 0.27293781650374727, 'min_frequency': 0.19416382081316025}. Best is trial 1 with value: 0.8433086751849361.\n",
      "/opt/anaconda3/envs/backup/lib/python3.11/site-packages/sklearn/preprocessing/_encoders.py:242: UserWarning: Found unknown categories in columns [0] during transform. These unknown categories will be encoded as all zeros\n",
      "  warnings.warn(\n",
      "/opt/anaconda3/envs/backup/lib/python3.11/site-packages/sklearn/preprocessing/_encoders.py:242: UserWarning: Found unknown categories in columns [0] during transform. These unknown categories will be encoded as all zeros\n",
      "  warnings.warn(\n",
      "/opt/anaconda3/envs/backup/lib/python3.11/site-packages/sklearn/preprocessing/_encoders.py:242: UserWarning: Found unknown categories in columns [0] during transform. These unknown categories will be encoded as all zeros\n",
      "  warnings.warn(\n",
      "/opt/anaconda3/envs/backup/lib/python3.11/site-packages/sklearn/preprocessing/_encoders.py:242: UserWarning: Found unknown categories in columns [0] during transform. These unknown categories will be encoded as all zeros\n",
      "  warnings.warn(\n",
      "/opt/anaconda3/envs/backup/lib/python3.11/site-packages/sklearn/preprocessing/_encoders.py:242: UserWarning: Found unknown categories in columns [0] during transform. These unknown categories will be encoded as all zeros\n",
      "  warnings.warn(\n",
      "[I 2024-11-26 17:46:41,827] Trial 10 finished with value: 0.8429948442053352 and parameters: {'n_estimators': 1000, 'max_depth': 3, 'learning_rate': 0.23507048055922214, 'subsample': 1.0, 'colsample_bytree': 0.8, 'gamma': 6.902470735691453, 'reg_alpha': 0.00018932906660686224, 'reg_lambda': 0.0010474429067860937, 'min_frequency': 0.19692511736701965}. Best is trial 1 with value: 0.8433086751849361.\n",
      "/opt/anaconda3/envs/backup/lib/python3.11/site-packages/sklearn/preprocessing/_encoders.py:242: UserWarning: Found unknown categories in columns [0] during transform. These unknown categories will be encoded as all zeros\n",
      "  warnings.warn(\n",
      "/opt/anaconda3/envs/backup/lib/python3.11/site-packages/sklearn/preprocessing/_encoders.py:242: UserWarning: Found unknown categories in columns [0] during transform. These unknown categories will be encoded as all zeros\n",
      "  warnings.warn(\n",
      "/opt/anaconda3/envs/backup/lib/python3.11/site-packages/sklearn/preprocessing/_encoders.py:242: UserWarning: Found unknown categories in columns [0] during transform. These unknown categories will be encoded as all zeros\n",
      "  warnings.warn(\n",
      "/opt/anaconda3/envs/backup/lib/python3.11/site-packages/sklearn/preprocessing/_encoders.py:242: UserWarning: Found unknown categories in columns [0] during transform. These unknown categories will be encoded as all zeros\n",
      "  warnings.warn(\n",
      "/opt/anaconda3/envs/backup/lib/python3.11/site-packages/sklearn/preprocessing/_encoders.py:242: UserWarning: Found unknown categories in columns [0] during transform. These unknown categories will be encoded as all zeros\n",
      "  warnings.warn(\n",
      "[I 2024-11-26 17:46:42,376] Trial 11 finished with value: 0.8425913472315625 and parameters: {'n_estimators': 950, 'max_depth': 5, 'learning_rate': 0.19439947164980628, 'subsample': 1.0, 'colsample_bytree': 0.7, 'gamma': 3.425159937377567, 'reg_alpha': 0.00011872276132102531, 'reg_lambda': 0.01086228942017128, 'min_frequency': 0.013528301654080838}. Best is trial 1 with value: 0.8433086751849361.\n",
      "/opt/anaconda3/envs/backup/lib/python3.11/site-packages/sklearn/preprocessing/_encoders.py:242: UserWarning: Found unknown categories in columns [0] during transform. These unknown categories will be encoded as all zeros\n",
      "  warnings.warn(\n",
      "/opt/anaconda3/envs/backup/lib/python3.11/site-packages/sklearn/preprocessing/_encoders.py:242: UserWarning: Found unknown categories in columns [0] during transform. These unknown categories will be encoded as all zeros\n",
      "  warnings.warn(\n",
      "/opt/anaconda3/envs/backup/lib/python3.11/site-packages/sklearn/preprocessing/_encoders.py:242: UserWarning: Found unknown categories in columns [0] during transform. These unknown categories will be encoded as all zeros\n",
      "  warnings.warn(\n",
      "/opt/anaconda3/envs/backup/lib/python3.11/site-packages/sklearn/preprocessing/_encoders.py:242: UserWarning: Found unknown categories in columns [0] during transform. These unknown categories will be encoded as all zeros\n",
      "  warnings.warn(\n",
      "/opt/anaconda3/envs/backup/lib/python3.11/site-packages/sklearn/preprocessing/_encoders.py:242: UserWarning: Found unknown categories in columns [0] during transform. These unknown categories will be encoded as all zeros\n",
      "  warnings.warn(\n",
      "[I 2024-11-26 17:46:43,402] Trial 12 finished with value: 0.8417395202869311 and parameters: {'n_estimators': 800, 'max_depth': 9, 'learning_rate': 0.0011410623713687799, 'subsample': 0.5, 'colsample_bytree': 0.7, 'gamma': 2.896269500584525, 'reg_alpha': 0.004989999866609149, 'reg_lambda': 0.009909314084973746, 'min_frequency': 0.12481867133097801}. Best is trial 1 with value: 0.8433086751849361.\n",
      "/opt/anaconda3/envs/backup/lib/python3.11/site-packages/sklearn/preprocessing/_encoders.py:242: UserWarning: Found unknown categories in columns [0] during transform. These unknown categories will be encoded as all zeros\n",
      "  warnings.warn(\n",
      "/opt/anaconda3/envs/backup/lib/python3.11/site-packages/sklearn/preprocessing/_encoders.py:242: UserWarning: Found unknown categories in columns [0] during transform. These unknown categories will be encoded as all zeros\n",
      "  warnings.warn(\n",
      "/opt/anaconda3/envs/backup/lib/python3.11/site-packages/sklearn/preprocessing/_encoders.py:242: UserWarning: Found unknown categories in columns [0] during transform. These unknown categories will be encoded as all zeros\n",
      "  warnings.warn(\n",
      "/opt/anaconda3/envs/backup/lib/python3.11/site-packages/sklearn/preprocessing/_encoders.py:242: UserWarning: Found unknown categories in columns [0] during transform. These unknown categories will be encoded as all zeros\n",
      "  warnings.warn(\n",
      "/opt/anaconda3/envs/backup/lib/python3.11/site-packages/sklearn/preprocessing/_encoders.py:242: UserWarning: Found unknown categories in columns [0] during transform. These unknown categories will be encoded as all zeros\n",
      "  warnings.warn(\n",
      "[I 2024-11-26 17:46:43,654] Trial 13 finished with value: 0.8327280878726743 and parameters: {'n_estimators': 200, 'max_depth': 4, 'learning_rate': 0.0013114332234310845, 'subsample': 0.9, 'colsample_bytree': 0.7, 'gamma': 4.968966630789066, 'reg_alpha': 0.0001613521158923633, 'reg_lambda': 0.0005454083477819434, 'min_frequency': 0.2604142978409566}. Best is trial 1 with value: 0.8433086751849361.\n",
      "/opt/anaconda3/envs/backup/lib/python3.11/site-packages/sklearn/preprocessing/_encoders.py:242: UserWarning: Found unknown categories in columns [0] during transform. These unknown categories will be encoded as all zeros\n",
      "  warnings.warn(\n",
      "/opt/anaconda3/envs/backup/lib/python3.11/site-packages/sklearn/preprocessing/_encoders.py:242: UserWarning: Found unknown categories in columns [0] during transform. These unknown categories will be encoded as all zeros\n",
      "  warnings.warn(\n",
      "/opt/anaconda3/envs/backup/lib/python3.11/site-packages/sklearn/preprocessing/_encoders.py:242: UserWarning: Found unknown categories in columns [0] during transform. These unknown categories will be encoded as all zeros\n",
      "  warnings.warn(\n",
      "/opt/anaconda3/envs/backup/lib/python3.11/site-packages/sklearn/preprocessing/_encoders.py:242: UserWarning: Found unknown categories in columns [0] during transform. These unknown categories will be encoded as all zeros\n",
      "  warnings.warn(\n",
      "/opt/anaconda3/envs/backup/lib/python3.11/site-packages/sklearn/preprocessing/_encoders.py:242: UserWarning: Found unknown categories in columns [0] during transform. These unknown categories will be encoded as all zeros\n",
      "  warnings.warn(\n",
      "[I 2024-11-26 17:46:44,144] Trial 14 finished with value: 0.8397668684151535 and parameters: {'n_estimators': 850, 'max_depth': 9, 'learning_rate': 0.07967047955271633, 'subsample': 0.7, 'colsample_bytree': 1.0, 'gamma': 2.3479679559612454, 'reg_alpha': 0.002887414624512983, 'reg_lambda': 4.2056209020752534e-05, 'min_frequency': 0.045438677462934396}. Best is trial 1 with value: 0.8433086751849361.\n",
      "/opt/anaconda3/envs/backup/lib/python3.11/site-packages/sklearn/preprocessing/_encoders.py:242: UserWarning: Found unknown categories in columns [0] during transform. These unknown categories will be encoded as all zeros\n",
      "  warnings.warn(\n",
      "/opt/anaconda3/envs/backup/lib/python3.11/site-packages/sklearn/preprocessing/_encoders.py:242: UserWarning: Found unknown categories in columns [0] during transform. These unknown categories will be encoded as all zeros\n",
      "  warnings.warn(\n",
      "/opt/anaconda3/envs/backup/lib/python3.11/site-packages/sklearn/preprocessing/_encoders.py:242: UserWarning: Found unknown categories in columns [0] during transform. These unknown categories will be encoded as all zeros\n",
      "  warnings.warn(\n",
      "/opt/anaconda3/envs/backup/lib/python3.11/site-packages/sklearn/preprocessing/_encoders.py:242: UserWarning: Found unknown categories in columns [0] during transform. These unknown categories will be encoded as all zeros\n",
      "  warnings.warn(\n",
      "/opt/anaconda3/envs/backup/lib/python3.11/site-packages/sklearn/preprocessing/_encoders.py:242: UserWarning: Found unknown categories in columns [0] during transform. These unknown categories will be encoded as all zeros\n",
      "  warnings.warn(\n",
      "[I 2024-11-26 17:46:44,502] Trial 15 finished with value: 0.8317417619367855 and parameters: {'n_estimators': 500, 'max_depth': 3, 'learning_rate': 0.0019679170312991135, 'subsample': 0.9, 'colsample_bytree': 0.6, 'gamma': 4.184089598940119, 'reg_alpha': 0.0220408636455644, 'reg_lambda': 0.022528159538097555, 'min_frequency': 0.17946059955212362}. Best is trial 1 with value: 0.8433086751849361.\n",
      "/opt/anaconda3/envs/backup/lib/python3.11/site-packages/sklearn/preprocessing/_encoders.py:242: UserWarning: Found unknown categories in columns [0] during transform. These unknown categories will be encoded as all zeros\n",
      "  warnings.warn(\n",
      "/opt/anaconda3/envs/backup/lib/python3.11/site-packages/sklearn/preprocessing/_encoders.py:242: UserWarning: Found unknown categories in columns [0] during transform. These unknown categories will be encoded as all zeros\n",
      "  warnings.warn(\n",
      "/opt/anaconda3/envs/backup/lib/python3.11/site-packages/sklearn/preprocessing/_encoders.py:242: UserWarning: Found unknown categories in columns [0] during transform. These unknown categories will be encoded as all zeros\n",
      "  warnings.warn(\n",
      "/opt/anaconda3/envs/backup/lib/python3.11/site-packages/sklearn/preprocessing/_encoders.py:242: UserWarning: Found unknown categories in columns [0] during transform. These unknown categories will be encoded as all zeros\n",
      "  warnings.warn(\n",
      "/opt/anaconda3/envs/backup/lib/python3.11/site-packages/sklearn/preprocessing/_encoders.py:242: UserWarning: Found unknown categories in columns [0] during transform. These unknown categories will be encoded as all zeros\n",
      "  warnings.warn(\n",
      "[I 2024-11-26 17:46:44,926] Trial 16 finished with value: 0.8421430172607038 and parameters: {'n_estimators': 800, 'max_depth': 6, 'learning_rate': 0.08301944736562338, 'subsample': 0.6, 'colsample_bytree': 0.8, 'gamma': 6.800349874605995, 'reg_alpha': 4.373892763134674e-05, 'reg_lambda': 0.0024736987157246, 'min_frequency': 0.14977221106831137}. Best is trial 1 with value: 0.8433086751849361.\n",
      "/opt/anaconda3/envs/backup/lib/python3.11/site-packages/sklearn/preprocessing/_encoders.py:242: UserWarning: Found unknown categories in columns [0] during transform. These unknown categories will be encoded as all zeros\n",
      "  warnings.warn(\n",
      "/opt/anaconda3/envs/backup/lib/python3.11/site-packages/sklearn/preprocessing/_encoders.py:242: UserWarning: Found unknown categories in columns [0] during transform. These unknown categories will be encoded as all zeros\n",
      "  warnings.warn(\n",
      "/opt/anaconda3/envs/backup/lib/python3.11/site-packages/sklearn/preprocessing/_encoders.py:242: UserWarning: Found unknown categories in columns [0] during transform. These unknown categories will be encoded as all zeros\n",
      "  warnings.warn(\n",
      "/opt/anaconda3/envs/backup/lib/python3.11/site-packages/sklearn/preprocessing/_encoders.py:242: UserWarning: Found unknown categories in columns [0] during transform. These unknown categories will be encoded as all zeros\n",
      "  warnings.warn(\n",
      "/opt/anaconda3/envs/backup/lib/python3.11/site-packages/sklearn/preprocessing/_encoders.py:242: UserWarning: Found unknown categories in columns [0] during transform. These unknown categories will be encoded as all zeros\n",
      "  warnings.warn(\n",
      "[I 2024-11-26 17:46:45,393] Trial 17 finished with value: 0.8432190091907643 and parameters: {'n_estimators': 300, 'max_depth': 8, 'learning_rate': 0.011482099299136078, 'subsample': 0.7, 'colsample_bytree': 0.6, 'gamma': 1.8307892722133465, 'reg_alpha': 0.0008518071718928272, 'reg_lambda': 0.0001576018363800645, 'min_frequency': 0.2657034294334364}. Best is trial 1 with value: 0.8433086751849361.\n",
      "/opt/anaconda3/envs/backup/lib/python3.11/site-packages/sklearn/preprocessing/_encoders.py:242: UserWarning: Found unknown categories in columns [0] during transform. These unknown categories will be encoded as all zeros\n",
      "  warnings.warn(\n",
      "/opt/anaconda3/envs/backup/lib/python3.11/site-packages/sklearn/preprocessing/_encoders.py:242: UserWarning: Found unknown categories in columns [0] during transform. These unknown categories will be encoded as all zeros\n",
      "  warnings.warn(\n",
      "/opt/anaconda3/envs/backup/lib/python3.11/site-packages/sklearn/preprocessing/_encoders.py:242: UserWarning: Found unknown categories in columns [0] during transform. These unknown categories will be encoded as all zeros\n",
      "  warnings.warn(\n",
      "/opt/anaconda3/envs/backup/lib/python3.11/site-packages/sklearn/preprocessing/_encoders.py:242: UserWarning: Found unknown categories in columns [0] during transform. These unknown categories will be encoded as all zeros\n",
      "  warnings.warn(\n",
      "/opt/anaconda3/envs/backup/lib/python3.11/site-packages/sklearn/preprocessing/_encoders.py:242: UserWarning: Found unknown categories in columns [0] during transform. These unknown categories will be encoded as all zeros\n",
      "  warnings.warn(\n",
      "[I 2024-11-26 17:46:46,070] Trial 18 finished with value: 0.8414256893073302 and parameters: {'n_estimators': 600, 'max_depth': 11, 'learning_rate': 0.0005135396028036793, 'subsample': 0.9, 'colsample_bytree': 0.5, 'gamma': 5.915176709957259, 'reg_alpha': 0.002955524692225261, 'reg_lambda': 0.028653157992664557, 'min_frequency': 0.0741147276678944}. Best is trial 1 with value: 0.8433086751849361.\n",
      "/opt/anaconda3/envs/backup/lib/python3.11/site-packages/sklearn/preprocessing/_encoders.py:242: UserWarning: Found unknown categories in columns [0] during transform. These unknown categories will be encoded as all zeros\n",
      "  warnings.warn(\n",
      "/opt/anaconda3/envs/backup/lib/python3.11/site-packages/sklearn/preprocessing/_encoders.py:242: UserWarning: Found unknown categories in columns [0] during transform. These unknown categories will be encoded as all zeros\n",
      "  warnings.warn(\n",
      "/opt/anaconda3/envs/backup/lib/python3.11/site-packages/sklearn/preprocessing/_encoders.py:242: UserWarning: Found unknown categories in columns [0] during transform. These unknown categories will be encoded as all zeros\n",
      "  warnings.warn(\n",
      "/opt/anaconda3/envs/backup/lib/python3.11/site-packages/sklearn/preprocessing/_encoders.py:242: UserWarning: Found unknown categories in columns [0] during transform. These unknown categories will be encoded as all zeros\n",
      "  warnings.warn(\n",
      "/opt/anaconda3/envs/backup/lib/python3.11/site-packages/sklearn/preprocessing/_encoders.py:242: UserWarning: Found unknown categories in columns [0] during transform. These unknown categories will be encoded as all zeros\n",
      "  warnings.warn(\n",
      "[I 2024-11-26 17:46:46,745] Trial 19 finished with value: 0.8399910334005828 and parameters: {'n_estimators': 750, 'max_depth': 5, 'learning_rate': 0.0026687304371759615, 'subsample': 0.5, 'colsample_bytree': 0.7, 'gamma': 4.105063888161412, 'reg_alpha': 5.115408177370699e-05, 'reg_lambda': 0.0018548238806448609, 'min_frequency': 0.1478530006787107}. Best is trial 1 with value: 0.8433086751849361.\n",
      "/opt/anaconda3/envs/backup/lib/python3.11/site-packages/sklearn/preprocessing/_encoders.py:242: UserWarning: Found unknown categories in columns [0] during transform. These unknown categories will be encoded as all zeros\n",
      "  warnings.warn(\n",
      "/opt/anaconda3/envs/backup/lib/python3.11/site-packages/sklearn/preprocessing/_encoders.py:242: UserWarning: Found unknown categories in columns [0] during transform. These unknown categories will be encoded as all zeros\n",
      "  warnings.warn(\n",
      "/opt/anaconda3/envs/backup/lib/python3.11/site-packages/sklearn/preprocessing/_encoders.py:242: UserWarning: Found unknown categories in columns [0] during transform. These unknown categories will be encoded as all zeros\n",
      "  warnings.warn(\n",
      "/opt/anaconda3/envs/backup/lib/python3.11/site-packages/sklearn/preprocessing/_encoders.py:242: UserWarning: Found unknown categories in columns [0] during transform. These unknown categories will be encoded as all zeros\n",
      "  warnings.warn(\n",
      "/opt/anaconda3/envs/backup/lib/python3.11/site-packages/sklearn/preprocessing/_encoders.py:242: UserWarning: Found unknown categories in columns [0] during transform. These unknown categories will be encoded as all zeros\n",
      "  warnings.warn(\n",
      "[I 2024-11-26 17:46:47,036] Trial 20 finished with value: 0.8426361802286484 and parameters: {'n_estimators': 550, 'max_depth': 3, 'learning_rate': 0.0972457946359588, 'subsample': 1.0, 'colsample_bytree': 0.8, 'gamma': 9.035089018908094, 'reg_alpha': 0.09381586665707291, 'reg_lambda': 1.143154178508041e-05, 'min_frequency': 0.39759868616938654}. Best is trial 1 with value: 0.8433086751849361.\n",
      "/opt/anaconda3/envs/backup/lib/python3.11/site-packages/sklearn/preprocessing/_encoders.py:242: UserWarning: Found unknown categories in columns [0] during transform. These unknown categories will be encoded as all zeros\n",
      "  warnings.warn(\n",
      "/opt/anaconda3/envs/backup/lib/python3.11/site-packages/sklearn/preprocessing/_encoders.py:242: UserWarning: Found unknown categories in columns [0] during transform. These unknown categories will be encoded as all zeros\n",
      "  warnings.warn(\n",
      "/opt/anaconda3/envs/backup/lib/python3.11/site-packages/sklearn/preprocessing/_encoders.py:242: UserWarning: Found unknown categories in columns [0] during transform. These unknown categories will be encoded as all zeros\n",
      "  warnings.warn(\n",
      "/opt/anaconda3/envs/backup/lib/python3.11/site-packages/sklearn/preprocessing/_encoders.py:242: UserWarning: Found unknown categories in columns [0] during transform. These unknown categories will be encoded as all zeros\n",
      "  warnings.warn(\n",
      "/opt/anaconda3/envs/backup/lib/python3.11/site-packages/sklearn/preprocessing/_encoders.py:242: UserWarning: Found unknown categories in columns [0] during transform. These unknown categories will be encoded as all zeros\n",
      "  warnings.warn(\n",
      "[I 2024-11-26 17:46:47,509] Trial 21 finished with value: 0.8441605021295674 and parameters: {'n_estimators': 300, 'max_depth': 8, 'learning_rate': 0.011912330375542705, 'subsample': 0.7, 'colsample_bytree': 0.6, 'gamma': 1.787528913672702, 'reg_alpha': 0.0006162572090658419, 'reg_lambda': 0.0002803794800495953, 'min_frequency': 0.26220010940774746}. Best is trial 21 with value: 0.8441605021295674.\n",
      "/opt/anaconda3/envs/backup/lib/python3.11/site-packages/sklearn/preprocessing/_encoders.py:242: UserWarning: Found unknown categories in columns [0] during transform. These unknown categories will be encoded as all zeros\n",
      "  warnings.warn(\n",
      "/opt/anaconda3/envs/backup/lib/python3.11/site-packages/sklearn/preprocessing/_encoders.py:242: UserWarning: Found unknown categories in columns [0] during transform. These unknown categories will be encoded as all zeros\n",
      "  warnings.warn(\n",
      "/opt/anaconda3/envs/backup/lib/python3.11/site-packages/sklearn/preprocessing/_encoders.py:242: UserWarning: Found unknown categories in columns [0] during transform. These unknown categories will be encoded as all zeros\n",
      "  warnings.warn(\n",
      "/opt/anaconda3/envs/backup/lib/python3.11/site-packages/sklearn/preprocessing/_encoders.py:242: UserWarning: Found unknown categories in columns [0] during transform. These unknown categories will be encoded as all zeros\n",
      "  warnings.warn(\n",
      "/opt/anaconda3/envs/backup/lib/python3.11/site-packages/sklearn/preprocessing/_encoders.py:242: UserWarning: Found unknown categories in columns [0] during transform. These unknown categories will be encoded as all zeros\n",
      "  warnings.warn(\n",
      "[I 2024-11-26 17:46:47,980] Trial 22 finished with value: 0.8436225061645372 and parameters: {'n_estimators': 250, 'max_depth': 11, 'learning_rate': 0.012248017631499266, 'subsample': 0.6, 'colsample_bytree': 0.6, 'gamma': 1.7087724432359912, 'reg_alpha': 0.00038386282602742333, 'reg_lambda': 0.0002791207593844862, 'min_frequency': 0.2895038651456533}. Best is trial 21 with value: 0.8441605021295674.\n",
      "/opt/anaconda3/envs/backup/lib/python3.11/site-packages/sklearn/preprocessing/_encoders.py:242: UserWarning: Found unknown categories in columns [0] during transform. These unknown categories will be encoded as all zeros\n",
      "  warnings.warn(\n",
      "/opt/anaconda3/envs/backup/lib/python3.11/site-packages/sklearn/preprocessing/_encoders.py:242: UserWarning: Found unknown categories in columns [0] during transform. These unknown categories will be encoded as all zeros\n",
      "  warnings.warn(\n",
      "/opt/anaconda3/envs/backup/lib/python3.11/site-packages/sklearn/preprocessing/_encoders.py:242: UserWarning: Found unknown categories in columns [0] during transform. These unknown categories will be encoded as all zeros\n",
      "  warnings.warn(\n",
      "/opt/anaconda3/envs/backup/lib/python3.11/site-packages/sklearn/preprocessing/_encoders.py:242: UserWarning: Found unknown categories in columns [0] during transform. These unknown categories will be encoded as all zeros\n",
      "  warnings.warn(\n",
      "/opt/anaconda3/envs/backup/lib/python3.11/site-packages/sklearn/preprocessing/_encoders.py:242: UserWarning: Found unknown categories in columns [0] during transform. These unknown categories will be encoded as all zeros\n",
      "  warnings.warn(\n",
      "[I 2024-11-26 17:46:48,374] Trial 23 finished with value: 0.8446088321004259 and parameters: {'n_estimators': 200, 'max_depth': 12, 'learning_rate': 0.004530973749423761, 'subsample': 0.6, 'colsample_bytree': 0.5, 'gamma': 1.7461095361383754, 'reg_alpha': 0.0003573916101668857, 'reg_lambda': 0.0003205887639257371, 'min_frequency': 0.2972619230649906}. Best is trial 23 with value: 0.8446088321004259.\n",
      "/opt/anaconda3/envs/backup/lib/python3.11/site-packages/sklearn/preprocessing/_encoders.py:242: UserWarning: Found unknown categories in columns [0] during transform. These unknown categories will be encoded as all zeros\n",
      "  warnings.warn(\n",
      "/opt/anaconda3/envs/backup/lib/python3.11/site-packages/sklearn/preprocessing/_encoders.py:242: UserWarning: Found unknown categories in columns [0] during transform. These unknown categories will be encoded as all zeros\n",
      "  warnings.warn(\n",
      "/opt/anaconda3/envs/backup/lib/python3.11/site-packages/sklearn/preprocessing/_encoders.py:242: UserWarning: Found unknown categories in columns [0] during transform. These unknown categories will be encoded as all zeros\n",
      "  warnings.warn(\n",
      "/opt/anaconda3/envs/backup/lib/python3.11/site-packages/sklearn/preprocessing/_encoders.py:242: UserWarning: Found unknown categories in columns [0] during transform. These unknown categories will be encoded as all zeros\n",
      "  warnings.warn(\n",
      "/opt/anaconda3/envs/backup/lib/python3.11/site-packages/sklearn/preprocessing/_encoders.py:242: UserWarning: Found unknown categories in columns [0] during transform. These unknown categories will be encoded as all zeros\n",
      "  warnings.warn(\n",
      "[I 2024-11-26 17:46:49,158] Trial 24 finished with value: 0.8438018381528805 and parameters: {'n_estimators': 250, 'max_depth': 12, 'learning_rate': 0.0029984574793426224, 'subsample': 0.6, 'colsample_bytree': 0.5, 'gamma': 0.20879925592408988, 'reg_alpha': 0.0003830920123120656, 'reg_lambda': 9.691294286385063e-05, 'min_frequency': 0.2948465663119544}. Best is trial 23 with value: 0.8446088321004259.\n",
      "/opt/anaconda3/envs/backup/lib/python3.11/site-packages/sklearn/preprocessing/_encoders.py:242: UserWarning: Found unknown categories in columns [0] during transform. These unknown categories will be encoded as all zeros\n",
      "  warnings.warn(\n",
      "/opt/anaconda3/envs/backup/lib/python3.11/site-packages/sklearn/preprocessing/_encoders.py:242: UserWarning: Found unknown categories in columns [0] during transform. These unknown categories will be encoded as all zeros\n",
      "  warnings.warn(\n",
      "/opt/anaconda3/envs/backup/lib/python3.11/site-packages/sklearn/preprocessing/_encoders.py:242: UserWarning: Found unknown categories in columns [0] during transform. These unknown categories will be encoded as all zeros\n",
      "  warnings.warn(\n",
      "/opt/anaconda3/envs/backup/lib/python3.11/site-packages/sklearn/preprocessing/_encoders.py:242: UserWarning: Found unknown categories in columns [0] during transform. These unknown categories will be encoded as all zeros\n",
      "  warnings.warn(\n",
      "/opt/anaconda3/envs/backup/lib/python3.11/site-packages/sklearn/preprocessing/_encoders.py:242: UserWarning: Found unknown categories in columns [0] during transform. These unknown categories will be encoded as all zeros\n",
      "  warnings.warn(\n",
      "[I 2024-11-26 17:46:49,654] Trial 25 finished with value: 0.8429948442053352 and parameters: {'n_estimators': 100, 'max_depth': 12, 'learning_rate': 0.003629524284367861, 'subsample': 0.7, 'colsample_bytree': 0.5, 'gamma': 0.008461260975908269, 'reg_alpha': 0.0002957621730385752, 'reg_lambda': 7.519683220101984e-05, 'min_frequency': 0.289851915279632}. Best is trial 23 with value: 0.8446088321004259.\n",
      "/opt/anaconda3/envs/backup/lib/python3.11/site-packages/sklearn/preprocessing/_encoders.py:242: UserWarning: Found unknown categories in columns [0] during transform. These unknown categories will be encoded as all zeros\n",
      "  warnings.warn(\n",
      "/opt/anaconda3/envs/backup/lib/python3.11/site-packages/sklearn/preprocessing/_encoders.py:242: UserWarning: Found unknown categories in columns [0] during transform. These unknown categories will be encoded as all zeros\n",
      "  warnings.warn(\n",
      "/opt/anaconda3/envs/backup/lib/python3.11/site-packages/sklearn/preprocessing/_encoders.py:242: UserWarning: Found unknown categories in columns [0] during transform. These unknown categories will be encoded as all zeros\n",
      "  warnings.warn(\n",
      "/opt/anaconda3/envs/backup/lib/python3.11/site-packages/sklearn/preprocessing/_encoders.py:242: UserWarning: Found unknown categories in columns [0] during transform. These unknown categories will be encoded as all zeros\n",
      "  warnings.warn(\n",
      "/opt/anaconda3/envs/backup/lib/python3.11/site-packages/sklearn/preprocessing/_encoders.py:242: UserWarning: Found unknown categories in columns [0] during transform. These unknown categories will be encoded as all zeros\n",
      "  warnings.warn(\n",
      "[I 2024-11-26 17:46:50,030] Trial 26 finished with value: 0.8438018381528805 and parameters: {'n_estimators': 200, 'max_depth': 13, 'learning_rate': 0.0006286387279483131, 'subsample': 0.6, 'colsample_bytree': 0.5, 'gamma': 2.5202275981406546, 'reg_alpha': 0.008473233779845223, 'reg_lambda': 1.3385758222832534e-05, 'min_frequency': 0.2949406692508949}. Best is trial 23 with value: 0.8446088321004259.\n",
      "/opt/anaconda3/envs/backup/lib/python3.11/site-packages/sklearn/preprocessing/_encoders.py:242: UserWarning: Found unknown categories in columns [0] during transform. These unknown categories will be encoded as all zeros\n",
      "  warnings.warn(\n",
      "/opt/anaconda3/envs/backup/lib/python3.11/site-packages/sklearn/preprocessing/_encoders.py:242: UserWarning: Found unknown categories in columns [0] during transform. These unknown categories will be encoded as all zeros\n",
      "  warnings.warn(\n",
      "/opt/anaconda3/envs/backup/lib/python3.11/site-packages/sklearn/preprocessing/_encoders.py:242: UserWarning: Found unknown categories in columns [0] during transform. These unknown categories will be encoded as all zeros\n",
      "  warnings.warn(\n",
      "/opt/anaconda3/envs/backup/lib/python3.11/site-packages/sklearn/preprocessing/_encoders.py:242: UserWarning: Found unknown categories in columns [0] during transform. These unknown categories will be encoded as all zeros\n",
      "  warnings.warn(\n",
      "/opt/anaconda3/envs/backup/lib/python3.11/site-packages/sklearn/preprocessing/_encoders.py:242: UserWarning: Found unknown categories in columns [0] during transform. These unknown categories will be encoded as all zeros\n",
      "  warnings.warn(\n",
      "[I 2024-11-26 17:46:50,572] Trial 27 finished with value: 0.8435328401703653 and parameters: {'n_estimators': 200, 'max_depth': 11, 'learning_rate': 0.004503276004243264, 'subsample': 0.6, 'colsample_bytree': 0.5, 'gamma': 0.48683341985277717, 'reg_alpha': 0.0012874631535308915, 'reg_lambda': 8.809396541051944e-05, 'min_frequency': 0.23601511646749457}. Best is trial 23 with value: 0.8446088321004259.\n",
      "/opt/anaconda3/envs/backup/lib/python3.11/site-packages/sklearn/preprocessing/_encoders.py:242: UserWarning: Found unknown categories in columns [0] during transform. These unknown categories will be encoded as all zeros\n",
      "  warnings.warn(\n",
      "/opt/anaconda3/envs/backup/lib/python3.11/site-packages/sklearn/preprocessing/_encoders.py:242: UserWarning: Found unknown categories in columns [0] during transform. These unknown categories will be encoded as all zeros\n",
      "  warnings.warn(\n",
      "/opt/anaconda3/envs/backup/lib/python3.11/site-packages/sklearn/preprocessing/_encoders.py:242: UserWarning: Found unknown categories in columns [0] during transform. These unknown categories will be encoded as all zeros\n",
      "  warnings.warn(\n",
      "/opt/anaconda3/envs/backup/lib/python3.11/site-packages/sklearn/preprocessing/_encoders.py:242: UserWarning: Found unknown categories in columns [0] during transform. These unknown categories will be encoded as all zeros\n",
      "  warnings.warn(\n",
      "/opt/anaconda3/envs/backup/lib/python3.11/site-packages/sklearn/preprocessing/_encoders.py:242: UserWarning: Found unknown categories in columns [0] during transform. These unknown categories will be encoded as all zeros\n",
      "  warnings.warn(\n",
      "[I 2024-11-26 17:46:51,148] Trial 28 finished with value: 0.844295001120825 and parameters: {'n_estimators': 300, 'max_depth': 10, 'learning_rate': 0.0005498691983283967, 'subsample': 0.7, 'colsample_bytree': 0.5, 'gamma': 1.3428380479637605, 'reg_alpha': 0.0003124033050092823, 'reg_lambda': 0.0007767954484268323, 'min_frequency': 0.37751621990403833}. Best is trial 23 with value: 0.8446088321004259.\n",
      "/opt/anaconda3/envs/backup/lib/python3.11/site-packages/sklearn/preprocessing/_encoders.py:242: UserWarning: Found unknown categories in columns [0] during transform. These unknown categories will be encoded as all zeros\n",
      "  warnings.warn(\n",
      "/opt/anaconda3/envs/backup/lib/python3.11/site-packages/sklearn/preprocessing/_encoders.py:242: UserWarning: Found unknown categories in columns [0] during transform. These unknown categories will be encoded as all zeros\n",
      "  warnings.warn(\n",
      "/opt/anaconda3/envs/backup/lib/python3.11/site-packages/sklearn/preprocessing/_encoders.py:242: UserWarning: Found unknown categories in columns [0] during transform. These unknown categories will be encoded as all zeros\n",
      "  warnings.warn(\n",
      "/opt/anaconda3/envs/backup/lib/python3.11/site-packages/sklearn/preprocessing/_encoders.py:242: UserWarning: Found unknown categories in columns [0] during transform. These unknown categories will be encoded as all zeros\n",
      "  warnings.warn(\n",
      "/opt/anaconda3/envs/backup/lib/python3.11/site-packages/sklearn/preprocessing/_encoders.py:242: UserWarning: Found unknown categories in columns [0] during transform. These unknown categories will be encoded as all zeros\n",
      "  warnings.warn(\n",
      "[I 2024-11-26 17:46:52,006] Trial 29 finished with value: 0.8445639991033401 and parameters: {'n_estimators': 400, 'max_depth': 15, 'learning_rate': 0.00044923715953930414, 'subsample': 0.8, 'colsample_bytree': 0.5, 'gamma': 1.1969049866450692, 'reg_alpha': 4.2988034266997276e-05, 'reg_lambda': 0.0009691615639398442, 'min_frequency': 0.39949131886322037}. Best is trial 23 with value: 0.8446088321004259.\n",
      "/opt/anaconda3/envs/backup/lib/python3.11/site-packages/sklearn/preprocessing/_encoders.py:242: UserWarning: Found unknown categories in columns [0] during transform. These unknown categories will be encoded as all zeros\n",
      "  warnings.warn(\n",
      "/opt/anaconda3/envs/backup/lib/python3.11/site-packages/sklearn/preprocessing/_encoders.py:242: UserWarning: Found unknown categories in columns [0] during transform. These unknown categories will be encoded as all zeros\n",
      "  warnings.warn(\n",
      "/opt/anaconda3/envs/backup/lib/python3.11/site-packages/sklearn/preprocessing/_encoders.py:242: UserWarning: Found unknown categories in columns [0] during transform. These unknown categories will be encoded as all zeros\n",
      "  warnings.warn(\n",
      "/opt/anaconda3/envs/backup/lib/python3.11/site-packages/sklearn/preprocessing/_encoders.py:242: UserWarning: Found unknown categories in columns [0] during transform. These unknown categories will be encoded as all zeros\n",
      "  warnings.warn(\n",
      "/opt/anaconda3/envs/backup/lib/python3.11/site-packages/sklearn/preprocessing/_encoders.py:242: UserWarning: Found unknown categories in columns [0] during transform. These unknown categories will be encoded as all zeros\n",
      "  warnings.warn(\n",
      "[I 2024-11-26 17:46:52,824] Trial 30 finished with value: 0.8444295001120825 and parameters: {'n_estimators': 400, 'max_depth': 15, 'learning_rate': 0.000455111077107815, 'subsample': 0.8, 'colsample_bytree': 0.5, 'gamma': 1.307762825791002, 'reg_alpha': 2.2744283364895392e-05, 'reg_lambda': 0.0007240219229336834, 'min_frequency': 0.39539180036738336}. Best is trial 23 with value: 0.8446088321004259.\n",
      "/opt/anaconda3/envs/backup/lib/python3.11/site-packages/sklearn/preprocessing/_encoders.py:242: UserWarning: Found unknown categories in columns [0] during transform. These unknown categories will be encoded as all zeros\n",
      "  warnings.warn(\n",
      "/opt/anaconda3/envs/backup/lib/python3.11/site-packages/sklearn/preprocessing/_encoders.py:242: UserWarning: Found unknown categories in columns [0] during transform. These unknown categories will be encoded as all zeros\n",
      "  warnings.warn(\n",
      "/opt/anaconda3/envs/backup/lib/python3.11/site-packages/sklearn/preprocessing/_encoders.py:242: UserWarning: Found unknown categories in columns [0] during transform. These unknown categories will be encoded as all zeros\n",
      "  warnings.warn(\n",
      "/opt/anaconda3/envs/backup/lib/python3.11/site-packages/sklearn/preprocessing/_encoders.py:242: UserWarning: Found unknown categories in columns [0] during transform. These unknown categories will be encoded as all zeros\n",
      "  warnings.warn(\n",
      "/opt/anaconda3/envs/backup/lib/python3.11/site-packages/sklearn/preprocessing/_encoders.py:242: UserWarning: Found unknown categories in columns [0] during transform. These unknown categories will be encoded as all zeros\n",
      "  warnings.warn(\n",
      "[I 2024-11-26 17:46:53,669] Trial 31 finished with value: 0.8449674960771126 and parameters: {'n_estimators': 400, 'max_depth': 15, 'learning_rate': 0.00047736963099652045, 'subsample': 0.8, 'colsample_bytree': 0.5, 'gamma': 1.2795218670425836, 'reg_alpha': 2.7330319130041906e-05, 'reg_lambda': 0.000935948612362623, 'min_frequency': 0.3913219830479969}. Best is trial 31 with value: 0.8449674960771126.\n",
      "/opt/anaconda3/envs/backup/lib/python3.11/site-packages/sklearn/preprocessing/_encoders.py:242: UserWarning: Found unknown categories in columns [0] during transform. These unknown categories will be encoded as all zeros\n",
      "  warnings.warn(\n",
      "/opt/anaconda3/envs/backup/lib/python3.11/site-packages/sklearn/preprocessing/_encoders.py:242: UserWarning: Found unknown categories in columns [0] during transform. These unknown categories will be encoded as all zeros\n",
      "  warnings.warn(\n",
      "/opt/anaconda3/envs/backup/lib/python3.11/site-packages/sklearn/preprocessing/_encoders.py:242: UserWarning: Found unknown categories in columns [0] during transform. These unknown categories will be encoded as all zeros\n",
      "  warnings.warn(\n",
      "/opt/anaconda3/envs/backup/lib/python3.11/site-packages/sklearn/preprocessing/_encoders.py:242: UserWarning: Found unknown categories in columns [0] during transform. These unknown categories will be encoded as all zeros\n",
      "  warnings.warn(\n",
      "/opt/anaconda3/envs/backup/lib/python3.11/site-packages/sklearn/preprocessing/_encoders.py:242: UserWarning: Found unknown categories in columns [0] during transform. These unknown categories will be encoded as all zeros\n",
      "  warnings.warn(\n",
      "[I 2024-11-26 17:46:54,553] Trial 32 finished with value: 0.8451019950683702 and parameters: {'n_estimators': 400, 'max_depth': 15, 'learning_rate': 0.00037728397919320033, 'subsample': 0.8, 'colsample_bytree': 0.5, 'gamma': 1.1762886306638634, 'reg_alpha': 3.178832371351246e-05, 'reg_lambda': 0.004403557867132179, 'min_frequency': 0.3999573056254544}. Best is trial 32 with value: 0.8451019950683702.\n",
      "/opt/anaconda3/envs/backup/lib/python3.11/site-packages/sklearn/preprocessing/_encoders.py:242: UserWarning: Found unknown categories in columns [0] during transform. These unknown categories will be encoded as all zeros\n",
      "  warnings.warn(\n",
      "/opt/anaconda3/envs/backup/lib/python3.11/site-packages/sklearn/preprocessing/_encoders.py:242: UserWarning: Found unknown categories in columns [0] during transform. These unknown categories will be encoded as all zeros\n",
      "  warnings.warn(\n",
      "/opt/anaconda3/envs/backup/lib/python3.11/site-packages/sklearn/preprocessing/_encoders.py:242: UserWarning: Found unknown categories in columns [0] during transform. These unknown categories will be encoded as all zeros\n",
      "  warnings.warn(\n",
      "/opt/anaconda3/envs/backup/lib/python3.11/site-packages/sklearn/preprocessing/_encoders.py:242: UserWarning: Found unknown categories in columns [0] during transform. These unknown categories will be encoded as all zeros\n",
      "  warnings.warn(\n",
      "/opt/anaconda3/envs/backup/lib/python3.11/site-packages/sklearn/preprocessing/_encoders.py:242: UserWarning: Found unknown categories in columns [0] during transform. These unknown categories will be encoded as all zeros\n",
      "  warnings.warn(\n",
      "[I 2024-11-26 17:46:55,267] Trial 33 finished with value: 0.8438018381528805 and parameters: {'n_estimators': 450, 'max_depth': 15, 'learning_rate': 0.00032663687629789524, 'subsample': 0.8, 'colsample_bytree': 0.5, 'gamma': 2.3323836166847514, 'reg_alpha': 1.0609488678816035e-05, 'reg_lambda': 0.004275067048040129, 'min_frequency': 0.36902066432038233}. Best is trial 32 with value: 0.8451019950683702.\n",
      "/opt/anaconda3/envs/backup/lib/python3.11/site-packages/sklearn/preprocessing/_encoders.py:242: UserWarning: Found unknown categories in columns [0] during transform. These unknown categories will be encoded as all zeros\n",
      "  warnings.warn(\n",
      "/opt/anaconda3/envs/backup/lib/python3.11/site-packages/sklearn/preprocessing/_encoders.py:242: UserWarning: Found unknown categories in columns [0] during transform. These unknown categories will be encoded as all zeros\n",
      "  warnings.warn(\n",
      "/opt/anaconda3/envs/backup/lib/python3.11/site-packages/sklearn/preprocessing/_encoders.py:242: UserWarning: Found unknown categories in columns [0] during transform. These unknown categories will be encoded as all zeros\n",
      "  warnings.warn(\n",
      "/opt/anaconda3/envs/backup/lib/python3.11/site-packages/sklearn/preprocessing/_encoders.py:242: UserWarning: Found unknown categories in columns [0] during transform. These unknown categories will be encoded as all zeros\n",
      "  warnings.warn(\n",
      "/opt/anaconda3/envs/backup/lib/python3.11/site-packages/sklearn/preprocessing/_encoders.py:242: UserWarning: Found unknown categories in columns [0] during transform. These unknown categories will be encoded as all zeros\n",
      "  warnings.warn(\n",
      "[I 2024-11-26 17:46:56,640] Trial 34 finished with value: 0.8453261600537996 and parameters: {'n_estimators': 450, 'max_depth': 14, 'learning_rate': 0.00010495870356918858, 'subsample': 0.8, 'colsample_bytree': 0.5, 'gamma': 0.9775010746767356, 'reg_alpha': 3.905579315207238e-05, 'reg_lambda': 0.004109931257250694, 'min_frequency': 0.32025136845540364}. Best is trial 34 with value: 0.8453261600537996.\n",
      "/opt/anaconda3/envs/backup/lib/python3.11/site-packages/sklearn/preprocessing/_encoders.py:242: UserWarning: Found unknown categories in columns [0] during transform. These unknown categories will be encoded as all zeros\n",
      "  warnings.warn(\n",
      "/opt/anaconda3/envs/backup/lib/python3.11/site-packages/sklearn/preprocessing/_encoders.py:242: UserWarning: Found unknown categories in columns [0] during transform. These unknown categories will be encoded as all zeros\n",
      "  warnings.warn(\n",
      "/opt/anaconda3/envs/backup/lib/python3.11/site-packages/sklearn/preprocessing/_encoders.py:242: UserWarning: Found unknown categories in columns [0] during transform. These unknown categories will be encoded as all zeros\n",
      "  warnings.warn(\n",
      "/opt/anaconda3/envs/backup/lib/python3.11/site-packages/sklearn/preprocessing/_encoders.py:242: UserWarning: Found unknown categories in columns [0] during transform. These unknown categories will be encoded as all zeros\n",
      "  warnings.warn(\n",
      "/opt/anaconda3/envs/backup/lib/python3.11/site-packages/sklearn/preprocessing/_encoders.py:242: UserWarning: Found unknown categories in columns [0] during transform. These unknown categories will be encoded as all zeros\n",
      "  warnings.warn(\n",
      "[I 2024-11-26 17:46:58,002] Trial 35 finished with value: 0.8438018381528807 and parameters: {'n_estimators': 500, 'max_depth': 14, 'learning_rate': 0.00011441277887557564, 'subsample': 0.8, 'colsample_bytree': 0.6, 'gamma': 1.0619135038925642, 'reg_alpha': 2.9254013855484568e-05, 'reg_lambda': 0.005326143778944198, 'min_frequency': 0.3346904818261024}. Best is trial 34 with value: 0.8453261600537996.\n",
      "/opt/anaconda3/envs/backup/lib/python3.11/site-packages/sklearn/preprocessing/_encoders.py:242: UserWarning: Found unknown categories in columns [0] during transform. These unknown categories will be encoded as all zeros\n",
      "  warnings.warn(\n",
      "/opt/anaconda3/envs/backup/lib/python3.11/site-packages/sklearn/preprocessing/_encoders.py:242: UserWarning: Found unknown categories in columns [0] during transform. These unknown categories will be encoded as all zeros\n",
      "  warnings.warn(\n",
      "/opt/anaconda3/envs/backup/lib/python3.11/site-packages/sklearn/preprocessing/_encoders.py:242: UserWarning: Found unknown categories in columns [0] during transform. These unknown categories will be encoded as all zeros\n",
      "  warnings.warn(\n",
      "/opt/anaconda3/envs/backup/lib/python3.11/site-packages/sklearn/preprocessing/_encoders.py:242: UserWarning: Found unknown categories in columns [0] during transform. These unknown categories will be encoded as all zeros\n",
      "  warnings.warn(\n",
      "/opt/anaconda3/envs/backup/lib/python3.11/site-packages/sklearn/preprocessing/_encoders.py:242: UserWarning: Found unknown categories in columns [0] during transform. These unknown categories will be encoded as all zeros\n",
      "  warnings.warn(\n",
      "[I 2024-11-26 17:46:59,267] Trial 36 finished with value: 0.8427706792199059 and parameters: {'n_estimators': 450, 'max_depth': 14, 'learning_rate': 0.0002552031482775145, 'subsample': 0.8, 'colsample_bytree': 0.6, 'gamma': 2.2023214857390396, 'reg_alpha': 7.460707356438666e-05, 'reg_lambda': 0.0014559027281409512, 'min_frequency': 0.31181513490378077}. Best is trial 34 with value: 0.8453261600537996.\n",
      "/opt/anaconda3/envs/backup/lib/python3.11/site-packages/sklearn/preprocessing/_encoders.py:242: UserWarning: Found unknown categories in columns [0] during transform. These unknown categories will be encoded as all zeros\n",
      "  warnings.warn(\n",
      "/opt/anaconda3/envs/backup/lib/python3.11/site-packages/sklearn/preprocessing/_encoders.py:242: UserWarning: Found unknown categories in columns [0] during transform. These unknown categories will be encoded as all zeros\n",
      "  warnings.warn(\n",
      "/opt/anaconda3/envs/backup/lib/python3.11/site-packages/sklearn/preprocessing/_encoders.py:242: UserWarning: Found unknown categories in columns [0] during transform. These unknown categories will be encoded as all zeros\n",
      "  warnings.warn(\n",
      "/opt/anaconda3/envs/backup/lib/python3.11/site-packages/sklearn/preprocessing/_encoders.py:242: UserWarning: Found unknown categories in columns [0] during transform. These unknown categories will be encoded as all zeros\n",
      "  warnings.warn(\n",
      "/opt/anaconda3/envs/backup/lib/python3.11/site-packages/sklearn/preprocessing/_encoders.py:242: UserWarning: Found unknown categories in columns [0] during transform. These unknown categories will be encoded as all zeros\n",
      "  warnings.warn(\n",
      "[I 2024-11-26 17:47:00,223] Trial 37 finished with value: 0.8435328401703653 and parameters: {'n_estimators': 350, 'max_depth': 13, 'learning_rate': 0.0008605125745691798, 'subsample': 0.9, 'colsample_bytree': 0.5, 'gamma': 2.924731188232354, 'reg_alpha': 1.904337307189089e-05, 'reg_lambda': 0.005608709046615217, 'min_frequency': 0.3610579983162733}. Best is trial 34 with value: 0.8453261600537996.\n",
      "/opt/anaconda3/envs/backup/lib/python3.11/site-packages/sklearn/preprocessing/_encoders.py:242: UserWarning: Found unknown categories in columns [0] during transform. These unknown categories will be encoded as all zeros\n",
      "  warnings.warn(\n",
      "/opt/anaconda3/envs/backup/lib/python3.11/site-packages/sklearn/preprocessing/_encoders.py:242: UserWarning: Found unknown categories in columns [0] during transform. These unknown categories will be encoded as all zeros\n",
      "  warnings.warn(\n",
      "/opt/anaconda3/envs/backup/lib/python3.11/site-packages/sklearn/preprocessing/_encoders.py:242: UserWarning: Found unknown categories in columns [0] during transform. These unknown categories will be encoded as all zeros\n",
      "  warnings.warn(\n",
      "/opt/anaconda3/envs/backup/lib/python3.11/site-packages/sklearn/preprocessing/_encoders.py:242: UserWarning: Found unknown categories in columns [0] during transform. These unknown categories will be encoded as all zeros\n",
      "  warnings.warn(\n",
      "/opt/anaconda3/envs/backup/lib/python3.11/site-packages/sklearn/preprocessing/_encoders.py:242: UserWarning: Found unknown categories in columns [0] during transform. These unknown categories will be encoded as all zeros\n",
      "  warnings.warn(\n",
      "[I 2024-11-26 17:47:01,816] Trial 38 finished with value: 0.8459986550100874 and parameters: {'n_estimators': 350, 'max_depth': 14, 'learning_rate': 0.00011523461529299424, 'subsample': 0.7, 'colsample_bytree': 0.5, 'gamma': 0.5929714920621301, 'reg_alpha': 8.155635474326141e-05, 'reg_lambda': 0.00044358230982053764, 'min_frequency': 0.3161088095408004}. Best is trial 38 with value: 0.8459986550100874.\n",
      "/opt/anaconda3/envs/backup/lib/python3.11/site-packages/sklearn/preprocessing/_encoders.py:242: UserWarning: Found unknown categories in columns [0] during transform. These unknown categories will be encoded as all zeros\n",
      "  warnings.warn(\n",
      "/opt/anaconda3/envs/backup/lib/python3.11/site-packages/sklearn/preprocessing/_encoders.py:242: UserWarning: Found unknown categories in columns [0] during transform. These unknown categories will be encoded as all zeros\n",
      "  warnings.warn(\n",
      "/opt/anaconda3/envs/backup/lib/python3.11/site-packages/sklearn/preprocessing/_encoders.py:242: UserWarning: Found unknown categories in columns [0] during transform. These unknown categories will be encoded as all zeros\n",
      "  warnings.warn(\n",
      "/opt/anaconda3/envs/backup/lib/python3.11/site-packages/sklearn/preprocessing/_encoders.py:242: UserWarning: Found unknown categories in columns [0] during transform. These unknown categories will be encoded as all zeros\n",
      "  warnings.warn(\n",
      "/opt/anaconda3/envs/backup/lib/python3.11/site-packages/sklearn/preprocessing/_encoders.py:242: UserWarning: Found unknown categories in columns [0] during transform. These unknown categories will be encoded as all zeros\n",
      "  warnings.warn(\n",
      "[I 2024-11-26 17:47:03,498] Trial 39 finished with value: 0.8439811701412239 and parameters: {'n_estimators': 350, 'max_depth': 14, 'learning_rate': 0.00010135978080844301, 'subsample': 0.7, 'colsample_bytree': 0.6, 'gamma': 0.010270235094848257, 'reg_alpha': 0.00011563767537625345, 'reg_lambda': 0.09964416885791026, 'min_frequency': 0.3224574947788193}. Best is trial 38 with value: 0.8459986550100874.\n",
      "/opt/anaconda3/envs/backup/lib/python3.11/site-packages/sklearn/preprocessing/_encoders.py:242: UserWarning: Found unknown categories in columns [0] during transform. These unknown categories will be encoded as all zeros\n",
      "  warnings.warn(\n",
      "/opt/anaconda3/envs/backup/lib/python3.11/site-packages/sklearn/preprocessing/_encoders.py:242: UserWarning: Found unknown categories in columns [0] during transform. These unknown categories will be encoded as all zeros\n",
      "  warnings.warn(\n",
      "/opt/anaconda3/envs/backup/lib/python3.11/site-packages/sklearn/preprocessing/_encoders.py:242: UserWarning: Found unknown categories in columns [0] during transform. These unknown categories will be encoded as all zeros\n",
      "  warnings.warn(\n",
      "/opt/anaconda3/envs/backup/lib/python3.11/site-packages/sklearn/preprocessing/_encoders.py:242: UserWarning: Found unknown categories in columns [0] during transform. These unknown categories will be encoded as all zeros\n",
      "  warnings.warn(\n",
      "/opt/anaconda3/envs/backup/lib/python3.11/site-packages/sklearn/preprocessing/_encoders.py:242: UserWarning: Found unknown categories in columns [0] during transform. These unknown categories will be encoded as all zeros\n",
      "  warnings.warn(\n",
      "[I 2024-11-26 17:47:05,310] Trial 40 finished with value: 0.8456848240304863 and parameters: {'n_estimators': 550, 'max_depth': 15, 'learning_rate': 0.00025912213737273713, 'subsample': 0.8, 'colsample_bytree': 0.5, 'gamma': 0.7579237321549476, 'reg_alpha': 1.0168339991068409e-05, 'reg_lambda': 0.0029329679923709674, 'min_frequency': 0.3488366823135576}. Best is trial 38 with value: 0.8459986550100874.\n",
      "/opt/anaconda3/envs/backup/lib/python3.11/site-packages/sklearn/preprocessing/_encoders.py:242: UserWarning: Found unknown categories in columns [0] during transform. These unknown categories will be encoded as all zeros\n",
      "  warnings.warn(\n",
      "/opt/anaconda3/envs/backup/lib/python3.11/site-packages/sklearn/preprocessing/_encoders.py:242: UserWarning: Found unknown categories in columns [0] during transform. These unknown categories will be encoded as all zeros\n",
      "  warnings.warn(\n",
      "/opt/anaconda3/envs/backup/lib/python3.11/site-packages/sklearn/preprocessing/_encoders.py:242: UserWarning: Found unknown categories in columns [0] during transform. These unknown categories will be encoded as all zeros\n",
      "  warnings.warn(\n",
      "/opt/anaconda3/envs/backup/lib/python3.11/site-packages/sklearn/preprocessing/_encoders.py:242: UserWarning: Found unknown categories in columns [0] during transform. These unknown categories will be encoded as all zeros\n",
      "  warnings.warn(\n",
      "/opt/anaconda3/envs/backup/lib/python3.11/site-packages/sklearn/preprocessing/_encoders.py:242: UserWarning: Found unknown categories in columns [0] during transform. These unknown categories will be encoded as all zeros\n",
      "  warnings.warn(\n",
      "[I 2024-11-26 17:47:07,188] Trial 41 finished with value: 0.8455951580363147 and parameters: {'n_estimators': 550, 'max_depth': 15, 'learning_rate': 0.0002783460531843752, 'subsample': 0.8, 'colsample_bytree': 0.5, 'gamma': 0.7545613658272704, 'reg_alpha': 1.2897604252619624e-05, 'reg_lambda': 0.0029819323025875788, 'min_frequency': 0.3726529244432379}. Best is trial 38 with value: 0.8459986550100874.\n",
      "/opt/anaconda3/envs/backup/lib/python3.11/site-packages/sklearn/preprocessing/_encoders.py:242: UserWarning: Found unknown categories in columns [0] during transform. These unknown categories will be encoded as all zeros\n",
      "  warnings.warn(\n",
      "/opt/anaconda3/envs/backup/lib/python3.11/site-packages/sklearn/preprocessing/_encoders.py:242: UserWarning: Found unknown categories in columns [0] during transform. These unknown categories will be encoded as all zeros\n",
      "  warnings.warn(\n",
      "/opt/anaconda3/envs/backup/lib/python3.11/site-packages/sklearn/preprocessing/_encoders.py:242: UserWarning: Found unknown categories in columns [0] during transform. These unknown categories will be encoded as all zeros\n",
      "  warnings.warn(\n",
      "/opt/anaconda3/envs/backup/lib/python3.11/site-packages/sklearn/preprocessing/_encoders.py:242: UserWarning: Found unknown categories in columns [0] during transform. These unknown categories will be encoded as all zeros\n",
      "  warnings.warn(\n",
      "/opt/anaconda3/envs/backup/lib/python3.11/site-packages/sklearn/preprocessing/_encoders.py:242: UserWarning: Found unknown categories in columns [0] during transform. These unknown categories will be encoded as all zeros\n",
      "  warnings.warn(\n",
      "[I 2024-11-26 17:47:09,020] Trial 42 finished with value: 0.8460883210042592 and parameters: {'n_estimators': 600, 'max_depth': 14, 'learning_rate': 0.00021336055853773855, 'subsample': 0.8, 'colsample_bytree': 0.5, 'gamma': 0.7425909888009523, 'reg_alpha': 1.0725994234045128e-05, 'reg_lambda': 0.00974867182761464, 'min_frequency': 0.36063093949743463}. Best is trial 42 with value: 0.8460883210042592.\n",
      "/opt/anaconda3/envs/backup/lib/python3.11/site-packages/sklearn/preprocessing/_encoders.py:242: UserWarning: Found unknown categories in columns [0] during transform. These unknown categories will be encoded as all zeros\n",
      "  warnings.warn(\n",
      "/opt/anaconda3/envs/backup/lib/python3.11/site-packages/sklearn/preprocessing/_encoders.py:242: UserWarning: Found unknown categories in columns [0] during transform. These unknown categories will be encoded as all zeros\n",
      "  warnings.warn(\n",
      "/opt/anaconda3/envs/backup/lib/python3.11/site-packages/sklearn/preprocessing/_encoders.py:242: UserWarning: Found unknown categories in columns [0] during transform. These unknown categories will be encoded as all zeros\n",
      "  warnings.warn(\n",
      "/opt/anaconda3/envs/backup/lib/python3.11/site-packages/sklearn/preprocessing/_encoders.py:242: UserWarning: Found unknown categories in columns [0] during transform. These unknown categories will be encoded as all zeros\n",
      "  warnings.warn(\n",
      "/opt/anaconda3/envs/backup/lib/python3.11/site-packages/sklearn/preprocessing/_encoders.py:242: UserWarning: Found unknown categories in columns [0] during transform. These unknown categories will be encoded as all zeros\n",
      "  warnings.warn(\n",
      "[I 2024-11-26 17:47:10,938] Trial 43 finished with value: 0.8463573189867741 and parameters: {'n_estimators': 600, 'max_depth': 14, 'learning_rate': 0.00021062117311210855, 'subsample': 0.8, 'colsample_bytree': 0.5, 'gamma': 0.6423907049624322, 'reg_alpha': 1.1041671467809753e-05, 'reg_lambda': 0.012385012549916023, 'min_frequency': 0.34756223767711103}. Best is trial 43 with value: 0.8463573189867741.\n",
      "/opt/anaconda3/envs/backup/lib/python3.11/site-packages/sklearn/preprocessing/_encoders.py:242: UserWarning: Found unknown categories in columns [0] during transform. These unknown categories will be encoded as all zeros\n",
      "  warnings.warn(\n",
      "/opt/anaconda3/envs/backup/lib/python3.11/site-packages/sklearn/preprocessing/_encoders.py:242: UserWarning: Found unknown categories in columns [0] during transform. These unknown categories will be encoded as all zeros\n",
      "  warnings.warn(\n",
      "/opt/anaconda3/envs/backup/lib/python3.11/site-packages/sklearn/preprocessing/_encoders.py:242: UserWarning: Found unknown categories in columns [0] during transform. These unknown categories will be encoded as all zeros\n",
      "  warnings.warn(\n",
      "/opt/anaconda3/envs/backup/lib/python3.11/site-packages/sklearn/preprocessing/_encoders.py:242: UserWarning: Found unknown categories in columns [0] during transform. These unknown categories will be encoded as all zeros\n",
      "  warnings.warn(\n",
      "/opt/anaconda3/envs/backup/lib/python3.11/site-packages/sklearn/preprocessing/_encoders.py:242: UserWarning: Found unknown categories in columns [0] during transform. These unknown categories will be encoded as all zeros\n",
      "  warnings.warn(\n",
      "[I 2024-11-26 17:47:12,452] Trial 44 finished with value: 0.846491817978032 and parameters: {'n_estimators': 600, 'max_depth': 13, 'learning_rate': 0.00022745094720645436, 'subsample': 0.7, 'colsample_bytree': 0.5, 'gamma': 0.5566350039173886, 'reg_alpha': 1.1572068089409904e-05, 'reg_lambda': 0.022448492696921635, 'min_frequency': 0.3458349011854006}. Best is trial 44 with value: 0.846491817978032.\n",
      "/opt/anaconda3/envs/backup/lib/python3.11/site-packages/sklearn/preprocessing/_encoders.py:242: UserWarning: Found unknown categories in columns [0] during transform. These unknown categories will be encoded as all zeros\n",
      "  warnings.warn(\n",
      "/opt/anaconda3/envs/backup/lib/python3.11/site-packages/sklearn/preprocessing/_encoders.py:242: UserWarning: Found unknown categories in columns [0] during transform. These unknown categories will be encoded as all zeros\n",
      "  warnings.warn(\n",
      "/opt/anaconda3/envs/backup/lib/python3.11/site-packages/sklearn/preprocessing/_encoders.py:242: UserWarning: Found unknown categories in columns [0] during transform. These unknown categories will be encoded as all zeros\n",
      "  warnings.warn(\n",
      "/opt/anaconda3/envs/backup/lib/python3.11/site-packages/sklearn/preprocessing/_encoders.py:242: UserWarning: Found unknown categories in columns [0] during transform. These unknown categories will be encoded as all zeros\n",
      "  warnings.warn(\n",
      "/opt/anaconda3/envs/backup/lib/python3.11/site-packages/sklearn/preprocessing/_encoders.py:242: UserWarning: Found unknown categories in columns [0] during transform. These unknown categories will be encoded as all zeros\n",
      "  warnings.warn(\n",
      "[I 2024-11-26 17:47:14,394] Trial 45 finished with value: 0.8445639991033401 and parameters: {'n_estimators': 650, 'max_depth': 13, 'learning_rate': 0.00016351084530044293, 'subsample': 0.7, 'colsample_bytree': 0.6, 'gamma': 0.5643640323019924, 'reg_alpha': 1.0613571025016757e-05, 'reg_lambda': 0.03228659045280687, 'min_frequency': 0.34745349342634924}. Best is trial 44 with value: 0.846491817978032.\n",
      "/opt/anaconda3/envs/backup/lib/python3.11/site-packages/sklearn/preprocessing/_encoders.py:242: UserWarning: Found unknown categories in columns [0] during transform. These unknown categories will be encoded as all zeros\n",
      "  warnings.warn(\n",
      "/opt/anaconda3/envs/backup/lib/python3.11/site-packages/sklearn/preprocessing/_encoders.py:242: UserWarning: Found unknown categories in columns [0] during transform. These unknown categories will be encoded as all zeros\n",
      "  warnings.warn(\n",
      "/opt/anaconda3/envs/backup/lib/python3.11/site-packages/sklearn/preprocessing/_encoders.py:242: UserWarning: Found unknown categories in columns [0] during transform. These unknown categories will be encoded as all zeros\n",
      "  warnings.warn(\n",
      "/opt/anaconda3/envs/backup/lib/python3.11/site-packages/sklearn/preprocessing/_encoders.py:242: UserWarning: Found unknown categories in columns [0] during transform. These unknown categories will be encoded as all zeros\n",
      "  warnings.warn(\n",
      "/opt/anaconda3/envs/backup/lib/python3.11/site-packages/sklearn/preprocessing/_encoders.py:242: UserWarning: Found unknown categories in columns [0] during transform. These unknown categories will be encoded as all zeros\n",
      "  warnings.warn(\n",
      "[I 2024-11-26 17:47:17,195] Trial 46 finished with value: 0.8361353956511992 and parameters: {'n_estimators': 600, 'max_depth': 13, 'learning_rate': 0.0002082483420529666, 'subsample': 0.7, 'colsample_bytree': 1.0, 'gamma': 0.2306120739007519, 'reg_alpha': 1.599737989435036e-05, 'reg_lambda': 0.016718081336413306, 'min_frequency': 0.34478063953562643}. Best is trial 44 with value: 0.846491817978032.\n",
      "/opt/anaconda3/envs/backup/lib/python3.11/site-packages/sklearn/preprocessing/_encoders.py:242: UserWarning: Found unknown categories in columns [0] during transform. These unknown categories will be encoded as all zeros\n",
      "  warnings.warn(\n",
      "/opt/anaconda3/envs/backup/lib/python3.11/site-packages/sklearn/preprocessing/_encoders.py:242: UserWarning: Found unknown categories in columns [0] during transform. These unknown categories will be encoded as all zeros\n",
      "  warnings.warn(\n",
      "/opt/anaconda3/envs/backup/lib/python3.11/site-packages/sklearn/preprocessing/_encoders.py:242: UserWarning: Found unknown categories in columns [0] during transform. These unknown categories will be encoded as all zeros\n",
      "  warnings.warn(\n",
      "/opt/anaconda3/envs/backup/lib/python3.11/site-packages/sklearn/preprocessing/_encoders.py:242: UserWarning: Found unknown categories in columns [0] during transform. These unknown categories will be encoded as all zeros\n",
      "  warnings.warn(\n",
      "/opt/anaconda3/envs/backup/lib/python3.11/site-packages/sklearn/preprocessing/_encoders.py:242: UserWarning: Found unknown categories in columns [0] during transform. These unknown categories will be encoded as all zeros\n",
      "  warnings.warn(\n",
      "[I 2024-11-26 17:47:19,941] Trial 47 finished with value: 0.8440260031383098 and parameters: {'n_estimators': 700, 'max_depth': 14, 'learning_rate': 0.00017440125373779802, 'subsample': 0.9, 'colsample_bytree': 0.6, 'gamma': 0.5211131009010083, 'reg_alpha': 1.6671109971163354e-05, 'reg_lambda': 0.0702282091200047, 'min_frequency': 0.3520092615117605}. Best is trial 44 with value: 0.846491817978032.\n",
      "/opt/anaconda3/envs/backup/lib/python3.11/site-packages/sklearn/preprocessing/_encoders.py:242: UserWarning: Found unknown categories in columns [0] during transform. These unknown categories will be encoded as all zeros\n",
      "  warnings.warn(\n",
      "/opt/anaconda3/envs/backup/lib/python3.11/site-packages/sklearn/preprocessing/_encoders.py:242: UserWarning: Found unknown categories in columns [0] during transform. These unknown categories will be encoded as all zeros\n",
      "  warnings.warn(\n",
      "/opt/anaconda3/envs/backup/lib/python3.11/site-packages/sklearn/preprocessing/_encoders.py:242: UserWarning: Found unknown categories in columns [0] during transform. These unknown categories will be encoded as all zeros\n",
      "  warnings.warn(\n",
      "/opt/anaconda3/envs/backup/lib/python3.11/site-packages/sklearn/preprocessing/_encoders.py:242: UserWarning: Found unknown categories in columns [0] during transform. These unknown categories will be encoded as all zeros\n",
      "  warnings.warn(\n",
      "/opt/anaconda3/envs/backup/lib/python3.11/site-packages/sklearn/preprocessing/_encoders.py:242: UserWarning: Found unknown categories in columns [0] during transform. These unknown categories will be encoded as all zeros\n",
      "  warnings.warn(\n",
      "[I 2024-11-26 17:47:21,226] Trial 48 finished with value: 0.8440708361353956 and parameters: {'n_estimators': 700, 'max_depth': 14, 'learning_rate': 0.0007432124405130172, 'subsample': 0.7, 'colsample_bytree': 0.5, 'gamma': 2.0871300713658627, 'reg_alpha': 7.928498917236089e-05, 'reg_lambda': 0.008413474083726405, 'min_frequency': 0.22372333208594972}. Best is trial 44 with value: 0.846491817978032.\n",
      "/opt/anaconda3/envs/backup/lib/python3.11/site-packages/sklearn/preprocessing/_encoders.py:242: UserWarning: Found unknown categories in columns [0] during transform. These unknown categories will be encoded as all zeros\n",
      "  warnings.warn(\n",
      "/opt/anaconda3/envs/backup/lib/python3.11/site-packages/sklearn/preprocessing/_encoders.py:242: UserWarning: Found unknown categories in columns [0] during transform. These unknown categories will be encoded as all zeros\n",
      "  warnings.warn(\n",
      "/opt/anaconda3/envs/backup/lib/python3.11/site-packages/sklearn/preprocessing/_encoders.py:242: UserWarning: Found unknown categories in columns [0] during transform. These unknown categories will be encoded as all zeros\n",
      "  warnings.warn(\n",
      "/opt/anaconda3/envs/backup/lib/python3.11/site-packages/sklearn/preprocessing/_encoders.py:242: UserWarning: Found unknown categories in columns [0] during transform. These unknown categories will be encoded as all zeros\n",
      "  warnings.warn(\n",
      "/opt/anaconda3/envs/backup/lib/python3.11/site-packages/sklearn/preprocessing/_encoders.py:242: UserWarning: Found unknown categories in columns [0] during transform. These unknown categories will be encoded as all zeros\n",
      "  warnings.warn(\n",
      "[I 2024-11-26 17:47:22,704] Trial 49 finished with value: 0.8399910334005829 and parameters: {'n_estimators': 600, 'max_depth': 12, 'learning_rate': 0.00023288491066622083, 'subsample': 0.8, 'colsample_bytree': 0.9, 'gamma': 2.8295128785852377, 'reg_alpha': 1.0088256167273724e-05, 'reg_lambda': 0.05760404438120447, 'min_frequency': 0.3094767482883134}. Best is trial 44 with value: 0.846491817978032.\n",
      "/opt/anaconda3/envs/backup/lib/python3.11/site-packages/sklearn/preprocessing/_encoders.py:242: UserWarning: Found unknown categories in columns [0] during transform. These unknown categories will be encoded as all zeros\n",
      "  warnings.warn(\n",
      "/opt/anaconda3/envs/backup/lib/python3.11/site-packages/sklearn/preprocessing/_encoders.py:242: UserWarning: Found unknown categories in columns [0] during transform. These unknown categories will be encoded as all zeros\n",
      "  warnings.warn(\n",
      "/opt/anaconda3/envs/backup/lib/python3.11/site-packages/sklearn/preprocessing/_encoders.py:242: UserWarning: Found unknown categories in columns [0] during transform. These unknown categories will be encoded as all zeros\n",
      "  warnings.warn(\n",
      "/opt/anaconda3/envs/backup/lib/python3.11/site-packages/sklearn/preprocessing/_encoders.py:242: UserWarning: Found unknown categories in columns [0] during transform. These unknown categories will be encoded as all zeros\n",
      "  warnings.warn(\n",
      "/opt/anaconda3/envs/backup/lib/python3.11/site-packages/sklearn/preprocessing/_encoders.py:242: UserWarning: Found unknown categories in columns [0] during transform. These unknown categories will be encoded as all zeros\n",
      "  warnings.warn(\n",
      "[I 2024-11-26 17:47:23,713] Trial 50 finished with value: 0.8409773593364716 and parameters: {'n_estimators': 650, 'max_depth': 13, 'learning_rate': 0.0012841500930174485, 'subsample': 0.7, 'colsample_bytree': 0.6, 'gamma': 5.513649107493849, 'reg_alpha': 5.8553922683901404e-05, 'reg_lambda': 0.13713344447076137, 'min_frequency': 0.2757362651044164}. Best is trial 44 with value: 0.846491817978032.\n",
      "/opt/anaconda3/envs/backup/lib/python3.11/site-packages/sklearn/preprocessing/_encoders.py:242: UserWarning: Found unknown categories in columns [0] during transform. These unknown categories will be encoded as all zeros\n",
      "  warnings.warn(\n",
      "/opt/anaconda3/envs/backup/lib/python3.11/site-packages/sklearn/preprocessing/_encoders.py:242: UserWarning: Found unknown categories in columns [0] during transform. These unknown categories will be encoded as all zeros\n",
      "  warnings.warn(\n",
      "/opt/anaconda3/envs/backup/lib/python3.11/site-packages/sklearn/preprocessing/_encoders.py:242: UserWarning: Found unknown categories in columns [0] during transform. These unknown categories will be encoded as all zeros\n",
      "  warnings.warn(\n",
      "/opt/anaconda3/envs/backup/lib/python3.11/site-packages/sklearn/preprocessing/_encoders.py:242: UserWarning: Found unknown categories in columns [0] during transform. These unknown categories will be encoded as all zeros\n",
      "  warnings.warn(\n",
      "/opt/anaconda3/envs/backup/lib/python3.11/site-packages/sklearn/preprocessing/_encoders.py:242: UserWarning: Found unknown categories in columns [0] during transform. These unknown categories will be encoded as all zeros\n",
      "  warnings.warn(\n",
      "[I 2024-11-26 17:47:25,240] Trial 51 finished with value: 0.8457296570275723 and parameters: {'n_estimators': 550, 'max_depth': 15, 'learning_rate': 0.0003027942540975595, 'subsample': 0.8, 'colsample_bytree': 0.5, 'gamma': 0.6414973145154019, 'reg_alpha': 1.5967871377550246e-05, 'reg_lambda': 0.016155771329079666, 'min_frequency': 0.3726344615960479}. Best is trial 44 with value: 0.846491817978032.\n",
      "/opt/anaconda3/envs/backup/lib/python3.11/site-packages/sklearn/preprocessing/_encoders.py:242: UserWarning: Found unknown categories in columns [0] during transform. These unknown categories will be encoded as all zeros\n",
      "  warnings.warn(\n",
      "/opt/anaconda3/envs/backup/lib/python3.11/site-packages/sklearn/preprocessing/_encoders.py:242: UserWarning: Found unknown categories in columns [0] during transform. These unknown categories will be encoded as all zeros\n",
      "  warnings.warn(\n",
      "/opt/anaconda3/envs/backup/lib/python3.11/site-packages/sklearn/preprocessing/_encoders.py:242: UserWarning: Found unknown categories in columns [0] during transform. These unknown categories will be encoded as all zeros\n",
      "  warnings.warn(\n",
      "/opt/anaconda3/envs/backup/lib/python3.11/site-packages/sklearn/preprocessing/_encoders.py:242: UserWarning: Found unknown categories in columns [0] during transform. These unknown categories will be encoded as all zeros\n",
      "  warnings.warn(\n",
      "/opt/anaconda3/envs/backup/lib/python3.11/site-packages/sklearn/preprocessing/_encoders.py:242: UserWarning: Found unknown categories in columns [0] during transform. These unknown categories will be encoded as all zeros\n",
      "  warnings.warn(\n",
      "[I 2024-11-26 17:47:26,551] Trial 52 finished with value: 0.8454606590450571 and parameters: {'n_estimators': 500, 'max_depth': 15, 'learning_rate': 0.00014409606887316474, 'subsample': 0.9, 'colsample_bytree': 0.5, 'gamma': 0.8071776786505247, 'reg_alpha': 2.0595150282028763e-05, 'reg_lambda': 0.015224238718875413, 'min_frequency': 0.3335965847940666}. Best is trial 44 with value: 0.846491817978032.\n",
      "/opt/anaconda3/envs/backup/lib/python3.11/site-packages/sklearn/preprocessing/_encoders.py:242: UserWarning: Found unknown categories in columns [0] during transform. These unknown categories will be encoded as all zeros\n",
      "  warnings.warn(\n",
      "/opt/anaconda3/envs/backup/lib/python3.11/site-packages/sklearn/preprocessing/_encoders.py:242: UserWarning: Found unknown categories in columns [0] during transform. These unknown categories will be encoded as all zeros\n",
      "  warnings.warn(\n",
      "/opt/anaconda3/envs/backup/lib/python3.11/site-packages/sklearn/preprocessing/_encoders.py:242: UserWarning: Found unknown categories in columns [0] during transform. These unknown categories will be encoded as all zeros\n",
      "  warnings.warn(\n",
      "/opt/anaconda3/envs/backup/lib/python3.11/site-packages/sklearn/preprocessing/_encoders.py:242: UserWarning: Found unknown categories in columns [0] during transform. These unknown categories will be encoded as all zeros\n",
      "  warnings.warn(\n",
      "/opt/anaconda3/envs/backup/lib/python3.11/site-packages/sklearn/preprocessing/_encoders.py:242: UserWarning: Found unknown categories in columns [0] during transform. These unknown categories will be encoded as all zeros\n",
      "  warnings.warn(\n",
      "[I 2024-11-26 17:47:27,861] Trial 53 finished with value: 0.8441156691324816 and parameters: {'n_estimators': 600, 'max_depth': 14, 'learning_rate': 0.0003179653900572646, 'subsample': 0.8, 'colsample_bytree': 0.5, 'gamma': 1.5594222282877837, 'reg_alpha': 1.7693218805914798e-05, 'reg_lambda': 0.045518684351330815, 'min_frequency': 0.3780586550396487}. Best is trial 44 with value: 0.846491817978032.\n",
      "/opt/anaconda3/envs/backup/lib/python3.11/site-packages/sklearn/preprocessing/_encoders.py:242: UserWarning: Found unknown categories in columns [0] during transform. These unknown categories will be encoded as all zeros\n",
      "  warnings.warn(\n",
      "/opt/anaconda3/envs/backup/lib/python3.11/site-packages/sklearn/preprocessing/_encoders.py:242: UserWarning: Found unknown categories in columns [0] during transform. These unknown categories will be encoded as all zeros\n",
      "  warnings.warn(\n",
      "/opt/anaconda3/envs/backup/lib/python3.11/site-packages/sklearn/preprocessing/_encoders.py:242: UserWarning: Found unknown categories in columns [0] during transform. These unknown categories will be encoded as all zeros\n",
      "  warnings.warn(\n",
      "/opt/anaconda3/envs/backup/lib/python3.11/site-packages/sklearn/preprocessing/_encoders.py:242: UserWarning: Found unknown categories in columns [0] during transform. These unknown categories will be encoded as all zeros\n",
      "  warnings.warn(\n",
      "/opt/anaconda3/envs/backup/lib/python3.11/site-packages/sklearn/preprocessing/_encoders.py:242: UserWarning: Found unknown categories in columns [0] during transform. These unknown categories will be encoded as all zeros\n",
      "  warnings.warn(\n",
      "[I 2024-11-26 17:47:29,592] Trial 54 finished with value: 0.845505492042143 and parameters: {'n_estimators': 550, 'max_depth': 14, 'learning_rate': 0.0001425247883226488, 'subsample': 0.9, 'colsample_bytree': 0.5, 'gamma': 0.471479907178491, 'reg_alpha': 0.0001186449975557819, 'reg_lambda': 0.008110726421042694, 'min_frequency': 0.3582434041601795}. Best is trial 44 with value: 0.846491817978032.\n",
      "/opt/anaconda3/envs/backup/lib/python3.11/site-packages/sklearn/preprocessing/_encoders.py:242: UserWarning: Found unknown categories in columns [0] during transform. These unknown categories will be encoded as all zeros\n",
      "  warnings.warn(\n",
      "/opt/anaconda3/envs/backup/lib/python3.11/site-packages/sklearn/preprocessing/_encoders.py:242: UserWarning: Found unknown categories in columns [0] during transform. These unknown categories will be encoded as all zeros\n",
      "  warnings.warn(\n",
      "/opt/anaconda3/envs/backup/lib/python3.11/site-packages/sklearn/preprocessing/_encoders.py:242: UserWarning: Found unknown categories in columns [0] during transform. These unknown categories will be encoded as all zeros\n",
      "  warnings.warn(\n",
      "/opt/anaconda3/envs/backup/lib/python3.11/site-packages/sklearn/preprocessing/_encoders.py:242: UserWarning: Found unknown categories in columns [0] during transform. These unknown categories will be encoded as all zeros\n",
      "  warnings.warn(\n",
      "/opt/anaconda3/envs/backup/lib/python3.11/site-packages/sklearn/preprocessing/_encoders.py:242: UserWarning: Found unknown categories in columns [0] during transform. These unknown categories will be encoded as all zeros\n",
      "  warnings.warn(\n",
      "[I 2024-11-26 17:47:32,253] Trial 55 finished with value: 0.8434431741761937 and parameters: {'n_estimators': 750, 'max_depth': 15, 'learning_rate': 0.00021034388352450992, 'subsample': 0.8, 'colsample_bytree': 0.7, 'gamma': 0.8831534080300193, 'reg_alpha': 2.8837468171151645e-05, 'reg_lambda': 0.016003445795196, 'min_frequency': 0.3356238271674875}. Best is trial 44 with value: 0.846491817978032.\n",
      "/opt/anaconda3/envs/backup/lib/python3.11/site-packages/sklearn/preprocessing/_encoders.py:242: UserWarning: Found unknown categories in columns [0] during transform. These unknown categories will be encoded as all zeros\n",
      "  warnings.warn(\n",
      "/opt/anaconda3/envs/backup/lib/python3.11/site-packages/sklearn/preprocessing/_encoders.py:242: UserWarning: Found unknown categories in columns [0] during transform. These unknown categories will be encoded as all zeros\n",
      "  warnings.warn(\n",
      "/opt/anaconda3/envs/backup/lib/python3.11/site-packages/sklearn/preprocessing/_encoders.py:242: UserWarning: Found unknown categories in columns [0] during transform. These unknown categories will be encoded as all zeros\n",
      "  warnings.warn(\n",
      "/opt/anaconda3/envs/backup/lib/python3.11/site-packages/sklearn/preprocessing/_encoders.py:242: UserWarning: Found unknown categories in columns [0] during transform. These unknown categories will be encoded as all zeros\n",
      "  warnings.warn(\n",
      "/opt/anaconda3/envs/backup/lib/python3.11/site-packages/sklearn/preprocessing/_encoders.py:242: UserWarning: Found unknown categories in columns [0] during transform. These unknown categories will be encoded as all zeros\n",
      "  warnings.warn(\n",
      "[I 2024-11-26 17:47:34,208] Trial 56 finished with value: 0.8442053351266534 and parameters: {'n_estimators': 500, 'max_depth': 13, 'learning_rate': 0.0008901658007658857, 'subsample': 0.7, 'colsample_bytree': 0.6, 'gamma': 0.39218657121247413, 'reg_alpha': 6.113719090905023e-05, 'reg_lambda': 0.039918689945589406, 'min_frequency': 0.38321271200583684}. Best is trial 44 with value: 0.846491817978032.\n",
      "/opt/anaconda3/envs/backup/lib/python3.11/site-packages/sklearn/preprocessing/_encoders.py:242: UserWarning: Found unknown categories in columns [0] during transform. These unknown categories will be encoded as all zeros\n",
      "  warnings.warn(\n",
      "/opt/anaconda3/envs/backup/lib/python3.11/site-packages/sklearn/preprocessing/_encoders.py:242: UserWarning: Found unknown categories in columns [0] during transform. These unknown categories will be encoded as all zeros\n",
      "  warnings.warn(\n",
      "/opt/anaconda3/envs/backup/lib/python3.11/site-packages/sklearn/preprocessing/_encoders.py:242: UserWarning: Found unknown categories in columns [0] during transform. These unknown categories will be encoded as all zeros\n",
      "  warnings.warn(\n",
      "/opt/anaconda3/envs/backup/lib/python3.11/site-packages/sklearn/preprocessing/_encoders.py:242: UserWarning: Found unknown categories in columns [0] during transform. These unknown categories will be encoded as all zeros\n",
      "  warnings.warn(\n",
      "/opt/anaconda3/envs/backup/lib/python3.11/site-packages/sklearn/preprocessing/_encoders.py:242: UserWarning: Found unknown categories in columns [0] during transform. These unknown categories will be encoded as all zeros\n",
      "  warnings.warn(\n",
      "[I 2024-11-26 17:47:35,536] Trial 57 finished with value: 0.8444295001120825 and parameters: {'n_estimators': 650, 'max_depth': 14, 'learning_rate': 0.0019735105764501857, 'subsample': 0.7, 'colsample_bytree': 0.5, 'gamma': 1.574823103624975, 'reg_alpha': 0.00018314300558407387, 'reg_lambda': 0.011387709283520456, 'min_frequency': 0.34439308657552786}. Best is trial 44 with value: 0.846491817978032.\n",
      "/opt/anaconda3/envs/backup/lib/python3.11/site-packages/sklearn/preprocessing/_encoders.py:242: UserWarning: Found unknown categories in columns [0] during transform. These unknown categories will be encoded as all zeros\n",
      "  warnings.warn(\n",
      "/opt/anaconda3/envs/backup/lib/python3.11/site-packages/sklearn/preprocessing/_encoders.py:242: UserWarning: Found unknown categories in columns [0] during transform. These unknown categories will be encoded as all zeros\n",
      "  warnings.warn(\n",
      "/opt/anaconda3/envs/backup/lib/python3.11/site-packages/sklearn/preprocessing/_encoders.py:242: UserWarning: Found unknown categories in columns [0] during transform. These unknown categories will be encoded as all zeros\n",
      "  warnings.warn(\n",
      "/opt/anaconda3/envs/backup/lib/python3.11/site-packages/sklearn/preprocessing/_encoders.py:242: UserWarning: Found unknown categories in columns [0] during transform. These unknown categories will be encoded as all zeros\n",
      "  warnings.warn(\n",
      "/opt/anaconda3/envs/backup/lib/python3.11/site-packages/sklearn/preprocessing/_encoders.py:242: UserWarning: Found unknown categories in columns [0] during transform. These unknown categories will be encoded as all zeros\n",
      "  warnings.warn(\n",
      "[I 2024-11-26 17:47:36,649] Trial 58 finished with value: 0.8420085182694462 and parameters: {'n_estimators': 900, 'max_depth': 12, 'learning_rate': 0.00036886567045362666, 'subsample': 0.8, 'colsample_bytree': 0.5, 'gamma': 7.908419126718675, 'reg_alpha': 1.5326468310578625e-05, 'reg_lambda': 0.00199979070524683, 'min_frequency': 0.3655035622437857}. Best is trial 44 with value: 0.846491817978032.\n",
      "/opt/anaconda3/envs/backup/lib/python3.11/site-packages/sklearn/preprocessing/_encoders.py:242: UserWarning: Found unknown categories in columns [0] during transform. These unknown categories will be encoded as all zeros\n",
      "  warnings.warn(\n",
      "/opt/anaconda3/envs/backup/lib/python3.11/site-packages/sklearn/preprocessing/_encoders.py:242: UserWarning: Found unknown categories in columns [0] during transform. These unknown categories will be encoded as all zeros\n",
      "  warnings.warn(\n",
      "/opt/anaconda3/envs/backup/lib/python3.11/site-packages/sklearn/preprocessing/_encoders.py:242: UserWarning: Found unknown categories in columns [0] during transform. These unknown categories will be encoded as all zeros\n",
      "  warnings.warn(\n",
      "/opt/anaconda3/envs/backup/lib/python3.11/site-packages/sklearn/preprocessing/_encoders.py:242: UserWarning: Found unknown categories in columns [0] during transform. These unknown categories will be encoded as all zeros\n",
      "  warnings.warn(\n",
      "/opt/anaconda3/envs/backup/lib/python3.11/site-packages/sklearn/preprocessing/_encoders.py:242: UserWarning: Found unknown categories in columns [0] during transform. These unknown categories will be encoded as all zeros\n",
      "  warnings.warn(\n",
      "[I 2024-11-26 17:47:37,865] Trial 59 finished with value: 0.8430845101995068 and parameters: {'n_estimators': 600, 'max_depth': 15, 'learning_rate': 0.00013383344210630792, 'subsample': 0.7, 'colsample_bytree': 0.6, 'gamma': 2.0159978216537864, 'reg_alpha': 0.39681992252721715, 'reg_lambda': 0.026085374911293747, 'min_frequency': 0.3087363426374432}. Best is trial 44 with value: 0.846491817978032.\n",
      "/opt/anaconda3/envs/backup/lib/python3.11/site-packages/sklearn/preprocessing/_encoders.py:242: UserWarning: Found unknown categories in columns [0] during transform. These unknown categories will be encoded as all zeros\n",
      "  warnings.warn(\n",
      "/opt/anaconda3/envs/backup/lib/python3.11/site-packages/sklearn/preprocessing/_encoders.py:242: UserWarning: Found unknown categories in columns [0] during transform. These unknown categories will be encoded as all zeros\n",
      "  warnings.warn(\n",
      "/opt/anaconda3/envs/backup/lib/python3.11/site-packages/sklearn/preprocessing/_encoders.py:242: UserWarning: Found unknown categories in columns [0] during transform. These unknown categories will be encoded as all zeros\n",
      "  warnings.warn(\n",
      "/opt/anaconda3/envs/backup/lib/python3.11/site-packages/sklearn/preprocessing/_encoders.py:242: UserWarning: Found unknown categories in columns [0] during transform. These unknown categories will be encoded as all zeros\n",
      "  warnings.warn(\n",
      "/opt/anaconda3/envs/backup/lib/python3.11/site-packages/sklearn/preprocessing/_encoders.py:242: UserWarning: Found unknown categories in columns [0] during transform. These unknown categories will be encoded as all zeros\n",
      "  warnings.warn(\n",
      "[I 2024-11-26 17:47:38,553] Trial 60 finished with value: 0.8428603452140775 and parameters: {'n_estimators': 550, 'max_depth': 13, 'learning_rate': 0.00018760070267565123, 'subsample': 0.8, 'colsample_bytree': 0.6, 'gamma': 3.7392465298002304, 'reg_alpha': 1.0005762161244681e-05, 'reg_lambda': 0.15913119685814114, 'min_frequency': 0.3236560450624298}. Best is trial 44 with value: 0.846491817978032.\n",
      "/opt/anaconda3/envs/backup/lib/python3.11/site-packages/sklearn/preprocessing/_encoders.py:242: UserWarning: Found unknown categories in columns [0] during transform. These unknown categories will be encoded as all zeros\n",
      "  warnings.warn(\n",
      "/opt/anaconda3/envs/backup/lib/python3.11/site-packages/sklearn/preprocessing/_encoders.py:242: UserWarning: Found unknown categories in columns [0] during transform. These unknown categories will be encoded as all zeros\n",
      "  warnings.warn(\n",
      "/opt/anaconda3/envs/backup/lib/python3.11/site-packages/sklearn/preprocessing/_encoders.py:242: UserWarning: Found unknown categories in columns [0] during transform. These unknown categories will be encoded as all zeros\n",
      "  warnings.warn(\n",
      "/opt/anaconda3/envs/backup/lib/python3.11/site-packages/sklearn/preprocessing/_encoders.py:242: UserWarning: Found unknown categories in columns [0] during transform. These unknown categories will be encoded as all zeros\n",
      "  warnings.warn(\n",
      "/opt/anaconda3/envs/backup/lib/python3.11/site-packages/sklearn/preprocessing/_encoders.py:242: UserWarning: Found unknown categories in columns [0] during transform. These unknown categories will be encoded as all zeros\n",
      "  warnings.warn(\n",
      "[I 2024-11-26 17:47:40,602] Trial 61 finished with value: 0.8459986550100874 and parameters: {'n_estimators': 700, 'max_depth': 15, 'learning_rate': 0.0002720593803960667, 'subsample': 0.8, 'colsample_bytree': 0.5, 'gamma': 0.7976848675192598, 'reg_alpha': 1.398539991900225e-05, 'reg_lambda': 0.0027714527635121417, 'min_frequency': 0.3746581781679954}. Best is trial 44 with value: 0.846491817978032.\n",
      "/opt/anaconda3/envs/backup/lib/python3.11/site-packages/sklearn/preprocessing/_encoders.py:242: UserWarning: Found unknown categories in columns [0] during transform. These unknown categories will be encoded as all zeros\n",
      "  warnings.warn(\n",
      "/opt/anaconda3/envs/backup/lib/python3.11/site-packages/sklearn/preprocessing/_encoders.py:242: UserWarning: Found unknown categories in columns [0] during transform. These unknown categories will be encoded as all zeros\n",
      "  warnings.warn(\n",
      "/opt/anaconda3/envs/backup/lib/python3.11/site-packages/sklearn/preprocessing/_encoders.py:242: UserWarning: Found unknown categories in columns [0] during transform. These unknown categories will be encoded as all zeros\n",
      "  warnings.warn(\n",
      "/opt/anaconda3/envs/backup/lib/python3.11/site-packages/sklearn/preprocessing/_encoders.py:242: UserWarning: Found unknown categories in columns [0] during transform. These unknown categories will be encoded as all zeros\n",
      "  warnings.warn(\n",
      "/opt/anaconda3/envs/backup/lib/python3.11/site-packages/sklearn/preprocessing/_encoders.py:242: UserWarning: Found unknown categories in columns [0] during transform. These unknown categories will be encoded as all zeros\n",
      "  warnings.warn(\n",
      "[I 2024-11-26 17:47:43,640] Trial 62 finished with value: 0.8458641560188298 and parameters: {'n_estimators': 700, 'max_depth': 15, 'learning_rate': 0.0003083543137619637, 'subsample': 0.8, 'colsample_bytree': 0.5, 'gamma': 0.0022387261382773582, 'reg_alpha': 2.4230490364410197e-05, 'reg_lambda': 0.006989104807289093, 'min_frequency': 0.3584881698214854}. Best is trial 44 with value: 0.846491817978032.\n",
      "/opt/anaconda3/envs/backup/lib/python3.11/site-packages/sklearn/preprocessing/_encoders.py:242: UserWarning: Found unknown categories in columns [0] during transform. These unknown categories will be encoded as all zeros\n",
      "  warnings.warn(\n",
      "/opt/anaconda3/envs/backup/lib/python3.11/site-packages/sklearn/preprocessing/_encoders.py:242: UserWarning: Found unknown categories in columns [0] during transform. These unknown categories will be encoded as all zeros\n",
      "  warnings.warn(\n",
      "/opt/anaconda3/envs/backup/lib/python3.11/site-packages/sklearn/preprocessing/_encoders.py:242: UserWarning: Found unknown categories in columns [0] during transform. These unknown categories will be encoded as all zeros\n",
      "  warnings.warn(\n",
      "/opt/anaconda3/envs/backup/lib/python3.11/site-packages/sklearn/preprocessing/_encoders.py:242: UserWarning: Found unknown categories in columns [0] during transform. These unknown categories will be encoded as all zeros\n",
      "  warnings.warn(\n",
      "/opt/anaconda3/envs/backup/lib/python3.11/site-packages/sklearn/preprocessing/_encoders.py:242: UserWarning: Found unknown categories in columns [0] during transform. These unknown categories will be encoded as all zeros\n",
      "  warnings.warn(\n",
      "[I 2024-11-26 17:47:46,718] Trial 63 finished with value: 0.8462228199955166 and parameters: {'n_estimators': 750, 'max_depth': 14, 'learning_rate': 0.00037223593158001186, 'subsample': 0.8, 'colsample_bytree': 0.5, 'gamma': 0.23561045458851404, 'reg_alpha': 3.4123026082883864e-05, 'reg_lambda': 0.0065370894402178, 'min_frequency': 0.36334649373261935}. Best is trial 44 with value: 0.846491817978032.\n",
      "/opt/anaconda3/envs/backup/lib/python3.11/site-packages/sklearn/preprocessing/_encoders.py:242: UserWarning: Found unknown categories in columns [0] during transform. These unknown categories will be encoded as all zeros\n",
      "  warnings.warn(\n",
      "/opt/anaconda3/envs/backup/lib/python3.11/site-packages/sklearn/preprocessing/_encoders.py:242: UserWarning: Found unknown categories in columns [0] during transform. These unknown categories will be encoded as all zeros\n",
      "  warnings.warn(\n",
      "/opt/anaconda3/envs/backup/lib/python3.11/site-packages/sklearn/preprocessing/_encoders.py:242: UserWarning: Found unknown categories in columns [0] during transform. These unknown categories will be encoded as all zeros\n",
      "  warnings.warn(\n",
      "/opt/anaconda3/envs/backup/lib/python3.11/site-packages/sklearn/preprocessing/_encoders.py:242: UserWarning: Found unknown categories in columns [0] during transform. These unknown categories will be encoded as all zeros\n",
      "  warnings.warn(\n",
      "/opt/anaconda3/envs/backup/lib/python3.11/site-packages/sklearn/preprocessing/_encoders.py:242: UserWarning: Found unknown categories in columns [0] during transform. These unknown categories will be encoded as all zeros\n",
      "  warnings.warn(\n",
      "[I 2024-11-26 17:47:50,492] Trial 64 finished with value: 0.844877830082941 and parameters: {'n_estimators': 750, 'max_depth': 14, 'learning_rate': 0.0006406252125802716, 'subsample': 0.9, 'colsample_bytree': 0.5, 'gamma': 0.04312840949654495, 'reg_alpha': 3.863173062428593e-05, 'reg_lambda': 0.006365929678161197, 'min_frequency': 0.3839824629723967}. Best is trial 44 with value: 0.846491817978032.\n",
      "/opt/anaconda3/envs/backup/lib/python3.11/site-packages/sklearn/preprocessing/_encoders.py:242: UserWarning: Found unknown categories in columns [0] during transform. These unknown categories will be encoded as all zeros\n",
      "  warnings.warn(\n",
      "/opt/anaconda3/envs/backup/lib/python3.11/site-packages/sklearn/preprocessing/_encoders.py:242: UserWarning: Found unknown categories in columns [0] during transform. These unknown categories will be encoded as all zeros\n",
      "  warnings.warn(\n",
      "/opt/anaconda3/envs/backup/lib/python3.11/site-packages/sklearn/preprocessing/_encoders.py:242: UserWarning: Found unknown categories in columns [0] during transform. These unknown categories will be encoded as all zeros\n",
      "  warnings.warn(\n",
      "/opt/anaconda3/envs/backup/lib/python3.11/site-packages/sklearn/preprocessing/_encoders.py:242: UserWarning: Found unknown categories in columns [0] during transform. These unknown categories will be encoded as all zeros\n",
      "  warnings.warn(\n",
      "/opt/anaconda3/envs/backup/lib/python3.11/site-packages/sklearn/preprocessing/_encoders.py:242: UserWarning: Found unknown categories in columns [0] during transform. These unknown categories will be encoded as all zeros\n",
      "  warnings.warn(\n",
      "[I 2024-11-26 17:47:52,474] Trial 65 finished with value: 0.8391840394530374 and parameters: {'n_estimators': 800, 'max_depth': 13, 'learning_rate': 0.02251335375009447, 'subsample': 0.8, 'colsample_bytree': 0.5, 'gamma': 0.31891940333997704, 'reg_alpha': 2.4468045596936044e-05, 'reg_lambda': 0.00044885960206796804, 'min_frequency': 0.35927850272016537}. Best is trial 44 with value: 0.846491817978032.\n",
      "/opt/anaconda3/envs/backup/lib/python3.11/site-packages/sklearn/preprocessing/_encoders.py:242: UserWarning: Found unknown categories in columns [0] during transform. These unknown categories will be encoded as all zeros\n",
      "  warnings.warn(\n",
      "/opt/anaconda3/envs/backup/lib/python3.11/site-packages/sklearn/preprocessing/_encoders.py:242: UserWarning: Found unknown categories in columns [0] during transform. These unknown categories will be encoded as all zeros\n",
      "  warnings.warn(\n",
      "/opt/anaconda3/envs/backup/lib/python3.11/site-packages/sklearn/preprocessing/_encoders.py:242: UserWarning: Found unknown categories in columns [0] during transform. These unknown categories will be encoded as all zeros\n",
      "  warnings.warn(\n",
      "/opt/anaconda3/envs/backup/lib/python3.11/site-packages/sklearn/preprocessing/_encoders.py:242: UserWarning: Found unknown categories in columns [0] during transform. These unknown categories will be encoded as all zeros\n",
      "  warnings.warn(\n",
      "/opt/anaconda3/envs/backup/lib/python3.11/site-packages/sklearn/preprocessing/_encoders.py:242: UserWarning: Found unknown categories in columns [0] during transform. These unknown categories will be encoded as all zeros\n",
      "  warnings.warn(\n",
      "[I 2024-11-26 17:47:53,990] Trial 66 finished with value: 0.8449226630800268 and parameters: {'n_estimators': 700, 'max_depth': 14, 'learning_rate': 0.0003891901180032311, 'subsample': 0.9, 'colsample_bytree': 0.5, 'gamma': 1.4869619122478293, 'reg_alpha': 9.54067417918792e-05, 'reg_lambda': 0.021996395480876337, 'min_frequency': 0.2797905508091217}. Best is trial 44 with value: 0.846491817978032.\n",
      "/opt/anaconda3/envs/backup/lib/python3.11/site-packages/sklearn/preprocessing/_encoders.py:242: UserWarning: Found unknown categories in columns [0] during transform. These unknown categories will be encoded as all zeros\n",
      "  warnings.warn(\n",
      "/opt/anaconda3/envs/backup/lib/python3.11/site-packages/sklearn/preprocessing/_encoders.py:242: UserWarning: Found unknown categories in columns [0] during transform. These unknown categories will be encoded as all zeros\n",
      "  warnings.warn(\n",
      "/opt/anaconda3/envs/backup/lib/python3.11/site-packages/sklearn/preprocessing/_encoders.py:242: UserWarning: Found unknown categories in columns [0] during transform. These unknown categories will be encoded as all zeros\n",
      "  warnings.warn(\n",
      "/opt/anaconda3/envs/backup/lib/python3.11/site-packages/sklearn/preprocessing/_encoders.py:242: UserWarning: Found unknown categories in columns [0] during transform. These unknown categories will be encoded as all zeros\n",
      "  warnings.warn(\n",
      "/opt/anaconda3/envs/backup/lib/python3.11/site-packages/sklearn/preprocessing/_encoders.py:242: UserWarning: Found unknown categories in columns [0] during transform. These unknown categories will be encoded as all zeros\n",
      "  warnings.warn(\n",
      "[I 2024-11-26 17:47:57,474] Trial 67 finished with value: 0.8422775162519616 and parameters: {'n_estimators': 850, 'max_depth': 12, 'learning_rate': 0.00018530418210083087, 'subsample': 0.7, 'colsample_bytree': 0.8, 'gamma': 0.27213173277982544, 'reg_alpha': 4.187070948381745e-05, 'reg_lambda': 0.0014804935303968298, 'min_frequency': 0.3860732148756347}. Best is trial 44 with value: 0.846491817978032.\n",
      "/opt/anaconda3/envs/backup/lib/python3.11/site-packages/sklearn/preprocessing/_encoders.py:242: UserWarning: Found unknown categories in columns [0] during transform. These unknown categories will be encoded as all zeros\n",
      "  warnings.warn(\n",
      "/opt/anaconda3/envs/backup/lib/python3.11/site-packages/sklearn/preprocessing/_encoders.py:242: UserWarning: Found unknown categories in columns [0] during transform. These unknown categories will be encoded as all zeros\n",
      "  warnings.warn(\n",
      "/opt/anaconda3/envs/backup/lib/python3.11/site-packages/sklearn/preprocessing/_encoders.py:242: UserWarning: Found unknown categories in columns [0] during transform. These unknown categories will be encoded as all zeros\n",
      "  warnings.warn(\n",
      "/opt/anaconda3/envs/backup/lib/python3.11/site-packages/sklearn/preprocessing/_encoders.py:242: UserWarning: Found unknown categories in columns [0] during transform. These unknown categories will be encoded as all zeros\n",
      "  warnings.warn(\n",
      "/opt/anaconda3/envs/backup/lib/python3.11/site-packages/sklearn/preprocessing/_encoders.py:242: UserWarning: Found unknown categories in columns [0] during transform. These unknown categories will be encoded as all zeros\n",
      "  warnings.warn(\n",
      "[I 2024-11-26 17:47:59,088] Trial 68 finished with value: 0.8450123290741987 and parameters: {'n_estimators': 750, 'max_depth': 10, 'learning_rate': 0.00012751200246584652, 'subsample': 0.8, 'colsample_bytree': 0.5, 'gamma': 0.9835144063843727, 'reg_alpha': 6.268292813705284e-05, 'reg_lambda': 0.010618291310748162, 'min_frequency': 0.33614018399949014}. Best is trial 44 with value: 0.846491817978032.\n",
      "/opt/anaconda3/envs/backup/lib/python3.11/site-packages/sklearn/preprocessing/_encoders.py:242: UserWarning: Found unknown categories in columns [0] during transform. These unknown categories will be encoded as all zeros\n",
      "  warnings.warn(\n",
      "/opt/anaconda3/envs/backup/lib/python3.11/site-packages/sklearn/preprocessing/_encoders.py:242: UserWarning: Found unknown categories in columns [0] during transform. These unknown categories will be encoded as all zeros\n",
      "  warnings.warn(\n",
      "/opt/anaconda3/envs/backup/lib/python3.11/site-packages/sklearn/preprocessing/_encoders.py:242: UserWarning: Found unknown categories in columns [0] during transform. These unknown categories will be encoded as all zeros\n",
      "  warnings.warn(\n",
      "/opt/anaconda3/envs/backup/lib/python3.11/site-packages/sklearn/preprocessing/_encoders.py:242: UserWarning: Found unknown categories in columns [0] during transform. These unknown categories will be encoded as all zeros\n",
      "  warnings.warn(\n",
      "/opt/anaconda3/envs/backup/lib/python3.11/site-packages/sklearn/preprocessing/_encoders.py:242: UserWarning: Found unknown categories in columns [0] during transform. These unknown categories will be encoded as all zeros\n",
      "  warnings.warn(\n",
      "[I 2024-11-26 17:48:00,404] Trial 69 finished with value: 0.8440708361353957 and parameters: {'n_estimators': 650, 'max_depth': 13, 'learning_rate': 0.0002478849167731473, 'subsample': 0.8, 'colsample_bytree': 0.5, 'gamma': 1.8875884355245396, 'reg_alpha': 2.433641786132766e-05, 'reg_lambda': 0.006918735821892543, 'min_frequency': 0.3051341601889265}. Best is trial 44 with value: 0.846491817978032.\n",
      "/opt/anaconda3/envs/backup/lib/python3.11/site-packages/sklearn/preprocessing/_encoders.py:242: UserWarning: Found unknown categories in columns [0] during transform. These unknown categories will be encoded as all zeros\n",
      "  warnings.warn(\n",
      "/opt/anaconda3/envs/backup/lib/python3.11/site-packages/sklearn/preprocessing/_encoders.py:242: UserWarning: Found unknown categories in columns [0] during transform. These unknown categories will be encoded as all zeros\n",
      "  warnings.warn(\n",
      "/opt/anaconda3/envs/backup/lib/python3.11/site-packages/sklearn/preprocessing/_encoders.py:242: UserWarning: Found unknown categories in columns [0] during transform. These unknown categories will be encoded as all zeros\n",
      "  warnings.warn(\n",
      "/opt/anaconda3/envs/backup/lib/python3.11/site-packages/sklearn/preprocessing/_encoders.py:242: UserWarning: Found unknown categories in columns [0] during transform. These unknown categories will be encoded as all zeros\n",
      "  warnings.warn(\n",
      "/opt/anaconda3/envs/backup/lib/python3.11/site-packages/sklearn/preprocessing/_encoders.py:242: UserWarning: Found unknown categories in columns [0] during transform. These unknown categories will be encoded as all zeros\n",
      "  warnings.warn(\n",
      "[I 2024-11-26 17:48:02,054] Trial 70 finished with value: 0.8428603452140775 and parameters: {'n_estimators': 700, 'max_depth': 14, 'learning_rate': 0.0010665025216379338, 'subsample': 0.7, 'colsample_bytree': 0.7, 'gamma': 1.1285766467736371, 'reg_alpha': 3.139399241423338e-05, 'reg_lambda': 0.4519438076564338, 'min_frequency': 0.17099395963873287}. Best is trial 44 with value: 0.846491817978032.\n",
      "/opt/anaconda3/envs/backup/lib/python3.11/site-packages/sklearn/preprocessing/_encoders.py:242: UserWarning: Found unknown categories in columns [0] during transform. These unknown categories will be encoded as all zeros\n",
      "  warnings.warn(\n",
      "/opt/anaconda3/envs/backup/lib/python3.11/site-packages/sklearn/preprocessing/_encoders.py:242: UserWarning: Found unknown categories in columns [0] during transform. These unknown categories will be encoded as all zeros\n",
      "  warnings.warn(\n",
      "/opt/anaconda3/envs/backup/lib/python3.11/site-packages/sklearn/preprocessing/_encoders.py:242: UserWarning: Found unknown categories in columns [0] during transform. These unknown categories will be encoded as all zeros\n",
      "  warnings.warn(\n",
      "/opt/anaconda3/envs/backup/lib/python3.11/site-packages/sklearn/preprocessing/_encoders.py:242: UserWarning: Found unknown categories in columns [0] during transform. These unknown categories will be encoded as all zeros\n",
      "  warnings.warn(\n",
      "/opt/anaconda3/envs/backup/lib/python3.11/site-packages/sklearn/preprocessing/_encoders.py:242: UserWarning: Found unknown categories in columns [0] during transform. These unknown categories will be encoded as all zeros\n",
      "  warnings.warn(\n",
      "[I 2024-11-26 17:48:04,347] Trial 71 finished with value: 0.8459089890159157 and parameters: {'n_estimators': 700, 'max_depth': 15, 'learning_rate': 0.0003150235091317893, 'subsample': 0.8, 'colsample_bytree': 0.5, 'gamma': 0.6840859228461629, 'reg_alpha': 1.5711547378768267e-05, 'reg_lambda': 0.019084181827069356, 'min_frequency': 0.3699709709975803}. Best is trial 44 with value: 0.846491817978032.\n",
      "/opt/anaconda3/envs/backup/lib/python3.11/site-packages/sklearn/preprocessing/_encoders.py:242: UserWarning: Found unknown categories in columns [0] during transform. These unknown categories will be encoded as all zeros\n",
      "  warnings.warn(\n",
      "/opt/anaconda3/envs/backup/lib/python3.11/site-packages/sklearn/preprocessing/_encoders.py:242: UserWarning: Found unknown categories in columns [0] during transform. These unknown categories will be encoded as all zeros\n",
      "  warnings.warn(\n",
      "/opt/anaconda3/envs/backup/lib/python3.11/site-packages/sklearn/preprocessing/_encoders.py:242: UserWarning: Found unknown categories in columns [0] during transform. These unknown categories will be encoded as all zeros\n",
      "  warnings.warn(\n",
      "/opt/anaconda3/envs/backup/lib/python3.11/site-packages/sklearn/preprocessing/_encoders.py:242: UserWarning: Found unknown categories in columns [0] during transform. These unknown categories will be encoded as all zeros\n",
      "  warnings.warn(\n",
      "/opt/anaconda3/envs/backup/lib/python3.11/site-packages/sklearn/preprocessing/_encoders.py:242: UserWarning: Found unknown categories in columns [0] during transform. These unknown categories will be encoded as all zeros\n",
      "  warnings.warn(\n",
      "[I 2024-11-26 17:48:07,412] Trial 72 finished with value: 0.8456399910334005 and parameters: {'n_estimators': 700, 'max_depth': 15, 'learning_rate': 0.0004967171153632283, 'subsample': 0.8, 'colsample_bytree': 0.5, 'gamma': 0.09332185270527682, 'reg_alpha': 1.4403377678249188e-05, 'reg_lambda': 0.010966866947966924, 'min_frequency': 0.36090389895497627}. Best is trial 44 with value: 0.846491817978032.\n",
      "/opt/anaconda3/envs/backup/lib/python3.11/site-packages/sklearn/preprocessing/_encoders.py:242: UserWarning: Found unknown categories in columns [0] during transform. These unknown categories will be encoded as all zeros\n",
      "  warnings.warn(\n",
      "/opt/anaconda3/envs/backup/lib/python3.11/site-packages/sklearn/preprocessing/_encoders.py:242: UserWarning: Found unknown categories in columns [0] during transform. These unknown categories will be encoded as all zeros\n",
      "  warnings.warn(\n",
      "/opt/anaconda3/envs/backup/lib/python3.11/site-packages/sklearn/preprocessing/_encoders.py:242: UserWarning: Found unknown categories in columns [0] during transform. These unknown categories will be encoded as all zeros\n",
      "  warnings.warn(\n",
      "/opt/anaconda3/envs/backup/lib/python3.11/site-packages/sklearn/preprocessing/_encoders.py:242: UserWarning: Found unknown categories in columns [0] during transform. These unknown categories will be encoded as all zeros\n",
      "  warnings.warn(\n",
      "/opt/anaconda3/envs/backup/lib/python3.11/site-packages/sklearn/preprocessing/_encoders.py:242: UserWarning: Found unknown categories in columns [0] during transform. These unknown categories will be encoded as all zeros\n",
      "  warnings.warn(\n",
      "[I 2024-11-26 17:48:09,301] Trial 73 finished with value: 0.8458641560188299 and parameters: {'n_estimators': 600, 'max_depth': 15, 'learning_rate': 0.00038486549623069604, 'subsample': 0.8, 'colsample_bytree': 0.5, 'gamma': 0.6229977013876634, 'reg_alpha': 2.3197230349468583e-05, 'reg_lambda': 0.022072815576442882, 'min_frequency': 0.3721234735525528}. Best is trial 44 with value: 0.846491817978032.\n",
      "/opt/anaconda3/envs/backup/lib/python3.11/site-packages/sklearn/preprocessing/_encoders.py:242: UserWarning: Found unknown categories in columns [0] during transform. These unknown categories will be encoded as all zeros\n",
      "  warnings.warn(\n",
      "/opt/anaconda3/envs/backup/lib/python3.11/site-packages/sklearn/preprocessing/_encoders.py:242: UserWarning: Found unknown categories in columns [0] during transform. These unknown categories will be encoded as all zeros\n",
      "  warnings.warn(\n",
      "/opt/anaconda3/envs/backup/lib/python3.11/site-packages/sklearn/preprocessing/_encoders.py:242: UserWarning: Found unknown categories in columns [0] during transform. These unknown categories will be encoded as all zeros\n",
      "  warnings.warn(\n",
      "/opt/anaconda3/envs/backup/lib/python3.11/site-packages/sklearn/preprocessing/_encoders.py:242: UserWarning: Found unknown categories in columns [0] during transform. These unknown categories will be encoded as all zeros\n",
      "  warnings.warn(\n",
      "/opt/anaconda3/envs/backup/lib/python3.11/site-packages/sklearn/preprocessing/_encoders.py:242: UserWarning: Found unknown categories in columns [0] during transform. These unknown categories will be encoded as all zeros\n",
      "  warnings.warn(\n",
      "[I 2024-11-26 17:48:10,832] Trial 74 finished with value: 0.8446984980945975 and parameters: {'n_estimators': 600, 'max_depth': 14, 'learning_rate': 0.0006147909799757786, 'subsample': 0.8, 'colsample_bytree': 0.5, 'gamma': 1.380081577366791, 'reg_alpha': 4.620052638919556e-05, 'reg_lambda': 0.036535791120298276, 'min_frequency': 0.36951030428004134}. Best is trial 44 with value: 0.846491817978032.\n",
      "/opt/anaconda3/envs/backup/lib/python3.11/site-packages/sklearn/preprocessing/_encoders.py:242: UserWarning: Found unknown categories in columns [0] during transform. These unknown categories will be encoded as all zeros\n",
      "  warnings.warn(\n",
      "/opt/anaconda3/envs/backup/lib/python3.11/site-packages/sklearn/preprocessing/_encoders.py:242: UserWarning: Found unknown categories in columns [0] during transform. These unknown categories will be encoded as all zeros\n",
      "  warnings.warn(\n",
      "/opt/anaconda3/envs/backup/lib/python3.11/site-packages/sklearn/preprocessing/_encoders.py:242: UserWarning: Found unknown categories in columns [0] during transform. These unknown categories will be encoded as all zeros\n",
      "  warnings.warn(\n",
      "/opt/anaconda3/envs/backup/lib/python3.11/site-packages/sklearn/preprocessing/_encoders.py:242: UserWarning: Found unknown categories in columns [0] during transform. These unknown categories will be encoded as all zeros\n",
      "  warnings.warn(\n",
      "/opt/anaconda3/envs/backup/lib/python3.11/site-packages/sklearn/preprocessing/_encoders.py:242: UserWarning: Found unknown categories in columns [0] during transform. These unknown categories will be encoded as all zeros\n",
      "  warnings.warn(\n",
      "[I 2024-11-26 17:48:13,979] Trial 75 finished with value: 0.840842860345214 and parameters: {'n_estimators': 800, 'max_depth': 15, 'learning_rate': 0.0004225665982229351, 'subsample': 0.8, 'colsample_bytree': 0.9, 'gamma': 0.9420169566202092, 'reg_alpha': 2.1502861871996147e-05, 'reg_lambda': 0.02056167691827546, 'min_frequency': 0.3851332489005043}. Best is trial 44 with value: 0.846491817978032.\n",
      "/opt/anaconda3/envs/backup/lib/python3.11/site-packages/sklearn/preprocessing/_encoders.py:242: UserWarning: Found unknown categories in columns [0] during transform. These unknown categories will be encoded as all zeros\n",
      "  warnings.warn(\n",
      "/opt/anaconda3/envs/backup/lib/python3.11/site-packages/sklearn/preprocessing/_encoders.py:242: UserWarning: Found unknown categories in columns [0] during transform. These unknown categories will be encoded as all zeros\n",
      "  warnings.warn(\n",
      "/opt/anaconda3/envs/backup/lib/python3.11/site-packages/sklearn/preprocessing/_encoders.py:242: UserWarning: Found unknown categories in columns [0] during transform. These unknown categories will be encoded as all zeros\n",
      "  warnings.warn(\n",
      "/opt/anaconda3/envs/backup/lib/python3.11/site-packages/sklearn/preprocessing/_encoders.py:242: UserWarning: Found unknown categories in columns [0] during transform. These unknown categories will be encoded as all zeros\n",
      "  warnings.warn(\n",
      "/opt/anaconda3/envs/backup/lib/python3.11/site-packages/sklearn/preprocessing/_encoders.py:242: UserWarning: Found unknown categories in columns [0] during transform. These unknown categories will be encoded as all zeros\n",
      "  warnings.warn(\n",
      "[I 2024-11-26 17:48:15,326] Trial 76 finished with value: 0.8438466711499665 and parameters: {'n_estimators': 650, 'max_depth': 14, 'learning_rate': 0.008924611363771675, 'subsample': 0.7, 'colsample_bytree': 0.5, 'gamma': 0.4929099567769891, 'reg_alpha': 1.3616079913132479e-05, 'reg_lambda': 0.05112043908415614, 'min_frequency': 0.3229208123680414}. Best is trial 44 with value: 0.846491817978032.\n",
      "/opt/anaconda3/envs/backup/lib/python3.11/site-packages/sklearn/preprocessing/_encoders.py:242: UserWarning: Found unknown categories in columns [0] during transform. These unknown categories will be encoded as all zeros\n",
      "  warnings.warn(\n",
      "/opt/anaconda3/envs/backup/lib/python3.11/site-packages/sklearn/preprocessing/_encoders.py:242: UserWarning: Found unknown categories in columns [0] during transform. These unknown categories will be encoded as all zeros\n",
      "  warnings.warn(\n",
      "/opt/anaconda3/envs/backup/lib/python3.11/site-packages/sklearn/preprocessing/_encoders.py:242: UserWarning: Found unknown categories in columns [0] during transform. These unknown categories will be encoded as all zeros\n",
      "  warnings.warn(\n",
      "/opt/anaconda3/envs/backup/lib/python3.11/site-packages/sklearn/preprocessing/_encoders.py:242: UserWarning: Found unknown categories in columns [0] during transform. These unknown categories will be encoded as all zeros\n",
      "  warnings.warn(\n",
      "/opt/anaconda3/envs/backup/lib/python3.11/site-packages/sklearn/preprocessing/_encoders.py:242: UserWarning: Found unknown categories in columns [0] during transform. These unknown categories will be encoded as all zeros\n",
      "  warnings.warn(\n",
      "[I 2024-11-26 17:48:16,520] Trial 77 finished with value: 0.8431741761936784 and parameters: {'n_estimators': 850, 'max_depth': 15, 'learning_rate': 0.00010025297406599185, 'subsample': 0.8, 'colsample_bytree': 0.6, 'gamma': 2.543432928079052, 'reg_alpha': 0.03502208142548789, 'reg_lambda': 0.003882340407670066, 'min_frequency': 0.3409374401910239}. Best is trial 44 with value: 0.846491817978032.\n",
      "/opt/anaconda3/envs/backup/lib/python3.11/site-packages/sklearn/preprocessing/_encoders.py:242: UserWarning: Found unknown categories in columns [0] during transform. These unknown categories will be encoded as all zeros\n",
      "  warnings.warn(\n",
      "/opt/anaconda3/envs/backup/lib/python3.11/site-packages/sklearn/preprocessing/_encoders.py:242: UserWarning: Found unknown categories in columns [0] during transform. These unknown categories will be encoded as all zeros\n",
      "  warnings.warn(\n",
      "/opt/anaconda3/envs/backup/lib/python3.11/site-packages/sklearn/preprocessing/_encoders.py:242: UserWarning: Found unknown categories in columns [0] during transform. These unknown categories will be encoded as all zeros\n",
      "  warnings.warn(\n",
      "/opt/anaconda3/envs/backup/lib/python3.11/site-packages/sklearn/preprocessing/_encoders.py:242: UserWarning: Found unknown categories in columns [0] during transform. These unknown categories will be encoded as all zeros\n",
      "  warnings.warn(\n",
      "/opt/anaconda3/envs/backup/lib/python3.11/site-packages/sklearn/preprocessing/_encoders.py:242: UserWarning: Found unknown categories in columns [0] during transform. These unknown categories will be encoded as all zeros\n",
      "  warnings.warn(\n",
      "[I 2024-11-26 17:48:17,438] Trial 78 finished with value: 0.8439811701412239 and parameters: {'n_estimators': 750, 'max_depth': 7, 'learning_rate': 0.00016534947637344903, 'subsample': 0.9, 'colsample_bytree': 0.5, 'gamma': 0.7214160184584589, 'reg_alpha': 3.637164274498636e-05, 'reg_lambda': 0.027512027674360784, 'min_frequency': 0.35168661693382697}. Best is trial 44 with value: 0.846491817978032.\n",
      "/opt/anaconda3/envs/backup/lib/python3.11/site-packages/sklearn/preprocessing/_encoders.py:242: UserWarning: Found unknown categories in columns [0] during transform. These unknown categories will be encoded as all zeros\n",
      "  warnings.warn(\n",
      "/opt/anaconda3/envs/backup/lib/python3.11/site-packages/sklearn/preprocessing/_encoders.py:242: UserWarning: Found unknown categories in columns [0] during transform. These unknown categories will be encoded as all zeros\n",
      "  warnings.warn(\n",
      "/opt/anaconda3/envs/backup/lib/python3.11/site-packages/sklearn/preprocessing/_encoders.py:242: UserWarning: Found unknown categories in columns [0] during transform. These unknown categories will be encoded as all zeros\n",
      "  warnings.warn(\n",
      "/opt/anaconda3/envs/backup/lib/python3.11/site-packages/sklearn/preprocessing/_encoders.py:242: UserWarning: Found unknown categories in columns [0] during transform. These unknown categories will be encoded as all zeros\n",
      "  warnings.warn(\n",
      "/opt/anaconda3/envs/backup/lib/python3.11/site-packages/sklearn/preprocessing/_encoders.py:242: UserWarning: Found unknown categories in columns [0] during transform. These unknown categories will be encoded as all zeros\n",
      "  warnings.warn(\n",
      "[I 2024-11-26 17:48:17,874] Trial 79 finished with value: 0.8446088321004259 and parameters: {'n_estimators': 150, 'max_depth': 13, 'learning_rate': 0.00022325353790510154, 'subsample': 0.7, 'colsample_bytree': 0.5, 'gamma': 1.1407865562313089, 'reg_alpha': 1.3267879264413975e-05, 'reg_lambda': 0.013791969201441755, 'min_frequency': 0.3727886713036606}. Best is trial 44 with value: 0.846491817978032.\n",
      "/opt/anaconda3/envs/backup/lib/python3.11/site-packages/sklearn/preprocessing/_encoders.py:242: UserWarning: Found unknown categories in columns [0] during transform. These unknown categories will be encoded as all zeros\n",
      "  warnings.warn(\n",
      "/opt/anaconda3/envs/backup/lib/python3.11/site-packages/sklearn/preprocessing/_encoders.py:242: UserWarning: Found unknown categories in columns [0] during transform. These unknown categories will be encoded as all zeros\n",
      "  warnings.warn(\n",
      "/opt/anaconda3/envs/backup/lib/python3.11/site-packages/sklearn/preprocessing/_encoders.py:242: UserWarning: Found unknown categories in columns [0] during transform. These unknown categories will be encoded as all zeros\n",
      "  warnings.warn(\n",
      "/opt/anaconda3/envs/backup/lib/python3.11/site-packages/sklearn/preprocessing/_encoders.py:242: UserWarning: Found unknown categories in columns [0] during transform. These unknown categories will be encoded as all zeros\n",
      "  warnings.warn(\n",
      "/opt/anaconda3/envs/backup/lib/python3.11/site-packages/sklearn/preprocessing/_encoders.py:242: UserWarning: Found unknown categories in columns [0] during transform. These unknown categories will be encoded as all zeros\n",
      "  warnings.warn(\n",
      "[I 2024-11-26 17:48:18,828] Trial 80 finished with value: 0.8442501681237392 and parameters: {'n_estimators': 600, 'max_depth': 14, 'learning_rate': 0.00035688502356919785, 'subsample': 0.8, 'colsample_bytree': 0.5, 'gamma': 1.6418025343398772, 'reg_alpha': 0.0017770774259481966, 'reg_lambda': 0.08966408851801223, 'min_frequency': 0.3287084740977826}. Best is trial 44 with value: 0.846491817978032.\n",
      "/opt/anaconda3/envs/backup/lib/python3.11/site-packages/sklearn/preprocessing/_encoders.py:242: UserWarning: Found unknown categories in columns [0] during transform. These unknown categories will be encoded as all zeros\n",
      "  warnings.warn(\n",
      "/opt/anaconda3/envs/backup/lib/python3.11/site-packages/sklearn/preprocessing/_encoders.py:242: UserWarning: Found unknown categories in columns [0] during transform. These unknown categories will be encoded as all zeros\n",
      "  warnings.warn(\n",
      "/opt/anaconda3/envs/backup/lib/python3.11/site-packages/sklearn/preprocessing/_encoders.py:242: UserWarning: Found unknown categories in columns [0] during transform. These unknown categories will be encoded as all zeros\n",
      "  warnings.warn(\n",
      "/opt/anaconda3/envs/backup/lib/python3.11/site-packages/sklearn/preprocessing/_encoders.py:242: UserWarning: Found unknown categories in columns [0] during transform. These unknown categories will be encoded as all zeros\n",
      "  warnings.warn(\n",
      "/opt/anaconda3/envs/backup/lib/python3.11/site-packages/sklearn/preprocessing/_encoders.py:242: UserWarning: Found unknown categories in columns [0] during transform. These unknown categories will be encoded as all zeros\n",
      "  warnings.warn(\n",
      "[I 2024-11-26 17:48:20,525] Trial 81 finished with value: 0.8444743331091684 and parameters: {'n_estimators': 650, 'max_depth': 15, 'learning_rate': 0.0002865406985124827, 'subsample': 0.8, 'colsample_bytree': 0.5, 'gamma': 0.0020785765411048818, 'reg_alpha': 2.5297833955779452e-05, 'reg_lambda': 0.9112365075933994, 'min_frequency': 0.35683046378515726}. Best is trial 44 with value: 0.846491817978032.\n",
      "/opt/anaconda3/envs/backup/lib/python3.11/site-packages/sklearn/preprocessing/_encoders.py:242: UserWarning: Found unknown categories in columns [0] during transform. These unknown categories will be encoded as all zeros\n",
      "  warnings.warn(\n",
      "/opt/anaconda3/envs/backup/lib/python3.11/site-packages/sklearn/preprocessing/_encoders.py:242: UserWarning: Found unknown categories in columns [0] during transform. These unknown categories will be encoded as all zeros\n",
      "  warnings.warn(\n",
      "/opt/anaconda3/envs/backup/lib/python3.11/site-packages/sklearn/preprocessing/_encoders.py:242: UserWarning: Found unknown categories in columns [0] during transform. These unknown categories will be encoded as all zeros\n",
      "  warnings.warn(\n",
      "/opt/anaconda3/envs/backup/lib/python3.11/site-packages/sklearn/preprocessing/_encoders.py:242: UserWarning: Found unknown categories in columns [0] during transform. These unknown categories will be encoded as all zeros\n",
      "  warnings.warn(\n",
      "/opt/anaconda3/envs/backup/lib/python3.11/site-packages/sklearn/preprocessing/_encoders.py:242: UserWarning: Found unknown categories in columns [0] during transform. These unknown categories will be encoded as all zeros\n",
      "  warnings.warn(\n",
      "[I 2024-11-26 17:48:21,680] Trial 82 finished with value: 0.8426810132257341 and parameters: {'n_estimators': 800, 'max_depth': 15, 'learning_rate': 0.00031276628704227826, 'subsample': 0.8, 'colsample_bytree': 0.5, 'gamma': 4.5191971746632635, 'reg_alpha': 1.8669851049848206e-05, 'reg_lambda': 0.008092358593796442, 'min_frequency': 0.38974463147697835}. Best is trial 44 with value: 0.846491817978032.\n",
      "/opt/anaconda3/envs/backup/lib/python3.11/site-packages/sklearn/preprocessing/_encoders.py:242: UserWarning: Found unknown categories in columns [0] during transform. These unknown categories will be encoded as all zeros\n",
      "  warnings.warn(\n",
      "/opt/anaconda3/envs/backup/lib/python3.11/site-packages/sklearn/preprocessing/_encoders.py:242: UserWarning: Found unknown categories in columns [0] during transform. These unknown categories will be encoded as all zeros\n",
      "  warnings.warn(\n",
      "/opt/anaconda3/envs/backup/lib/python3.11/site-packages/sklearn/preprocessing/_encoders.py:242: UserWarning: Found unknown categories in columns [0] during transform. These unknown categories will be encoded as all zeros\n",
      "  warnings.warn(\n",
      "/opt/anaconda3/envs/backup/lib/python3.11/site-packages/sklearn/preprocessing/_encoders.py:242: UserWarning: Found unknown categories in columns [0] during transform. These unknown categories will be encoded as all zeros\n",
      "  warnings.warn(\n",
      "/opt/anaconda3/envs/backup/lib/python3.11/site-packages/sklearn/preprocessing/_encoders.py:242: UserWarning: Found unknown categories in columns [0] during transform. These unknown categories will be encoded as all zeros\n",
      "  warnings.warn(\n",
      "[I 2024-11-26 17:48:24,449] Trial 83 finished with value: 0.8462228199955166 and parameters: {'n_estimators': 700, 'max_depth': 15, 'learning_rate': 0.00015305189740299983, 'subsample': 0.8, 'colsample_bytree': 0.5, 'gamma': 0.36377537738729937, 'reg_alpha': 3.277227918323632e-05, 'reg_lambda': 0.002060913892543469, 'min_frequency': 0.3654135733566443}. Best is trial 44 with value: 0.846491817978032.\n",
      "/opt/anaconda3/envs/backup/lib/python3.11/site-packages/sklearn/preprocessing/_encoders.py:242: UserWarning: Found unknown categories in columns [0] during transform. These unknown categories will be encoded as all zeros\n",
      "  warnings.warn(\n",
      "/opt/anaconda3/envs/backup/lib/python3.11/site-packages/sklearn/preprocessing/_encoders.py:242: UserWarning: Found unknown categories in columns [0] during transform. These unknown categories will be encoded as all zeros\n",
      "  warnings.warn(\n",
      "/opt/anaconda3/envs/backup/lib/python3.11/site-packages/sklearn/preprocessing/_encoders.py:242: UserWarning: Found unknown categories in columns [0] during transform. These unknown categories will be encoded as all zeros\n",
      "  warnings.warn(\n",
      "/opt/anaconda3/envs/backup/lib/python3.11/site-packages/sklearn/preprocessing/_encoders.py:242: UserWarning: Found unknown categories in columns [0] during transform. These unknown categories will be encoded as all zeros\n",
      "  warnings.warn(\n",
      "/opt/anaconda3/envs/backup/lib/python3.11/site-packages/sklearn/preprocessing/_encoders.py:242: UserWarning: Found unknown categories in columns [0] during transform. These unknown categories will be encoded as all zeros\n",
      "  warnings.warn(\n",
      "[I 2024-11-26 17:48:26,628] Trial 84 finished with value: 0.8457744900246581 and parameters: {'n_estimators': 650, 'max_depth': 14, 'learning_rate': 0.0001273662286900708, 'subsample': 0.8, 'colsample_bytree': 0.5, 'gamma': 0.38711748976525817, 'reg_alpha': 5.1136231550563086e-05, 'reg_lambda': 0.0013674406082259528, 'min_frequency': 0.3765656125066336}. Best is trial 44 with value: 0.846491817978032.\n",
      "/opt/anaconda3/envs/backup/lib/python3.11/site-packages/sklearn/preprocessing/_encoders.py:242: UserWarning: Found unknown categories in columns [0] during transform. These unknown categories will be encoded as all zeros\n",
      "  warnings.warn(\n",
      "/opt/anaconda3/envs/backup/lib/python3.11/site-packages/sklearn/preprocessing/_encoders.py:242: UserWarning: Found unknown categories in columns [0] during transform. These unknown categories will be encoded as all zeros\n",
      "  warnings.warn(\n",
      "/opt/anaconda3/envs/backup/lib/python3.11/site-packages/sklearn/preprocessing/_encoders.py:242: UserWarning: Found unknown categories in columns [0] during transform. These unknown categories will be encoded as all zeros\n",
      "  warnings.warn(\n",
      "/opt/anaconda3/envs/backup/lib/python3.11/site-packages/sklearn/preprocessing/_encoders.py:242: UserWarning: Found unknown categories in columns [0] during transform. These unknown categories will be encoded as all zeros\n",
      "  warnings.warn(\n",
      "/opt/anaconda3/envs/backup/lib/python3.11/site-packages/sklearn/preprocessing/_encoders.py:242: UserWarning: Found unknown categories in columns [0] during transform. These unknown categories will be encoded as all zeros\n",
      "  warnings.warn(\n",
      "[I 2024-11-26 17:48:28,998] Trial 85 finished with value: 0.846446984980946 and parameters: {'n_estimators': 750, 'max_depth': 15, 'learning_rate': 0.00016399841715804915, 'subsample': 0.7, 'colsample_bytree': 0.5, 'gamma': 0.6091685898568362, 'reg_alpha': 1.2348180718033561e-05, 'reg_lambda': 0.0021782599246694266, 'min_frequency': 0.3447628230121184}. Best is trial 44 with value: 0.846491817978032.\n",
      "/opt/anaconda3/envs/backup/lib/python3.11/site-packages/sklearn/preprocessing/_encoders.py:242: UserWarning: Found unknown categories in columns [0] during transform. These unknown categories will be encoded as all zeros\n",
      "  warnings.warn(\n",
      "/opt/anaconda3/envs/backup/lib/python3.11/site-packages/sklearn/preprocessing/_encoders.py:242: UserWarning: Found unknown categories in columns [0] during transform. These unknown categories will be encoded as all zeros\n",
      "  warnings.warn(\n",
      "/opt/anaconda3/envs/backup/lib/python3.11/site-packages/sklearn/preprocessing/_encoders.py:242: UserWarning: Found unknown categories in columns [0] during transform. These unknown categories will be encoded as all zeros\n",
      "  warnings.warn(\n",
      "/opt/anaconda3/envs/backup/lib/python3.11/site-packages/sklearn/preprocessing/_encoders.py:242: UserWarning: Found unknown categories in columns [0] during transform. These unknown categories will be encoded as all zeros\n",
      "  warnings.warn(\n",
      "/opt/anaconda3/envs/backup/lib/python3.11/site-packages/sklearn/preprocessing/_encoders.py:242: UserWarning: Found unknown categories in columns [0] during transform. These unknown categories will be encoded as all zeros\n",
      "  warnings.warn(\n",
      "[I 2024-11-26 17:48:31,075] Trial 86 finished with value: 0.8459986550100874 and parameters: {'n_estimators': 750, 'max_depth': 14, 'learning_rate': 0.00015765584024719247, 'subsample': 0.7, 'colsample_bytree': 0.5, 'gamma': 0.9051665537756814, 'reg_alpha': 1.2572707557682073e-05, 'reg_lambda': 0.0024101340361635127, 'min_frequency': 0.24685128986541027}. Best is trial 44 with value: 0.846491817978032.\n",
      "/opt/anaconda3/envs/backup/lib/python3.11/site-packages/sklearn/preprocessing/_encoders.py:242: UserWarning: Found unknown categories in columns [0] during transform. These unknown categories will be encoded as all zeros\n",
      "  warnings.warn(\n",
      "/opt/anaconda3/envs/backup/lib/python3.11/site-packages/sklearn/preprocessing/_encoders.py:242: UserWarning: Found unknown categories in columns [0] during transform. These unknown categories will be encoded as all zeros\n",
      "  warnings.warn(\n",
      "/opt/anaconda3/envs/backup/lib/python3.11/site-packages/sklearn/preprocessing/_encoders.py:242: UserWarning: Found unknown categories in columns [0] during transform. These unknown categories will be encoded as all zeros\n",
      "  warnings.warn(\n",
      "/opt/anaconda3/envs/backup/lib/python3.11/site-packages/sklearn/preprocessing/_encoders.py:242: UserWarning: Found unknown categories in columns [0] during transform. These unknown categories will be encoded as all zeros\n",
      "  warnings.warn(\n",
      "/opt/anaconda3/envs/backup/lib/python3.11/site-packages/sklearn/preprocessing/_encoders.py:242: UserWarning: Found unknown categories in columns [0] during transform. These unknown categories will be encoded as all zeros\n",
      "  warnings.warn(\n",
      "[I 2024-11-26 17:48:32,554] Trial 87 finished with value: 0.8444295001120825 and parameters: {'n_estimators': 800, 'max_depth': 8, 'learning_rate': 0.00015485629867862825, 'subsample': 0.7, 'colsample_bytree': 0.5, 'gamma': 1.2892547806125108, 'reg_alpha': 1.2168904152969101e-05, 'reg_lambda': 0.002414053318136199, 'min_frequency': 0.212660740126687}. Best is trial 44 with value: 0.846491817978032.\n",
      "/opt/anaconda3/envs/backup/lib/python3.11/site-packages/sklearn/preprocessing/_encoders.py:242: UserWarning: Found unknown categories in columns [0] during transform. These unknown categories will be encoded as all zeros\n",
      "  warnings.warn(\n",
      "/opt/anaconda3/envs/backup/lib/python3.11/site-packages/sklearn/preprocessing/_encoders.py:242: UserWarning: Found unknown categories in columns [0] during transform. These unknown categories will be encoded as all zeros\n",
      "  warnings.warn(\n",
      "/opt/anaconda3/envs/backup/lib/python3.11/site-packages/sklearn/preprocessing/_encoders.py:242: UserWarning: Found unknown categories in columns [0] during transform. These unknown categories will be encoded as all zeros\n",
      "  warnings.warn(\n",
      "/opt/anaconda3/envs/backup/lib/python3.11/site-packages/sklearn/preprocessing/_encoders.py:242: UserWarning: Found unknown categories in columns [0] during transform. These unknown categories will be encoded as all zeros\n",
      "  warnings.warn(\n",
      "/opt/anaconda3/envs/backup/lib/python3.11/site-packages/sklearn/preprocessing/_encoders.py:242: UserWarning: Found unknown categories in columns [0] during transform. These unknown categories will be encoded as all zeros\n",
      "  warnings.warn(\n",
      "[I 2024-11-26 17:48:34,379] Trial 88 finished with value: 0.8446536650975117 and parameters: {'n_estimators': 750, 'max_depth': 13, 'learning_rate': 0.00012006473497096425, 'subsample': 0.6, 'colsample_bytree': 0.6, 'gamma': 0.9483753298344337, 'reg_alpha': 3.229798718150939e-05, 'reg_lambda': 0.0001332287411343718, 'min_frequency': 0.3126900108025583}. Best is trial 44 with value: 0.846491817978032.\n",
      "/opt/anaconda3/envs/backup/lib/python3.11/site-packages/sklearn/preprocessing/_encoders.py:242: UserWarning: Found unknown categories in columns [0] during transform. These unknown categories will be encoded as all zeros\n",
      "  warnings.warn(\n",
      "/opt/anaconda3/envs/backup/lib/python3.11/site-packages/sklearn/preprocessing/_encoders.py:242: UserWarning: Found unknown categories in columns [0] during transform. These unknown categories will be encoded as all zeros\n",
      "  warnings.warn(\n",
      "/opt/anaconda3/envs/backup/lib/python3.11/site-packages/sklearn/preprocessing/_encoders.py:242: UserWarning: Found unknown categories in columns [0] during transform. These unknown categories will be encoded as all zeros\n",
      "  warnings.warn(\n",
      "/opt/anaconda3/envs/backup/lib/python3.11/site-packages/sklearn/preprocessing/_encoders.py:242: UserWarning: Found unknown categories in columns [0] during transform. These unknown categories will be encoded as all zeros\n",
      "  warnings.warn(\n",
      "/opt/anaconda3/envs/backup/lib/python3.11/site-packages/sklearn/preprocessing/_encoders.py:242: UserWarning: Found unknown categories in columns [0] during transform. These unknown categories will be encoded as all zeros\n",
      "  warnings.warn(\n",
      "[I 2024-11-26 17:48:37,803] Trial 89 finished with value: 0.8447881640887693 and parameters: {'n_estimators': 850, 'max_depth': 14, 'learning_rate': 0.00022530202291473473, 'subsample': 0.7, 'colsample_bytree': 0.5, 'gamma': 0.2630534447926411, 'reg_alpha': 1.2269487644073642e-05, 'reg_lambda': 0.003363671781205836, 'min_frequency': 0.11853613457980461}. Best is trial 44 with value: 0.846491817978032.\n",
      "/opt/anaconda3/envs/backup/lib/python3.11/site-packages/sklearn/preprocessing/_encoders.py:242: UserWarning: Found unknown categories in columns [0] during transform. These unknown categories will be encoded as all zeros\n",
      "  warnings.warn(\n",
      "/opt/anaconda3/envs/backup/lib/python3.11/site-packages/sklearn/preprocessing/_encoders.py:242: UserWarning: Found unknown categories in columns [0] during transform. These unknown categories will be encoded as all zeros\n",
      "  warnings.warn(\n",
      "/opt/anaconda3/envs/backup/lib/python3.11/site-packages/sklearn/preprocessing/_encoders.py:242: UserWarning: Found unknown categories in columns [0] during transform. These unknown categories will be encoded as all zeros\n",
      "  warnings.warn(\n",
      "/opt/anaconda3/envs/backup/lib/python3.11/site-packages/sklearn/preprocessing/_encoders.py:242: UserWarning: Found unknown categories in columns [0] during transform. These unknown categories will be encoded as all zeros\n",
      "  warnings.warn(\n",
      "/opt/anaconda3/envs/backup/lib/python3.11/site-packages/sklearn/preprocessing/_encoders.py:242: UserWarning: Found unknown categories in columns [0] during transform. These unknown categories will be encoded as all zeros\n",
      "  warnings.warn(\n",
      "[I 2024-11-26 17:48:38,932] Trial 90 finished with value: 0.8398565344093253 and parameters: {'n_estimators': 900, 'max_depth': 14, 'learning_rate': 0.00018432970168819589, 'subsample': 0.7, 'colsample_bytree': 0.6, 'gamma': 9.30955221423882, 'reg_alpha': 8.36011397980894e-05, 'reg_lambda': 0.0006282923091693944, 'min_frequency': 0.23486690917679842}. Best is trial 44 with value: 0.846491817978032.\n",
      "/opt/anaconda3/envs/backup/lib/python3.11/site-packages/sklearn/preprocessing/_encoders.py:242: UserWarning: Found unknown categories in columns [0] during transform. These unknown categories will be encoded as all zeros\n",
      "  warnings.warn(\n",
      "/opt/anaconda3/envs/backup/lib/python3.11/site-packages/sklearn/preprocessing/_encoders.py:242: UserWarning: Found unknown categories in columns [0] during transform. These unknown categories will be encoded as all zeros\n",
      "  warnings.warn(\n",
      "/opt/anaconda3/envs/backup/lib/python3.11/site-packages/sklearn/preprocessing/_encoders.py:242: UserWarning: Found unknown categories in columns [0] during transform. These unknown categories will be encoded as all zeros\n",
      "  warnings.warn(\n",
      "/opt/anaconda3/envs/backup/lib/python3.11/site-packages/sklearn/preprocessing/_encoders.py:242: UserWarning: Found unknown categories in columns [0] during transform. These unknown categories will be encoded as all zeros\n",
      "  warnings.warn(\n",
      "/opt/anaconda3/envs/backup/lib/python3.11/site-packages/sklearn/preprocessing/_encoders.py:242: UserWarning: Found unknown categories in columns [0] during transform. These unknown categories will be encoded as all zeros\n",
      "  warnings.warn(\n",
      "[I 2024-11-26 17:48:40,594] Trial 91 finished with value: 0.8462676529926025 and parameters: {'n_estimators': 700, 'max_depth': 15, 'learning_rate': 0.00014673553978893184, 'subsample': 0.7, 'colsample_bytree': 0.5, 'gamma': 0.7882808943783912, 'reg_alpha': 1.719691241051546e-05, 'reg_lambda': 0.00044232008786716115, 'min_frequency': 0.2453283359339185}. Best is trial 44 with value: 0.846491817978032.\n",
      "/opt/anaconda3/envs/backup/lib/python3.11/site-packages/sklearn/preprocessing/_encoders.py:242: UserWarning: Found unknown categories in columns [0] during transform. These unknown categories will be encoded as all zeros\n",
      "  warnings.warn(\n",
      "/opt/anaconda3/envs/backup/lib/python3.11/site-packages/sklearn/preprocessing/_encoders.py:242: UserWarning: Found unknown categories in columns [0] during transform. These unknown categories will be encoded as all zeros\n",
      "  warnings.warn(\n",
      "/opt/anaconda3/envs/backup/lib/python3.11/site-packages/sklearn/preprocessing/_encoders.py:242: UserWarning: Found unknown categories in columns [0] during transform. These unknown categories will be encoded as all zeros\n",
      "  warnings.warn(\n",
      "/opt/anaconda3/envs/backup/lib/python3.11/site-packages/sklearn/preprocessing/_encoders.py:242: UserWarning: Found unknown categories in columns [0] during transform. These unknown categories will be encoded as all zeros\n",
      "  warnings.warn(\n",
      "/opt/anaconda3/envs/backup/lib/python3.11/site-packages/sklearn/preprocessing/_encoders.py:242: UserWarning: Found unknown categories in columns [0] during transform. These unknown categories will be encoded as all zeros\n",
      "  warnings.warn(\n",
      "[I 2024-11-26 17:48:42,335] Trial 92 finished with value: 0.8458193230217439 and parameters: {'n_estimators': 750, 'max_depth': 14, 'learning_rate': 0.0001532988360740266, 'subsample': 0.7, 'colsample_bytree': 0.5, 'gamma': 0.8401332420913828, 'reg_alpha': 1.9565556504462558e-05, 'reg_lambda': 0.00021662245770804494, 'min_frequency': 0.2534004174708643}. Best is trial 44 with value: 0.846491817978032.\n",
      "/opt/anaconda3/envs/backup/lib/python3.11/site-packages/sklearn/preprocessing/_encoders.py:242: UserWarning: Found unknown categories in columns [0] during transform. These unknown categories will be encoded as all zeros\n",
      "  warnings.warn(\n",
      "/opt/anaconda3/envs/backup/lib/python3.11/site-packages/sklearn/preprocessing/_encoders.py:242: UserWarning: Found unknown categories in columns [0] during transform. These unknown categories will be encoded as all zeros\n",
      "  warnings.warn(\n",
      "/opt/anaconda3/envs/backup/lib/python3.11/site-packages/sklearn/preprocessing/_encoders.py:242: UserWarning: Found unknown categories in columns [0] during transform. These unknown categories will be encoded as all zeros\n",
      "  warnings.warn(\n",
      "/opt/anaconda3/envs/backup/lib/python3.11/site-packages/sklearn/preprocessing/_encoders.py:242: UserWarning: Found unknown categories in columns [0] during transform. These unknown categories will be encoded as all zeros\n",
      "  warnings.warn(\n",
      "/opt/anaconda3/envs/backup/lib/python3.11/site-packages/sklearn/preprocessing/_encoders.py:242: UserWarning: Found unknown categories in columns [0] during transform. These unknown categories will be encoded as all zeros\n",
      "  warnings.warn(\n",
      "[I 2024-11-26 17:48:45,072] Trial 93 finished with value: 0.8449226630800268 and parameters: {'n_estimators': 750, 'max_depth': 15, 'learning_rate': 0.00011508630345168795, 'subsample': 0.7, 'colsample_bytree': 0.5, 'gamma': 0.35383224466953145, 'reg_alpha': 3.3450243416511916e-05, 'reg_lambda': 0.0004478233874551422, 'min_frequency': 0.1959321928781267}. Best is trial 44 with value: 0.846491817978032.\n",
      "/opt/anaconda3/envs/backup/lib/python3.11/site-packages/sklearn/preprocessing/_encoders.py:242: UserWarning: Found unknown categories in columns [0] during transform. These unknown categories will be encoded as all zeros\n",
      "  warnings.warn(\n",
      "/opt/anaconda3/envs/backup/lib/python3.11/site-packages/sklearn/preprocessing/_encoders.py:242: UserWarning: Found unknown categories in columns [0] during transform. These unknown categories will be encoded as all zeros\n",
      "  warnings.warn(\n",
      "/opt/anaconda3/envs/backup/lib/python3.11/site-packages/sklearn/preprocessing/_encoders.py:242: UserWarning: Found unknown categories in columns [0] during transform. These unknown categories will be encoded as all zeros\n",
      "  warnings.warn(\n",
      "/opt/anaconda3/envs/backup/lib/python3.11/site-packages/sklearn/preprocessing/_encoders.py:242: UserWarning: Found unknown categories in columns [0] during transform. These unknown categories will be encoded as all zeros\n",
      "  warnings.warn(\n",
      "/opt/anaconda3/envs/backup/lib/python3.11/site-packages/sklearn/preprocessing/_encoders.py:242: UserWarning: Found unknown categories in columns [0] during transform. These unknown categories will be encoded as all zeros\n",
      "  warnings.warn(\n",
      "[I 2024-11-26 17:48:46,631] Trial 94 finished with value: 0.845236494059628 and parameters: {'n_estimators': 700, 'max_depth': 11, 'learning_rate': 0.00019868191452261365, 'subsample': 0.6, 'colsample_bytree': 0.5, 'gamma': 1.3452544787181364, 'reg_alpha': 1.7972057126816627e-05, 'reg_lambda': 0.0011062231658385492, 'min_frequency': 0.23636451828666563}. Best is trial 44 with value: 0.846491817978032.\n",
      "/opt/anaconda3/envs/backup/lib/python3.11/site-packages/sklearn/preprocessing/_encoders.py:242: UserWarning: Found unknown categories in columns [0] during transform. These unknown categories will be encoded as all zeros\n",
      "  warnings.warn(\n",
      "/opt/anaconda3/envs/backup/lib/python3.11/site-packages/sklearn/preprocessing/_encoders.py:242: UserWarning: Found unknown categories in columns [0] during transform. These unknown categories will be encoded as all zeros\n",
      "  warnings.warn(\n",
      "/opt/anaconda3/envs/backup/lib/python3.11/site-packages/sklearn/preprocessing/_encoders.py:242: UserWarning: Found unknown categories in columns [0] during transform. These unknown categories will be encoded as all zeros\n",
      "  warnings.warn(\n",
      "/opt/anaconda3/envs/backup/lib/python3.11/site-packages/sklearn/preprocessing/_encoders.py:242: UserWarning: Found unknown categories in columns [0] during transform. These unknown categories will be encoded as all zeros\n",
      "  warnings.warn(\n",
      "/opt/anaconda3/envs/backup/lib/python3.11/site-packages/sklearn/preprocessing/_encoders.py:242: UserWarning: Found unknown categories in columns [0] during transform. These unknown categories will be encoded as all zeros\n",
      "  warnings.warn(\n",
      "[I 2024-11-26 17:48:48,570] Trial 95 finished with value: 0.8451468280654563 and parameters: {'n_estimators': 650, 'max_depth': 15, 'learning_rate': 0.0002534361021015718, 'subsample': 0.7, 'colsample_bytree': 0.5, 'gamma': 1.1158971518233336, 'reg_alpha': 1.0232360675042033e-05, 'reg_lambda': 0.002859086865719249, 'min_frequency': 0.18026812399571762}. Best is trial 44 with value: 0.846491817978032.\n",
      "/opt/anaconda3/envs/backup/lib/python3.11/site-packages/sklearn/preprocessing/_encoders.py:242: UserWarning: Found unknown categories in columns [0] during transform. These unknown categories will be encoded as all zeros\n",
      "  warnings.warn(\n",
      "/opt/anaconda3/envs/backup/lib/python3.11/site-packages/sklearn/preprocessing/_encoders.py:242: UserWarning: Found unknown categories in columns [0] during transform. These unknown categories will be encoded as all zeros\n",
      "  warnings.warn(\n",
      "/opt/anaconda3/envs/backup/lib/python3.11/site-packages/sklearn/preprocessing/_encoders.py:242: UserWarning: Found unknown categories in columns [0] during transform. These unknown categories will be encoded as all zeros\n",
      "  warnings.warn(\n",
      "/opt/anaconda3/envs/backup/lib/python3.11/site-packages/sklearn/preprocessing/_encoders.py:242: UserWarning: Found unknown categories in columns [0] during transform. These unknown categories will be encoded as all zeros\n",
      "  warnings.warn(\n",
      "/opt/anaconda3/envs/backup/lib/python3.11/site-packages/sklearn/preprocessing/_encoders.py:242: UserWarning: Found unknown categories in columns [0] during transform. These unknown categories will be encoded as all zeros\n",
      "  warnings.warn(\n",
      "[I 2024-11-26 17:48:50,720] Trial 96 finished with value: 0.8458641560188299 and parameters: {'n_estimators': 800, 'max_depth': 13, 'learning_rate': 0.00014450271843032895, 'subsample': 0.7, 'colsample_bytree': 0.5, 'gamma': 0.6664716101993379, 'reg_alpha': 1.290439063081046e-05, 'reg_lambda': 0.005068719415418499, 'min_frequency': 0.27559372107265945}. Best is trial 44 with value: 0.846491817978032.\n",
      "/opt/anaconda3/envs/backup/lib/python3.11/site-packages/sklearn/preprocessing/_encoders.py:242: UserWarning: Found unknown categories in columns [0] during transform. These unknown categories will be encoded as all zeros\n",
      "  warnings.warn(\n",
      "/opt/anaconda3/envs/backup/lib/python3.11/site-packages/sklearn/preprocessing/_encoders.py:242: UserWarning: Found unknown categories in columns [0] during transform. These unknown categories will be encoded as all zeros\n",
      "  warnings.warn(\n",
      "/opt/anaconda3/envs/backup/lib/python3.11/site-packages/sklearn/preprocessing/_encoders.py:242: UserWarning: Found unknown categories in columns [0] during transform. These unknown categories will be encoded as all zeros\n",
      "  warnings.warn(\n",
      "/opt/anaconda3/envs/backup/lib/python3.11/site-packages/sklearn/preprocessing/_encoders.py:242: UserWarning: Found unknown categories in columns [0] during transform. These unknown categories will be encoded as all zeros\n",
      "  warnings.warn(\n",
      "/opt/anaconda3/envs/backup/lib/python3.11/site-packages/sklearn/preprocessing/_encoders.py:242: UserWarning: Found unknown categories in columns [0] during transform. These unknown categories will be encoded as all zeros\n",
      "  warnings.warn(\n",
      "[I 2024-11-26 17:48:52,823] Trial 97 finished with value: 0.8459538220130016 and parameters: {'n_estimators': 750, 'max_depth': 14, 'learning_rate': 0.00010035087682998789, 'subsample': 0.7, 'colsample_bytree': 0.5, 'gamma': 0.5010328959348235, 'reg_alpha': 0.00014075335821431157, 'reg_lambda': 0.0018112204855303012, 'min_frequency': 0.340321429354573}. Best is trial 44 with value: 0.846491817978032.\n",
      "/opt/anaconda3/envs/backup/lib/python3.11/site-packages/sklearn/preprocessing/_encoders.py:242: UserWarning: Found unknown categories in columns [0] during transform. These unknown categories will be encoded as all zeros\n",
      "  warnings.warn(\n",
      "/opt/anaconda3/envs/backup/lib/python3.11/site-packages/sklearn/preprocessing/_encoders.py:242: UserWarning: Found unknown categories in columns [0] during transform. These unknown categories will be encoded as all zeros\n",
      "  warnings.warn(\n",
      "/opt/anaconda3/envs/backup/lib/python3.11/site-packages/sklearn/preprocessing/_encoders.py:242: UserWarning: Found unknown categories in columns [0] during transform. These unknown categories will be encoded as all zeros\n",
      "  warnings.warn(\n",
      "/opt/anaconda3/envs/backup/lib/python3.11/site-packages/sklearn/preprocessing/_encoders.py:242: UserWarning: Found unknown categories in columns [0] during transform. These unknown categories will be encoded as all zeros\n",
      "  warnings.warn(\n",
      "/opt/anaconda3/envs/backup/lib/python3.11/site-packages/sklearn/preprocessing/_encoders.py:242: UserWarning: Found unknown categories in columns [0] during transform. These unknown categories will be encoded as all zeros\n",
      "  warnings.warn(\n",
      "[I 2024-11-26 17:48:53,550] Trial 98 finished with value: 0.842412015243219 and parameters: {'n_estimators': 700, 'max_depth': 14, 'learning_rate': 0.0001696803711207238, 'subsample': 0.7, 'colsample_bytree': 0.5, 'gamma': 6.110123573185798, 'reg_alpha': 2.866977302048524e-05, 'reg_lambda': 0.002244967184586362, 'min_frequency': 0.29984222475827726}. Best is trial 44 with value: 0.846491817978032.\n",
      "/opt/anaconda3/envs/backup/lib/python3.11/site-packages/sklearn/preprocessing/_encoders.py:242: UserWarning: Found unknown categories in columns [0] during transform. These unknown categories will be encoded as all zeros\n",
      "  warnings.warn(\n",
      "/opt/anaconda3/envs/backup/lib/python3.11/site-packages/sklearn/preprocessing/_encoders.py:242: UserWarning: Found unknown categories in columns [0] during transform. These unknown categories will be encoded as all zeros\n",
      "  warnings.warn(\n",
      "/opt/anaconda3/envs/backup/lib/python3.11/site-packages/sklearn/preprocessing/_encoders.py:242: UserWarning: Found unknown categories in columns [0] during transform. These unknown categories will be encoded as all zeros\n",
      "  warnings.warn(\n",
      "/opt/anaconda3/envs/backup/lib/python3.11/site-packages/sklearn/preprocessing/_encoders.py:242: UserWarning: Found unknown categories in columns [0] during transform. These unknown categories will be encoded as all zeros\n",
      "  warnings.warn(\n",
      "/opt/anaconda3/envs/backup/lib/python3.11/site-packages/sklearn/preprocessing/_encoders.py:242: UserWarning: Found unknown categories in columns [0] during transform. These unknown categories will be encoded as all zeros\n",
      "  warnings.warn(\n",
      "[I 2024-11-26 17:48:54,879] Trial 99 finished with value: 0.8446088321004259 and parameters: {'n_estimators': 650, 'max_depth': 15, 'learning_rate': 0.00021354350228917562, 'subsample': 0.7, 'colsample_bytree': 0.5, 'gamma': 1.8600900586559168, 'reg_alpha': 6.47940835757227e-05, 'reg_lambda': 0.000468562717392214, 'min_frequency': 0.3188459126022553}. Best is trial 44 with value: 0.846491817978032.\n"
     ]
    }
   ],
   "source": [
    "study = optuna.create_study(direction='maximize', study_name='XGBoost Optimization',\n",
    "                            sampler=optuna.samplers.TPESampler(seed=42))\n",
    "\n",
    "study.optimize(lambda trial: optimize_xgboost(trial, X_train, y_train), n_trials=100)                            "
   ]
  },
  {
   "cell_type": "code",
   "execution_count": 30,
   "metadata": {},
   "outputs": [
    {
     "name": "stdout",
     "output_type": "stream",
     "text": [
      "{'n_estimators': 600, 'max_depth': 13, 'learning_rate': 0.00022745094720645436, 'subsample': 0.7, 'colsample_bytree': 0.5, 'gamma': 0.5566350039173886, 'reg_alpha': 1.1572068089409904e-05, 'reg_lambda': 0.022448492696921635, 'min_frequency': 0.3458349011854006}\n",
      "0.846491817978032\n"
     ]
    }
   ],
   "source": [
    "xgboost_params = study.best_params\n",
    "xgboost_score = study.best_value\n",
    "print(xgboost_params)\n",
    "print(xgboost_score)"
   ]
  },
  {
   "cell_type": "code",
   "execution_count": 36,
   "metadata": {},
   "outputs": [],
   "source": [
    "def optimize_lightgbm(trial: optuna.Trial, X: pd.DataFrame, y: pd.Series) -> float:\n",
    "    \"\"\"\n",
    "    Fonction pour optimiser un modèle LightGBM avec un pipeline scikit-learn\n",
    "    utilisant une sélection de caractéristiques et IsolationForest.\n",
    "    \"\"\"\n",
    "\n",
    "    X = X.copy()\n",
    "    X = X.drop('City', axis=1)\n",
    "\n",
    "    column_transformer = ColumnTransformer(\n",
    "        transformers=[\n",
    "            (\n",
    "                'encoder',\n",
    "                OneHotEncoder(drop='first', handle_unknown='ignore'),\n",
    "                X.select_dtypes(include='object').columns,\n",
    "            )\n",
    "        ],\n",
    "        remainder='passthrough',\n",
    "        sparse_threshold=0\n",
    "    )\n",
    "\n",
    "    param_grid = {\n",
    "        'model__n_estimators': trial.suggest_int('n_estimators', 100, 1000, step=50),\n",
    "        'model__max_depth': trial.suggest_int('max_depth', 3, 15),\n",
    "        'model__learning_rate': trial.suggest_loguniform('learning_rate', 1e-4, 0.3),\n",
    "        'model__subsample': trial.suggest_float('subsample', 0.5, 1.0, step=0.1),\n",
    "        'model__colsample_bytree': trial.suggest_float('colsample_bytree', 0.5, 1.0, step=0.1),\n",
    "        'model__gamma': trial.suggest_float('gamma', 0, 10),\n",
    "        'model__reg_alpha': trial.suggest_loguniform('reg_alpha', 1e-5, 1.0),\n",
    "        'model__reg_lambda': trial.suggest_loguniform('reg_lambda', 1e-5, 1.0),\n",
    "        'transformer__encoder__min_frequency': trial.suggest_float('min_frequency', 0.01, 0.4),\n",
    "    }\n",
    "\n",
    "    pipeline = Pipeline(steps=[\n",
    "        ('transformer', column_transformer),\n",
    "        ('model', LGBMClassifier(      \n",
    "            objective='binary',\n",
    "            class_weight='balanced',\n",
    "            random_state=42,\n",
    "        ))\n",
    "    ])\n",
    "\n",
    "    pipeline.set_params(**param_grid)\n",
    "\n",
    "    try:\n",
    "        scores = cross_val_score(\n",
    "            pipeline,\n",
    "            X,\n",
    "            y,\n",
    "            cv=5,\n",
    "            scoring='accuracy',\n",
    "            n_jobs=-1\n",
    "        )\n",
    "    except Exception as e:\n",
    "        print(f'Erreur pendant la validation croisée : {e}')\n",
    "        return 0.0\n",
    "\n",
    "    return scores.mean()"
   ]
  },
  {
   "cell_type": "code",
   "execution_count": null,
   "metadata": {},
   "outputs": [],
   "source": [
    "study = optuna.create_study(direction='maximize', study_name='LightGBM Optimization',\n",
    "                            sampler=optuna.samplers.TPESampler(seed=42))\n",
    "\n",
    "study.optimize(lambda trial: optimize_lightgbm(trial, X_train, y_train), n_trials=100)"
   ]
  },
  {
   "cell_type": "code",
   "execution_count": 38,
   "metadata": {},
   "outputs": [
    {
     "name": "stdout",
     "output_type": "stream",
     "text": [
      "{'n_estimators': 450, 'max_depth': 13, 'learning_rate': 0.024255239169265967, 'subsample': 0.8, 'colsample_bytree': 0.5, 'gamma': 5.070017624835386, 'reg_alpha': 2.753263216660962e-05, 'reg_lambda': 0.0023808209814624556, 'min_frequency': 0.07573513126319933}\n",
      "0.8447881640887693\n"
     ]
    }
   ],
   "source": [
    "lightgbm_params = study.best_params\n",
    "lightgbm_score = study.best_value\n",
    "print(lightgbm_params)\n",
    "print(lightgbm_score)"
   ]
  },
  {
   "cell_type": "code",
   "execution_count": 15,
   "metadata": {},
   "outputs": [
    {
     "name": "stderr",
     "output_type": "stream",
     "text": [
      "/opt/anaconda3/envs/backup/lib/python3.11/site-packages/sklearn/preprocessing/_encoders.py:242: UserWarning: Found unknown categories in columns [0] during transform. These unknown categories will be encoded as all zeros\n",
      "  warnings.warn(\n"
     ]
    }
   ],
   "source": [
    "from torch import nn\n",
    "import torch\n",
    "from torch.utils.data import Dataset, DataLoader\n",
    "from sklearn.preprocessing import StandardScaler\n",
    "import torch.nn.functional as F\n",
    "import numpy as np\n",
    "import pandas as pd\n",
    "from sklearn.model_selection import train_test_split\n",
    "from sklearn.compose import ColumnTransformer\n",
    "from sklearn.preprocessing import OneHotEncoder\n",
    "from sklearn.preprocessing import StandardScaler\n",
    "import optuna\n",
    "from tqdm.auto import tqdm\n",
    "\n",
    "def preprocess_data(X: pd.DataFrame,\n",
    "                    seed: float = 42) -> pd.DataFrame:\n",
    "\n",
    "    np.random.seed(seed)\n",
    "    X = X.copy()\n",
    "\n",
    "    for col in X.columns:\n",
    "        if X[col].nunique(dropna=True) == 2:\n",
    "            unique_values = X[col].dropna().unique()\n",
    "            mapping = {value: idx for idx, value in enumerate(unique_values)}\n",
    "            X[col] = X[col].map(mapping)\n",
    "\n",
    "    X['Sleep Duration'] = X['Sleep Duration'].apply(\n",
    "        lambda value: (\n",
    "            0 if value in [\"Less than 5 hours\", \"2-3 hours\", \"3-4 hours\", \"4-5 hours\", \"No\"]\n",
    "            else 1 if value in [\"5-6 hours\", \"6-7 hours\", \"4-6 hours\"]\n",
    "            else 2 if value in [\"7-8 hours\"]\n",
    "            else 3 if value in [\"8-9 hours\", \"More than 8 hours\", \"9-11 hours\", \"10-11 hours\"]\n",
    "            else np.random.choice([0, 1, 2, 3])\n",
    "        )\n",
    "    )\n",
    "\n",
    "    X['Dietary Habits'] = X['Dietary Habits'].apply(\n",
    "        lambda value: (\n",
    "            0 if value in [\"Unhealthy\", \"No Healthy\", \"No\", \"1\", 1]\n",
    "            else 1 if value in [\"Moderate\", \"Less Healthy\", \"Less than Healthy\", \"2\", 2]\n",
    "            else 2 if value in [\"Healthy\", \"More Healthy\", \"Yes\", \"3\", 3]\n",
    "            else np.random.choice([0, 1, 2])\n",
    "        )\n",
    "    )\n",
    "\n",
    "    return X\n",
    "\n",
    "df = pd.read_csv('student_not_split.csv')\n",
    "X_train, X_test, y_train, y_test = train_test_split(df.iloc[:, :-1], df.iloc[:, -1], test_size=0.2, random_state=42)\n",
    "\n",
    "X_train = preprocess_data(X_train)\n",
    "X_test = preprocess_data(X_test)\n",
    "\n",
    "X_train_nnet = X_train.drop('City', axis=1)\n",
    "X_test_nnet = X_test.drop('City', axis=1)\n",
    "\n",
    "transformer_nnet = ColumnTransformer([\n",
    "    ('encoder', OneHotEncoder(drop='first', handle_unknown='ignore', min_frequency=0.3), X_train_nnet.select_dtypes(include='object').columns),\n",
    "    ('scaler', StandardScaler(), X_train_nnet.select_dtypes(include='number').columns),\n",
    "], remainder='passthrough', sparse_threshold=0)\n",
    "\n",
    "X_train_scaled = transformer_nnet.fit_transform(X_train_nnet)\n",
    "X_test_scaled = transformer_nnet.transform(X_test_nnet)"
   ]
  },
  {
   "cell_type": "code",
   "execution_count": 21,
   "metadata": {},
   "outputs": [],
   "source": [
    "class DepressionDataset(Dataset):\n",
    "    def __init__(self, X, y):\n",
    "        if isinstance(y, pd.Series):\n",
    "            y = y.values\n",
    "        self.X = torch.tensor(X, dtype=torch.float32)\n",
    "        self.y = torch.tensor(y, dtype=torch.float32).view(-1, 1)\n",
    "\n",
    "    def __len__(self):\n",
    "        return len(self.X)\n",
    "\n",
    "    def __getitem__(self, idx):\n",
    "        return self.X[idx], self.y[idx]\n",
    "    \n",
    "train_dataset = DepressionDataset(X_train_scaled, y_train)\n",
    "test_dataset = DepressionDataset(X_test_scaled, y_test)\n",
    "\n",
    "train_loader = DataLoader(train_dataset, batch_size=32, shuffle=True)\n",
    "test_loader = DataLoader(test_dataset, batch_size=32, shuffle=False)\n",
    "\n",
    "class DepressionModel(nn.Module):\n",
    "    def __init__(self, input_dim, hidden_dim, output_dim, n_hidden_layers, dropout):\n",
    "        super(DepressionModel, self).__init__()\n",
    "        self.l1 = nn.Linear(input_dim, hidden_dim)\n",
    "        self.relu = nn.ReLU()\n",
    "        self.hidden_layers = nn.ModuleList([nn.Sequential(\n",
    "            nn.Linear(hidden_dim, hidden_dim),\n",
    "            nn.ReLU(),\n",
    "        ) for _ in range(n_hidden_layers)])\n",
    "        self.l2 = nn.Linear(hidden_dim, output_dim)\n",
    "\n",
    "        self.dropout = nn.Dropout(dropout)\n",
    "\n",
    "    def forward(self, x):\n",
    "        x = self.l1(x)\n",
    "        x = self.relu(x)\n",
    "        for hidden_layer in self.hidden_layers:\n",
    "            x = hidden_layer(x)\n",
    "        x = self.dropout(x)\n",
    "        x = self.l2(x)\n",
    "        return x\n",
    "    \n",
    "\n",
    "class FocalLoss(nn.Module):\n",
    "    def __init__(self, alpha=1, gamma=2, logits=True, reduce=True):\n",
    "        super(FocalLoss, self).__init__()\n",
    "        self.alpha = alpha\n",
    "        self.gamma = gamma\n",
    "        self.logits = logits\n",
    "        self.reduce = reduce\n",
    "\n",
    "    def forward(self, inputs, targets):\n",
    "        if self.logits:\n",
    "            BCE_loss = F.binary_cross_entropy_with_logits(inputs, targets, reduce=None)\n",
    "        else:\n",
    "            BCE_loss = F.binary_cross_entropy(inputs, targets, reduce=None)\n",
    "        pt = torch.exp(-BCE_loss)\n",
    "        F_loss = self.alpha * (1-pt)**self.gamma * BCE_loss\n",
    "\n",
    "        if self.reduce:\n",
    "            return torch.mean(F_loss)\n",
    "        else:\n",
    "            return F_loss"
   ]
  },
  {
   "cell_type": "code",
   "execution_count": 22,
   "metadata": {},
   "outputs": [
    {
     "name": "stdout",
     "output_type": "stream",
     "text": [
      "tensor(0.1784, grad_fn=<MeanBackward0>)\n",
      "tensor(0.1767, grad_fn=<MeanBackward0>)\n"
     ]
    }
   ],
   "source": [
    "model = DepressionModel(input_dim=X_train_scaled.shape[1], hidden_dim=64, output_dim=1, n_hidden_layers=2, dropout=0.5)\n",
    "criterion = FocalLoss()\n",
    "optimizer = torch.optim.Adam(model.parameters(), lr=0.001)\n",
    "\n",
    "X_batch, y_batch = next(iter(train_loader))\n",
    "y_pred = model(X_batch)\n",
    "loss = criterion(y_pred, y_batch)\n",
    "print(loss)\n",
    "X_val_batch, y_val_batch = next(iter(test_loader))\n",
    "y_val_pred = model(X_val_batch)\n",
    "val_loss = criterion(y_val_pred, y_val_batch)\n",
    "print(val_loss)"
   ]
  },
  {
   "cell_type": "code",
   "execution_count": 23,
   "metadata": {},
   "outputs": [],
   "source": [
    "def optimize_nnet(trial, train_loader, test_loader):\n",
    "\n",
    "    device = 'mps' if torch.backends.mps.is_available() else 'cuda' if torch.cuda.is_available() else 'cpu'\n",
    "\n",
    "    input_dim = X_train_scaled.shape[1]\n",
    "    hidden_dim = trial.suggest_int('hidden_dim', 32, 256, step=32)\n",
    "    n_hidden_layers = trial.suggest_int('n_hidden_layers', 1, 5)\n",
    "    dropout = trial.suggest_float('dropout', 0.1, 0.5)\n",
    "    learning_rate = trial.suggest_float('learning_rate', 1e-4, 1e-2, log=True)\n",
    "    alpha = trial.suggest_float('alpha', 0.25, 1.0)\n",
    "    gamma = trial.suggest_int('gamma', 1, 5)\n",
    "    weight_decay = trial.suggest_float('weight_decay', 1e-5, 1e-3, log=True)\n",
    "\n",
    "    model = DepressionModel(input_dim, hidden_dim, 1, n_hidden_layers, dropout).to(device)\n",
    "    criterion = FocalLoss(alpha=alpha, gamma=gamma)\n",
    "    optimizer = torch.optim.AdamW(model.parameters(), lr=learning_rate, weight_decay=weight_decay)\n",
    "\n",
    "    model.train()\n",
    "    for _ in tqdm(range(10), desc='Training Neural Network'):  \n",
    "        for X_batch, y_batch in train_loader:\n",
    "            X_batch, y_batch = X_batch.to(device), y_batch.to(device)\n",
    "            optimizer.zero_grad()\n",
    "            outputs = model(X_batch)\n",
    "            loss = criterion(outputs, y_batch)\n",
    "            loss.backward()\n",
    "            optimizer.step()\n",
    "\n",
    "    model.eval()\n",
    "    correct = 0\n",
    "    total = 0\n",
    "    with torch.inference_mode():\n",
    "        for X_batch, y_batch in test_loader:\n",
    "            X_batch, y_batch = X_batch.to(device), y_batch.to(device)\n",
    "            outputs = model(X_batch)\n",
    "            predicted = (outputs > 0.5).float()\n",
    "            total += y_batch.size(0)\n",
    "            correct += (predicted == y_batch).sum().item()\n",
    "\n",
    "    accuracy = correct / total\n",
    "    return accuracy\n",
    "    "
   ]
  },
  {
   "cell_type": "code",
   "execution_count": 24,
   "metadata": {},
   "outputs": [
    {
     "name": "stderr",
     "output_type": "stream",
     "text": [
      "[I 2024-11-26 18:47:32,041] A new study created in memory with name: Neural Network Optimization\n"
     ]
    },
    {
     "data": {
      "application/vnd.jupyter.widget-view+json": {
       "model_id": "73ef7320e88d4b98aeda4637826a6cc3",
       "version_major": 2,
       "version_minor": 0
      },
      "text/plain": [
       "Training Neural Network:   0%|          | 0/10 [00:00<?, ?it/s]"
      ]
     },
     "metadata": {},
     "output_type": "display_data"
    },
    {
     "name": "stderr",
     "output_type": "stream",
     "text": [
      "[I 2024-11-26 18:48:02,998] Trial 0 finished with value: 0.8362919132149902 and parameters: {'hidden_dim': 96, 'n_hidden_layers': 5, 'dropout': 0.39279757672456206, 'learning_rate': 0.0015751320499779737, 'alpha': 0.3670139803318274, 'gamma': 1, 'weight_decay': 1.3066739238053272e-05}. Best is trial 0 with value: 0.8362919132149902.\n"
     ]
    },
    {
     "data": {
      "application/vnd.jupyter.widget-view+json": {
       "model_id": "a2032baa694648a789400216df565e6e",
       "version_major": 2,
       "version_minor": 0
      },
      "text/plain": [
       "Training Neural Network:   0%|          | 0/10 [00:00<?, ?it/s]"
      ]
     },
     "metadata": {},
     "output_type": "display_data"
    },
    {
     "name": "stderr",
     "output_type": "stream",
     "text": [
      "[I 2024-11-26 18:48:29,966] Trial 1 finished with value: 0.8298368298368298 and parameters: {'hidden_dim': 224, 'n_hidden_layers': 4, 'dropout': 0.3832290311184182, 'learning_rate': 0.00010994335574766199, 'alpha': 0.9774323891214958, 'gamma': 5, 'weight_decay': 2.6587543983272695e-05}. Best is trial 0 with value: 0.8362919132149902.\n"
     ]
    },
    {
     "data": {
      "application/vnd.jupyter.widget-view+json": {
       "model_id": "e2e20683eb884811b436155dcf0c587f",
       "version_major": 2,
       "version_minor": 0
      },
      "text/plain": [
       "Training Neural Network:   0%|          | 0/10 [00:00<?, ?it/s]"
      ]
     },
     "metadata": {},
     "output_type": "display_data"
    },
    {
     "name": "stderr",
     "output_type": "stream",
     "text": [
      "[I 2024-11-26 18:48:47,202] Trial 2 finished with value: 0.835933297471759 and parameters: {'hidden_dim': 64, 'n_hidden_layers': 1, 'dropout': 0.2216968971838151, 'learning_rate': 0.0011207606211860567, 'alpha': 0.5739587639815869, 'gamma': 2, 'weight_decay': 0.00016738085788752134}. Best is trial 0 with value: 0.8362919132149902.\n"
     ]
    },
    {
     "data": {
      "application/vnd.jupyter.widget-view+json": {
       "model_id": "9407726d92c34208ab30c3eff65e68c0",
       "version_major": 2,
       "version_minor": 0
      },
      "text/plain": [
       "Training Neural Network:   0%|          | 0/10 [00:00<?, ?it/s]"
      ]
     },
     "metadata": {},
     "output_type": "display_data"
    },
    {
     "name": "stderr",
     "output_type": "stream",
     "text": [
      "[I 2024-11-26 18:49:07,134] Trial 3 finished with value: 0.8257127487896718 and parameters: {'hidden_dim': 64, 'n_hidden_layers': 2, 'dropout': 0.2465447373174767, 'learning_rate': 0.000816845589476017, 'alpha': 0.8388819710447601, 'gamma': 1, 'weight_decay': 0.00010677482709481354}. Best is trial 0 with value: 0.8362919132149902.\n"
     ]
    },
    {
     "data": {
      "application/vnd.jupyter.widget-view+json": {
       "model_id": "700c4910a2d34007913e1d1aaef25c0e",
       "version_major": 2,
       "version_minor": 0
      },
      "text/plain": [
       "Training Neural Network:   0%|          | 0/10 [00:00<?, ?it/s]"
      ]
     },
     "metadata": {},
     "output_type": "display_data"
    },
    {
     "name": "stderr",
     "output_type": "stream",
     "text": [
      "[I 2024-11-26 18:49:24,608] Trial 4 finished with value: 0.8242782858167473 and parameters: {'hidden_dim': 160, 'n_hidden_layers': 1, 'dropout': 0.34301794076057535, 'learning_rate': 0.00021930485556643703, 'alpha': 0.29878869473895964, 'gamma': 5, 'weight_decay': 0.0008536189862866829}. Best is trial 0 with value: 0.8362919132149902.\n"
     ]
    },
    {
     "data": {
      "application/vnd.jupyter.widget-view+json": {
       "model_id": "b252bbb313134634a9a166e3caec0c0e",
       "version_major": 2,
       "version_minor": 0
      },
      "text/plain": [
       "Training Neural Network:   0%|          | 0/10 [00:00<?, ?it/s]"
      ]
     },
     "metadata": {},
     "output_type": "display_data"
    },
    {
     "name": "stderr",
     "output_type": "stream",
     "text": [
      "[I 2024-11-26 18:49:46,912] Trial 5 finished with value: 0.8336022951407567 and parameters: {'hidden_dim': 224, 'n_hidden_layers': 2, 'dropout': 0.13906884560255356, 'learning_rate': 0.0023359635026261607, 'alpha': 0.5801143703047009, 'gamma': 1, 'weight_decay': 9.7803370166594e-05}. Best is trial 0 with value: 0.8362919132149902.\n"
     ]
    },
    {
     "data": {
      "application/vnd.jupyter.widget-view+json": {
       "model_id": "7d450e245e024607b4b365ad9cc7acab",
       "version_major": 2,
       "version_minor": 0
      },
      "text/plain": [
       "Training Neural Network:   0%|          | 0/10 [00:00<?, ?it/s]"
      ]
     },
     "metadata": {},
     "output_type": "display_data"
    },
    {
     "name": "stderr",
     "output_type": "stream",
     "text": [
      "[I 2024-11-26 18:50:17,846] Trial 6 finished with value: 0.8323471400394478 and parameters: {'hidden_dim': 32, 'n_hidden_layers': 5, 'dropout': 0.20351199264000677, 'learning_rate': 0.0021137059440645744, 'alpha': 0.4837833070670582, 'gamma': 3, 'weight_decay': 0.00012399967836846095}. Best is trial 0 with value: 0.8362919132149902.\n"
     ]
    },
    {
     "data": {
      "application/vnd.jupyter.widget-view+json": {
       "model_id": "6bd1c74f066d48ccb389e8c810fcc785",
       "version_major": 2,
       "version_minor": 0
      },
      "text/plain": [
       "Training Neural Network:   0%|          | 0/10 [00:00<?, ?it/s]"
      ]
     },
     "metadata": {},
     "output_type": "display_data"
    },
    {
     "name": "stderr",
     "output_type": "stream",
     "text": [
      "[I 2024-11-26 18:50:47,584] Trial 7 finished with value: 0.8240989779451318 and parameters: {'hidden_dim': 64, 'n_hidden_layers': 5, 'dropout': 0.4100531293444458, 'learning_rate': 0.007568292060167618, 'alpha': 0.9211205128207366, 'gamma': 3, 'weight_decay': 0.0006978281265126031}. Best is trial 0 with value: 0.8362919132149902.\n"
     ]
    },
    {
     "data": {
      "application/vnd.jupyter.widget-view+json": {
       "model_id": "1ce6b52f81374da680b58f281659259d",
       "version_major": 2,
       "version_minor": 0
      },
      "text/plain": [
       "Training Neural Network:   0%|          | 0/10 [00:00<?, ?it/s]"
      ]
     },
     "metadata": {},
     "output_type": "display_data"
    },
    {
     "name": "stderr",
     "output_type": "stream",
     "text": [
      "[I 2024-11-26 18:51:04,738] Trial 8 finished with value: 0.8396987627756859 and parameters: {'hidden_dim': 32, 'n_hidden_layers': 1, 'dropout': 0.11809091556421523, 'learning_rate': 0.0004473636174621269, 'alpha': 0.5415079672671115, 'gamma': 2, 'weight_decay': 0.00045443839603360173}. Best is trial 8 with value: 0.8396987627756859.\n"
     ]
    },
    {
     "data": {
      "application/vnd.jupyter.widget-view+json": {
       "model_id": "b7eb6b8996404fb29c3ddd0ef6566364",
       "version_major": 2,
       "version_minor": 0
      },
      "text/plain": [
       "Training Neural Network:   0%|          | 0/10 [00:00<?, ?it/s]"
      ]
     },
     "metadata": {},
     "output_type": "display_data"
    },
    {
     "name": "stderr",
     "output_type": "stream",
     "text": [
      "[I 2024-11-26 18:51:24,624] Trial 9 finished with value: 0.8391608391608392 and parameters: {'hidden_dim': 96, 'n_hidden_layers': 2, 'dropout': 0.31707843326329943, 'learning_rate': 0.00019135880487692312, 'alpha': 0.8516477355655298, 'gamma': 1, 'weight_decay': 0.0009413993046829941}. Best is trial 8 with value: 0.8396987627756859.\n"
     ]
    },
    {
     "data": {
      "application/vnd.jupyter.widget-view+json": {
       "model_id": "91a7357974fe4d0a98dba31b8fb4aee2",
       "version_major": 2,
       "version_minor": 0
      },
      "text/plain": [
       "Training Neural Network:   0%|          | 0/10 [00:00<?, ?it/s]"
      ]
     },
     "metadata": {},
     "output_type": "display_data"
    },
    {
     "name": "stderr",
     "output_type": "stream",
     "text": [
      "[I 2024-11-26 18:51:48,548] Trial 10 finished with value: 0.8239196700735162 and parameters: {'hidden_dim': 160, 'n_hidden_layers': 3, 'dropout': 0.48781484431514643, 'learning_rate': 0.0004939713749567098, 'alpha': 0.7300663768506673, 'gamma': 4, 'weight_decay': 0.0002888908524619867}. Best is trial 8 with value: 0.8396987627756859.\n"
     ]
    },
    {
     "data": {
      "application/vnd.jupyter.widget-view+json": {
       "model_id": "422156d6129c4a598b9a79cf16c01a4a",
       "version_major": 2,
       "version_minor": 0
      },
      "text/plain": [
       "Training Neural Network:   0%|          | 0/10 [00:00<?, ?it/s]"
      ]
     },
     "metadata": {},
     "output_type": "display_data"
    },
    {
     "name": "stderr",
     "output_type": "stream",
     "text": [
      "[I 2024-11-26 18:52:09,526] Trial 11 finished with value: 0.8361126053433746 and parameters: {'hidden_dim': 128, 'n_hidden_layers': 2, 'dropout': 0.10527069298533615, 'learning_rate': 0.00027264167240593264, 'alpha': 0.7310127475143509, 'gamma': 2, 'weight_decay': 0.0003806903967599258}. Best is trial 8 with value: 0.8396987627756859.\n"
     ]
    },
    {
     "data": {
      "application/vnd.jupyter.widget-view+json": {
       "model_id": "94f66c8ea84d41689e47c0ff6952dd3b",
       "version_major": 2,
       "version_minor": 0
      },
      "text/plain": [
       "Training Neural Network:   0%|          | 0/10 [00:00<?, ?it/s]"
      ]
     },
     "metadata": {},
     "output_type": "display_data"
    },
    {
     "name": "stderr",
     "output_type": "stream",
     "text": [
      "[I 2024-11-26 18:52:26,611] Trial 12 finished with value: 0.8364712210866057 and parameters: {'hidden_dim': 32, 'n_hidden_layers': 1, 'dropout': 0.29121106928333834, 'learning_rate': 0.00010318516155615232, 'alpha': 0.742527443549847, 'gamma': 2, 'weight_decay': 0.00044587383238761983}. Best is trial 8 with value: 0.8396987627756859.\n"
     ]
    },
    {
     "data": {
      "application/vnd.jupyter.widget-view+json": {
       "model_id": "f6307c8aebeb48e695e032a451c09aed",
       "version_major": 2,
       "version_minor": 0
      },
      "text/plain": [
       "Training Neural Network:   0%|          | 0/10 [00:00<?, ?it/s]"
      ]
     },
     "metadata": {},
     "output_type": "display_data"
    },
    {
     "name": "stderr",
     "output_type": "stream",
     "text": [
      "[I 2024-11-26 18:52:50,185] Trial 13 finished with value: 0.8312712928097543 and parameters: {'hidden_dim': 96, 'n_hidden_layers': 3, 'dropout': 0.2984165248678858, 'learning_rate': 0.0003420748000009378, 'alpha': 0.451597470434506, 'gamma': 2, 'weight_decay': 0.0009818226878189125}. Best is trial 8 with value: 0.8396987627756859.\n"
     ]
    },
    {
     "data": {
      "application/vnd.jupyter.widget-view+json": {
       "model_id": "e1e9b4d03eea459b991403406e770441",
       "version_major": 2,
       "version_minor": 0
      },
      "text/plain": [
       "Training Neural Network:   0%|          | 0/10 [00:00<?, ?it/s]"
      ]
     },
     "metadata": {},
     "output_type": "display_data"
    },
    {
     "name": "stderr",
     "output_type": "stream",
     "text": [
      "[I 2024-11-26 18:53:10,031] Trial 14 finished with value: 0.8432849202079972 and parameters: {'hidden_dim': 96, 'n_hidden_layers': 2, 'dropout': 0.1507939376004347, 'learning_rate': 0.00018089224154177916, 'alpha': 0.6402911824165997, 'gamma': 1, 'weight_decay': 4.4232750160705384e-05}. Best is trial 14 with value: 0.8432849202079972.\n"
     ]
    },
    {
     "data": {
      "application/vnd.jupyter.widget-view+json": {
       "model_id": "e562164d6d504b268a34a93f60e14027",
       "version_major": 2,
       "version_minor": 0
      },
      "text/plain": [
       "Training Neural Network:   0%|          | 0/10 [00:00<?, ?it/s]"
      ]
     },
     "metadata": {},
     "output_type": "display_data"
    },
    {
     "name": "stderr",
     "output_type": "stream",
     "text": [
      "[I 2024-11-26 18:53:27,078] Trial 15 finished with value: 0.8384436076743769 and parameters: {'hidden_dim': 32, 'n_hidden_layers': 1, 'dropout': 0.155701130673422, 'learning_rate': 0.000576322908179081, 'alpha': 0.6625753525745551, 'gamma': 2, 'weight_decay': 4.4526373085488156e-05}. Best is trial 14 with value: 0.8432849202079972.\n"
     ]
    },
    {
     "data": {
      "application/vnd.jupyter.widget-view+json": {
       "model_id": "2c2904424ae543499fdedf6c1ecb08d4",
       "version_major": 2,
       "version_minor": 0
      },
      "text/plain": [
       "Training Neural Network:   0%|          | 0/10 [00:00<?, ?it/s]"
      ]
     },
     "metadata": {},
     "output_type": "display_data"
    },
    {
     "name": "stderr",
     "output_type": "stream",
     "text": [
      "[I 2024-11-26 18:53:47,940] Trial 16 finished with value: 0.835933297471759 and parameters: {'hidden_dim': 128, 'n_hidden_layers': 2, 'dropout': 0.17931755485186668, 'learning_rate': 0.004326977485338142, 'alpha': 0.43412018239397593, 'gamma': 4, 'weight_decay': 4.528274347601408e-05}. Best is trial 14 with value: 0.8432849202079972.\n"
     ]
    },
    {
     "data": {
      "application/vnd.jupyter.widget-view+json": {
       "model_id": "5e308706b9da40fb8ef59585f73886b7",
       "version_major": 2,
       "version_minor": 0
      },
      "text/plain": [
       "Training Neural Network:   0%|          | 0/10 [00:00<?, ?it/s]"
      ]
     },
     "metadata": {},
     "output_type": "display_data"
    },
    {
     "name": "stderr",
     "output_type": "stream",
     "text": [
      "[I 2024-11-26 18:54:12,308] Trial 17 finished with value: 0.8332436793975255 and parameters: {'hidden_dim': 192, 'n_hidden_layers': 3, 'dropout': 0.1292446425188274, 'learning_rate': 0.00015655976343953294, 'alpha': 0.5435792309593224, 'gamma': 1, 'weight_decay': 5.289031859423953e-05}. Best is trial 14 with value: 0.8432849202079972.\n"
     ]
    },
    {
     "data": {
      "application/vnd.jupyter.widget-view+json": {
       "model_id": "ba007b0626874e0d89d7ad87d718bae0",
       "version_major": 2,
       "version_minor": 0
      },
      "text/plain": [
       "Training Neural Network:   0%|          | 0/10 [00:00<?, ?it/s]"
      ]
     },
     "metadata": {},
     "output_type": "display_data"
    },
    {
     "name": "stderr",
     "output_type": "stream",
     "text": [
      "[I 2024-11-26 18:54:30,028] Trial 18 finished with value: 0.8316299085529855 and parameters: {'hidden_dim': 256, 'n_hidden_layers': 1, 'dropout': 0.10176036698802941, 'learning_rate': 0.00048120291999696426, 'alpha': 0.653424615069068, 'gamma': 3, 'weight_decay': 1.0625721497327473e-05}. Best is trial 14 with value: 0.8432849202079972.\n"
     ]
    },
    {
     "data": {
      "application/vnd.jupyter.widget-view+json": {
       "model_id": "598d126f361046bba1e79eb8510efb11",
       "version_major": 2,
       "version_minor": 0
      },
      "text/plain": [
       "Training Neural Network:   0%|          | 0/10 [00:00<?, ?it/s]"
      ]
     },
     "metadata": {},
     "output_type": "display_data"
    },
    {
     "name": "stderr",
     "output_type": "stream",
     "text": [
      "[I 2024-11-26 18:54:53,443] Trial 19 finished with value: 0.8414918414918415 and parameters: {'hidden_dim': 64, 'n_hidden_layers': 3, 'dropout': 0.24609599022898077, 'learning_rate': 0.0003644241569268703, 'alpha': 0.515226586185423, 'gamma': 2, 'weight_decay': 2.162316266519429e-05}. Best is trial 14 with value: 0.8432849202079972.\n"
     ]
    },
    {
     "data": {
      "application/vnd.jupyter.widget-view+json": {
       "model_id": "7d49f81c9d944e37a720ec34cc3a7450",
       "version_major": 2,
       "version_minor": 0
      },
      "text/plain": [
       "Training Neural Network:   0%|          | 0/10 [00:00<?, ?it/s]"
      ]
     },
     "metadata": {},
     "output_type": "display_data"
    },
    {
     "name": "stderr",
     "output_type": "stream",
     "text": [
      "[I 2024-11-26 18:55:21,047] Trial 20 finished with value: 0.8197955890263583 and parameters: {'hidden_dim': 128, 'n_hidden_layers': 4, 'dropout': 0.2705386664376376, 'learning_rate': 0.0008207112561671239, 'alpha': 0.35342643992274725, 'gamma': 4, 'weight_decay': 1.935889978386814e-05}. Best is trial 14 with value: 0.8432849202079972.\n"
     ]
    },
    {
     "data": {
      "application/vnd.jupyter.widget-view+json": {
       "model_id": "b1e7efbe3f2b4e49be66634719d73d0a",
       "version_major": 2,
       "version_minor": 0
      },
      "text/plain": [
       "Training Neural Network:   0%|          | 0/10 [00:00<?, ?it/s]"
      ]
     },
     "metadata": {},
     "output_type": "display_data"
    },
    {
     "name": "stderr",
     "output_type": "stream",
     "text": [
      "[I 2024-11-26 18:55:44,986] Trial 21 finished with value: 0.8375470683162991 and parameters: {'hidden_dim': 64, 'n_hidden_layers': 3, 'dropout': 0.19166223450238554, 'learning_rate': 0.00034677499433992035, 'alpha': 0.5049667931098416, 'gamma': 2, 'weight_decay': 2.7969613569489473e-05}. Best is trial 14 with value: 0.8432849202079972.\n"
     ]
    },
    {
     "data": {
      "application/vnd.jupyter.widget-view+json": {
       "model_id": "cca3389cb43845cc949e79f608d9a5c6",
       "version_major": 2,
       "version_minor": 0
      },
      "text/plain": [
       "Training Neural Network:   0%|          | 0/10 [00:00<?, ?it/s]"
      ]
     },
     "metadata": {},
     "output_type": "display_data"
    },
    {
     "name": "stderr",
     "output_type": "stream",
     "text": [
      "[I 2024-11-26 18:56:10,712] Trial 22 finished with value: 0.8386229155459924 and parameters: {'hidden_dim': 96, 'n_hidden_layers': 4, 'dropout': 0.23353863552213278, 'learning_rate': 0.0001608979690988365, 'alpha': 0.6180171685475409, 'gamma': 3, 'weight_decay': 7.731789801741319e-05}. Best is trial 14 with value: 0.8432849202079972.\n"
     ]
    },
    {
     "data": {
      "application/vnd.jupyter.widget-view+json": {
       "model_id": "28066d884fa2441da1f25e53556316fd",
       "version_major": 2,
       "version_minor": 0
      },
      "text/plain": [
       "Training Neural Network:   0%|          | 0/10 [00:00<?, ?it/s]"
      ]
     },
     "metadata": {},
     "output_type": "display_data"
    },
    {
     "name": "stderr",
     "output_type": "stream",
     "text": [
      "[I 2024-11-26 18:56:30,676] Trial 23 finished with value: 0.8361126053433746 and parameters: {'hidden_dim': 32, 'n_hidden_layers': 2, 'dropout': 0.16074787439322547, 'learning_rate': 0.00034925737649718077, 'alpha': 0.39301450039373165, 'gamma': 2, 'weight_decay': 1.8792650372360238e-05}. Best is trial 14 with value: 0.8432849202079972.\n"
     ]
    },
    {
     "data": {
      "application/vnd.jupyter.widget-view+json": {
       "model_id": "5462a0db2df043dc92d65c73eeaf4748",
       "version_major": 2,
       "version_minor": 0
      },
      "text/plain": [
       "Training Neural Network:   0%|          | 0/10 [00:00<?, ?it/s]"
      ]
     },
     "metadata": {},
     "output_type": "display_data"
    },
    {
     "name": "stderr",
     "output_type": "stream",
     "text": [
      "[I 2024-11-26 18:56:54,022] Trial 24 finished with value: 0.8422090729783037 and parameters: {'hidden_dim': 64, 'n_hidden_layers': 3, 'dropout': 0.1828989607275351, 'learning_rate': 0.0006145664740818148, 'alpha': 0.5288164107125667, 'gamma': 1, 'weight_decay': 0.00017654491488114545}. Best is trial 14 with value: 0.8432849202079972.\n"
     ]
    },
    {
     "data": {
      "application/vnd.jupyter.widget-view+json": {
       "model_id": "1ab3d7fdf63d459c85df8ce5ed9f4e48",
       "version_major": 2,
       "version_minor": 0
      },
      "text/plain": [
       "Training Neural Network:   0%|          | 0/10 [00:00<?, ?it/s]"
      ]
     },
     "metadata": {},
     "output_type": "display_data"
    },
    {
     "name": "stderr",
     "output_type": "stream",
     "text": [
      "[I 2024-11-26 18:57:17,747] Trial 25 finished with value: 0.8361126053433746 and parameters: {'hidden_dim': 64, 'n_hidden_layers': 3, 'dropout': 0.18524357962446847, 'learning_rate': 0.0007321350851217542, 'alpha': 0.6726784525878897, 'gamma': 1, 'weight_decay': 0.00018599354912265657}. Best is trial 14 with value: 0.8432849202079972.\n"
     ]
    },
    {
     "data": {
      "application/vnd.jupyter.widget-view+json": {
       "model_id": "c7ae0a890b20476889e012c4f6c8d2b2",
       "version_major": 2,
       "version_minor": 0
      },
      "text/plain": [
       "Training Neural Network:   0%|          | 0/10 [00:00<?, ?it/s]"
      ]
     },
     "metadata": {},
     "output_type": "display_data"
    },
    {
     "name": "stderr",
     "output_type": "stream",
     "text": [
      "[I 2024-11-26 18:57:43,439] Trial 26 finished with value: 0.8332436793975255 and parameters: {'hidden_dim': 96, 'n_hidden_layers': 4, 'dropout': 0.261391644398265, 'learning_rate': 0.00024728435029728983, 'alpha': 0.6040232718889874, 'gamma': 1, 'weight_decay': 6.608583283526065e-05}. Best is trial 14 with value: 0.8432849202079972.\n"
     ]
    },
    {
     "data": {
      "application/vnd.jupyter.widget-view+json": {
       "model_id": "e90846f75d8a416b849cd295875ad73f",
       "version_major": 2,
       "version_minor": 0
      },
      "text/plain": [
       "Training Neural Network:   0%|          | 0/10 [00:00<?, ?it/s]"
      ]
     },
     "metadata": {},
     "output_type": "display_data"
    },
    {
     "name": "stderr",
     "output_type": "stream",
     "text": [
      "[I 2024-11-26 18:58:06,847] Trial 27 finished with value: 0.8366505289582212 and parameters: {'hidden_dim': 64, 'n_hidden_layers': 3, 'dropout': 0.23210995340406132, 'learning_rate': 0.0013550476206275349, 'alpha': 0.26336703334024525, 'gamma': 1, 'weight_decay': 3.069163489302656e-05}. Best is trial 14 with value: 0.8432849202079972.\n"
     ]
    },
    {
     "data": {
      "application/vnd.jupyter.widget-view+json": {
       "model_id": "89254def1d84484f99e0eccf589e3f88",
       "version_major": 2,
       "version_minor": 0
      },
      "text/plain": [
       "Training Neural Network:   0%|          | 0/10 [00:00<?, ?it/s]"
      ]
     },
     "metadata": {},
     "output_type": "display_data"
    },
    {
     "name": "stderr",
     "output_type": "stream",
     "text": [
      "[I 2024-11-26 18:58:30,744] Trial 28 finished with value: 0.8416711493634571 and parameters: {'hidden_dim': 128, 'n_hidden_layers': 3, 'dropout': 0.20886388568585898, 'learning_rate': 0.0001395486225099356, 'alpha': 0.5190542689218156, 'gamma': 1, 'weight_decay': 0.00021411738056094807}. Best is trial 14 with value: 0.8432849202079972.\n"
     ]
    },
    {
     "data": {
      "application/vnd.jupyter.widget-view+json": {
       "model_id": "ada6fab51f8148919492d19946ccf5c5",
       "version_major": 2,
       "version_minor": 0
      },
      "text/plain": [
       "Training Neural Network:   0%|          | 0/10 [00:00<?, ?it/s]"
      ]
     },
     "metadata": {},
     "output_type": "display_data"
    },
    {
     "name": "stderr",
     "output_type": "stream",
     "text": [
      "[I 2024-11-26 18:58:58,063] Trial 29 finished with value: 0.8325264479110633 and parameters: {'hidden_dim': 160, 'n_hidden_layers': 4, 'dropout': 0.15163941101472236, 'learning_rate': 0.0001413623905575456, 'alpha': 0.37032101596240496, 'gamma': 1, 'weight_decay': 0.00023732548144254223}. Best is trial 14 with value: 0.8432849202079972.\n"
     ]
    },
    {
     "data": {
      "application/vnd.jupyter.widget-view+json": {
       "model_id": "3e4e60706f83401bad910f47dc296053",
       "version_major": 2,
       "version_minor": 0
      },
      "text/plain": [
       "Training Neural Network:   0%|          | 0/10 [00:00<?, ?it/s]"
      ]
     },
     "metadata": {},
     "output_type": "display_data"
    },
    {
     "name": "stderr",
     "output_type": "stream",
     "text": [
      "[I 2024-11-26 18:59:18,532] Trial 30 finished with value: 0.8395194549040703 and parameters: {'hidden_dim': 128, 'n_hidden_layers': 2, 'dropout': 0.21300551901158726, 'learning_rate': 0.000125618708696441, 'alpha': 0.7856361607845146, 'gamma': 1, 'weight_decay': 0.00015110679793700908}. Best is trial 14 with value: 0.8432849202079972.\n"
     ]
    },
    {
     "data": {
      "application/vnd.jupyter.widget-view+json": {
       "model_id": "1a3ee80f001b4b45ab50585eada918b8",
       "version_major": 2,
       "version_minor": 0
      },
      "text/plain": [
       "Training Neural Network:   0%|          | 0/10 [00:00<?, ?it/s]"
      ]
     },
     "metadata": {},
     "output_type": "display_data"
    },
    {
     "name": "stderr",
     "output_type": "stream",
     "text": [
      "[I 2024-11-26 18:59:42,613] Trial 31 finished with value: 0.8352160659852967 and parameters: {'hidden_dim': 96, 'n_hidden_layers': 3, 'dropout': 0.17509012108892963, 'learning_rate': 0.00029380280873415095, 'alpha': 0.5156467518255656, 'gamma': 1, 'weight_decay': 1.62763753902408e-05}. Best is trial 14 with value: 0.8432849202079972.\n"
     ]
    },
    {
     "data": {
      "application/vnd.jupyter.widget-view+json": {
       "model_id": "f163dba6156146bb9230811a88f34f22",
       "version_major": 2,
       "version_minor": 0
      },
      "text/plain": [
       "Training Neural Network:   0%|          | 0/10 [00:00<?, ?it/s]"
      ]
     },
     "metadata": {},
     "output_type": "display_data"
    },
    {
     "name": "stderr",
     "output_type": "stream",
     "text": [
      "[I 2024-11-26 19:00:06,459] Trial 32 finished with value: 0.8431056123363816 and parameters: {'hidden_dim': 96, 'n_hidden_layers': 3, 'dropout': 0.2572703299051813, 'learning_rate': 0.0002046792536194387, 'alpha': 0.4644694072880541, 'gamma': 1, 'weight_decay': 0.0002320942509420826}. Best is trial 14 with value: 0.8432849202079972.\n"
     ]
    },
    {
     "data": {
      "application/vnd.jupyter.widget-view+json": {
       "model_id": "a07f11588814423abf5fd9049717b7e5",
       "version_major": 2,
       "version_minor": 0
      },
      "text/plain": [
       "Training Neural Network:   0%|          | 0/10 [00:00<?, ?it/s]"
      ]
     },
     "metadata": {},
     "output_type": "display_data"
    },
    {
     "name": "stderr",
     "output_type": "stream",
     "text": [
      "[I 2024-11-26 19:00:30,272] Trial 33 finished with value: 0.8309126770665233 and parameters: {'hidden_dim': 96, 'n_hidden_layers': 3, 'dropout': 0.2024495060730429, 'learning_rate': 0.00019088039305506824, 'alpha': 0.4436713014142572, 'gamma': 1, 'weight_decay': 0.00023603590624698224}. Best is trial 14 with value: 0.8432849202079972.\n"
     ]
    },
    {
     "data": {
      "application/vnd.jupyter.widget-view+json": {
       "model_id": "907974d0d86d4511a1253ef2daecbb4b",
       "version_major": 2,
       "version_minor": 0
      },
      "text/plain": [
       "Training Neural Network:   0%|          | 0/10 [00:00<?, ?it/s]"
      ]
     },
     "metadata": {},
     "output_type": "display_data"
    },
    {
     "name": "stderr",
     "output_type": "stream",
     "text": [
      "[I 2024-11-26 19:00:57,536] Trial 34 finished with value: 0.8303747534516766 and parameters: {'hidden_dim': 128, 'n_hidden_layers': 4, 'dropout': 0.2708995549186879, 'learning_rate': 0.00010151167395026777, 'alpha': 0.5672060783017819, 'gamma': 1, 'weight_decay': 0.00031219383485299966}. Best is trial 14 with value: 0.8432849202079972.\n"
     ]
    },
    {
     "data": {
      "application/vnd.jupyter.widget-view+json": {
       "model_id": "23c77d2823c44f649bfe13a663d7b19e",
       "version_major": 2,
       "version_minor": 0
      },
      "text/plain": [
       "Training Neural Network:   0%|          | 0/10 [00:00<?, ?it/s]"
      ]
     },
     "metadata": {},
     "output_type": "display_data"
    },
    {
     "name": "stderr",
     "output_type": "stream",
     "text": [
      "[I 2024-11-26 19:01:18,537] Trial 35 finished with value: 0.8375470683162991 and parameters: {'hidden_dim': 192, 'n_hidden_layers': 2, 'dropout': 0.3384999927357975, 'learning_rate': 0.00021185844009350048, 'alpha': 0.40186433085365036, 'gamma': 1, 'weight_decay': 0.00018319373543149503}. Best is trial 14 with value: 0.8432849202079972.\n"
     ]
    },
    {
     "data": {
      "application/vnd.jupyter.widget-view+json": {
       "model_id": "f6157ab95648420fa342a6759a85cc20",
       "version_major": 2,
       "version_minor": 0
      },
      "text/plain": [
       "Training Neural Network:   0%|          | 0/10 [00:00<?, ?it/s]"
      ]
     },
     "metadata": {},
     "output_type": "display_data"
    },
    {
     "name": "stderr",
     "output_type": "stream",
     "text": [
      "[I 2024-11-26 19:01:42,125] Trial 36 finished with value: 0.835933297471759 and parameters: {'hidden_dim': 96, 'n_hidden_layers': 3, 'dropout': 0.2140602574059099, 'learning_rate': 0.00014545693387097236, 'alpha': 0.3277641752457654, 'gamma': 1, 'weight_decay': 0.00012013558542504305}. Best is trial 14 with value: 0.8432849202079972.\n"
     ]
    },
    {
     "data": {
      "application/vnd.jupyter.widget-view+json": {
       "model_id": "043915256f474feeb577297301439533",
       "version_major": 2,
       "version_minor": 0
      },
      "text/plain": [
       "Training Neural Network:   0%|          | 0/10 [00:00<?, ?it/s]"
      ]
     },
     "metadata": {},
     "output_type": "display_data"
    },
    {
     "name": "stderr",
     "output_type": "stream",
     "text": [
      "[I 2024-11-26 19:02:08,953] Trial 37 finished with value: 0.8414918414918415 and parameters: {'hidden_dim': 128, 'n_hidden_layers': 4, 'dropout': 0.13965382988535932, 'learning_rate': 0.0018073979643458663, 'alpha': 0.45392745614665264, 'gamma': 5, 'weight_decay': 8.400022418519055e-05}. Best is trial 14 with value: 0.8432849202079972.\n"
     ]
    },
    {
     "data": {
      "application/vnd.jupyter.widget-view+json": {
       "model_id": "5bcc77565715434aa156964d4739e6d6",
       "version_major": 2,
       "version_minor": 0
      },
      "text/plain": [
       "Training Neural Network:   0%|          | 0/10 [00:00<?, ?it/s]"
      ]
     },
     "metadata": {},
     "output_type": "display_data"
    },
    {
     "name": "stderr",
     "output_type": "stream",
     "text": [
      "[I 2024-11-26 19:02:29,881] Trial 38 finished with value: 0.8305540613232921 and parameters: {'hidden_dim': 160, 'n_hidden_layers': 2, 'dropout': 0.16691872935863375, 'learning_rate': 0.0006334779301695644, 'alpha': 0.5846367284065596, 'gamma': 2, 'weight_decay': 0.0006468194425646703}. Best is trial 14 with value: 0.8432849202079972.\n"
     ]
    },
    {
     "data": {
      "application/vnd.jupyter.widget-view+json": {
       "model_id": "a55f27e04e724058bdea483c1a30b6f6",
       "version_major": 2,
       "version_minor": 0
      },
      "text/plain": [
       "Training Neural Network:   0%|          | 0/10 [00:00<?, ?it/s]"
      ]
     },
     "metadata": {},
     "output_type": "display_data"
    },
    {
     "name": "stderr",
     "output_type": "stream",
     "text": [
      "[I 2024-11-26 19:02:53,330] Trial 39 finished with value: 0.83467814237045 and parameters: {'hidden_dim': 64, 'n_hidden_layers': 3, 'dropout': 0.3853655486676324, 'learning_rate': 0.00018379587543496643, 'alpha': 0.4863161572078623, 'gamma': 1, 'weight_decay': 0.00013316890344551336}. Best is trial 14 with value: 0.8432849202079972.\n"
     ]
    },
    {
     "data": {
      "application/vnd.jupyter.widget-view+json": {
       "model_id": "637fb17889f44550bbf03d1edd45531f",
       "version_major": 2,
       "version_minor": 0
      },
      "text/plain": [
       "Training Neural Network:   0%|          | 0/10 [00:00<?, ?it/s]"
      ]
     },
     "metadata": {},
     "output_type": "display_data"
    },
    {
     "name": "stderr",
     "output_type": "stream",
     "text": [
      "[I 2024-11-26 19:03:13,248] Trial 40 finished with value: 0.8334229872691411 and parameters: {'hidden_dim': 96, 'n_hidden_layers': 2, 'dropout': 0.24170674803029624, 'learning_rate': 0.0010669939783370436, 'alpha': 0.6360367135619103, 'gamma': 2, 'weight_decay': 0.00021168818774126939}. Best is trial 14 with value: 0.8432849202079972.\n"
     ]
    },
    {
     "data": {
      "application/vnd.jupyter.widget-view+json": {
       "model_id": "9378e2b6b8cb4bfb9bdde555d3556383",
       "version_major": 2,
       "version_minor": 0
      },
      "text/plain": [
       "Training Neural Network:   0%|          | 0/10 [00:00<?, ?it/s]"
      ]
     },
     "metadata": {},
     "output_type": "display_data"
    },
    {
     "name": "stderr",
     "output_type": "stream",
     "text": [
      "[I 2024-11-26 19:03:36,581] Trial 41 finished with value: 0.8384436076743769 and parameters: {'hidden_dim': 64, 'n_hidden_layers': 3, 'dropout': 0.258894119308404, 'learning_rate': 0.00040173783027908235, 'alpha': 0.538424083496919, 'gamma': 1, 'weight_decay': 2.3733416217395813e-05}. Best is trial 14 with value: 0.8432849202079972.\n"
     ]
    },
    {
     "data": {
      "application/vnd.jupyter.widget-view+json": {
       "model_id": "eaacb817d73a4a5cae152445bcc4f2ba",
       "version_major": 2,
       "version_minor": 0
      },
      "text/plain": [
       "Training Neural Network:   0%|          | 0/10 [00:00<?, ?it/s]"
      ]
     },
     "metadata": {},
     "output_type": "display_data"
    },
    {
     "name": "stderr",
     "output_type": "stream",
     "text": [
      "[I 2024-11-26 19:03:59,859] Trial 42 finished with value: 0.8362919132149902 and parameters: {'hidden_dim': 64, 'n_hidden_layers': 3, 'dropout': 0.22505589825221384, 'learning_rate': 0.0002514768396552026, 'alpha': 0.6898540007363856, 'gamma': 2, 'weight_decay': 3.6954030712889784e-05}. Best is trial 14 with value: 0.8432849202079972.\n"
     ]
    },
    {
     "data": {
      "application/vnd.jupyter.widget-view+json": {
       "model_id": "5cef77064e0646dba16732406f3da52b",
       "version_major": 2,
       "version_minor": 0
      },
      "text/plain": [
       "Training Neural Network:   0%|          | 0/10 [00:00<?, ?it/s]"
      ]
     },
     "metadata": {},
     "output_type": "display_data"
    },
    {
     "name": "stderr",
     "output_type": "stream",
     "text": [
      "[I 2024-11-26 19:04:23,350] Trial 43 finished with value: 0.835933297471759 and parameters: {'hidden_dim': 64, 'n_hidden_layers': 3, 'dropout': 0.28909903720892655, 'learning_rate': 0.0003128306600273281, 'alpha': 0.5044911020968893, 'gamma': 1, 'weight_decay': 0.0003245099626532685}. Best is trial 14 with value: 0.8432849202079972.\n"
     ]
    },
    {
     "data": {
      "application/vnd.jupyter.widget-view+json": {
       "model_id": "8a4ffdab35cf45fa9c5a714154e0f583",
       "version_major": 2,
       "version_minor": 0
      },
      "text/plain": [
       "Training Neural Network:   0%|          | 0/10 [00:00<?, ?it/s]"
      ]
     },
     "metadata": {},
     "output_type": "display_data"
    },
    {
     "name": "stderr",
     "output_type": "stream",
     "text": [
      "[I 2024-11-26 19:04:48,845] Trial 44 finished with value: 0.8379056840595303 and parameters: {'hidden_dim': 96, 'n_hidden_layers': 4, 'dropout': 0.2478719752921873, 'learning_rate': 0.00021520954112222969, 'alpha': 0.9989806994194648, 'gamma': 1, 'weight_decay': 9.343122935390058e-05}. Best is trial 14 with value: 0.8432849202079972.\n"
     ]
    },
    {
     "data": {
      "application/vnd.jupyter.widget-view+json": {
       "model_id": "23c2893aad9243d3af26a0b40ad75a2f",
       "version_major": 2,
       "version_minor": 0
      },
      "text/plain": [
       "Training Neural Network:   0%|          | 0/10 [00:00<?, ?it/s]"
      ]
     },
     "metadata": {},
     "output_type": "display_data"
    },
    {
     "name": "stderr",
     "output_type": "stream",
     "text": [
      "[I 2024-11-26 19:05:18,961] Trial 45 finished with value: 0.8353953738569123 and parameters: {'hidden_dim': 32, 'n_hidden_layers': 5, 'dropout': 0.20323660902879492, 'learning_rate': 0.00012530511286604903, 'alpha': 0.5469152973788106, 'gamma': 2, 'weight_decay': 6.293601077076973e-05}. Best is trial 14 with value: 0.8432849202079972.\n"
     ]
    },
    {
     "data": {
      "application/vnd.jupyter.widget-view+json": {
       "model_id": "1bac5646ceb04bdea371b55999d49524",
       "version_major": 2,
       "version_minor": 0
      },
      "text/plain": [
       "Training Neural Network:   0%|          | 0/10 [00:00<?, ?it/s]"
      ]
     },
     "metadata": {},
     "output_type": "display_data"
    },
    {
     "name": "stderr",
     "output_type": "stream",
     "text": [
      "[I 2024-11-26 19:05:39,858] Trial 46 finished with value: 0.8366505289582212 and parameters: {'hidden_dim': 128, 'n_hidden_layers': 2, 'dropout': 0.32223406697990353, 'learning_rate': 0.00039597298330124227, 'alpha': 0.4767709838121434, 'gamma': 1, 'weight_decay': 0.0005917216576685429}. Best is trial 14 with value: 0.8432849202079972.\n"
     ]
    },
    {
     "data": {
      "application/vnd.jupyter.widget-view+json": {
       "model_id": "d38b14dc5cf74705840e6ef613bca4b6",
       "version_major": 2,
       "version_minor": 0
      },
      "text/plain": [
       "Training Neural Network:   0%|          | 0/10 [00:00<?, ?it/s]"
      ]
     },
     "metadata": {},
     "output_type": "display_data"
    },
    {
     "name": "stderr",
     "output_type": "stream",
     "text": [
      "[I 2024-11-26 19:06:03,577] Trial 47 finished with value: 0.8366505289582212 and parameters: {'hidden_dim': 64, 'n_hidden_layers': 3, 'dropout': 0.11964997040109832, 'learning_rate': 0.0005870885735136083, 'alpha': 0.6035524133111009, 'gamma': 2, 'weight_decay': 1.3950702288399334e-05}. Best is trial 14 with value: 0.8432849202079972.\n"
     ]
    },
    {
     "data": {
      "application/vnd.jupyter.widget-view+json": {
       "model_id": "5af1ec8f9a054e51ba6e8a0bc1454ccd",
       "version_major": 2,
       "version_minor": 0
      },
      "text/plain": [
       "Training Neural Network:   0%|          | 0/10 [00:00<?, ?it/s]"
      ]
     },
     "metadata": {},
     "output_type": "display_data"
    },
    {
     "name": "stderr",
     "output_type": "stream",
     "text": [
      "[I 2024-11-26 19:06:27,709] Trial 48 finished with value: 0.8334229872691411 and parameters: {'hidden_dim': 96, 'n_hidden_layers': 3, 'dropout': 0.4522975838355018, 'learning_rate': 0.0002523293647143359, 'alpha': 0.41389436683384784, 'gamma': 2, 'weight_decay': 0.00015122472524344612}. Best is trial 14 with value: 0.8432849202079972.\n"
     ]
    },
    {
     "data": {
      "application/vnd.jupyter.widget-view+json": {
       "model_id": "a98fd2b03b394e5392be245f6e2cd1f4",
       "version_major": 2,
       "version_minor": 0
      },
      "text/plain": [
       "Training Neural Network:   0%|          | 0/10 [00:00<?, ?it/s]"
      ]
     },
     "metadata": {},
     "output_type": "display_data"
    },
    {
     "name": "stderr",
     "output_type": "stream",
     "text": [
      "[I 2024-11-26 19:06:48,584] Trial 49 finished with value: 0.8373677604446835 and parameters: {'hidden_dim': 160, 'n_hidden_layers': 2, 'dropout': 0.36721135007229155, 'learning_rate': 0.00012340499234228595, 'alpha': 0.7080735185482466, 'gamma': 3, 'weight_decay': 0.00010954474534478611}. Best is trial 14 with value: 0.8432849202079972.\n"
     ]
    },
    {
     "data": {
      "application/vnd.jupyter.widget-view+json": {
       "model_id": "14e6125f314b4a74975044f139c6c3c2",
       "version_major": 2,
       "version_minor": 0
      },
      "text/plain": [
       "Training Neural Network:   0%|          | 0/10 [00:00<?, ?it/s]"
      ]
     },
     "metadata": {},
     "output_type": "display_data"
    },
    {
     "name": "stderr",
     "output_type": "stream",
     "text": [
      "[I 2024-11-26 19:07:12,295] Trial 50 finished with value: 0.8353953738569123 and parameters: {'hidden_dim': 32, 'n_hidden_layers': 3, 'dropout': 0.2830564877728585, 'learning_rate': 0.0008205216908793389, 'alpha': 0.5190733984436456, 'gamma': 1, 'weight_decay': 0.0004130288333496426}. Best is trial 14 with value: 0.8432849202079972.\n"
     ]
    },
    {
     "data": {
      "application/vnd.jupyter.widget-view+json": {
       "model_id": "dbe07788d6074a0689d1f2e108f44f43",
       "version_major": 2,
       "version_minor": 0
      },
      "text/plain": [
       "Training Neural Network:   0%|          | 0/10 [00:00<?, ?it/s]"
      ]
     },
     "metadata": {},
     "output_type": "display_data"
    },
    {
     "name": "stderr",
     "output_type": "stream",
     "text": [
      "[I 2024-11-26 19:07:42,644] Trial 51 finished with value: 0.8400573785189169 and parameters: {'hidden_dim': 128, 'n_hidden_layers': 5, 'dropout': 0.15053412813368333, 'learning_rate': 0.0020254084845022905, 'alpha': 0.43204919664444624, 'gamma': 5, 'weight_decay': 8.613985450966562e-05}. Best is trial 14 with value: 0.8432849202079972.\n"
     ]
    },
    {
     "data": {
      "application/vnd.jupyter.widget-view+json": {
       "model_id": "0b4666cacf144ebbbbea8375728f8e7f",
       "version_major": 2,
       "version_minor": 0
      },
      "text/plain": [
       "Training Neural Network:   0%|          | 0/10 [00:00<?, ?it/s]"
      ]
     },
     "metadata": {},
     "output_type": "display_data"
    },
    {
     "name": "stderr",
     "output_type": "stream",
     "text": [
      "[I 2024-11-26 19:08:09,832] Trial 52 finished with value: 0.8267885960193653 and parameters: {'hidden_dim': 128, 'n_hidden_layers': 4, 'dropout': 0.14143788679548905, 'learning_rate': 0.003314008613255674, 'alpha': 0.4682848280181134, 'gamma': 5, 'weight_decay': 3.63713221480915e-05}. Best is trial 14 with value: 0.8432849202079972.\n"
     ]
    },
    {
     "data": {
      "application/vnd.jupyter.widget-view+json": {
       "model_id": "4afbefda72fd4180af1c3c2b52c87be2",
       "version_major": 2,
       "version_minor": 0
      },
      "text/plain": [
       "Training Neural Network:   0%|          | 0/10 [00:00<?, ?it/s]"
      ]
     },
     "metadata": {},
     "output_type": "display_data"
    },
    {
     "name": "stderr",
     "output_type": "stream",
     "text": [
      "[I 2024-11-26 19:08:35,676] Trial 53 finished with value: 0.8407746100053792 and parameters: {'hidden_dim': 96, 'n_hidden_layers': 4, 'dropout': 0.1296543853928581, 'learning_rate': 0.0017855429923244186, 'alpha': 0.5691384881970144, 'gamma': 4, 'weight_decay': 5.186163115148095e-05}. Best is trial 14 with value: 0.8432849202079972.\n"
     ]
    },
    {
     "data": {
      "application/vnd.jupyter.widget-view+json": {
       "model_id": "651d213184d64e3ea8539021947dae01",
       "version_major": 2,
       "version_minor": 0
      },
      "text/plain": [
       "Training Neural Network:   0%|          | 0/10 [00:00<?, ?it/s]"
      ]
     },
     "metadata": {},
     "output_type": "display_data"
    },
    {
     "name": "stderr",
     "output_type": "stream",
     "text": [
      "[I 2024-11-26 19:09:02,830] Trial 54 finished with value: 0.8309126770665233 and parameters: {'hidden_dim': 128, 'n_hidden_layers': 4, 'dropout': 0.19015963877160597, 'learning_rate': 0.0027839492615623707, 'alpha': 0.4589286772901589, 'gamma': 3, 'weight_decay': 0.0002749886660696862}. Best is trial 14 with value: 0.8432849202079972.\n"
     ]
    },
    {
     "data": {
      "application/vnd.jupyter.widget-view+json": {
       "model_id": "937254d5c52f417d9ad6e89899277f68",
       "version_major": 2,
       "version_minor": 0
      },
      "text/plain": [
       "Training Neural Network:   0%|          | 0/10 [00:00<?, ?it/s]"
      ]
     },
     "metadata": {},
     "output_type": "display_data"
    },
    {
     "name": "stderr",
     "output_type": "stream",
     "text": [
      "[I 2024-11-26 19:09:33,752] Trial 55 finished with value: 0.8425676887215349 and parameters: {'hidden_dim': 192, 'n_hidden_layers': 5, 'dropout': 0.16549053049774282, 'learning_rate': 0.0012870838731382833, 'alpha': 0.4902791039643309, 'gamma': 4, 'weight_decay': 7.605775309112247e-05}. Best is trial 14 with value: 0.8432849202079972.\n"
     ]
    },
    {
     "data": {
      "application/vnd.jupyter.widget-view+json": {
       "model_id": "e9de0ef96aea476b912e66aa9e44ab91",
       "version_major": 2,
       "version_minor": 0
      },
      "text/plain": [
       "Training Neural Network:   0%|          | 0/10 [00:00<?, ?it/s]"
      ]
     },
     "metadata": {},
     "output_type": "display_data"
    },
    {
     "name": "stderr",
     "output_type": "stream",
     "text": [
      "[I 2024-11-26 19:10:04,881] Trial 56 finished with value: 0.8271472117625964 and parameters: {'hidden_dim': 224, 'n_hidden_layers': 5, 'dropout': 0.1788720316531453, 'learning_rate': 0.0011598832116960782, 'alpha': 0.5359824139308882, 'gamma': 4, 'weight_decay': 0.00014512015529333778}. Best is trial 14 with value: 0.8432849202079972.\n"
     ]
    },
    {
     "data": {
      "application/vnd.jupyter.widget-view+json": {
       "model_id": "069f22fa82a1403da20a00c66824c91f",
       "version_major": 2,
       "version_minor": 0
      },
      "text/plain": [
       "Training Neural Network:   0%|          | 0/10 [00:00<?, ?it/s]"
      ]
     },
     "metadata": {},
     "output_type": "display_data"
    },
    {
     "name": "stderr",
     "output_type": "stream",
     "text": [
      "[I 2024-11-26 19:10:22,659] Trial 57 finished with value: 0.8323471400394478 and parameters: {'hidden_dim': 192, 'n_hidden_layers': 1, 'dropout': 0.19837368921350773, 'learning_rate': 0.0013084772398732829, 'alpha': 0.6415394269962119, 'gamma': 3, 'weight_decay': 2.349846641153305e-05}. Best is trial 14 with value: 0.8432849202079972.\n"
     ]
    },
    {
     "data": {
      "application/vnd.jupyter.widget-view+json": {
       "model_id": "1301f1a86f1d442e9b1d7ed79b971054",
       "version_major": 2,
       "version_minor": 0
      },
      "text/plain": [
       "Training Neural Network:   0%|          | 0/10 [00:00<?, ?it/s]"
      ]
     },
     "metadata": {},
     "output_type": "display_data"
    },
    {
     "name": "stderr",
     "output_type": "stream",
     "text": [
      "[I 2024-11-26 19:10:47,214] Trial 58 finished with value: 0.8292989062219831 and parameters: {'hidden_dim': 256, 'n_hidden_layers': 3, 'dropout': 0.16661869196536505, 'learning_rate': 0.0009414408706364471, 'alpha': 0.49495975204982495, 'gamma': 2, 'weight_decay': 6.855341394836493e-05}. Best is trial 14 with value: 0.8432849202079972.\n"
     ]
    },
    {
     "data": {
      "application/vnd.jupyter.widget-view+json": {
       "model_id": "639025a5f07541aa99d25297230182ec",
       "version_major": 2,
       "version_minor": 0
      },
      "text/plain": [
       "Training Neural Network:   0%|          | 0/10 [00:00<?, ?it/s]"
      ]
     },
     "metadata": {},
     "output_type": "display_data"
    },
    {
     "name": "stderr",
     "output_type": "stream",
     "text": [
      "[I 2024-11-26 19:11:08,544] Trial 59 finished with value: 0.8370091447014524 and parameters: {'hidden_dim': 224, 'n_hidden_layers': 2, 'dropout': 0.21794424805336785, 'learning_rate': 0.0001745509999169043, 'alpha': 0.37706663956414954, 'gamma': 1, 'weight_decay': 0.00020491521131152157}. Best is trial 14 with value: 0.8432849202079972.\n"
     ]
    },
    {
     "data": {
      "application/vnd.jupyter.widget-view+json": {
       "model_id": "5b2aecfa7fbb4b7e84ca6f5079313dbc",
       "version_major": 2,
       "version_minor": 0
      },
      "text/plain": [
       "Training Neural Network:   0%|          | 0/10 [00:00<?, ?it/s]"
      ]
     },
     "metadata": {},
     "output_type": "display_data"
    },
    {
     "name": "stderr",
     "output_type": "stream",
     "text": [
      "[I 2024-11-26 19:11:32,778] Trial 60 finished with value: 0.8201542047695893 and parameters: {'hidden_dim': 192, 'n_hidden_layers': 3, 'dropout': 0.24808541659485073, 'learning_rate': 0.007969304503538022, 'alpha': 0.5890741474721943, 'gamma': 4, 'weight_decay': 0.00010184015961332996}. Best is trial 14 with value: 0.8432849202079972.\n"
     ]
    },
    {
     "data": {
      "application/vnd.jupyter.widget-view+json": {
       "model_id": "9040240ad1b5497794580a273f12af95",
       "version_major": 2,
       "version_minor": 0
      },
      "text/plain": [
       "Training Neural Network:   0%|          | 0/10 [00:00<?, ?it/s]"
      ]
     },
     "metadata": {},
     "output_type": "display_data"
    },
    {
     "name": "stderr",
     "output_type": "stream",
     "text": [
      "[I 2024-11-26 19:12:03,266] Trial 61 finished with value: 0.8230231307154384 and parameters: {'hidden_dim': 160, 'n_hidden_layers': 5, 'dropout': 0.13910069165131306, 'learning_rate': 0.0016167701725696663, 'alpha': 0.4267699315181551, 'gamma': 5, 'weight_decay': 8.486788524986928e-05}. Best is trial 14 with value: 0.8432849202079972.\n"
     ]
    },
    {
     "data": {
      "application/vnd.jupyter.widget-view+json": {
       "model_id": "43cd5bd8faf349e99a60ddeb71fbcbef",
       "version_major": 2,
       "version_minor": 0
      },
      "text/plain": [
       "Training Neural Network:   0%|          | 0/10 [00:00<?, ?it/s]"
      ]
     },
     "metadata": {},
     "output_type": "display_data"
    },
    {
     "name": "stderr",
     "output_type": "stream",
     "text": [
      "[I 2024-11-26 19:12:30,445] Trial 62 finished with value: 0.8228438228438228 and parameters: {'hidden_dim': 128, 'n_hidden_layers': 4, 'dropout': 0.1120896926094006, 'learning_rate': 0.0005026509105814512, 'alpha': 0.4605376526015382, 'gamma': 4, 'weight_decay': 5.588883287134859e-05}. Best is trial 14 with value: 0.8432849202079972.\n"
     ]
    },
    {
     "data": {
      "application/vnd.jupyter.widget-view+json": {
       "model_id": "c536759324bf42a68c8bf4242903db69",
       "version_major": 2,
       "version_minor": 0
      },
      "text/plain": [
       "Training Neural Network:   0%|          | 0/10 [00:00<?, ?it/s]"
      ]
     },
     "metadata": {},
     "output_type": "display_data"
    },
    {
     "name": "stderr",
     "output_type": "stream",
     "text": [
      "[I 2024-11-26 19:13:00,655] Trial 63 finished with value: 0.8251748251748252 and parameters: {'hidden_dim': 96, 'n_hidden_layers': 5, 'dropout': 0.15605826477779142, 'learning_rate': 0.0024555576801618783, 'alpha': 0.9061950333224107, 'gamma': 5, 'weight_decay': 4.2840980215250436e-05}. Best is trial 14 with value: 0.8432849202079972.\n"
     ]
    },
    {
     "data": {
      "application/vnd.jupyter.widget-view+json": {
       "model_id": "19515368afd149aa9be093b2403af770",
       "version_major": 2,
       "version_minor": 0
      },
      "text/plain": [
       "Training Neural Network:   0%|          | 0/10 [00:00<?, ?it/s]"
      ]
     },
     "metadata": {},
     "output_type": "display_data"
    },
    {
     "name": "stderr",
     "output_type": "stream",
     "text": [
      "[I 2024-11-26 19:13:24,992] Trial 64 finished with value: 0.8350367581136812 and parameters: {'hidden_dim': 160, 'n_hidden_layers': 3, 'dropout': 0.13022276514760256, 'learning_rate': 0.0007035111913995018, 'alpha': 0.522040418916762, 'gamma': 5, 'weight_decay': 0.0002556576188524846}. Best is trial 14 with value: 0.8432849202079972.\n"
     ]
    },
    {
     "data": {
      "application/vnd.jupyter.widget-view+json": {
       "model_id": "5d9e4c0e8c934fbaa096f0ed29a03008",
       "version_major": 2,
       "version_minor": 0
      },
      "text/plain": [
       "Training Neural Network:   0%|          | 0/10 [00:00<?, ?it/s]"
      ]
     },
     "metadata": {},
     "output_type": "display_data"
    },
    {
     "name": "stderr",
     "output_type": "stream",
     "text": [
      "[I 2024-11-26 19:13:50,663] Trial 65 finished with value: 0.8353953738569123 and parameters: {'hidden_dim': 64, 'n_hidden_layers': 4, 'dropout': 0.1705430134068034, 'learning_rate': 0.0013551156879662602, 'alpha': 0.5589059631139384, 'gamma': 3, 'weight_decay': 0.0003377330306043148}. Best is trial 14 with value: 0.8432849202079972.\n"
     ]
    },
    {
     "data": {
      "application/vnd.jupyter.widget-view+json": {
       "model_id": "20c91be0a1b445fca1af095db34f751f",
       "version_major": 2,
       "version_minor": 0
      },
      "text/plain": [
       "Training Neural Network:   0%|          | 0/10 [00:00<?, ?it/s]"
      ]
     },
     "metadata": {},
     "output_type": "display_data"
    },
    {
     "name": "stderr",
     "output_type": "stream",
     "text": [
      "[I 2024-11-26 19:14:20,885] Trial 66 finished with value: 0.8465124618970773 and parameters: {'hidden_dim': 96, 'n_hidden_layers': 5, 'dropout': 0.18549073351787976, 'learning_rate': 0.003889139338065849, 'alpha': 0.3438955111603742, 'gamma': 1, 'weight_decay': 0.00017097397344791103}. Best is trial 66 with value: 0.8465124618970773.\n"
     ]
    },
    {
     "data": {
      "application/vnd.jupyter.widget-view+json": {
       "model_id": "8673cba401554df3ad43a2fa09c0236a",
       "version_major": 2,
       "version_minor": 0
      },
      "text/plain": [
       "Training Neural Network:   0%|          | 0/10 [00:00<?, ?it/s]"
      ]
     },
     "metadata": {},
     "output_type": "display_data"
    },
    {
     "name": "stderr",
     "output_type": "stream",
     "text": [
      "[I 2024-11-26 19:14:51,101] Trial 67 finished with value: 0.8418504572350726 and parameters: {'hidden_dim': 96, 'n_hidden_layers': 5, 'dropout': 0.22857024906373147, 'learning_rate': 0.005900697537188916, 'alpha': 0.32636413832060046, 'gamma': 1, 'weight_decay': 0.00017262610562247233}. Best is trial 66 with value: 0.8465124618970773.\n"
     ]
    },
    {
     "data": {
      "application/vnd.jupyter.widget-view+json": {
       "model_id": "a242ab749b884cf7a23eca141f238f75",
       "version_major": 2,
       "version_minor": 0
      },
      "text/plain": [
       "Training Neural Network:   0%|          | 0/10 [00:00<?, ?it/s]"
      ]
     },
     "metadata": {},
     "output_type": "display_data"
    },
    {
     "name": "stderr",
     "output_type": "stream",
     "text": [
      "[I 2024-11-26 19:15:21,260] Trial 68 finished with value: 0.8266092881477497 and parameters: {'hidden_dim': 96, 'n_hidden_layers': 5, 'dropout': 0.22659028638337822, 'learning_rate': 0.006474404496673679, 'alpha': 0.25462744842546114, 'gamma': 1, 'weight_decay': 0.00017055170806911076}. Best is trial 66 with value: 0.8465124618970773.\n"
     ]
    },
    {
     "data": {
      "application/vnd.jupyter.widget-view+json": {
       "model_id": "bfdd476547954c7cb9d771496712c82b",
       "version_major": 2,
       "version_minor": 0
      },
      "text/plain": [
       "Training Neural Network:   0%|          | 0/10 [00:00<?, ?it/s]"
      ]
     },
     "metadata": {},
     "output_type": "display_data"
    },
    {
     "name": "stderr",
     "output_type": "stream",
     "text": [
      "[I 2024-11-26 19:15:51,499] Trial 69 finished with value: 0.8344988344988346 and parameters: {'hidden_dim': 96, 'n_hidden_layers': 5, 'dropout': 0.18940456834525993, 'learning_rate': 0.005021436366624511, 'alpha': 0.30423431914053667, 'gamma': 1, 'weight_decay': 0.00021073297101562965}. Best is trial 66 with value: 0.8465124618970773.\n"
     ]
    },
    {
     "data": {
      "application/vnd.jupyter.widget-view+json": {
       "model_id": "23a1c76109ed45659c7ccf74329b8c56",
       "version_major": 2,
       "version_minor": 0
      },
      "text/plain": [
       "Training Neural Network:   0%|          | 0/10 [00:00<?, ?it/s]"
      ]
     },
     "metadata": {},
     "output_type": "display_data"
    },
    {
     "name": "stderr",
     "output_type": "stream",
     "text": [
      "[I 2024-11-26 19:16:21,654] Trial 70 finished with value: 0.8364712210866057 and parameters: {'hidden_dim': 96, 'n_hidden_layers': 5, 'dropout': 0.20549708775576775, 'learning_rate': 0.009669606861757423, 'alpha': 0.32656224820350843, 'gamma': 1, 'weight_decay': 0.00011498172432684547}. Best is trial 66 with value: 0.8465124618970773.\n"
     ]
    },
    {
     "data": {
      "application/vnd.jupyter.widget-view+json": {
       "model_id": "a3239458bfca4a92b5723f9fa19dbcb3",
       "version_major": 2,
       "version_minor": 0
      },
      "text/plain": [
       "Training Neural Network:   0%|          | 0/10 [00:00<?, ?it/s]"
      ]
     },
     "metadata": {},
     "output_type": "display_data"
    },
    {
     "name": "stderr",
     "output_type": "stream",
     "text": [
      "[I 2024-11-26 19:16:51,697] Trial 71 finished with value: 0.8466917697686929 and parameters: {'hidden_dim': 64, 'n_hidden_layers': 5, 'dropout': 0.23410088880715016, 'learning_rate': 0.004814268106101101, 'alpha': 0.2750137348085381, 'gamma': 1, 'weight_decay': 1.0075646905269696e-05}. Best is trial 71 with value: 0.8466917697686929.\n"
     ]
    },
    {
     "data": {
      "application/vnd.jupyter.widget-view+json": {
       "model_id": "7a0d7603d41e4dfcbdaa8e4d29931fc0",
       "version_major": 2,
       "version_minor": 0
      },
      "text/plain": [
       "Training Neural Network:   0%|          | 0/10 [00:00<?, ?it/s]"
      ]
     },
     "metadata": {},
     "output_type": "display_data"
    },
    {
     "name": "stderr",
     "output_type": "stream",
     "text": [
      "[I 2024-11-26 19:17:21,717] Trial 72 finished with value: 0.8296575219652143 and parameters: {'hidden_dim': 64, 'n_hidden_layers': 5, 'dropout': 0.26137882406085056, 'learning_rate': 0.004929767048044166, 'alpha': 0.2879639382025995, 'gamma': 1, 'weight_decay': 0.00016803451074655238}. Best is trial 71 with value: 0.8466917697686929.\n"
     ]
    },
    {
     "data": {
      "application/vnd.jupyter.widget-view+json": {
       "model_id": "a750726847f549a9ac58db75ef072818",
       "version_major": 2,
       "version_minor": 0
      },
      "text/plain": [
       "Training Neural Network:   0%|          | 0/10 [00:00<?, ?it/s]"
      ]
     },
     "metadata": {},
     "output_type": "display_data"
    },
    {
     "name": "stderr",
     "output_type": "stream",
     "text": [
      "[I 2024-11-26 19:17:51,774] Trial 73 finished with value: 0.8357539896001435 and parameters: {'hidden_dim': 32, 'n_hidden_layers': 5, 'dropout': 0.23439925453110866, 'learning_rate': 0.005783376346094014, 'alpha': 0.27781262910665, 'gamma': 1, 'weight_decay': 0.00012969507240271182}. Best is trial 71 with value: 0.8466917697686929.\n"
     ]
    },
    {
     "data": {
      "application/vnd.jupyter.widget-view+json": {
       "model_id": "e537604f64e04847984c7be54e5e030f",
       "version_major": 2,
       "version_minor": 0
      },
      "text/plain": [
       "Training Neural Network:   0%|          | 0/10 [00:00<?, ?it/s]"
      ]
     },
     "metadata": {},
     "output_type": "display_data"
    },
    {
     "name": "stderr",
     "output_type": "stream",
     "text": [
      "[I 2024-11-26 19:18:22,168] Trial 74 finished with value: 0.8368298368298368 and parameters: {'hidden_dim': 96, 'n_hidden_layers': 5, 'dropout': 0.18091248863339582, 'learning_rate': 0.0036823581238774983, 'alpha': 0.3540438481249586, 'gamma': 1, 'weight_decay': 1.0135714349868528e-05}. Best is trial 71 with value: 0.8466917697686929.\n"
     ]
    },
    {
     "data": {
      "application/vnd.jupyter.widget-view+json": {
       "model_id": "86e3fa39b523400e9c8ee387a5585ad2",
       "version_major": 2,
       "version_minor": 0
      },
      "text/plain": [
       "Training Neural Network:   0%|          | 0/10 [00:00<?, ?it/s]"
      ]
     },
     "metadata": {},
     "output_type": "display_data"
    },
    {
     "name": "stderr",
     "output_type": "stream",
     "text": [
      "[I 2024-11-26 19:18:52,156] Trial 75 finished with value: 0.831809216424601 and parameters: {'hidden_dim': 64, 'n_hidden_layers': 5, 'dropout': 0.30727371017566696, 'learning_rate': 0.003834250129427185, 'alpha': 0.32355235494984524, 'gamma': 1, 'weight_decay': 0.0002417853274083985}. Best is trial 71 with value: 0.8466917697686929.\n"
     ]
    },
    {
     "data": {
      "application/vnd.jupyter.widget-view+json": {
       "model_id": "527983419b084d7fb53dc546e896be38",
       "version_major": 2,
       "version_minor": 0
      },
      "text/plain": [
       "Training Neural Network:   0%|          | 0/10 [00:00<?, ?it/s]"
      ]
     },
     "metadata": {},
     "output_type": "display_data"
    },
    {
     "name": "stderr",
     "output_type": "stream",
     "text": [
      "[I 2024-11-26 19:19:22,081] Trial 76 finished with value: 0.8362919132149902 and parameters: {'hidden_dim': 64, 'n_hidden_layers': 5, 'dropout': 0.2131068311263818, 'learning_rate': 0.006772352096310258, 'alpha': 0.3918687914891046, 'gamma': 1, 'weight_decay': 0.0004899357415003075}. Best is trial 71 with value: 0.8466917697686929.\n"
     ]
    },
    {
     "data": {
      "application/vnd.jupyter.widget-view+json": {
       "model_id": "e075d12d268b4630a5d5693d1e0412ef",
       "version_major": 2,
       "version_minor": 0
      },
      "text/plain": [
       "Training Neural Network:   0%|          | 0/10 [00:00<?, ?it/s]"
      ]
     },
     "metadata": {},
     "output_type": "display_data"
    },
    {
     "name": "stderr",
     "output_type": "stream",
     "text": [
      "[I 2024-11-26 19:19:52,322] Trial 77 finished with value: 0.8341402187556034 and parameters: {'hidden_dim': 96, 'n_hidden_layers': 5, 'dropout': 0.2730848084585532, 'learning_rate': 0.002992251692935404, 'alpha': 0.30831329970115134, 'gamma': 1, 'weight_decay': 0.00018991943678976138}. Best is trial 71 with value: 0.8466917697686929.\n"
     ]
    },
    {
     "data": {
      "application/vnd.jupyter.widget-view+json": {
       "model_id": "12805e6f47a241a99de8408bf7031fed",
       "version_major": 2,
       "version_minor": 0
      },
      "text/plain": [
       "Training Neural Network:   0%|          | 0/10 [00:00<?, ?it/s]"
      ]
     },
     "metadata": {},
     "output_type": "display_data"
    },
    {
     "name": "stderr",
     "output_type": "stream",
     "text": [
      "[I 2024-11-26 19:20:10,148] Trial 78 finished with value: 0.8328850636542944 and parameters: {'hidden_dim': 224, 'n_hidden_layers': 1, 'dropout': 0.19574722047018453, 'learning_rate': 0.004275407771299943, 'alpha': 0.3485437461761459, 'gamma': 1, 'weight_decay': 0.0003601002761432}. Best is trial 71 with value: 0.8466917697686929.\n"
     ]
    },
    {
     "data": {
      "application/vnd.jupyter.widget-view+json": {
       "model_id": "6c492589b2c24c3b8de14b7334afe0b3",
       "version_major": 2,
       "version_minor": 0
      },
      "text/plain": [
       "Training Neural Network:   0%|          | 0/10 [00:00<?, ?it/s]"
      ]
     },
     "metadata": {},
     "output_type": "display_data"
    },
    {
     "name": "stderr",
     "output_type": "stream",
     "text": [
      "[I 2024-11-26 19:20:40,509] Trial 79 finished with value: 0.8158508158508159 and parameters: {'hidden_dim': 96, 'n_hidden_layers': 5, 'dropout': 0.21118197237424993, 'learning_rate': 0.00841355193077002, 'alpha': 0.6202252798975529, 'gamma': 1, 'weight_decay': 0.00014625063136029516}. Best is trial 71 with value: 0.8466917697686929.\n"
     ]
    },
    {
     "data": {
      "application/vnd.jupyter.widget-view+json": {
       "model_id": "0b112264165844b9887e984959eb9a8e",
       "version_major": 2,
       "version_minor": 0
      },
      "text/plain": [
       "Training Neural Network:   0%|          | 0/10 [00:00<?, ?it/s]"
      ]
     },
     "metadata": {},
     "output_type": "display_data"
    },
    {
     "name": "stderr",
     "output_type": "stream",
     "text": [
      "[I 2024-11-26 19:21:10,583] Trial 80 finished with value: 0.8344988344988346 and parameters: {'hidden_dim': 128, 'n_hidden_layers': 5, 'dropout': 0.23637282279298585, 'learning_rate': 0.00015907084758734477, 'alpha': 0.4130824916961681, 'gamma': 1, 'weight_decay': 0.00027292539775160366}. Best is trial 71 with value: 0.8466917697686929.\n"
     ]
    },
    {
     "data": {
      "application/vnd.jupyter.widget-view+json": {
       "model_id": "737921591e2c4881b87c1c1c0f46beba",
       "version_major": 2,
       "version_minor": 0
      },
      "text/plain": [
       "Training Neural Network:   0%|          | 0/10 [00:00<?, ?it/s]"
      ]
     },
     "metadata": {},
     "output_type": "display_data"
    },
    {
     "name": "stderr",
     "output_type": "stream",
     "text": [
      "[I 2024-11-26 19:21:34,326] Trial 81 finished with value: 0.8423883808499193 and parameters: {'hidden_dim': 64, 'n_hidden_layers': 3, 'dropout': 0.24786357397586617, 'learning_rate': 0.005522296372955065, 'alpha': 0.2753581298617603, 'gamma': 1, 'weight_decay': 1.832082112600246e-05}. Best is trial 71 with value: 0.8466917697686929.\n"
     ]
    },
    {
     "data": {
      "application/vnd.jupyter.widget-view+json": {
       "model_id": "36c1c5a70b1a406ab0e42fdbdbe7f2aa",
       "version_major": 2,
       "version_minor": 0
      },
      "text/plain": [
       "Training Neural Network:   0%|          | 0/10 [00:00<?, ?it/s]"
      ]
     },
     "metadata": {},
     "output_type": "display_data"
    },
    {
     "name": "stderr",
     "output_type": "stream",
     "text": [
      "[I 2024-11-26 19:21:58,025] Trial 82 finished with value: 0.8278644432490586 and parameters: {'hidden_dim': 64, 'n_hidden_layers': 3, 'dropout': 0.2505106864556078, 'learning_rate': 0.005437294493124605, 'alpha': 0.278066333931194, 'gamma': 1, 'weight_decay': 3.107284164091036e-05}. Best is trial 71 with value: 0.8466917697686929.\n"
     ]
    },
    {
     "data": {
      "application/vnd.jupyter.widget-view+json": {
       "model_id": "f1190da22e5b4748a19aa5130b0430e2",
       "version_major": 2,
       "version_minor": 0
      },
      "text/plain": [
       "Training Neural Network:   0%|          | 0/10 [00:00<?, ?it/s]"
      ]
     },
     "metadata": {},
     "output_type": "display_data"
    },
    {
     "name": "stderr",
     "output_type": "stream",
     "text": [
      "[I 2024-11-26 19:22:21,684] Trial 83 finished with value: 0.845795230410615 and parameters: {'hidden_dim': 32, 'n_hidden_layers': 3, 'dropout': 0.16456599779341735, 'learning_rate': 0.006665899806887858, 'alpha': 0.3400201364371825, 'gamma': 1, 'weight_decay': 1.483245032938187e-05}. Best is trial 71 with value: 0.8466917697686929.\n"
     ]
    },
    {
     "data": {
      "application/vnd.jupyter.widget-view+json": {
       "model_id": "095e62fa91eb4eff9df56af7e89d193f",
       "version_major": 2,
       "version_minor": 0
      },
      "text/plain": [
       "Training Neural Network:   0%|          | 0/10 [00:00<?, ?it/s]"
      ]
     },
     "metadata": {},
     "output_type": "display_data"
    },
    {
     "name": "stderr",
     "output_type": "stream",
     "text": [
      "[I 2024-11-26 19:22:45,448] Trial 84 finished with value: 0.8361126053433746 and parameters: {'hidden_dim': 32, 'n_hidden_layers': 3, 'dropout': 0.16233628865891042, 'learning_rate': 0.0062528333463644425, 'alpha': 0.2536987421411424, 'gamma': 1, 'weight_decay': 1.1959477581114761e-05}. Best is trial 71 with value: 0.8466917697686929.\n"
     ]
    },
    {
     "data": {
      "application/vnd.jupyter.widget-view+json": {
       "model_id": "6d47506ea56249db85a0720c775ea2c1",
       "version_major": 2,
       "version_minor": 0
      },
      "text/plain": [
       "Training Neural Network:   0%|          | 0/10 [00:00<?, ?it/s]"
      ]
     },
     "metadata": {},
     "output_type": "display_data"
    },
    {
     "name": "stderr",
     "output_type": "stream",
     "text": [
      "[I 2024-11-26 19:23:09,264] Trial 85 finished with value: 0.8425676887215349 and parameters: {'hidden_dim': 32, 'n_hidden_layers': 3, 'dropout': 0.22477686058978966, 'learning_rate': 0.004348083586269118, 'alpha': 0.35714854293311804, 'gamma': 1, 'weight_decay': 1.5516332326950466e-05}. Best is trial 71 with value: 0.8466917697686929.\n"
     ]
    },
    {
     "data": {
      "application/vnd.jupyter.widget-view+json": {
       "model_id": "b32e1bfa2b104a2290d8e71dfcb9a413",
       "version_major": 2,
       "version_minor": 0
      },
      "text/plain": [
       "Training Neural Network:   0%|          | 0/10 [00:00<?, ?it/s]"
      ]
     },
     "metadata": {},
     "output_type": "display_data"
    },
    {
     "name": "stderr",
     "output_type": "stream",
     "text": [
      "[I 2024-11-26 19:23:33,005] Trial 86 finished with value: 0.8192576654115116 and parameters: {'hidden_dim': 32, 'n_hidden_layers': 3, 'dropout': 0.15036613443748714, 'learning_rate': 0.004556557049965899, 'alpha': 0.34205214972913267, 'gamma': 1, 'weight_decay': 1.5623100217604922e-05}. Best is trial 71 with value: 0.8466917697686929.\n"
     ]
    },
    {
     "data": {
      "application/vnd.jupyter.widget-view+json": {
       "model_id": "8950d3187cf0451c9699c21168443a9d",
       "version_major": 2,
       "version_minor": 0
      },
      "text/plain": [
       "Training Neural Network:   0%|          | 0/10 [00:00<?, ?it/s]"
      ]
     },
     "metadata": {},
     "output_type": "display_data"
    },
    {
     "name": "stderr",
     "output_type": "stream",
     "text": [
      "[I 2024-11-26 19:23:56,720] Trial 87 finished with value: 0.8180025103102027 and parameters: {'hidden_dim': 32, 'n_hidden_layers': 3, 'dropout': 0.2795673732823456, 'learning_rate': 0.003836827131241703, 'alpha': 0.3648044715740666, 'gamma': 1, 'weight_decay': 1.7995454109910316e-05}. Best is trial 71 with value: 0.8466917697686929.\n"
     ]
    },
    {
     "data": {
      "application/vnd.jupyter.widget-view+json": {
       "model_id": "138655f0fdd34849b110b4621e6b5aac",
       "version_major": 2,
       "version_minor": 0
      },
      "text/plain": [
       "Training Neural Network:   0%|          | 0/10 [00:00<?, ?it/s]"
      ]
     },
     "metadata": {},
     "output_type": "display_data"
    },
    {
     "name": "stderr",
     "output_type": "stream",
     "text": [
      "[I 2024-11-26 19:24:20,474] Trial 88 finished with value: 0.830195445580061 and parameters: {'hidden_dim': 32, 'n_hidden_layers': 3, 'dropout': 0.17547460096768236, 'learning_rate': 0.007572857349526717, 'alpha': 0.2959108916241768, 'gamma': 2, 'weight_decay': 1.2099647277816045e-05}. Best is trial 71 with value: 0.8466917697686929.\n"
     ]
    },
    {
     "data": {
      "application/vnd.jupyter.widget-view+json": {
       "model_id": "bd6aeb10bd5e45aebc592cb5ea2af83d",
       "version_major": 2,
       "version_minor": 0
      },
      "text/plain": [
       "Training Neural Network:   0%|          | 0/10 [00:00<?, ?it/s]"
      ]
     },
     "metadata": {},
     "output_type": "display_data"
    },
    {
     "name": "stderr",
     "output_type": "stream",
     "text": [
      "[I 2024-11-26 19:24:40,612] Trial 89 finished with value: 0.827685135377443 and parameters: {'hidden_dim': 64, 'n_hidden_layers': 2, 'dropout': 0.1831442418826948, 'learning_rate': 0.009132714660925752, 'alpha': 0.38499430599231577, 'gamma': 1, 'weight_decay': 1.3967663212829351e-05}. Best is trial 71 with value: 0.8466917697686929.\n"
     ]
    },
    {
     "data": {
      "application/vnd.jupyter.widget-view+json": {
       "model_id": "d75306e022544f3c82b95cff03e48b9d",
       "version_major": 2,
       "version_minor": 0
      },
      "text/plain": [
       "Training Neural Network:   0%|          | 0/10 [00:00<?, ?it/s]"
      ]
     },
     "metadata": {},
     "output_type": "display_data"
    },
    {
     "name": "stderr",
     "output_type": "stream",
     "text": [
      "[I 2024-11-26 19:25:04,330] Trial 90 finished with value: 0.831809216424601 and parameters: {'hidden_dim': 32, 'n_hidden_layers': 3, 'dropout': 0.30058835713715487, 'learning_rate': 0.002368229318556641, 'alpha': 0.30687943035712084, 'gamma': 1, 'weight_decay': 1.1402978869387011e-05}. Best is trial 71 with value: 0.8466917697686929.\n"
     ]
    },
    {
     "data": {
      "application/vnd.jupyter.widget-view+json": {
       "model_id": "f8ef9514d9a1414d973fab704b334f63",
       "version_major": 2,
       "version_minor": 0
      },
      "text/plain": [
       "Training Neural Network:   0%|          | 0/10 [00:00<?, ?it/s]"
      ]
     },
     "metadata": {},
     "output_type": "display_data"
    },
    {
     "name": "stderr",
     "output_type": "stream",
     "text": [
      "[I 2024-11-26 19:25:28,028] Trial 91 finished with value: 0.8305540613232921 and parameters: {'hidden_dim': 64, 'n_hidden_layers': 3, 'dropout': 0.2259692951976376, 'learning_rate': 0.006771706847785877, 'alpha': 0.33781263275185147, 'gamma': 1, 'weight_decay': 2.0223304615167603e-05}. Best is trial 71 with value: 0.8466917697686929.\n"
     ]
    },
    {
     "data": {
      "application/vnd.jupyter.widget-view+json": {
       "model_id": "08c3d61e37fc43abbdd3ad25995a5810",
       "version_major": 2,
       "version_minor": 0
      },
      "text/plain": [
       "Training Neural Network:   0%|          | 0/10 [00:00<?, ?it/s]"
      ]
     },
     "metadata": {},
     "output_type": "display_data"
    },
    {
     "name": "stderr",
     "output_type": "stream",
     "text": [
      "[I 2024-11-26 19:25:53,792] Trial 92 finished with value: 0.8267885960193653 and parameters: {'hidden_dim': 32, 'n_hidden_layers': 4, 'dropout': 0.24065636106314617, 'learning_rate': 0.005615694206845939, 'alpha': 0.3171603541202084, 'gamma': 1, 'weight_decay': 1.6178849196049735e-05}. Best is trial 71 with value: 0.8466917697686929.\n"
     ]
    },
    {
     "data": {
      "application/vnd.jupyter.widget-view+json": {
       "model_id": "31d70823f42f4c0ebd9e9329e14a8f83",
       "version_major": 2,
       "version_minor": 0
      },
      "text/plain": [
       "Training Neural Network:   0%|          | 0/10 [00:00<?, ?it/s]"
      ]
     },
     "metadata": {},
     "output_type": "display_data"
    },
    {
     "name": "stderr",
     "output_type": "stream",
     "text": [
      "[I 2024-11-26 19:26:17,226] Trial 93 finished with value: 0.8332436793975255 and parameters: {'hidden_dim': 64, 'n_hidden_layers': 3, 'dropout': 0.2524646596140385, 'learning_rate': 0.004741719073649966, 'alpha': 0.3595708718102653, 'gamma': 1, 'weight_decay': 1.3498374229988127e-05}. Best is trial 71 with value: 0.8466917697686929.\n"
     ]
    },
    {
     "data": {
      "application/vnd.jupyter.widget-view+json": {
       "model_id": "050f0571e9764fc3ae1be45424f1aa81",
       "version_major": 2,
       "version_minor": 0
      },
      "text/plain": [
       "Training Neural Network:   0%|          | 0/10 [00:00<?, ?it/s]"
      ]
     },
     "metadata": {},
     "output_type": "display_data"
    },
    {
     "name": "stderr",
     "output_type": "stream",
     "text": [
      "[I 2024-11-26 19:26:37,357] Trial 94 finished with value: 0.8373677604446835 and parameters: {'hidden_dim': 32, 'n_hidden_layers': 2, 'dropout': 0.2200634434713803, 'learning_rate': 0.007390023716458733, 'alpha': 0.27091395549033004, 'gamma': 1, 'weight_decay': 1.7030446844923813e-05}. Best is trial 71 with value: 0.8466917697686929.\n"
     ]
    },
    {
     "data": {
      "application/vnd.jupyter.widget-view+json": {
       "model_id": "286fc4adfcef464da4941b0871101ed2",
       "version_major": 2,
       "version_minor": 0
      },
      "text/plain": [
       "Training Neural Network:   0%|          | 0/10 [00:00<?, ?it/s]"
      ]
     },
     "metadata": {},
     "output_type": "display_data"
    },
    {
     "name": "stderr",
     "output_type": "stream",
     "text": [
      "[I 2024-11-26 19:27:01,202] Trial 95 finished with value: 0.8337816030123723 and parameters: {'hidden_dim': 64, 'n_hidden_layers': 3, 'dropout': 0.19510630760248354, 'learning_rate': 0.004269950065236976, 'alpha': 0.6678606477936718, 'gamma': 1, 'weight_decay': 2.5188954571592906e-05}. Best is trial 71 with value: 0.8466917697686929.\n"
     ]
    },
    {
     "data": {
      "application/vnd.jupyter.widget-view+json": {
       "model_id": "b5929b29c11b4e82ba696e7f5004f9ef",
       "version_major": 2,
       "version_minor": 0
      },
      "text/plain": [
       "Training Neural Network:   0%|          | 0/10 [00:00<?, ?it/s]"
      ]
     },
     "metadata": {},
     "output_type": "display_data"
    },
    {
     "name": "stderr",
     "output_type": "stream",
     "text": [
      "[I 2024-11-26 19:27:30,960] Trial 96 finished with value: 0.8319885242962166 and parameters: {'hidden_dim': 64, 'n_hidden_layers': 5, 'dropout': 0.26070574251215894, 'learning_rate': 0.0034531937525244093, 'alpha': 0.28278499525581086, 'gamma': 1, 'weight_decay': 2.074683499294558e-05}. Best is trial 71 with value: 0.8466917697686929.\n"
     ]
    },
    {
     "data": {
      "application/vnd.jupyter.widget-view+json": {
       "model_id": "17fff4004a184206ad0f30e824338a49",
       "version_major": 2,
       "version_minor": 0
      },
      "text/plain": [
       "Training Neural Network:   0%|          | 0/10 [00:00<?, ?it/s]"
      ]
     },
     "metadata": {},
     "output_type": "display_data"
    },
    {
     "name": "stderr",
     "output_type": "stream",
     "text": [
      "[I 2024-11-26 19:27:55,126] Trial 97 finished with value: 0.8407746100053792 and parameters: {'hidden_dim': 96, 'n_hidden_layers': 3, 'dropout': 0.14776501185053115, 'learning_rate': 0.002967750798840011, 'alpha': 0.40645282741745714, 'gamma': 1, 'weight_decay': 1.4772773304132362e-05}. Best is trial 71 with value: 0.8466917697686929.\n"
     ]
    },
    {
     "data": {
      "application/vnd.jupyter.widget-view+json": {
       "model_id": "51c8720fad4745b2b9d6091a7a3fa154",
       "version_major": 2,
       "version_minor": 0
      },
      "text/plain": [
       "Training Neural Network:   0%|          | 0/10 [00:00<?, ?it/s]"
      ]
     },
     "metadata": {},
     "output_type": "display_data"
    },
    {
     "name": "stderr",
     "output_type": "stream",
     "text": [
      "[I 2024-11-26 19:28:20,892] Trial 98 finished with value: 0.8300161377084454 and parameters: {'hidden_dim': 32, 'n_hidden_layers': 4, 'dropout': 0.12290266349830635, 'learning_rate': 0.006052408560850917, 'alpha': 0.3724477837073331, 'gamma': 1, 'weight_decay': 1.1511997078606095e-05}. Best is trial 71 with value: 0.8466917697686929.\n"
     ]
    },
    {
     "data": {
      "application/vnd.jupyter.widget-view+json": {
       "model_id": "fc4097b9cd8d417c8d939d7901edb2b8",
       "version_major": 2,
       "version_minor": 0
      },
      "text/plain": [
       "Training Neural Network:   0%|          | 0/10 [00:00<?, ?it/s]"
      ]
     },
     "metadata": {},
     "output_type": "display_data"
    },
    {
     "name": "stderr",
     "output_type": "stream",
     "text": [
      "[I 2024-11-26 19:28:44,950] Trial 99 finished with value: 0.83306437152591 and parameters: {'hidden_dim': 96, 'n_hidden_layers': 3, 'dropout': 0.22652931648955663, 'learning_rate': 0.005355872368426994, 'alpha': 0.44337761483746185, 'gamma': 1, 'weight_decay': 1.2939153009309776e-05}. Best is trial 71 with value: 0.8466917697686929.\n"
     ]
    }
   ],
   "source": [
    "study = optuna.create_study(direction='maximize', study_name='Neural Network Optimization',\n",
    "                            sampler=optuna.samplers.TPESampler(seed=42))\n",
    "\n",
    "study.optimize(lambda trial: optimize_nnet(trial, train_loader, test_loader), n_trials=100)"
   ]
  },
  {
   "cell_type": "code",
   "execution_count": 36,
   "metadata": {},
   "outputs": [
    {
     "ename": "ValueError",
     "evalue": "Mime type rendering requires nbformat>=4.2.0 but it is not installed",
     "output_type": "error",
     "traceback": [
      "\u001b[0;31m---------------------------------------------------------------------------\u001b[0m",
      "\u001b[0;31mValueError\u001b[0m                                Traceback (most recent call last)",
      "File \u001b[0;32m/opt/anaconda3/envs/backup/lib/python3.11/site-packages/IPython/core/formatters.py:925\u001b[0m, in \u001b[0;36mIPythonDisplayFormatter.__call__\u001b[0;34m(self, obj)\u001b[0m\n\u001b[1;32m    923\u001b[0m method \u001b[38;5;241m=\u001b[39m get_real_method(obj, \u001b[38;5;28mself\u001b[39m\u001b[38;5;241m.\u001b[39mprint_method)\n\u001b[1;32m    924\u001b[0m \u001b[38;5;28;01mif\u001b[39;00m method \u001b[38;5;129;01mis\u001b[39;00m \u001b[38;5;129;01mnot\u001b[39;00m \u001b[38;5;28;01mNone\u001b[39;00m:\n\u001b[0;32m--> 925\u001b[0m     \u001b[43mmethod\u001b[49m\u001b[43m(\u001b[49m\u001b[43m)\u001b[49m\n\u001b[1;32m    926\u001b[0m     \u001b[38;5;28;01mreturn\u001b[39;00m \u001b[38;5;28;01mTrue\u001b[39;00m\n",
      "File \u001b[0;32m/opt/anaconda3/envs/backup/lib/python3.11/site-packages/plotly/basedatatypes.py:832\u001b[0m, in \u001b[0;36mBaseFigure._ipython_display_\u001b[0;34m(self)\u001b[0m\n\u001b[1;32m    829\u001b[0m \u001b[38;5;28;01mimport\u001b[39;00m \u001b[38;5;21;01mplotly\u001b[39;00m\u001b[38;5;21;01m.\u001b[39;00m\u001b[38;5;21;01mio\u001b[39;00m \u001b[38;5;28;01mas\u001b[39;00m \u001b[38;5;21;01mpio\u001b[39;00m\n\u001b[1;32m    831\u001b[0m \u001b[38;5;28;01mif\u001b[39;00m pio\u001b[38;5;241m.\u001b[39mrenderers\u001b[38;5;241m.\u001b[39mrender_on_display \u001b[38;5;129;01mand\u001b[39;00m pio\u001b[38;5;241m.\u001b[39mrenderers\u001b[38;5;241m.\u001b[39mdefault:\n\u001b[0;32m--> 832\u001b[0m     \u001b[43mpio\u001b[49m\u001b[38;5;241;43m.\u001b[39;49m\u001b[43mshow\u001b[49m\u001b[43m(\u001b[49m\u001b[38;5;28;43mself\u001b[39;49m\u001b[43m)\u001b[49m\n\u001b[1;32m    833\u001b[0m \u001b[38;5;28;01melse\u001b[39;00m:\n\u001b[1;32m    834\u001b[0m     \u001b[38;5;28mprint\u001b[39m(\u001b[38;5;28mrepr\u001b[39m(\u001b[38;5;28mself\u001b[39m))\n",
      "File \u001b[0;32m/opt/anaconda3/envs/backup/lib/python3.11/site-packages/plotly/io/_renderers.py:394\u001b[0m, in \u001b[0;36mshow\u001b[0;34m(fig, renderer, validate, **kwargs)\u001b[0m\n\u001b[1;32m    389\u001b[0m         \u001b[38;5;28;01mraise\u001b[39;00m \u001b[38;5;167;01mValueError\u001b[39;00m(\n\u001b[1;32m    390\u001b[0m             \u001b[38;5;124m\"\u001b[39m\u001b[38;5;124mMime type rendering requires ipython but it is not installed\u001b[39m\u001b[38;5;124m\"\u001b[39m\n\u001b[1;32m    391\u001b[0m         )\n\u001b[1;32m    393\u001b[0m     \u001b[38;5;28;01mif\u001b[39;00m \u001b[38;5;129;01mnot\u001b[39;00m nbformat \u001b[38;5;129;01mor\u001b[39;00m Version(nbformat\u001b[38;5;241m.\u001b[39m__version__) \u001b[38;5;241m<\u001b[39m Version(\u001b[38;5;124m\"\u001b[39m\u001b[38;5;124m4.2.0\u001b[39m\u001b[38;5;124m\"\u001b[39m):\n\u001b[0;32m--> 394\u001b[0m         \u001b[38;5;28;01mraise\u001b[39;00m \u001b[38;5;167;01mValueError\u001b[39;00m(\n\u001b[1;32m    395\u001b[0m             \u001b[38;5;124m\"\u001b[39m\u001b[38;5;124mMime type rendering requires nbformat>=4.2.0 but it is not installed\u001b[39m\u001b[38;5;124m\"\u001b[39m\n\u001b[1;32m    396\u001b[0m         )\n\u001b[1;32m    398\u001b[0m     ipython_display\u001b[38;5;241m.\u001b[39mdisplay(bundle, raw\u001b[38;5;241m=\u001b[39m\u001b[38;5;28;01mTrue\u001b[39;00m)\n\u001b[1;32m    400\u001b[0m \u001b[38;5;66;03m# external renderers\u001b[39;00m\n",
      "\u001b[0;31mValueError\u001b[0m: Mime type rendering requires nbformat>=4.2.0 but it is not installed"
     ]
    },
    {
     "data": {
      "application/vnd.plotly.v1+json": {
       "config": {
        "plotlyServerURL": "https://plot.ly"
       },
       "data": [
        {
         "mode": "markers",
         "name": "Objective Value",
         "type": "scatter",
         "x": [
          0,
          1,
          2,
          3,
          4,
          5,
          6,
          7,
          8,
          9,
          10,
          11,
          12,
          13,
          14,
          15,
          16,
          17,
          18,
          19,
          20,
          21,
          22,
          23,
          24,
          25,
          26,
          27,
          28,
          29,
          30,
          31,
          32,
          33,
          34,
          35,
          36,
          37,
          38,
          39,
          40,
          41,
          42,
          43,
          44,
          45,
          46,
          47,
          48,
          49,
          50,
          51,
          52,
          53,
          54,
          55,
          56,
          57,
          58,
          59,
          60,
          61,
          62,
          63,
          64,
          65,
          66,
          67,
          68,
          69,
          70,
          71,
          72,
          73,
          74,
          75,
          76,
          77,
          78,
          79,
          80,
          81,
          82,
          83,
          84,
          85,
          86,
          87,
          88,
          89,
          90,
          91,
          92,
          93,
          94,
          95,
          96,
          97,
          98,
          99
         ],
         "y": [
          0.8362919132149902,
          0.8298368298368298,
          0.835933297471759,
          0.8257127487896718,
          0.8242782858167473,
          0.8336022951407567,
          0.8323471400394478,
          0.8240989779451318,
          0.8396987627756859,
          0.8391608391608392,
          0.8239196700735162,
          0.8361126053433746,
          0.8364712210866057,
          0.8312712928097543,
          0.8432849202079972,
          0.8384436076743769,
          0.835933297471759,
          0.8332436793975255,
          0.8316299085529855,
          0.8414918414918415,
          0.8197955890263583,
          0.8375470683162991,
          0.8386229155459924,
          0.8361126053433746,
          0.8422090729783037,
          0.8361126053433746,
          0.8332436793975255,
          0.8366505289582212,
          0.8416711493634571,
          0.8325264479110633,
          0.8395194549040703,
          0.8352160659852967,
          0.8431056123363816,
          0.8309126770665233,
          0.8303747534516766,
          0.8375470683162991,
          0.835933297471759,
          0.8414918414918415,
          0.8305540613232921,
          0.83467814237045,
          0.8334229872691411,
          0.8384436076743769,
          0.8362919132149902,
          0.835933297471759,
          0.8379056840595303,
          0.8353953738569123,
          0.8366505289582212,
          0.8366505289582212,
          0.8334229872691411,
          0.8373677604446835,
          0.8353953738569123,
          0.8400573785189169,
          0.8267885960193653,
          0.8407746100053792,
          0.8309126770665233,
          0.8425676887215349,
          0.8271472117625964,
          0.8323471400394478,
          0.8292989062219831,
          0.8370091447014524,
          0.8201542047695893,
          0.8230231307154384,
          0.8228438228438228,
          0.8251748251748252,
          0.8350367581136812,
          0.8353953738569123,
          0.8465124618970773,
          0.8418504572350726,
          0.8266092881477497,
          0.8344988344988346,
          0.8364712210866057,
          0.8466917697686929,
          0.8296575219652143,
          0.8357539896001435,
          0.8368298368298368,
          0.831809216424601,
          0.8362919132149902,
          0.8341402187556034,
          0.8328850636542944,
          0.8158508158508159,
          0.8344988344988346,
          0.8423883808499193,
          0.8278644432490586,
          0.845795230410615,
          0.8361126053433746,
          0.8425676887215349,
          0.8192576654115116,
          0.8180025103102027,
          0.830195445580061,
          0.827685135377443,
          0.831809216424601,
          0.8305540613232921,
          0.8267885960193653,
          0.8332436793975255,
          0.8373677604446835,
          0.8337816030123723,
          0.8319885242962166,
          0.8407746100053792,
          0.8300161377084454,
          0.83306437152591
         ]
        },
        {
         "mode": "lines",
         "name": "Best Value",
         "type": "scatter",
         "x": [
          0,
          1,
          2,
          3,
          4,
          5,
          6,
          7,
          8,
          9,
          10,
          11,
          12,
          13,
          14,
          15,
          16,
          17,
          18,
          19,
          20,
          21,
          22,
          23,
          24,
          25,
          26,
          27,
          28,
          29,
          30,
          31,
          32,
          33,
          34,
          35,
          36,
          37,
          38,
          39,
          40,
          41,
          42,
          43,
          44,
          45,
          46,
          47,
          48,
          49,
          50,
          51,
          52,
          53,
          54,
          55,
          56,
          57,
          58,
          59,
          60,
          61,
          62,
          63,
          64,
          65,
          66,
          67,
          68,
          69,
          70,
          71,
          72,
          73,
          74,
          75,
          76,
          77,
          78,
          79,
          80,
          81,
          82,
          83,
          84,
          85,
          86,
          87,
          88,
          89,
          90,
          91,
          92,
          93,
          94,
          95,
          96,
          97,
          98,
          99
         ],
         "y": [
          0.8362919132149902,
          0.8362919132149902,
          0.8362919132149902,
          0.8362919132149902,
          0.8362919132149902,
          0.8362919132149902,
          0.8362919132149902,
          0.8362919132149902,
          0.8396987627756859,
          0.8396987627756859,
          0.8396987627756859,
          0.8396987627756859,
          0.8396987627756859,
          0.8396987627756859,
          0.8432849202079972,
          0.8432849202079972,
          0.8432849202079972,
          0.8432849202079972,
          0.8432849202079972,
          0.8432849202079972,
          0.8432849202079972,
          0.8432849202079972,
          0.8432849202079972,
          0.8432849202079972,
          0.8432849202079972,
          0.8432849202079972,
          0.8432849202079972,
          0.8432849202079972,
          0.8432849202079972,
          0.8432849202079972,
          0.8432849202079972,
          0.8432849202079972,
          0.8432849202079972,
          0.8432849202079972,
          0.8432849202079972,
          0.8432849202079972,
          0.8432849202079972,
          0.8432849202079972,
          0.8432849202079972,
          0.8432849202079972,
          0.8432849202079972,
          0.8432849202079972,
          0.8432849202079972,
          0.8432849202079972,
          0.8432849202079972,
          0.8432849202079972,
          0.8432849202079972,
          0.8432849202079972,
          0.8432849202079972,
          0.8432849202079972,
          0.8432849202079972,
          0.8432849202079972,
          0.8432849202079972,
          0.8432849202079972,
          0.8432849202079972,
          0.8432849202079972,
          0.8432849202079972,
          0.8432849202079972,
          0.8432849202079972,
          0.8432849202079972,
          0.8432849202079972,
          0.8432849202079972,
          0.8432849202079972,
          0.8432849202079972,
          0.8432849202079972,
          0.8432849202079972,
          0.8465124618970773,
          0.8465124618970773,
          0.8465124618970773,
          0.8465124618970773,
          0.8465124618970773,
          0.8466917697686929,
          0.8466917697686929,
          0.8466917697686929,
          0.8466917697686929,
          0.8466917697686929,
          0.8466917697686929,
          0.8466917697686929,
          0.8466917697686929,
          0.8466917697686929,
          0.8466917697686929,
          0.8466917697686929,
          0.8466917697686929,
          0.8466917697686929,
          0.8466917697686929,
          0.8466917697686929,
          0.8466917697686929,
          0.8466917697686929,
          0.8466917697686929,
          0.8466917697686929,
          0.8466917697686929,
          0.8466917697686929,
          0.8466917697686929,
          0.8466917697686929,
          0.8466917697686929,
          0.8466917697686929,
          0.8466917697686929,
          0.8466917697686929,
          0.8466917697686929,
          0.8466917697686929
         ]
        },
        {
         "marker": {
          "color": "#cccccc"
         },
         "mode": "markers",
         "name": "Infeasible Trial",
         "showlegend": false,
         "type": "scatter",
         "x": [],
         "y": []
        }
       ],
       "layout": {
        "template": {
         "data": {
          "bar": [
           {
            "error_x": {
             "color": "#2a3f5f"
            },
            "error_y": {
             "color": "#2a3f5f"
            },
            "marker": {
             "line": {
              "color": "#E5ECF6",
              "width": 0.5
             },
             "pattern": {
              "fillmode": "overlay",
              "size": 10,
              "solidity": 0.2
             }
            },
            "type": "bar"
           }
          ],
          "barpolar": [
           {
            "marker": {
             "line": {
              "color": "#E5ECF6",
              "width": 0.5
             },
             "pattern": {
              "fillmode": "overlay",
              "size": 10,
              "solidity": 0.2
             }
            },
            "type": "barpolar"
           }
          ],
          "carpet": [
           {
            "aaxis": {
             "endlinecolor": "#2a3f5f",
             "gridcolor": "white",
             "linecolor": "white",
             "minorgridcolor": "white",
             "startlinecolor": "#2a3f5f"
            },
            "baxis": {
             "endlinecolor": "#2a3f5f",
             "gridcolor": "white",
             "linecolor": "white",
             "minorgridcolor": "white",
             "startlinecolor": "#2a3f5f"
            },
            "type": "carpet"
           }
          ],
          "choropleth": [
           {
            "colorbar": {
             "outlinewidth": 0,
             "ticks": ""
            },
            "type": "choropleth"
           }
          ],
          "contour": [
           {
            "colorbar": {
             "outlinewidth": 0,
             "ticks": ""
            },
            "colorscale": [
             [
              0,
              "#0d0887"
             ],
             [
              0.1111111111111111,
              "#46039f"
             ],
             [
              0.2222222222222222,
              "#7201a8"
             ],
             [
              0.3333333333333333,
              "#9c179e"
             ],
             [
              0.4444444444444444,
              "#bd3786"
             ],
             [
              0.5555555555555556,
              "#d8576b"
             ],
             [
              0.6666666666666666,
              "#ed7953"
             ],
             [
              0.7777777777777778,
              "#fb9f3a"
             ],
             [
              0.8888888888888888,
              "#fdca26"
             ],
             [
              1,
              "#f0f921"
             ]
            ],
            "type": "contour"
           }
          ],
          "contourcarpet": [
           {
            "colorbar": {
             "outlinewidth": 0,
             "ticks": ""
            },
            "type": "contourcarpet"
           }
          ],
          "heatmap": [
           {
            "colorbar": {
             "outlinewidth": 0,
             "ticks": ""
            },
            "colorscale": [
             [
              0,
              "#0d0887"
             ],
             [
              0.1111111111111111,
              "#46039f"
             ],
             [
              0.2222222222222222,
              "#7201a8"
             ],
             [
              0.3333333333333333,
              "#9c179e"
             ],
             [
              0.4444444444444444,
              "#bd3786"
             ],
             [
              0.5555555555555556,
              "#d8576b"
             ],
             [
              0.6666666666666666,
              "#ed7953"
             ],
             [
              0.7777777777777778,
              "#fb9f3a"
             ],
             [
              0.8888888888888888,
              "#fdca26"
             ],
             [
              1,
              "#f0f921"
             ]
            ],
            "type": "heatmap"
           }
          ],
          "heatmapgl": [
           {
            "colorbar": {
             "outlinewidth": 0,
             "ticks": ""
            },
            "colorscale": [
             [
              0,
              "#0d0887"
             ],
             [
              0.1111111111111111,
              "#46039f"
             ],
             [
              0.2222222222222222,
              "#7201a8"
             ],
             [
              0.3333333333333333,
              "#9c179e"
             ],
             [
              0.4444444444444444,
              "#bd3786"
             ],
             [
              0.5555555555555556,
              "#d8576b"
             ],
             [
              0.6666666666666666,
              "#ed7953"
             ],
             [
              0.7777777777777778,
              "#fb9f3a"
             ],
             [
              0.8888888888888888,
              "#fdca26"
             ],
             [
              1,
              "#f0f921"
             ]
            ],
            "type": "heatmapgl"
           }
          ],
          "histogram": [
           {
            "marker": {
             "pattern": {
              "fillmode": "overlay",
              "size": 10,
              "solidity": 0.2
             }
            },
            "type": "histogram"
           }
          ],
          "histogram2d": [
           {
            "colorbar": {
             "outlinewidth": 0,
             "ticks": ""
            },
            "colorscale": [
             [
              0,
              "#0d0887"
             ],
             [
              0.1111111111111111,
              "#46039f"
             ],
             [
              0.2222222222222222,
              "#7201a8"
             ],
             [
              0.3333333333333333,
              "#9c179e"
             ],
             [
              0.4444444444444444,
              "#bd3786"
             ],
             [
              0.5555555555555556,
              "#d8576b"
             ],
             [
              0.6666666666666666,
              "#ed7953"
             ],
             [
              0.7777777777777778,
              "#fb9f3a"
             ],
             [
              0.8888888888888888,
              "#fdca26"
             ],
             [
              1,
              "#f0f921"
             ]
            ],
            "type": "histogram2d"
           }
          ],
          "histogram2dcontour": [
           {
            "colorbar": {
             "outlinewidth": 0,
             "ticks": ""
            },
            "colorscale": [
             [
              0,
              "#0d0887"
             ],
             [
              0.1111111111111111,
              "#46039f"
             ],
             [
              0.2222222222222222,
              "#7201a8"
             ],
             [
              0.3333333333333333,
              "#9c179e"
             ],
             [
              0.4444444444444444,
              "#bd3786"
             ],
             [
              0.5555555555555556,
              "#d8576b"
             ],
             [
              0.6666666666666666,
              "#ed7953"
             ],
             [
              0.7777777777777778,
              "#fb9f3a"
             ],
             [
              0.8888888888888888,
              "#fdca26"
             ],
             [
              1,
              "#f0f921"
             ]
            ],
            "type": "histogram2dcontour"
           }
          ],
          "mesh3d": [
           {
            "colorbar": {
             "outlinewidth": 0,
             "ticks": ""
            },
            "type": "mesh3d"
           }
          ],
          "parcoords": [
           {
            "line": {
             "colorbar": {
              "outlinewidth": 0,
              "ticks": ""
             }
            },
            "type": "parcoords"
           }
          ],
          "pie": [
           {
            "automargin": true,
            "type": "pie"
           }
          ],
          "scatter": [
           {
            "fillpattern": {
             "fillmode": "overlay",
             "size": 10,
             "solidity": 0.2
            },
            "type": "scatter"
           }
          ],
          "scatter3d": [
           {
            "line": {
             "colorbar": {
              "outlinewidth": 0,
              "ticks": ""
             }
            },
            "marker": {
             "colorbar": {
              "outlinewidth": 0,
              "ticks": ""
             }
            },
            "type": "scatter3d"
           }
          ],
          "scattercarpet": [
           {
            "marker": {
             "colorbar": {
              "outlinewidth": 0,
              "ticks": ""
             }
            },
            "type": "scattercarpet"
           }
          ],
          "scattergeo": [
           {
            "marker": {
             "colorbar": {
              "outlinewidth": 0,
              "ticks": ""
             }
            },
            "type": "scattergeo"
           }
          ],
          "scattergl": [
           {
            "marker": {
             "colorbar": {
              "outlinewidth": 0,
              "ticks": ""
             }
            },
            "type": "scattergl"
           }
          ],
          "scattermapbox": [
           {
            "marker": {
             "colorbar": {
              "outlinewidth": 0,
              "ticks": ""
             }
            },
            "type": "scattermapbox"
           }
          ],
          "scatterpolar": [
           {
            "marker": {
             "colorbar": {
              "outlinewidth": 0,
              "ticks": ""
             }
            },
            "type": "scatterpolar"
           }
          ],
          "scatterpolargl": [
           {
            "marker": {
             "colorbar": {
              "outlinewidth": 0,
              "ticks": ""
             }
            },
            "type": "scatterpolargl"
           }
          ],
          "scatterternary": [
           {
            "marker": {
             "colorbar": {
              "outlinewidth": 0,
              "ticks": ""
             }
            },
            "type": "scatterternary"
           }
          ],
          "surface": [
           {
            "colorbar": {
             "outlinewidth": 0,
             "ticks": ""
            },
            "colorscale": [
             [
              0,
              "#0d0887"
             ],
             [
              0.1111111111111111,
              "#46039f"
             ],
             [
              0.2222222222222222,
              "#7201a8"
             ],
             [
              0.3333333333333333,
              "#9c179e"
             ],
             [
              0.4444444444444444,
              "#bd3786"
             ],
             [
              0.5555555555555556,
              "#d8576b"
             ],
             [
              0.6666666666666666,
              "#ed7953"
             ],
             [
              0.7777777777777778,
              "#fb9f3a"
             ],
             [
              0.8888888888888888,
              "#fdca26"
             ],
             [
              1,
              "#f0f921"
             ]
            ],
            "type": "surface"
           }
          ],
          "table": [
           {
            "cells": {
             "fill": {
              "color": "#EBF0F8"
             },
             "line": {
              "color": "white"
             }
            },
            "header": {
             "fill": {
              "color": "#C8D4E3"
             },
             "line": {
              "color": "white"
             }
            },
            "type": "table"
           }
          ]
         },
         "layout": {
          "annotationdefaults": {
           "arrowcolor": "#2a3f5f",
           "arrowhead": 0,
           "arrowwidth": 1
          },
          "autotypenumbers": "strict",
          "coloraxis": {
           "colorbar": {
            "outlinewidth": 0,
            "ticks": ""
           }
          },
          "colorscale": {
           "diverging": [
            [
             0,
             "#8e0152"
            ],
            [
             0.1,
             "#c51b7d"
            ],
            [
             0.2,
             "#de77ae"
            ],
            [
             0.3,
             "#f1b6da"
            ],
            [
             0.4,
             "#fde0ef"
            ],
            [
             0.5,
             "#f7f7f7"
            ],
            [
             0.6,
             "#e6f5d0"
            ],
            [
             0.7,
             "#b8e186"
            ],
            [
             0.8,
             "#7fbc41"
            ],
            [
             0.9,
             "#4d9221"
            ],
            [
             1,
             "#276419"
            ]
           ],
           "sequential": [
            [
             0,
             "#0d0887"
            ],
            [
             0.1111111111111111,
             "#46039f"
            ],
            [
             0.2222222222222222,
             "#7201a8"
            ],
            [
             0.3333333333333333,
             "#9c179e"
            ],
            [
             0.4444444444444444,
             "#bd3786"
            ],
            [
             0.5555555555555556,
             "#d8576b"
            ],
            [
             0.6666666666666666,
             "#ed7953"
            ],
            [
             0.7777777777777778,
             "#fb9f3a"
            ],
            [
             0.8888888888888888,
             "#fdca26"
            ],
            [
             1,
             "#f0f921"
            ]
           ],
           "sequentialminus": [
            [
             0,
             "#0d0887"
            ],
            [
             0.1111111111111111,
             "#46039f"
            ],
            [
             0.2222222222222222,
             "#7201a8"
            ],
            [
             0.3333333333333333,
             "#9c179e"
            ],
            [
             0.4444444444444444,
             "#bd3786"
            ],
            [
             0.5555555555555556,
             "#d8576b"
            ],
            [
             0.6666666666666666,
             "#ed7953"
            ],
            [
             0.7777777777777778,
             "#fb9f3a"
            ],
            [
             0.8888888888888888,
             "#fdca26"
            ],
            [
             1,
             "#f0f921"
            ]
           ]
          },
          "colorway": [
           "#636efa",
           "#EF553B",
           "#00cc96",
           "#ab63fa",
           "#FFA15A",
           "#19d3f3",
           "#FF6692",
           "#B6E880",
           "#FF97FF",
           "#FECB52"
          ],
          "font": {
           "color": "#2a3f5f"
          },
          "geo": {
           "bgcolor": "white",
           "lakecolor": "white",
           "landcolor": "#E5ECF6",
           "showlakes": true,
           "showland": true,
           "subunitcolor": "white"
          },
          "hoverlabel": {
           "align": "left"
          },
          "hovermode": "closest",
          "mapbox": {
           "style": "light"
          },
          "paper_bgcolor": "white",
          "plot_bgcolor": "#E5ECF6",
          "polar": {
           "angularaxis": {
            "gridcolor": "white",
            "linecolor": "white",
            "ticks": ""
           },
           "bgcolor": "#E5ECF6",
           "radialaxis": {
            "gridcolor": "white",
            "linecolor": "white",
            "ticks": ""
           }
          },
          "scene": {
           "xaxis": {
            "backgroundcolor": "#E5ECF6",
            "gridcolor": "white",
            "gridwidth": 2,
            "linecolor": "white",
            "showbackground": true,
            "ticks": "",
            "zerolinecolor": "white"
           },
           "yaxis": {
            "backgroundcolor": "#E5ECF6",
            "gridcolor": "white",
            "gridwidth": 2,
            "linecolor": "white",
            "showbackground": true,
            "ticks": "",
            "zerolinecolor": "white"
           },
           "zaxis": {
            "backgroundcolor": "#E5ECF6",
            "gridcolor": "white",
            "gridwidth": 2,
            "linecolor": "white",
            "showbackground": true,
            "ticks": "",
            "zerolinecolor": "white"
           }
          },
          "shapedefaults": {
           "line": {
            "color": "#2a3f5f"
           }
          },
          "ternary": {
           "aaxis": {
            "gridcolor": "white",
            "linecolor": "white",
            "ticks": ""
           },
           "baxis": {
            "gridcolor": "white",
            "linecolor": "white",
            "ticks": ""
           },
           "bgcolor": "#E5ECF6",
           "caxis": {
            "gridcolor": "white",
            "linecolor": "white",
            "ticks": ""
           }
          },
          "title": {
           "x": 0.05
          },
          "xaxis": {
           "automargin": true,
           "gridcolor": "white",
           "linecolor": "white",
           "ticks": "",
           "title": {
            "standoff": 15
           },
           "zerolinecolor": "white",
           "zerolinewidth": 2
          },
          "yaxis": {
           "automargin": true,
           "gridcolor": "white",
           "linecolor": "white",
           "ticks": "",
           "title": {
            "standoff": 15
           },
           "zerolinecolor": "white",
           "zerolinewidth": 2
          }
         }
        },
        "title": {
         "text": "Optimization History Plot"
        },
        "xaxis": {
         "title": {
          "text": "Trial"
         }
        },
        "yaxis": {
         "title": {
          "text": "Objective Value"
         }
        }
       }
      },
      "text/html": [
       "<div>                        <script type=\"text/javascript\">window.PlotlyConfig = {MathJaxConfig: 'local'};</script>\n",
       "        <script charset=\"utf-8\" src=\"https://cdn.plot.ly/plotly-2.35.2.min.js\"></script>                <div id=\"b276c4b3-f0fe-4e5b-8b54-34c3b24b6577\" class=\"plotly-graph-div\" style=\"height:100%; width:100%;\"></div>            <script type=\"text/javascript\">                                    window.PLOTLYENV=window.PLOTLYENV || {};                                    if (document.getElementById(\"b276c4b3-f0fe-4e5b-8b54-34c3b24b6577\")) {                    Plotly.newPlot(                        \"b276c4b3-f0fe-4e5b-8b54-34c3b24b6577\",                        [{\"mode\":\"markers\",\"name\":\"Objective Value\",\"x\":[0,1,2,3,4,5,6,7,8,9,10,11,12,13,14,15,16,17,18,19,20,21,22,23,24,25,26,27,28,29,30,31,32,33,34,35,36,37,38,39,40,41,42,43,44,45,46,47,48,49,50,51,52,53,54,55,56,57,58,59,60,61,62,63,64,65,66,67,68,69,70,71,72,73,74,75,76,77,78,79,80,81,82,83,84,85,86,87,88,89,90,91,92,93,94,95,96,97,98,99],\"y\":[0.8362919132149902,0.8298368298368298,0.835933297471759,0.8257127487896718,0.8242782858167473,0.8336022951407567,0.8323471400394478,0.8240989779451318,0.8396987627756859,0.8391608391608392,0.8239196700735162,0.8361126053433746,0.8364712210866057,0.8312712928097543,0.8432849202079972,0.8384436076743769,0.835933297471759,0.8332436793975255,0.8316299085529855,0.8414918414918415,0.8197955890263583,0.8375470683162991,0.8386229155459924,0.8361126053433746,0.8422090729783037,0.8361126053433746,0.8332436793975255,0.8366505289582212,0.8416711493634571,0.8325264479110633,0.8395194549040703,0.8352160659852967,0.8431056123363816,0.8309126770665233,0.8303747534516766,0.8375470683162991,0.835933297471759,0.8414918414918415,0.8305540613232921,0.83467814237045,0.8334229872691411,0.8384436076743769,0.8362919132149902,0.835933297471759,0.8379056840595303,0.8353953738569123,0.8366505289582212,0.8366505289582212,0.8334229872691411,0.8373677604446835,0.8353953738569123,0.8400573785189169,0.8267885960193653,0.8407746100053792,0.8309126770665233,0.8425676887215349,0.8271472117625964,0.8323471400394478,0.8292989062219831,0.8370091447014524,0.8201542047695893,0.8230231307154384,0.8228438228438228,0.8251748251748252,0.8350367581136812,0.8353953738569123,0.8465124618970773,0.8418504572350726,0.8266092881477497,0.8344988344988346,0.8364712210866057,0.8466917697686929,0.8296575219652143,0.8357539896001435,0.8368298368298368,0.831809216424601,0.8362919132149902,0.8341402187556034,0.8328850636542944,0.8158508158508159,0.8344988344988346,0.8423883808499193,0.8278644432490586,0.845795230410615,0.8361126053433746,0.8425676887215349,0.8192576654115116,0.8180025103102027,0.830195445580061,0.827685135377443,0.831809216424601,0.8305540613232921,0.8267885960193653,0.8332436793975255,0.8373677604446835,0.8337816030123723,0.8319885242962166,0.8407746100053792,0.8300161377084454,0.83306437152591],\"type\":\"scatter\"},{\"mode\":\"lines\",\"name\":\"Best Value\",\"x\":[0,1,2,3,4,5,6,7,8,9,10,11,12,13,14,15,16,17,18,19,20,21,22,23,24,25,26,27,28,29,30,31,32,33,34,35,36,37,38,39,40,41,42,43,44,45,46,47,48,49,50,51,52,53,54,55,56,57,58,59,60,61,62,63,64,65,66,67,68,69,70,71,72,73,74,75,76,77,78,79,80,81,82,83,84,85,86,87,88,89,90,91,92,93,94,95,96,97,98,99],\"y\":[0.8362919132149902,0.8362919132149902,0.8362919132149902,0.8362919132149902,0.8362919132149902,0.8362919132149902,0.8362919132149902,0.8362919132149902,0.8396987627756859,0.8396987627756859,0.8396987627756859,0.8396987627756859,0.8396987627756859,0.8396987627756859,0.8432849202079972,0.8432849202079972,0.8432849202079972,0.8432849202079972,0.8432849202079972,0.8432849202079972,0.8432849202079972,0.8432849202079972,0.8432849202079972,0.8432849202079972,0.8432849202079972,0.8432849202079972,0.8432849202079972,0.8432849202079972,0.8432849202079972,0.8432849202079972,0.8432849202079972,0.8432849202079972,0.8432849202079972,0.8432849202079972,0.8432849202079972,0.8432849202079972,0.8432849202079972,0.8432849202079972,0.8432849202079972,0.8432849202079972,0.8432849202079972,0.8432849202079972,0.8432849202079972,0.8432849202079972,0.8432849202079972,0.8432849202079972,0.8432849202079972,0.8432849202079972,0.8432849202079972,0.8432849202079972,0.8432849202079972,0.8432849202079972,0.8432849202079972,0.8432849202079972,0.8432849202079972,0.8432849202079972,0.8432849202079972,0.8432849202079972,0.8432849202079972,0.8432849202079972,0.8432849202079972,0.8432849202079972,0.8432849202079972,0.8432849202079972,0.8432849202079972,0.8432849202079972,0.8465124618970773,0.8465124618970773,0.8465124618970773,0.8465124618970773,0.8465124618970773,0.8466917697686929,0.8466917697686929,0.8466917697686929,0.8466917697686929,0.8466917697686929,0.8466917697686929,0.8466917697686929,0.8466917697686929,0.8466917697686929,0.8466917697686929,0.8466917697686929,0.8466917697686929,0.8466917697686929,0.8466917697686929,0.8466917697686929,0.8466917697686929,0.8466917697686929,0.8466917697686929,0.8466917697686929,0.8466917697686929,0.8466917697686929,0.8466917697686929,0.8466917697686929,0.8466917697686929,0.8466917697686929,0.8466917697686929,0.8466917697686929,0.8466917697686929,0.8466917697686929],\"type\":\"scatter\"},{\"marker\":{\"color\":\"#cccccc\"},\"mode\":\"markers\",\"name\":\"Infeasible Trial\",\"showlegend\":false,\"x\":[],\"y\":[],\"type\":\"scatter\"}],                        {\"title\":{\"text\":\"Optimization History Plot\"},\"xaxis\":{\"title\":{\"text\":\"Trial\"}},\"yaxis\":{\"title\":{\"text\":\"Objective Value\"}},\"template\":{\"data\":{\"histogram2dcontour\":[{\"type\":\"histogram2dcontour\",\"colorbar\":{\"outlinewidth\":0,\"ticks\":\"\"},\"colorscale\":[[0.0,\"#0d0887\"],[0.1111111111111111,\"#46039f\"],[0.2222222222222222,\"#7201a8\"],[0.3333333333333333,\"#9c179e\"],[0.4444444444444444,\"#bd3786\"],[0.5555555555555556,\"#d8576b\"],[0.6666666666666666,\"#ed7953\"],[0.7777777777777778,\"#fb9f3a\"],[0.8888888888888888,\"#fdca26\"],[1.0,\"#f0f921\"]]}],\"choropleth\":[{\"type\":\"choropleth\",\"colorbar\":{\"outlinewidth\":0,\"ticks\":\"\"}}],\"histogram2d\":[{\"type\":\"histogram2d\",\"colorbar\":{\"outlinewidth\":0,\"ticks\":\"\"},\"colorscale\":[[0.0,\"#0d0887\"],[0.1111111111111111,\"#46039f\"],[0.2222222222222222,\"#7201a8\"],[0.3333333333333333,\"#9c179e\"],[0.4444444444444444,\"#bd3786\"],[0.5555555555555556,\"#d8576b\"],[0.6666666666666666,\"#ed7953\"],[0.7777777777777778,\"#fb9f3a\"],[0.8888888888888888,\"#fdca26\"],[1.0,\"#f0f921\"]]}],\"heatmap\":[{\"type\":\"heatmap\",\"colorbar\":{\"outlinewidth\":0,\"ticks\":\"\"},\"colorscale\":[[0.0,\"#0d0887\"],[0.1111111111111111,\"#46039f\"],[0.2222222222222222,\"#7201a8\"],[0.3333333333333333,\"#9c179e\"],[0.4444444444444444,\"#bd3786\"],[0.5555555555555556,\"#d8576b\"],[0.6666666666666666,\"#ed7953\"],[0.7777777777777778,\"#fb9f3a\"],[0.8888888888888888,\"#fdca26\"],[1.0,\"#f0f921\"]]}],\"heatmapgl\":[{\"type\":\"heatmapgl\",\"colorbar\":{\"outlinewidth\":0,\"ticks\":\"\"},\"colorscale\":[[0.0,\"#0d0887\"],[0.1111111111111111,\"#46039f\"],[0.2222222222222222,\"#7201a8\"],[0.3333333333333333,\"#9c179e\"],[0.4444444444444444,\"#bd3786\"],[0.5555555555555556,\"#d8576b\"],[0.6666666666666666,\"#ed7953\"],[0.7777777777777778,\"#fb9f3a\"],[0.8888888888888888,\"#fdca26\"],[1.0,\"#f0f921\"]]}],\"contourcarpet\":[{\"type\":\"contourcarpet\",\"colorbar\":{\"outlinewidth\":0,\"ticks\":\"\"}}],\"contour\":[{\"type\":\"contour\",\"colorbar\":{\"outlinewidth\":0,\"ticks\":\"\"},\"colorscale\":[[0.0,\"#0d0887\"],[0.1111111111111111,\"#46039f\"],[0.2222222222222222,\"#7201a8\"],[0.3333333333333333,\"#9c179e\"],[0.4444444444444444,\"#bd3786\"],[0.5555555555555556,\"#d8576b\"],[0.6666666666666666,\"#ed7953\"],[0.7777777777777778,\"#fb9f3a\"],[0.8888888888888888,\"#fdca26\"],[1.0,\"#f0f921\"]]}],\"surface\":[{\"type\":\"surface\",\"colorbar\":{\"outlinewidth\":0,\"ticks\":\"\"},\"colorscale\":[[0.0,\"#0d0887\"],[0.1111111111111111,\"#46039f\"],[0.2222222222222222,\"#7201a8\"],[0.3333333333333333,\"#9c179e\"],[0.4444444444444444,\"#bd3786\"],[0.5555555555555556,\"#d8576b\"],[0.6666666666666666,\"#ed7953\"],[0.7777777777777778,\"#fb9f3a\"],[0.8888888888888888,\"#fdca26\"],[1.0,\"#f0f921\"]]}],\"mesh3d\":[{\"type\":\"mesh3d\",\"colorbar\":{\"outlinewidth\":0,\"ticks\":\"\"}}],\"scatter\":[{\"fillpattern\":{\"fillmode\":\"overlay\",\"size\":10,\"solidity\":0.2},\"type\":\"scatter\"}],\"parcoords\":[{\"type\":\"parcoords\",\"line\":{\"colorbar\":{\"outlinewidth\":0,\"ticks\":\"\"}}}],\"scatterpolargl\":[{\"type\":\"scatterpolargl\",\"marker\":{\"colorbar\":{\"outlinewidth\":0,\"ticks\":\"\"}}}],\"bar\":[{\"error_x\":{\"color\":\"#2a3f5f\"},\"error_y\":{\"color\":\"#2a3f5f\"},\"marker\":{\"line\":{\"color\":\"#E5ECF6\",\"width\":0.5},\"pattern\":{\"fillmode\":\"overlay\",\"size\":10,\"solidity\":0.2}},\"type\":\"bar\"}],\"scattergeo\":[{\"type\":\"scattergeo\",\"marker\":{\"colorbar\":{\"outlinewidth\":0,\"ticks\":\"\"}}}],\"scatterpolar\":[{\"type\":\"scatterpolar\",\"marker\":{\"colorbar\":{\"outlinewidth\":0,\"ticks\":\"\"}}}],\"histogram\":[{\"marker\":{\"pattern\":{\"fillmode\":\"overlay\",\"size\":10,\"solidity\":0.2}},\"type\":\"histogram\"}],\"scattergl\":[{\"type\":\"scattergl\",\"marker\":{\"colorbar\":{\"outlinewidth\":0,\"ticks\":\"\"}}}],\"scatter3d\":[{\"type\":\"scatter3d\",\"line\":{\"colorbar\":{\"outlinewidth\":0,\"ticks\":\"\"}},\"marker\":{\"colorbar\":{\"outlinewidth\":0,\"ticks\":\"\"}}}],\"scattermapbox\":[{\"type\":\"scattermapbox\",\"marker\":{\"colorbar\":{\"outlinewidth\":0,\"ticks\":\"\"}}}],\"scatterternary\":[{\"type\":\"scatterternary\",\"marker\":{\"colorbar\":{\"outlinewidth\":0,\"ticks\":\"\"}}}],\"scattercarpet\":[{\"type\":\"scattercarpet\",\"marker\":{\"colorbar\":{\"outlinewidth\":0,\"ticks\":\"\"}}}],\"carpet\":[{\"aaxis\":{\"endlinecolor\":\"#2a3f5f\",\"gridcolor\":\"white\",\"linecolor\":\"white\",\"minorgridcolor\":\"white\",\"startlinecolor\":\"#2a3f5f\"},\"baxis\":{\"endlinecolor\":\"#2a3f5f\",\"gridcolor\":\"white\",\"linecolor\":\"white\",\"minorgridcolor\":\"white\",\"startlinecolor\":\"#2a3f5f\"},\"type\":\"carpet\"}],\"table\":[{\"cells\":{\"fill\":{\"color\":\"#EBF0F8\"},\"line\":{\"color\":\"white\"}},\"header\":{\"fill\":{\"color\":\"#C8D4E3\"},\"line\":{\"color\":\"white\"}},\"type\":\"table\"}],\"barpolar\":[{\"marker\":{\"line\":{\"color\":\"#E5ECF6\",\"width\":0.5},\"pattern\":{\"fillmode\":\"overlay\",\"size\":10,\"solidity\":0.2}},\"type\":\"barpolar\"}],\"pie\":[{\"automargin\":true,\"type\":\"pie\"}]},\"layout\":{\"autotypenumbers\":\"strict\",\"colorway\":[\"#636efa\",\"#EF553B\",\"#00cc96\",\"#ab63fa\",\"#FFA15A\",\"#19d3f3\",\"#FF6692\",\"#B6E880\",\"#FF97FF\",\"#FECB52\"],\"font\":{\"color\":\"#2a3f5f\"},\"hovermode\":\"closest\",\"hoverlabel\":{\"align\":\"left\"},\"paper_bgcolor\":\"white\",\"plot_bgcolor\":\"#E5ECF6\",\"polar\":{\"bgcolor\":\"#E5ECF6\",\"angularaxis\":{\"gridcolor\":\"white\",\"linecolor\":\"white\",\"ticks\":\"\"},\"radialaxis\":{\"gridcolor\":\"white\",\"linecolor\":\"white\",\"ticks\":\"\"}},\"ternary\":{\"bgcolor\":\"#E5ECF6\",\"aaxis\":{\"gridcolor\":\"white\",\"linecolor\":\"white\",\"ticks\":\"\"},\"baxis\":{\"gridcolor\":\"white\",\"linecolor\":\"white\",\"ticks\":\"\"},\"caxis\":{\"gridcolor\":\"white\",\"linecolor\":\"white\",\"ticks\":\"\"}},\"coloraxis\":{\"colorbar\":{\"outlinewidth\":0,\"ticks\":\"\"}},\"colorscale\":{\"sequential\":[[0.0,\"#0d0887\"],[0.1111111111111111,\"#46039f\"],[0.2222222222222222,\"#7201a8\"],[0.3333333333333333,\"#9c179e\"],[0.4444444444444444,\"#bd3786\"],[0.5555555555555556,\"#d8576b\"],[0.6666666666666666,\"#ed7953\"],[0.7777777777777778,\"#fb9f3a\"],[0.8888888888888888,\"#fdca26\"],[1.0,\"#f0f921\"]],\"sequentialminus\":[[0.0,\"#0d0887\"],[0.1111111111111111,\"#46039f\"],[0.2222222222222222,\"#7201a8\"],[0.3333333333333333,\"#9c179e\"],[0.4444444444444444,\"#bd3786\"],[0.5555555555555556,\"#d8576b\"],[0.6666666666666666,\"#ed7953\"],[0.7777777777777778,\"#fb9f3a\"],[0.8888888888888888,\"#fdca26\"],[1.0,\"#f0f921\"]],\"diverging\":[[0,\"#8e0152\"],[0.1,\"#c51b7d\"],[0.2,\"#de77ae\"],[0.3,\"#f1b6da\"],[0.4,\"#fde0ef\"],[0.5,\"#f7f7f7\"],[0.6,\"#e6f5d0\"],[0.7,\"#b8e186\"],[0.8,\"#7fbc41\"],[0.9,\"#4d9221\"],[1,\"#276419\"]]},\"xaxis\":{\"gridcolor\":\"white\",\"linecolor\":\"white\",\"ticks\":\"\",\"title\":{\"standoff\":15},\"zerolinecolor\":\"white\",\"automargin\":true,\"zerolinewidth\":2},\"yaxis\":{\"gridcolor\":\"white\",\"linecolor\":\"white\",\"ticks\":\"\",\"title\":{\"standoff\":15},\"zerolinecolor\":\"white\",\"automargin\":true,\"zerolinewidth\":2},\"scene\":{\"xaxis\":{\"backgroundcolor\":\"#E5ECF6\",\"gridcolor\":\"white\",\"linecolor\":\"white\",\"showbackground\":true,\"ticks\":\"\",\"zerolinecolor\":\"white\",\"gridwidth\":2},\"yaxis\":{\"backgroundcolor\":\"#E5ECF6\",\"gridcolor\":\"white\",\"linecolor\":\"white\",\"showbackground\":true,\"ticks\":\"\",\"zerolinecolor\":\"white\",\"gridwidth\":2},\"zaxis\":{\"backgroundcolor\":\"#E5ECF6\",\"gridcolor\":\"white\",\"linecolor\":\"white\",\"showbackground\":true,\"ticks\":\"\",\"zerolinecolor\":\"white\",\"gridwidth\":2}},\"shapedefaults\":{\"line\":{\"color\":\"#2a3f5f\"}},\"annotationdefaults\":{\"arrowcolor\":\"#2a3f5f\",\"arrowhead\":0,\"arrowwidth\":1},\"geo\":{\"bgcolor\":\"white\",\"landcolor\":\"#E5ECF6\",\"subunitcolor\":\"white\",\"showland\":true,\"showlakes\":true,\"lakecolor\":\"white\"},\"title\":{\"x\":0.05},\"mapbox\":{\"style\":\"light\"}}}},                        {\"responsive\": true}                    )                };                            </script>        </div>"
      ],
      "text/plain": [
       "Figure({\n",
       "    'data': [{'mode': 'markers',\n",
       "              'name': 'Objective Value',\n",
       "              'type': 'scatter',\n",
       "              'x': [0, 1, 2, 3, 4, 5, 6, 7, 8, 9, 10, 11, 12, 13, 14, 15, 16, 17,\n",
       "                    18, 19, 20, 21, 22, 23, 24, 25, 26, 27, 28, 29, 30, 31, 32, 33,\n",
       "                    34, 35, 36, 37, 38, 39, 40, 41, 42, 43, 44, 45, 46, 47, 48, 49,\n",
       "                    50, 51, 52, 53, 54, 55, 56, 57, 58, 59, 60, 61, 62, 63, 64, 65,\n",
       "                    66, 67, 68, 69, 70, 71, 72, 73, 74, 75, 76, 77, 78, 79, 80, 81,\n",
       "                    82, 83, 84, 85, 86, 87, 88, 89, 90, 91, 92, 93, 94, 95, 96, 97,\n",
       "                    98, 99],\n",
       "              'y': [0.8362919132149902, 0.8298368298368298, 0.835933297471759,\n",
       "                    0.8257127487896718, 0.8242782858167473, 0.8336022951407567,\n",
       "                    0.8323471400394478, 0.8240989779451318, 0.8396987627756859,\n",
       "                    0.8391608391608392, 0.8239196700735162, 0.8361126053433746,\n",
       "                    0.8364712210866057, 0.8312712928097543, 0.8432849202079972,\n",
       "                    0.8384436076743769, 0.835933297471759, 0.8332436793975255,\n",
       "                    0.8316299085529855, 0.8414918414918415, 0.8197955890263583,\n",
       "                    0.8375470683162991, 0.8386229155459924, 0.8361126053433746,\n",
       "                    0.8422090729783037, 0.8361126053433746, 0.8332436793975255,\n",
       "                    0.8366505289582212, 0.8416711493634571, 0.8325264479110633,\n",
       "                    0.8395194549040703, 0.8352160659852967, 0.8431056123363816,\n",
       "                    0.8309126770665233, 0.8303747534516766, 0.8375470683162991,\n",
       "                    0.835933297471759, 0.8414918414918415, 0.8305540613232921,\n",
       "                    0.83467814237045, 0.8334229872691411, 0.8384436076743769,\n",
       "                    0.8362919132149902, 0.835933297471759, 0.8379056840595303,\n",
       "                    0.8353953738569123, 0.8366505289582212, 0.8366505289582212,\n",
       "                    0.8334229872691411, 0.8373677604446835, 0.8353953738569123,\n",
       "                    0.8400573785189169, 0.8267885960193653, 0.8407746100053792,\n",
       "                    0.8309126770665233, 0.8425676887215349, 0.8271472117625964,\n",
       "                    0.8323471400394478, 0.8292989062219831, 0.8370091447014524,\n",
       "                    0.8201542047695893, 0.8230231307154384, 0.8228438228438228,\n",
       "                    0.8251748251748252, 0.8350367581136812, 0.8353953738569123,\n",
       "                    0.8465124618970773, 0.8418504572350726, 0.8266092881477497,\n",
       "                    0.8344988344988346, 0.8364712210866057, 0.8466917697686929,\n",
       "                    0.8296575219652143, 0.8357539896001435, 0.8368298368298368,\n",
       "                    0.831809216424601, 0.8362919132149902, 0.8341402187556034,\n",
       "                    0.8328850636542944, 0.8158508158508159, 0.8344988344988346,\n",
       "                    0.8423883808499193, 0.8278644432490586, 0.845795230410615,\n",
       "                    0.8361126053433746, 0.8425676887215349, 0.8192576654115116,\n",
       "                    0.8180025103102027, 0.830195445580061, 0.827685135377443,\n",
       "                    0.831809216424601, 0.8305540613232921, 0.8267885960193653,\n",
       "                    0.8332436793975255, 0.8373677604446835, 0.8337816030123723,\n",
       "                    0.8319885242962166, 0.8407746100053792, 0.8300161377084454,\n",
       "                    0.83306437152591]},\n",
       "             {'mode': 'lines',\n",
       "              'name': 'Best Value',\n",
       "              'type': 'scatter',\n",
       "              'x': [0, 1, 2, 3, 4, 5, 6, 7, 8, 9, 10, 11, 12, 13, 14, 15, 16, 17,\n",
       "                    18, 19, 20, 21, 22, 23, 24, 25, 26, 27, 28, 29, 30, 31, 32, 33,\n",
       "                    34, 35, 36, 37, 38, 39, 40, 41, 42, 43, 44, 45, 46, 47, 48, 49,\n",
       "                    50, 51, 52, 53, 54, 55, 56, 57, 58, 59, 60, 61, 62, 63, 64, 65,\n",
       "                    66, 67, 68, 69, 70, 71, 72, 73, 74, 75, 76, 77, 78, 79, 80, 81,\n",
       "                    82, 83, 84, 85, 86, 87, 88, 89, 90, 91, 92, 93, 94, 95, 96, 97,\n",
       "                    98, 99],\n",
       "              'y': [0.8362919132149902, 0.8362919132149902, 0.8362919132149902,\n",
       "                    0.8362919132149902, 0.8362919132149902, 0.8362919132149902,\n",
       "                    0.8362919132149902, 0.8362919132149902, 0.8396987627756859,\n",
       "                    0.8396987627756859, 0.8396987627756859, 0.8396987627756859,\n",
       "                    0.8396987627756859, 0.8396987627756859, 0.8432849202079972,\n",
       "                    0.8432849202079972, 0.8432849202079972, 0.8432849202079972,\n",
       "                    0.8432849202079972, 0.8432849202079972, 0.8432849202079972,\n",
       "                    0.8432849202079972, 0.8432849202079972, 0.8432849202079972,\n",
       "                    0.8432849202079972, 0.8432849202079972, 0.8432849202079972,\n",
       "                    0.8432849202079972, 0.8432849202079972, 0.8432849202079972,\n",
       "                    0.8432849202079972, 0.8432849202079972, 0.8432849202079972,\n",
       "                    0.8432849202079972, 0.8432849202079972, 0.8432849202079972,\n",
       "                    0.8432849202079972, 0.8432849202079972, 0.8432849202079972,\n",
       "                    0.8432849202079972, 0.8432849202079972, 0.8432849202079972,\n",
       "                    0.8432849202079972, 0.8432849202079972, 0.8432849202079972,\n",
       "                    0.8432849202079972, 0.8432849202079972, 0.8432849202079972,\n",
       "                    0.8432849202079972, 0.8432849202079972, 0.8432849202079972,\n",
       "                    0.8432849202079972, 0.8432849202079972, 0.8432849202079972,\n",
       "                    0.8432849202079972, 0.8432849202079972, 0.8432849202079972,\n",
       "                    0.8432849202079972, 0.8432849202079972, 0.8432849202079972,\n",
       "                    0.8432849202079972, 0.8432849202079972, 0.8432849202079972,\n",
       "                    0.8432849202079972, 0.8432849202079972, 0.8432849202079972,\n",
       "                    0.8465124618970773, 0.8465124618970773, 0.8465124618970773,\n",
       "                    0.8465124618970773, 0.8465124618970773, 0.8466917697686929,\n",
       "                    0.8466917697686929, 0.8466917697686929, 0.8466917697686929,\n",
       "                    0.8466917697686929, 0.8466917697686929, 0.8466917697686929,\n",
       "                    0.8466917697686929, 0.8466917697686929, 0.8466917697686929,\n",
       "                    0.8466917697686929, 0.8466917697686929, 0.8466917697686929,\n",
       "                    0.8466917697686929, 0.8466917697686929, 0.8466917697686929,\n",
       "                    0.8466917697686929, 0.8466917697686929, 0.8466917697686929,\n",
       "                    0.8466917697686929, 0.8466917697686929, 0.8466917697686929,\n",
       "                    0.8466917697686929, 0.8466917697686929, 0.8466917697686929,\n",
       "                    0.8466917697686929, 0.8466917697686929, 0.8466917697686929,\n",
       "                    0.8466917697686929]},\n",
       "             {'marker': {'color': '#cccccc'},\n",
       "              'mode': 'markers',\n",
       "              'name': 'Infeasible Trial',\n",
       "              'showlegend': False,\n",
       "              'type': 'scatter',\n",
       "              'x': [],\n",
       "              'y': []}],\n",
       "    'layout': {'template': '...',\n",
       "               'title': {'text': 'Optimization History Plot'},\n",
       "               'xaxis': {'title': {'text': 'Trial'}},\n",
       "               'yaxis': {'title': {'text': 'Objective Value'}}}\n",
       "})"
      ]
     },
     "execution_count": 36,
     "metadata": {},
     "output_type": "execute_result"
    }
   ],
   "source": [
    "optuna.visualization.plot_optimization_history(study)"
   ]
  },
  {
   "cell_type": "code",
   "execution_count": 25,
   "metadata": {},
   "outputs": [
    {
     "name": "stdout",
     "output_type": "stream",
     "text": [
      "{'hidden_dim': 64, 'n_hidden_layers': 5, 'dropout': 0.23410088880715016, 'learning_rate': 0.004814268106101101, 'alpha': 0.2750137348085381, 'gamma': 1, 'weight_decay': 1.0075646905269696e-05}\n",
      "0.8466917697686929\n"
     ]
    }
   ],
   "source": [
    "nnet_params = study.best_params\n",
    "nnet_score = study.best_value\n",
    "print(nnet_params)\n",
    "print(nnet_score)"
   ]
  },
  {
   "cell_type": "code",
   "execution_count": 30,
   "metadata": {},
   "outputs": [
    {
     "name": "stdout",
     "output_type": "stream",
     "text": [
      "Epoch [1/100], Train Loss: 0.0347, Train Acc: 0.8351, Val Loss: 0.0331, Val Acc: 0.8435, Train AUC: 0.9075, Val AUC: 0.9204\n",
      "Epoch [2/100], Train Loss: 0.0330, Train Acc: 0.8441, Val Loss: 0.0319, Val Acc: 0.8458, Train AUC: 0.9134, Val AUC: 0.9194\n",
      "Epoch [3/100], Train Loss: 0.0316, Train Acc: 0.8453, Val Loss: 0.0316, Val Acc: 0.8431, Train AUC: 0.9172, Val AUC: 0.9196\n",
      "Epoch [4/100], Train Loss: 0.0313, Train Acc: 0.8464, Val Loss: 0.0311, Val Acc: 0.8422, Train AUC: 0.9177, Val AUC: 0.9184\n",
      "Epoch [5/100], Train Loss: 0.0315, Train Acc: 0.8457, Val Loss: 0.0310, Val Acc: 0.8479, Train AUC: 0.9172, Val AUC: 0.9185\n",
      "Epoch [6/100], Train Loss: 0.0316, Train Acc: 0.8457, Val Loss: 0.0320, Val Acc: 0.8408, Train AUC: 0.9175, Val AUC: 0.9190\n",
      "Epoch [7/100], Train Loss: 0.0310, Train Acc: 0.8480, Val Loss: 0.0337, Val Acc: 0.8374, Train AUC: 0.9186, Val AUC: 0.9188\n",
      "Epoch [8/100], Train Loss: 0.0324, Train Acc: 0.8430, Val Loss: 0.0310, Val Acc: 0.8456, Train AUC: 0.9157, Val AUC: 0.9181\n",
      "Epoch [9/100], Train Loss: 0.0312, Train Acc: 0.8468, Val Loss: 0.0307, Val Acc: 0.8471, Train AUC: 0.9185, Val AUC: 0.9199\n",
      "Epoch [10/100], Train Loss: 0.0308, Train Acc: 0.8473, Val Loss: 0.0317, Val Acc: 0.8467, Train AUC: 0.9196, Val AUC: 0.9193\n",
      "Epoch [11/100], Train Loss: 0.0307, Train Acc: 0.8463, Val Loss: 0.0316, Val Acc: 0.8404, Train AUC: 0.9195, Val AUC: 0.9185\n",
      "Epoch [12/100], Train Loss: 0.0307, Train Acc: 0.8472, Val Loss: 0.0313, Val Acc: 0.8447, Train AUC: 0.9200, Val AUC: 0.9188\n",
      "Epoch [13/100], Train Loss: 0.0305, Train Acc: 0.8470, Val Loss: 0.0346, Val Acc: 0.8451, Train AUC: 0.9201, Val AUC: 0.9173\n",
      "Epoch [14/100], Train Loss: 0.0307, Train Acc: 0.8478, Val Loss: 0.0315, Val Acc: 0.8456, Train AUC: 0.9198, Val AUC: 0.9183\n",
      "Epoch [15/100], Train Loss: 0.0304, Train Acc: 0.8490, Val Loss: 0.0309, Val Acc: 0.8485, Train AUC: 0.9202, Val AUC: 0.9194\n",
      "Epoch [16/100], Train Loss: 0.0303, Train Acc: 0.8499, Val Loss: 0.0320, Val Acc: 0.8472, Train AUC: 0.9208, Val AUC: 0.9186\n",
      "Epoch [17/100], Train Loss: 0.0302, Train Acc: 0.8494, Val Loss: 0.0315, Val Acc: 0.8410, Train AUC: 0.9213, Val AUC: 0.9178\n",
      "Epoch [18/100], Train Loss: 0.0300, Train Acc: 0.8493, Val Loss: 0.0321, Val Acc: 0.8456, Train AUC: 0.9216, Val AUC: 0.9182\n",
      "Epoch [19/100], Train Loss: 0.0302, Train Acc: 0.8507, Val Loss: 0.0328, Val Acc: 0.8386, Train AUC: 0.9212, Val AUC: 0.9170\n",
      "Epoch [20/100], Train Loss: 0.0308, Train Acc: 0.8506, Val Loss: 0.0317, Val Acc: 0.8453, Train AUC: 0.9201, Val AUC: 0.9170\n",
      "Epoch [21/100], Train Loss: 0.0296, Train Acc: 0.8509, Val Loss: 0.0321, Val Acc: 0.8386, Train AUC: 0.9229, Val AUC: 0.9158\n",
      "Epoch [22/100], Train Loss: 0.0295, Train Acc: 0.8519, Val Loss: 0.0315, Val Acc: 0.8429, Train AUC: 0.9232, Val AUC: 0.9176\n",
      "Epoch [23/100], Train Loss: 0.0298, Train Acc: 0.8533, Val Loss: 0.0326, Val Acc: 0.8474, Train AUC: 0.9228, Val AUC: 0.9182\n",
      "Epoch [24/100], Train Loss: 0.0292, Train Acc: 0.8536, Val Loss: 0.0328, Val Acc: 0.8408, Train AUC: 0.9241, Val AUC: 0.9157\n",
      "Epoch [25/100], Train Loss: 0.0297, Train Acc: 0.8511, Val Loss: 0.0320, Val Acc: 0.8435, Train AUC: 0.9233, Val AUC: 0.9162\n",
      "Epoch [26/100], Train Loss: 0.0305, Train Acc: 0.8501, Val Loss: 0.0324, Val Acc: 0.8377, Train AUC: 0.9212, Val AUC: 0.9156\n",
      "Epoch [27/100], Train Loss: 0.0295, Train Acc: 0.8514, Val Loss: 0.0335, Val Acc: 0.8327, Train AUC: 0.9237, Val AUC: 0.9141\n",
      "Epoch [28/100], Train Loss: 0.0293, Train Acc: 0.8541, Val Loss: 0.0331, Val Acc: 0.8383, Train AUC: 0.9242, Val AUC: 0.9127\n",
      "Epoch [29/100], Train Loss: 0.0293, Train Acc: 0.8534, Val Loss: 0.0347, Val Acc: 0.8370, Train AUC: 0.9238, Val AUC: 0.9116\n",
      "Epoch [30/100], Train Loss: 0.0293, Train Acc: 0.8532, Val Loss: 0.0337, Val Acc: 0.8383, Train AUC: 0.9242, Val AUC: 0.9144\n",
      "Epoch [31/100], Train Loss: 0.0289, Train Acc: 0.8529, Val Loss: 0.0346, Val Acc: 0.8352, Train AUC: 0.9256, Val AUC: 0.9134\n",
      "Epoch [32/100], Train Loss: 0.0291, Train Acc: 0.8560, Val Loss: 0.0372, Val Acc: 0.8323, Train AUC: 0.9251, Val AUC: 0.9119\n",
      "Epoch [33/100], Train Loss: 0.0288, Train Acc: 0.8543, Val Loss: 0.0342, Val Acc: 0.8429, Train AUC: 0.9254, Val AUC: 0.9134\n",
      "Epoch [34/100], Train Loss: 0.0291, Train Acc: 0.8545, Val Loss: 0.0330, Val Acc: 0.8361, Train AUC: 0.9251, Val AUC: 0.9141\n",
      "Epoch [35/100], Train Loss: 0.0289, Train Acc: 0.8557, Val Loss: 0.0340, Val Acc: 0.8340, Train AUC: 0.9255, Val AUC: 0.9097\n",
      "Epoch [36/100], Train Loss: 0.0285, Train Acc: 0.8551, Val Loss: 0.0331, Val Acc: 0.8401, Train AUC: 0.9264, Val AUC: 0.9129\n",
      "Epoch [37/100], Train Loss: 0.0287, Train Acc: 0.8557, Val Loss: 0.0343, Val Acc: 0.8370, Train AUC: 0.9261, Val AUC: 0.9112\n",
      "Epoch [38/100], Train Loss: 0.0288, Train Acc: 0.8540, Val Loss: 0.0331, Val Acc: 0.8374, Train AUC: 0.9256, Val AUC: 0.9129\n",
      "Epoch [39/100], Train Loss: 0.0284, Train Acc: 0.8565, Val Loss: 0.0342, Val Acc: 0.8345, Train AUC: 0.9268, Val AUC: 0.9094\n",
      "Epoch [40/100], Train Loss: 0.0288, Train Acc: 0.8570, Val Loss: 0.0345, Val Acc: 0.8327, Train AUC: 0.9257, Val AUC: 0.9103\n",
      "Epoch [41/100], Train Loss: 0.0284, Train Acc: 0.8561, Val Loss: 0.0350, Val Acc: 0.8383, Train AUC: 0.9268, Val AUC: 0.9101\n",
      "Epoch [42/100], Train Loss: 0.0281, Train Acc: 0.8578, Val Loss: 0.0357, Val Acc: 0.8331, Train AUC: 0.9279, Val AUC: 0.9085\n",
      "Epoch [43/100], Train Loss: 0.0281, Train Acc: 0.8599, Val Loss: 0.0364, Val Acc: 0.8435, Train AUC: 0.9282, Val AUC: 0.9109\n",
      "Epoch [44/100], Train Loss: 0.0284, Train Acc: 0.8557, Val Loss: 0.0353, Val Acc: 0.8352, Train AUC: 0.9265, Val AUC: 0.9081\n",
      "Epoch [45/100], Train Loss: 0.0279, Train Acc: 0.8562, Val Loss: 0.0351, Val Acc: 0.8401, Train AUC: 0.9280, Val AUC: 0.9099\n",
      "Epoch [46/100], Train Loss: 0.0278, Train Acc: 0.8577, Val Loss: 0.0356, Val Acc: 0.8384, Train AUC: 0.9286, Val AUC: 0.9115\n",
      "Epoch [47/100], Train Loss: 0.0275, Train Acc: 0.8577, Val Loss: 0.0351, Val Acc: 0.8381, Train AUC: 0.9288, Val AUC: 0.9087\n",
      "Epoch [48/100], Train Loss: 0.0277, Train Acc: 0.8586, Val Loss: 0.0374, Val Acc: 0.8332, Train AUC: 0.9291, Val AUC: 0.9102\n",
      "Epoch [49/100], Train Loss: 0.0278, Train Acc: 0.8573, Val Loss: 0.0351, Val Acc: 0.8377, Train AUC: 0.9284, Val AUC: 0.9094\n",
      "Epoch [50/100], Train Loss: 0.0276, Train Acc: 0.8593, Val Loss: 0.0399, Val Acc: 0.8392, Train AUC: 0.9287, Val AUC: 0.9084\n",
      "Epoch [51/100], Train Loss: 0.0275, Train Acc: 0.8600, Val Loss: 0.0383, Val Acc: 0.8331, Train AUC: 0.9297, Val AUC: 0.9077\n",
      "Epoch [52/100], Train Loss: 0.0274, Train Acc: 0.8607, Val Loss: 0.0352, Val Acc: 0.8375, Train AUC: 0.9296, Val AUC: 0.9083\n",
      "Epoch [53/100], Train Loss: 0.0272, Train Acc: 0.8633, Val Loss: 0.0438, Val Acc: 0.8295, Train AUC: 0.9312, Val AUC: 0.9070\n",
      "Epoch [54/100], Train Loss: 0.0276, Train Acc: 0.8597, Val Loss: 0.0356, Val Acc: 0.8323, Train AUC: 0.9290, Val AUC: 0.9077\n",
      "Epoch [55/100], Train Loss: 0.0278, Train Acc: 0.8603, Val Loss: 0.0390, Val Acc: 0.8365, Train AUC: 0.9282, Val AUC: 0.9069\n",
      "Epoch [56/100], Train Loss: 0.0273, Train Acc: 0.8618, Val Loss: 0.0354, Val Acc: 0.8370, Train AUC: 0.9303, Val AUC: 0.9089\n",
      "Epoch [57/100], Train Loss: 0.0266, Train Acc: 0.8642, Val Loss: 0.0364, Val Acc: 0.8332, Train AUC: 0.9316, Val AUC: 0.9081\n",
      "Epoch [58/100], Train Loss: 0.0270, Train Acc: 0.8641, Val Loss: 0.0386, Val Acc: 0.8375, Train AUC: 0.9311, Val AUC: 0.9085\n",
      "Epoch [59/100], Train Loss: 0.0267, Train Acc: 0.8633, Val Loss: 0.0382, Val Acc: 0.8349, Train AUC: 0.9314, Val AUC: 0.9063\n",
      "Early stopping triggered!\n",
      "Training complete. Best model saved at models/2024-11-26_19-50-25/best_model.pth\n"
     ]
    }
   ],
   "source": [
    "from torch.utils.tensorboard import SummaryWriter\n",
    "from sklearn.metrics import precision_score, recall_score, f1_score, roc_auc_score\n",
    "from datetime import datetime\n",
    "import os\n",
    "\n",
    "\n",
    "device = 'mps' if torch.backends.mps.is_available() else 'cuda' if torch.cuda.is_available() else 'cpu'\n",
    "\n",
    "input_dim = X_train_scaled.shape[1]\n",
    "hidden_dim = nnet_params['hidden_dim']\n",
    "n_hidden_layers = nnet_params['n_hidden_layers'] - 1\n",
    "dropout = 0.3\n",
    "learning_rate = nnet_params['learning_rate']\n",
    "alpha = nnet_params['alpha']\n",
    "gamma = nnet_params['gamma']\n",
    "weight_decay = 1e-4\n",
    "\n",
    "model = DepressionModel(input_dim, hidden_dim, 1, n_hidden_layers, dropout).to(device)\n",
    "criterion = FocalLoss(alpha=alpha, gamma=gamma)\n",
    "optimizer = torch.optim.AdamW(model.parameters(), lr=learning_rate, weight_decay=weight_decay)\n",
    "\n",
    "train_loader = DataLoader(train_dataset, batch_size=32, shuffle=True)\n",
    "test_loader = DataLoader(test_dataset, batch_size=32, shuffle=False)\n",
    "\n",
    "\n",
    "current_date = datetime.now().strftime('%Y-%m-%d_%H-%M-%S')\n",
    "log_dir = f\"track/{current_date}\"\n",
    "os.makedirs(log_dir, exist_ok=True)\n",
    "writer = SummaryWriter(log_dir=log_dir)\n",
    "\n",
    "model_dir = f\"models/{current_date}\"\n",
    "os.makedirs(model_dir, exist_ok=True)\n",
    "\n",
    "num_epochs = 100\n",
    "patience = 50\n",
    "best_loss = float('inf')\n",
    "early_stopping_counter = 0\n",
    "\n",
    "for epoch in range(1, num_epochs + 1):\n",
    "    model.train()\n",
    "    train_loss = 0.0\n",
    "    correct_train = 0\n",
    "    total_train = 0\n",
    "\n",
    "    all_train_targets = []\n",
    "    all_train_predictions = []\n",
    "\n",
    "    for X_batch, y_batch in train_loader:\n",
    "        X_batch, y_batch = X_batch.to(device), y_batch.to(device)\n",
    "        optimizer.zero_grad()\n",
    "        outputs = model(X_batch)\n",
    "        loss = criterion(outputs, y_batch)\n",
    "        loss.backward()\n",
    "        optimizer.step()\n",
    "\n",
    "        train_loss += loss.item() * X_batch.size(0)\n",
    "        predictions = (torch.sigmoid(outputs) > 0.5).float()\n",
    "        correct_train += (predictions == y_batch).sum().item()\n",
    "        total_train += y_batch.size(0)\n",
    "\n",
    "        all_train_targets.extend(y_batch.detach().cpu().numpy())\n",
    "        all_train_predictions.extend(torch.sigmoid(outputs).detach().cpu().numpy())\n",
    "\n",
    "    train_loss /= len(train_loader.dataset)\n",
    "    train_accuracy = correct_train / total_train\n",
    "\n",
    "    train_precision = precision_score(all_train_targets, (np.array(all_train_predictions) > 0.5))\n",
    "    train_recall = recall_score(all_train_targets, (np.array(all_train_predictions) > 0.5))\n",
    "    train_f1 = f1_score(all_train_targets, (np.array(all_train_predictions) > 0.5))\n",
    "    train_auc = roc_auc_score(all_train_targets, all_train_predictions)\n",
    "\n",
    "    model.eval()\n",
    "    val_loss = 0.0\n",
    "    correct_val = 0\n",
    "    total_val = 0\n",
    "\n",
    "    all_val_targets = []\n",
    "    all_val_predictions = []\n",
    "\n",
    "    with torch.inference_mode():\n",
    "        for X_batch, y_batch in test_loader:\n",
    "            X_batch, y_batch = X_batch.to(device), y_batch.to(device)\n",
    "            outputs = model(X_batch)\n",
    "            loss = criterion(outputs, y_batch)\n",
    "\n",
    "            val_loss += loss.item() * X_batch.size(0)\n",
    "            predictions = (torch.sigmoid(outputs) > 0.5).float()\n",
    "            correct_val += (predictions == y_batch).sum().item()\n",
    "            total_val += y_batch.size(0)\n",
    "\n",
    "            all_val_targets.extend(y_batch.detach().cpu().numpy())\n",
    "            all_val_predictions.extend(torch.sigmoid(outputs).detach().cpu().numpy())\n",
    "\n",
    "    val_loss /= len(test_loader.dataset)\n",
    "    val_accuracy = correct_val / total_val\n",
    "\n",
    "    val_precision = precision_score(all_val_targets, (np.array(all_val_predictions) > 0.5))\n",
    "    val_recall = recall_score(all_val_targets, (np.array(all_val_predictions) > 0.5))\n",
    "    val_f1 = f1_score(all_val_targets, (np.array(all_val_predictions) > 0.5))\n",
    "    val_auc = roc_auc_score(all_val_targets, all_val_predictions)\n",
    "\n",
    "    writer.add_scalars('Loss', {'Train': train_loss, 'Validation': val_loss}, epoch)\n",
    "    writer.add_scalars('Accuracy', {'Train': train_accuracy, 'Validation': val_accuracy}, epoch)\n",
    "    writer.add_scalars('Precision', {'Train': train_precision, 'Validation': val_precision}, epoch)\n",
    "    writer.add_scalars('Recall', {'Train': train_recall, 'Validation': val_recall}, epoch)\n",
    "    writer.add_scalars('F1-Score', {'Train': train_f1, 'Validation': val_f1}, epoch)\n",
    "    writer.add_scalars('ROC-AUC', {'Train': train_auc, 'Validation': val_auc}, epoch)\n",
    "\n",
    "    if epoch % 15 == 0:\n",
    "        model_path = os.path.join(model_dir, f\"epoch_{epoch}.pth\")\n",
    "        torch.save(model.state_dict(), model_path)\n",
    "\n",
    "    if val_loss < best_loss:\n",
    "        best_loss = val_loss\n",
    "        early_stopping_counter = 0\n",
    "        best_model_path = os.path.join(model_dir, \"best_model.pth\")\n",
    "        torch.save(model.state_dict(), best_model_path)\n",
    "    else:\n",
    "        early_stopping_counter += 1\n",
    "\n",
    "    print(f\"Epoch [{epoch}/{num_epochs}], Train Loss: {train_loss:.4f}, Train Acc: {train_accuracy:.4f}, \"\n",
    "          f\"Val Loss: {val_loss:.4f}, Val Acc: {val_accuracy:.4f}, Train AUC: {train_auc:.4f}, Val AUC: {val_auc:.4f}\")\n",
    "\n",
    "    if early_stopping_counter >= patience:\n",
    "        print(\"Early stopping triggered!\")\n",
    "        break\n",
    "\n",
    "writer.close()\n",
    "\n",
    "print(f\"Training complete. Best model saved at {best_model_path}\")"
   ]
  }
 ],
 "metadata": {
  "kernelspec": {
   "display_name": "backup",
   "language": "python",
   "name": "python3"
  },
  "language_info": {
   "codemirror_mode": {
    "name": "ipython",
    "version": 3
   },
   "file_extension": ".py",
   "mimetype": "text/x-python",
   "name": "python",
   "nbconvert_exporter": "python",
   "pygments_lexer": "ipython3",
   "version": "3.11.9"
  }
 },
 "nbformat": 4,
 "nbformat_minor": 2
}
